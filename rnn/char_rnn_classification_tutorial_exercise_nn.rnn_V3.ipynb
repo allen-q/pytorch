{
 "cells": [
  {
   "cell_type": "markdown",
   "metadata": {},
   "source": [
    "# Use torch.nn.RNN module"
   ]
  },
  {
   "cell_type": "code",
   "execution_count": 34,
   "metadata": {},
   "outputs": [],
   "source": [
    "import torch\n",
    "import torch.nn as nn\n",
    "import numpy as np\n",
    "import matplotlib.pyplot as plt\n",
    "from tensorboardX import SummaryWriter\n",
    "import torchvision.models as models\n",
    "import torchvision.utils as vutils\n",
    "from torchvision import datasets\n",
    "%matplotlib inline"
   ]
  },
  {
   "cell_type": "code",
   "execution_count": 1,
   "metadata": {},
   "outputs": [],
   "source": [
    "%matplotlib inline"
   ]
  },
  {
   "cell_type": "code",
   "execution_count": 2,
   "metadata": {},
   "outputs": [],
   "source": [
    "from __future__ import unicode_literals, print_function, division\n",
    "from io import open\n",
    "import glob\n",
    "import unicodedata\n",
    "import string\n",
    "import torch.nn as nn\n",
    "import torch"
   ]
  },
  {
   "cell_type": "code",
   "execution_count": 3,
   "metadata": {},
   "outputs": [],
   "source": [
    "def findFiles(path): return glob.glob(path)"
   ]
  },
  {
   "cell_type": "code",
   "execution_count": 4,
   "metadata": {},
   "outputs": [
    {
     "name": "stdout",
     "output_type": "stream",
     "text": [
      "['../data/names\\\\Arabic.txt', '../data/names\\\\Chinese.txt', '../data/names\\\\Czech.txt', '../data/names\\\\Dutch.txt', '../data/names\\\\English.txt', '../data/names\\\\French.txt', '../data/names\\\\German.txt', '../data/names\\\\Greek.txt', '../data/names\\\\Irish.txt', '../data/names\\\\Italian.txt', '../data/names\\\\Japanese.txt', '../data/names\\\\Korean.txt', '../data/names\\\\Polish.txt', '../data/names\\\\Portuguese.txt', '../data/names\\\\Russian.txt', '../data/names\\\\Scottish.txt', '../data/names\\\\Spanish.txt', '../data/names\\\\Vietnamese.txt']\n"
     ]
    }
   ],
   "source": [
    "print(findFiles('../data/names/*.txt'))"
   ]
  },
  {
   "cell_type": "code",
   "execution_count": 5,
   "metadata": {},
   "outputs": [],
   "source": [
    "all_letters = string.ascii_letters + \" .,;'\"\n",
    "n_letters = len(all_letters)"
   ]
  },
  {
   "cell_type": "code",
   "execution_count": 6,
   "metadata": {},
   "outputs": [
    {
     "data": {
      "text/plain": [
       "\"abcdefghijklmnopqrstuvwxyzABCDEFGHIJKLMNOPQRSTUVWXYZ .,;'\""
      ]
     },
     "execution_count": 6,
     "metadata": {},
     "output_type": "execute_result"
    }
   ],
   "source": [
    "all_letters"
   ]
  },
  {
   "cell_type": "code",
   "execution_count": 7,
   "metadata": {},
   "outputs": [
    {
     "data": {
      "text/plain": [
       "57"
      ]
     },
     "execution_count": 7,
     "metadata": {},
     "output_type": "execute_result"
    }
   ],
   "source": [
    "n_letters"
   ]
  },
  {
   "cell_type": "code",
   "execution_count": 8,
   "metadata": {},
   "outputs": [
    {
     "name": "stdout",
     "output_type": "stream",
     "text": [
      "Slusarski\n"
     ]
    }
   ],
   "source": [
    "import unidecode\n",
    "print(unidecode.unidecode('Ślusàrski'))"
   ]
  },
  {
   "cell_type": "code",
   "execution_count": 9,
   "metadata": {},
   "outputs": [
    {
     "name": "stdout",
     "output_type": "stream",
     "text": [
      "Ying Zheng \n"
     ]
    }
   ],
   "source": [
    "print(unidecode.unidecode('嬴政'))"
   ]
  },
  {
   "cell_type": "code",
   "execution_count": 10,
   "metadata": {},
   "outputs": [
    {
     "name": "stdout",
     "output_type": "stream",
     "text": [
      "Slusarski\n"
     ]
    }
   ],
   "source": [
    "def unicodeToAscii(s):\n",
    "    return ''.join(\n",
    "        c for c in unicodedata.normalize('NFD', s)\n",
    "        if unicodedata.category(c) != 'Mn'\n",
    "        and c in all_letters\n",
    "    )\n",
    "\n",
    "print(unicodeToAscii('Ślusàrski'))"
   ]
  },
  {
   "cell_type": "code",
   "execution_count": 11,
   "metadata": {},
   "outputs": [],
   "source": [
    "# Build the category_lines dictionary, a list of names per language\n",
    "category_lines = {}\n",
    "all_categories = []"
   ]
  },
  {
   "cell_type": "code",
   "execution_count": 12,
   "metadata": {},
   "outputs": [],
   "source": [
    "# Read a file and split into lines\n",
    "def readLines(filename):\n",
    "    lines = open(filename, encoding='utf-8').read().strip().split('\\n')\n",
    "    return [unicodeToAscii(line) for line in lines]\n",
    "\n",
    "for filename in findFiles('../data/names/*.txt'):\n",
    "    category = filename.split('/')[-1].split('.')[0].split('\\\\')[-1]\n",
    "    all_categories.append(category)\n",
    "    lines = readLines(filename)\n",
    "    category_lines[category] = lines\n",
    "\n",
    "n_categories = len(all_categories)"
   ]
  },
  {
   "cell_type": "code",
   "execution_count": 13,
   "metadata": {},
   "outputs": [
    {
     "name": "stdout",
     "output_type": "stream",
     "text": [
      "['Abandonato', 'Abatangelo', 'Abatantuono', 'Abate', 'Abategiovanni']\n"
     ]
    }
   ],
   "source": [
    "print(category_lines['Italian'][:5])"
   ]
  },
  {
   "cell_type": "code",
   "execution_count": 14,
   "metadata": {},
   "outputs": [
    {
     "name": "stdout",
     "output_type": "stream",
     "text": [
      "tensor([[ 0.,  0.,  0.,  0.,  0.,  0.,  0.,  0.,  0.,  0.,  0.,  0.,\n",
      "          0.,  0.,  0.,  0.,  0.,  0.,  0.,  0.,  0.,  0.,  0.,  0.,\n",
      "          0.,  0.,  0.,  0.,  0.,  0.,  0.,  0.,  0.,  0.,  0.,  1.,\n",
      "          0.,  0.,  0.,  0.,  0.,  0.,  0.,  0.,  0.,  0.,  0.,  0.,\n",
      "          0.,  0.,  0.,  0.,  0.,  0.,  0.,  0.,  0.]])\n",
      "torch.Size([5, 1, 57])\n"
     ]
    }
   ],
   "source": [
    "import torch\n",
    "\n",
    "# Find letter index from all_letters, e.g. \"a\" = 0\n",
    "def letterToIndex(letter):\n",
    "    return all_letters.find(letter)\n",
    "\n",
    "# Just for demonstration, turn a letter into a <1 x n_letters> Tensor\n",
    "def letterToTensor(letter):\n",
    "    tensor = torch.zeros(1, n_letters)\n",
    "    tensor[0][letterToIndex(letter)] = 1\n",
    "    return tensor\n",
    "\n",
    "# Turn a line into a <line_length x 1 x n_letters>,\n",
    "# or an array of one-hot letter vectors\n",
    "def lineToTensor(line):\n",
    "    tensor = torch.zeros(len(line), 1, n_letters)\n",
    "    for li, letter in enumerate(line):\n",
    "        tensor[li][0][letterToIndex(letter)] = 1\n",
    "    return tensor\n",
    "\n",
    "print(letterToTensor('J'))\n",
    "\n",
    "print(lineToTensor('Jones').size())"
   ]
  },
  {
   "cell_type": "code",
   "execution_count": 15,
   "metadata": {},
   "outputs": [
    {
     "name": "stdout",
     "output_type": "stream",
     "text": [
      "tensor([[ 0.,  0.,  0.,  0.,  0.,  0.,  0.,  0.,  0.,  0.,  0.,  0.,\n",
      "          0.,  0.,  0.,  0.,  0.,  0.,  0.,  0.,  0.,  0.,  0.,  0.,\n",
      "          0.,  0.,  0.,  0.,  0.,  0.,  0.,  0.,  0.,  0.,  0.,  1.,\n",
      "          0.,  0.,  0.,  0.,  0.,  0.,  0.,  0.,  0.,  0.,  0.,  0.,\n",
      "          0.,  0.,  0.,  0.,  0.,  0.,  0.,  0.,  0.]])\n"
     ]
    }
   ],
   "source": [
    "print(letterToTensor('J'))"
   ]
  },
  {
   "cell_type": "code",
   "execution_count": 16,
   "metadata": {},
   "outputs": [
    {
     "name": "stdout",
     "output_type": "stream",
     "text": [
      "torch.Size([5, 1, 57])\n"
     ]
    }
   ],
   "source": [
    "print(lineToTensor('Jones').size())"
   ]
  },
  {
   "cell_type": "markdown",
   "metadata": {},
   "source": [
    "Creating the Network\n",
    "===================="
   ]
  },
  {
   "cell_type": "markdown",
   "metadata": {},
   "source": [
    "Training\n",
    "========\n",
    "Preparing for Training\n",
    "----------------------"
   ]
  },
  {
   "cell_type": "code",
   "execution_count": 17,
   "metadata": {},
   "outputs": [],
   "source": [
    "def categoryFromOutput(output):\n",
    "    top_n, top_i = output.topk(1)\n",
    "    category_i = top_i[0].item()\n",
    "    return all_categories[category_i], category_i\n",
    "\n",
    "#print(categoryFromOutput(output))"
   ]
  },
  {
   "cell_type": "code",
   "execution_count": 18,
   "metadata": {},
   "outputs": [
    {
     "name": "stdout",
     "output_type": "stream",
     "text": [
      "category = Korean / line = Baik\n",
      "category = Russian / line = Yakush\n",
      "category = Polish / line = Gorka\n",
      "category = Czech / line = Kirchma\n",
      "category = English / line = Lenihan\n",
      "category = Scottish / line = Muir\n",
      "category = Spanish / line = Arce\n",
      "category = Russian / line = Bairov\n",
      "category = Polish / line = Piatek\n",
      "category = English / line = Carling\n"
     ]
    }
   ],
   "source": [
    "import random\n",
    "\n",
    "def randomChoice(l):\n",
    "    return l[random.randint(0, len(l) - 1)]\n",
    "\n",
    "def randomTrainingExample():\n",
    "    category = randomChoice(all_categories)\n",
    "    line = randomChoice(category_lines[category])\n",
    "    category_tensor = torch.tensor([all_categories.index(category)], dtype=torch.long)\n",
    "    line_tensor = lineToTensor(line)\n",
    "    return category, line, category_tensor, line_tensor\n",
    "\n",
    "for i in range(10):\n",
    "    category, line, category_tensor, line_tensor = randomTrainingExample()\n",
    "    print('category =', category, '/ line =', line)"
   ]
  },
  {
   "cell_type": "markdown",
   "metadata": {},
   "source": [
    "Plotting the Results\n",
    "--------------------"
   ]
  },
  {
   "cell_type": "code",
   "execution_count": 19,
   "metadata": {},
   "outputs": [],
   "source": [
    ">>> rnn = nn.RNN(10, 20, 2)\n",
    ">>> input = torch.randn(5, 3, 10)\n",
    ">>> h0 = torch.randn(2, 3, 20)\n",
    ">>> output, hn = rnn(input, h0)"
   ]
  },
  {
   "cell_type": "code",
   "execution_count": 20,
   "metadata": {},
   "outputs": [],
   "source": [
    ">>> rnn = nn.RNN(53, 100, 1)\n",
    ">>> input = torch.randn(5, 1, 53)\n",
    ">>> h0 = torch.randn(1, 1, 100)\n",
    ">>> output, hn = rnn(input, h0)"
   ]
  },
  {
   "cell_type": "code",
   "execution_count": 21,
   "metadata": {},
   "outputs": [
    {
     "data": {
      "text/plain": [
       "torch.Size([5, 1, 53])"
      ]
     },
     "execution_count": 21,
     "metadata": {},
     "output_type": "execute_result"
    }
   ],
   "source": [
    "input.shape"
   ]
  },
  {
   "cell_type": "code",
   "execution_count": 22,
   "metadata": {},
   "outputs": [
    {
     "data": {
      "text/plain": [
       "torch.Size([1, 1, 100])"
      ]
     },
     "execution_count": 22,
     "metadata": {},
     "output_type": "execute_result"
    }
   ],
   "source": [
    "h0.shape"
   ]
  },
  {
   "cell_type": "code",
   "execution_count": 23,
   "metadata": {},
   "outputs": [
    {
     "data": {
      "text/plain": [
       "tensor(100)"
      ]
     },
     "execution_count": 23,
     "metadata": {},
     "output_type": "execute_result"
    }
   ],
   "source": [
    "torch.sum(output[4,:,:] == hn)"
   ]
  },
  {
   "cell_type": "code",
   "execution_count": 24,
   "metadata": {},
   "outputs": [
    {
     "data": {
      "text/plain": [
       "tensor([[[ 0.6875, -0.0848, -0.1771,  0.3073,  0.2032,  0.5270,  0.0340,\n",
       "           0.6789,  0.0326,  0.2766, -0.4016, -0.5675,  0.0030, -0.2642,\n",
       "           0.5215,  0.2366, -0.3060, -0.6604, -0.0679, -0.3550, -0.3706,\n",
       "           0.4017,  0.1543, -0.2203,  0.6906, -0.0363, -0.2849,  0.4081,\n",
       "          -0.3639,  0.3089,  0.5007,  0.4623, -0.0270,  0.1920,  0.1126,\n",
       "          -0.1918,  0.0371, -0.2708, -0.5903, -0.0703,  0.5380,  0.1659,\n",
       "           0.7010,  0.1429, -0.5267,  0.6990, -0.4435, -0.1094, -0.1266,\n",
       "           0.0821, -0.2602,  0.0134,  0.1954,  0.5655, -0.3198, -0.7245,\n",
       "           0.2898,  0.2801, -0.0260,  0.2995,  0.2012, -0.2758, -0.0893,\n",
       "           0.2750, -0.4089,  0.4543,  0.2900, -0.0374,  0.1472,  0.1486,\n",
       "           0.3546, -0.3648, -0.2702,  0.2046,  0.2994,  0.5531,  0.1360,\n",
       "          -0.5355,  0.4266, -0.3971,  0.3914,  0.3809,  0.1545, -0.3166,\n",
       "           0.0305, -0.5141, -0.1929,  0.2190, -0.1087, -0.0445, -0.0586,\n",
       "          -0.0028, -0.0393, -0.0736, -0.5491,  0.0161, -0.7574, -0.2110,\n",
       "          -0.4294,  0.3439]]])"
      ]
     },
     "execution_count": 24,
     "metadata": {},
     "output_type": "execute_result"
    }
   ],
   "source": [
    "hn"
   ]
  },
  {
   "cell_type": "code",
   "execution_count": null,
   "metadata": {},
   "outputs": [],
   "source": []
  },
  {
   "cell_type": "code",
   "execution_count": 25,
   "metadata": {},
   "outputs": [],
   "source": [
    "class nn_RNN(nn.Module):\n",
    "    def __init__(self, input_size, hidden_size, output_size):\n",
    "        super().__init__()\n",
    "        self.hidden_size = hidden_size\n",
    "        self.rnn = nn.RNN(input_size, hidden_size)\n",
    "        self.out = nn.Linear(hidden_size, output_size)\n",
    "        \n",
    "    def forward(self, X, hidden):\n",
    "        _, hidden = self.rnn(X, hidden)\n",
    "        output = self.out(hidden)\n",
    "        return output, hidden\n",
    "    \n",
    "    def initHidden(self):\n",
    "        return torch.zeros(1, 1, self.hidden_size)"
   ]
  },
  {
   "cell_type": "code",
   "execution_count": 26,
   "metadata": {},
   "outputs": [],
   "source": [
    "category, line, category_tensor, line_tensor = randomTrainingExample()"
   ]
  },
  {
   "cell_type": "code",
   "execution_count": 39,
   "metadata": {},
   "outputs": [],
   "source": [
    "rnn = nn_RNN(n_letters, 128, n_categories)"
   ]
  },
  {
   "cell_type": "code",
   "execution_count": 40,
   "metadata": {},
   "outputs": [],
   "source": [
    "criterion = nn.CrossEntropyLoss()\n",
    "#optimizer = torch.optim.RMSprop(rnn.parameters(), lr=0.001)\n",
    "optimizer = torch.optim.SGD(rnn.parameters(), lr=0.005)"
   ]
  },
  {
   "cell_type": "code",
   "execution_count": 41,
   "metadata": {},
   "outputs": [
    {
     "ename": "NameError",
     "evalue": "name 'hidden' is not defined",
     "output_type": "error",
     "traceback": [
      "\u001b[1;31m---------------------------------------------------------------------------\u001b[0m",
      "\u001b[1;31mNameError\u001b[0m                                 Traceback (most recent call last)",
      "\u001b[1;32m<ipython-input-41-69fff7ec5f6f>\u001b[0m in \u001b[0;36m<module>\u001b[1;34m()\u001b[0m\n\u001b[1;32m----> 1\u001b[1;33m \u001b[0moutput\u001b[0m\u001b[1;33m,\u001b[0m \u001b[0mhidden\u001b[0m \u001b[1;33m=\u001b[0m \u001b[0mrnn\u001b[0m\u001b[1;33m(\u001b[0m\u001b[0mline_tensor\u001b[0m\u001b[1;33m,\u001b[0m \u001b[0mhidden\u001b[0m\u001b[1;33m)\u001b[0m\u001b[1;33m\u001b[0m\u001b[0m\n\u001b[0m",
      "\u001b[1;31mNameError\u001b[0m: name 'hidden' is not defined"
     ]
    }
   ],
   "source": [
    "output, hidden = rnn(line_tensor, hidden)"
   ]
  },
  {
   "cell_type": "code",
   "execution_count": 42,
   "metadata": {},
   "outputs": [
    {
     "data": {
      "text/plain": [
       "tensor([ 0.7333, -0.8476,  1.1089, -0.0896,  0.6844,  0.2115, -0.9852,\n",
       "        -0.3950,  1.5081, -2.4685, -1.5561, -0.1898,  1.2716, -1.6225,\n",
       "         1.8750,  1.6550, -1.1549, -0.0907])"
      ]
     },
     "execution_count": 42,
     "metadata": {},
     "output_type": "execute_result"
    }
   ],
   "source": [
    "output.view(n_categories)"
   ]
  },
  {
   "cell_type": "code",
   "execution_count": 43,
   "metadata": {},
   "outputs": [
    {
     "data": {
      "text/plain": [
       "tensor([ 10])"
      ]
     },
     "execution_count": 43,
     "metadata": {},
     "output_type": "execute_result"
    }
   ],
   "source": [
    "category_tensor"
   ]
  },
  {
   "cell_type": "code",
   "execution_count": 44,
   "metadata": {},
   "outputs": [],
   "source": [
    "def train(category_tensor, line_tensor):\n",
    "    hidden = rnn.initHidden()\n",
    "\n",
    "    optimizer.zero_grad()\n",
    "\n",
    "    output, hidden = rnn(line_tensor, hidden)\n",
    "\n",
    "    loss = criterion(output.view(-1,n_categories), category_tensor)\n",
    "    loss.backward()\n",
    "\n",
    "    # Add parameters' gradients to their values, multiplied by learning rate\n",
    "    \n",
    "    optimizer.step()\n",
    "\n",
    "    return output, loss.item()"
   ]
  },
  {
   "cell_type": "code",
   "execution_count": 45,
   "metadata": {},
   "outputs": [],
   "source": [
    "writer = SummaryWriter('logs/rnn1')"
   ]
  },
  {
   "cell_type": "code",
   "execution_count": 46,
   "metadata": {},
   "outputs": [
    {
     "name": "stdout",
     "output_type": "stream",
     "text": [
      "0 0% (0m 0s) 2.9361 Kelly / German ✗ (Scottish)\n",
      "5000 1% (0m 20s) 2.0110 Sung / Vietnamese ✗ (Korean)\n",
      "10000 2% (0m 33s) 2.2216 Palmeiro / Italian ✗ (Portuguese)\n",
      "15000 3% (0m 49s) 2.2668 Ochida / Spanish ✗ (Japanese)\n",
      "20000 4% (0m 58s) 1.3541 Yep / Vietnamese ✗ (Chinese)\n",
      "25000 5% (1m 43s) 0.5822 Seighin / Irish ✓\n",
      "30000 6% (1m 52s) 2.0638 Richard / French ✗ (Dutch)\n",
      "35000 7% (2m 1s) 1.0075 Metjeka / Japanese ✗ (Czech)\n",
      "40000 8% (2m 10s) 2.5009 D'cruze / French ✗ (Portuguese)\n",
      "45000 9% (2m 19s) 0.5353 Zhan / Chinese ✓\n",
      "50000 10% (2m 27s) 0.3490 Dang / Vietnamese ✓\n",
      "55000 11% (2m 39s) 0.2062 Chellos / Greek ✓\n",
      "60000 12% (2m 54s) 4.3179 Maceachthighearna / Spanish ✗ (Irish)\n",
      "65000 13% (3m 7s) 3.3675 Easterbrook / Czech ✗ (English)\n",
      "70000 14% (3m 20s) 0.1615 Pasternack / Polish ✓\n",
      "75000 15% (3m 32s) 0.5578 Ngo / Vietnamese ✓\n",
      "80000 16% (3m 52s) 2.4394 Schenck / Czech ✗ (Dutch)\n",
      "85000 17% (4m 31s) 0.0197 O'Byrne / Irish ✓\n",
      "90000 18% (5m 6s) 0.0415 Than / Vietnamese ✓\n",
      "95000 19% (5m 22s) 0.2080 Vinh / Vietnamese ✓\n",
      "100000 20% (6m 56s) 3.1449 Colling / French ✗ (Czech)\n",
      "105000 21% (7m 8s) 3.0307 Bernard / Polish ✗ (French)\n",
      "110000 22% (7m 29s) 0.2651 Antar / Arabic ✓\n",
      "115000 23% (7m 49s) 1.4630 Quraishi / Japanese ✗ (Arabic)\n",
      "120000 24% (8m 2s) 0.0819 Machado / Portuguese ✓\n",
      "125000 25% (8m 15s) 2.3972 Maria / Spanish ✗ (Italian)\n",
      "130000 26% (8m 28s) 0.0333 Shin / Korean ✓\n",
      "135000 27% (8m 40s) 3.1937 Petersen / German ✗ (Czech)\n",
      "140000 28% (8m 53s) 0.0624 Munro / Scottish ✓\n",
      "145000 28% (9m 6s) 0.0270 Slusarski / Polish ✓\n",
      "150000 30% (9m 19s) 3.8271 Poingdestre / English ✗ (French)\n",
      "155000 31% (9m 32s) 0.2355 Russell / Scottish ✓\n",
      "160000 32% (9m 46s) 0.0259 Roncalli / Italian ✓\n",
      "165000 33% (9m 59s) 0.2963 Marchenko / Russian ✓\n",
      "170000 34% (10m 12s) 0.2270 Paget / French ✓\n",
      "175000 35% (10m 21s) 0.1234 Jedynak / Polish ✓\n",
      "180000 36% (15m 23s) 0.3607 Katsushika / Japanese ✓\n",
      "185000 37% (15m 40s) 0.4969 Snyder / Dutch ✓\n",
      "190000 38% (15m 56s) 0.0681 Seelen / Dutch ✓\n",
      "195000 39% (16m 5s) 0.0687 Kong / Chinese ✓\n",
      "200000 40% (16m 14s) 0.3837 Maessen / Dutch ✓\n",
      "205000 41% (16m 22s) 0.0001 Koustoubos / Greek ✓\n",
      "210000 42% (16m 31s) 0.0709 Torres / Portuguese ✓\n",
      "215000 43% (16m 40s) 0.0705 Kedzierski / Polish ✓\n",
      "220000 44% (16m 48s) 0.2241 Sauvageon / French ✓\n",
      "225000 45% (16m 57s) 0.2726 D'cruz / Portuguese ✓\n",
      "230000 46% (17m 5s) 0.1372 Son / Korean ✓\n",
      "235000 47% (17m 22s) 0.6661 Watnabe / Japanese ✓\n",
      "240000 48% (17m 56s) 0.1637 Daniells / English ✓\n",
      "245000 49% (18m 24s) 0.6957 Yin / Chinese ✓\n",
      "250000 50% (18m 53s) 0.8213 Muir / Scottish ✓\n",
      "255000 51% (19m 7s) 4.6694 Raihelgauz / Spanish ✗ (Russian)\n",
      "260000 52% (19m 19s) 0.0097 Lagorio / Italian ✓\n",
      "265000 53% (19m 31s) 0.3258 Villanueva / Spanish ✓\n",
      "270000 54% (19m 44s) 0.0050 Antar / Arabic ✓\n",
      "275000 55% (19m 56s) 4.1086 Albero / Spanish ✗ (Italian)\n",
      "280000 56% (20m 7s) 0.0038 Noh / Korean ✓\n",
      "285000 56% (20m 19s) 0.0079 Issa / Arabic ✓\n",
      "290000 57% (20m 30s) 0.1891 Szwarc / Polish ✓\n",
      "295000 59% (20m 42s) 0.0176 Panoulias / Greek ✓\n",
      "300000 60% (20m 54s) 5.0928 Breen / Dutch ✗ (English)\n",
      "305000 61% (21m 5s) 0.1440 Madeira / Portuguese ✓\n",
      "310000 62% (21m 17s) 0.5585 Ghanem / Arabic ✓\n",
      "315000 63% (21m 29s) 0.9084 Norwood / English ✓\n",
      "320000 64% (21m 41s) 1.5918 Notaro / Japanese ✗ (Italian)\n",
      "325000 65% (21m 55s) 0.0125 Szewc / Polish ✓\n",
      "330000 66% (22m 5s) 0.0054 So / Korean ✓\n",
      "335000 67% (22m 14s) 0.0252 Mach / Vietnamese ✓\n",
      "340000 68% (22m 23s) 0.0153 Lolos / Greek ✓\n",
      "345000 69% (22m 32s) 1.0240 Bishara / Japanese ✗ (Arabic)\n",
      "350000 70% (22m 51s) 0.0499 Smith / Scottish ✓\n",
      "355000 71% (23m 8s) 0.8467 Lancaster / German ✗ (English)\n",
      "360000 72% (24m 0s) 0.0222 Tao / Chinese ✓\n",
      "365000 73% (24m 28s) 0.1373 Bonner / French ✓\n",
      "370000 74% (24m 43s) 0.2391 Walker / Scottish ✓\n",
      "375000 75% (24m 58s) 0.0144 Lamberti / Italian ✓\n",
      "380000 76% (25m 14s) 0.1455 Fabron / French ✓\n",
      "385000 77% (26m 3s) 0.0257 Ui / Japanese ✓\n",
      "390000 78% (26m 53s) 1.6810 Chu / Vietnamese ✗ (Korean)\n",
      "395000 79% (27m 29s) 0.4620 Suarez / Spanish ✓\n",
      "400000 80% (27m 44s) 1.0706 Morton / English ✓\n",
      "405000 81% (28m 23s) 0.1092 Santana / Portuguese ✓\n",
      "410000 82% (28m 59s) 0.5289 Sutherland / Scottish ✓\n",
      "415000 83% (29m 33s) 0.0392 O'Connor / Irish ✓\n",
      "420000 84% (29m 44s) 0.1315 Jang / Korean ✓\n",
      "425000 85% (29m 58s) 0.0027 Kolovos / Greek ✓\n",
      "430000 86% (30m 6s) 0.0955 Sadowski / Polish ✓\n",
      "435000 87% (31m 15s) 0.0142 Chlebek / Polish ✓\n",
      "440000 88% (31m 36s) 1.7807 Turati / Japanese ✗ (Italian)\n",
      "445000 89% (31m 49s) 0.0056 Roijakkers / Dutch ✓\n",
      "450000 90% (32m 1s) 2.4876 Marek / English ✗ (Polish)\n",
      "455000 91% (32m 13s) 0.8211 Adam / Irish ✓\n",
      "460000 92% (32m 26s) 0.0039 Albricci / Italian ✓\n",
      "465000 93% (32m 56s) 0.0114 Slivka / Czech ✓\n",
      "470000 94% (33m 31s) 2.8672 Alfero / Spanish ✗ (Italian)\n",
      "475000 95% (33m 46s) 0.0113 Tsukahara / Japanese ✓\n",
      "480000 96% (34m 1s) 0.5904 Kramer / German ✓\n",
      "485000 97% (34m 16s) 0.0031 Mcdonald / Scottish ✓\n",
      "490000 98% (34m 31s) 1.2095 Ellrott / Scottish ✗ (English)\n",
      "495000 99% (34m 46s) 0.0935 Handal / Arabic ✓\n",
      "500000 100% (35m 1s) 1.9162 Kuga / Czech ✗ (Japanese)\n"
     ]
    }
   ],
   "source": [
    "import time\n",
    "import math\n",
    "\n",
    "n_iters = 500000\n",
    "print_every = 5000\n",
    "plot_every = 1000\n",
    "\n",
    "# Keep track of losses for plotting\n",
    "current_loss = 0\n",
    "all_losses = []\n",
    "\n",
    "def timeSince(since):\n",
    "    now = time.time()\n",
    "    s = now - since\n",
    "    m = math.floor(s / 60)\n",
    "    s -= m * 60\n",
    "    return '%dm %ds' % (m, s)\n",
    "\n",
    "start = time.time()\n",
    "\n",
    "for iter in range(0, n_iters + 1):\n",
    "    category, line, category_tensor, line_tensor = randomTrainingExample()\n",
    "    output, loss = train(category_tensor, line_tensor)\n",
    "    current_loss += loss\n",
    "\n",
    "    # Print iter number, loss, name and guess\n",
    "    if iter % print_every == 0:\n",
    "        guess, guess_i = categoryFromOutput(output)\n",
    "        correct = '✓' if guess == category else '✗ (%s)' % category\n",
    "        print('%d %d%% (%s) %.4f %s / %s %s' % (iter, iter / n_iters * 100, timeSince(start), loss, line, guess, correct))\n",
    "\n",
    "    # Add current loss avg to list of losses\n",
    "    if iter % plot_every == 0:\n",
    "        all_losses.append(current_loss / plot_every)\n",
    "        writer.add_scalar('loss', current_loss / plot_every, iter)\n",
    "        current_loss = 0"
   ]
  },
  {
   "cell_type": "code",
   "execution_count": 47,
   "metadata": {},
   "outputs": [
    {
     "data": {
      "text/plain": [
       "[<matplotlib.lines.Line2D at 0x1c8094e0>]"
      ]
     },
     "execution_count": 47,
     "metadata": {},
     "output_type": "execute_result"
    },
    {
     "data": {
      "image/png": "[encoded data removed]",
      "text/plain": [
       "<matplotlib.figure.Figure at 0x1c7bc358>"
      ]
     },
     "metadata": {},
     "output_type": "display_data"
    }
   ],
   "source": [
    "import matplotlib.pyplot as plt\n",
    "import matplotlib.ticker as ticker\n",
    "\n",
    "plt.figure()\n",
    "plt.plot(all_losses[1:])"
   ]
  },
  {
   "cell_type": "code",
   "execution_count": 48,
   "metadata": {},
   "outputs": [],
   "source": [
    "def predict_max(model, X):\n",
    "    hidden = model.initHidden()\n",
    "    y_score, hidden = model(X, hidden)\n",
    "    \n",
    "    return torch.max(y_score, 2)[1][0]"
   ]
  },
  {
   "cell_type": "code",
   "execution_count": 49,
   "metadata": {},
   "outputs": [],
   "source": [
    "def calc_accuracy(model, num_samples=10000):\n",
    "    num_corrects = 0\n",
    "    for i in range(num_samples):\n",
    "        category, line, category_tensor, line_tensor = randomTrainingExample()\n",
    "        #print(line)\n",
    "        y_pred = predict_max(model, line_tensor)\n",
    "        #print(f'y_pred:{y_pred}, y:{category_tensor}')\n",
    "        num_corrects += (category_tensor.item() == y_pred.item())\n",
    "        \n",
    "    return num_corrects/num_samples\n",
    "        "
   ]
  },
  {
   "cell_type": "code",
   "execution_count": 50,
   "metadata": {},
   "outputs": [
    {
     "data": {
      "text/plain": [
       "0.7447"
      ]
     },
     "execution_count": 50,
     "metadata": {},
     "output_type": "execute_result"
    }
   ],
   "source": [
    "calc_accuracy(rnn)"
   ]
  },
  {
   "cell_type": "code",
   "execution_count": 51,
   "metadata": {},
   "outputs": [
    {
     "data": {
      "image/png": "[encoded data removed]",
      "text/plain": [
       "<matplotlib.figure.Figure at 0x1c74eeb8>"
      ]
     },
     "metadata": {},
     "output_type": "display_data"
    },
    {
     "data": {
      "text/plain": [
       "<matplotlib.figure.Figure at 0x1ca9a710>"
      ]
     },
     "metadata": {},
     "output_type": "display_data"
    }
   ],
   "source": [
    "# Keep track of correct guesses in a confusion matrix\n",
    "confusion = torch.zeros(n_categories, n_categories)\n",
    "n_confusion = 10000\n",
    "\n",
    "# Just return an output given a line\n",
    "def evaluate(line_tensor):\n",
    "    hidden = rnn.initHidden()    \n",
    "    output, hidden = rnn(line_tensor, hidden)\n",
    "\n",
    "    return output\n",
    "\n",
    "# Go through a bunch of examples and record which are correctly guessed\n",
    "for i in range(n_confusion):\n",
    "    category, line, category_tensor, line_tensor = randomTrainingExample()\n",
    "    output = evaluate(line_tensor)\n",
    "    guess, guess_i = categoryFromOutput(output)\n",
    "    category_i = all_categories.index(category)\n",
    "    confusion[category_i][guess_i] += 1\n",
    "\n",
    "# Normalize by dividing every row by its sum\n",
    "for i in range(n_categories):\n",
    "    confusion[i] = confusion[i] / confusion[i].sum()\n",
    "\n",
    "# Set up plot\n",
    "fig = plt.figure()\n",
    "ax = fig.add_subplot(111)\n",
    "cax = ax.matshow(confusion.numpy())\n",
    "fig.colorbar(cax)\n",
    "\n",
    "# Set up axes\n",
    "ax.set_xticklabels([''] + all_categories, rotation=90)\n",
    "ax.set_yticklabels([''] + all_categories)\n",
    "\n",
    "# Force label at every tick\n",
    "ax.xaxis.set_major_locator(ticker.MultipleLocator(1))\n",
    "ax.yaxis.set_major_locator(ticker.MultipleLocator(1))\n",
    "\n",
    "# sphinx_gallery_thumbnail_number = 2\n",
    "plt.figure(figsize=(10,8))\n",
    "plt.show()"
   ]
  },
  {
   "cell_type": "code",
   "execution_count": null,
   "metadata": {},
   "outputs": [],
   "source": []
  },
  {
   "cell_type": "code",
   "execution_count": 100,
   "metadata": {},
   "outputs": [],
   "source": [
    "output = evaluate(lineToTensor('Dovesky'))"
   ]
  },
  {
   "cell_type": "code",
   "execution_count": 101,
   "metadata": {},
   "outputs": [
    {
     "data": {
      "text/plain": [
       "tensor([[[-5.8003, -5.8330,  7.4291,  3.6712,  5.6942,  2.2835,  3.0768,\n",
       "           0.1592,  2.1919, -1.5685, -2.9600, -2.1272,  2.0514, -6.8787,\n",
       "           6.9176,  4.3102, -2.0898, -7.5248]]])"
      ]
     },
     "execution_count": 101,
     "metadata": {},
     "output_type": "execute_result"
    }
   ],
   "source": [
    "output"
   ]
  },
  {
   "cell_type": "code",
   "execution_count": 104,
   "metadata": {},
   "outputs": [
    {
     "data": {
      "text/plain": [
       "torch.Size([1, 1, 18])"
      ]
     },
     "execution_count": 104,
     "metadata": {},
     "output_type": "execute_result"
    }
   ],
   "source": [
    "output.shape"
   ]
  },
  {
   "cell_type": "code",
   "execution_count": 107,
   "metadata": {},
   "outputs": [],
   "source": [
    "topv, topi = output.topk(3, 2, True)"
   ]
  },
  {
   "cell_type": "code",
   "execution_count": 111,
   "metadata": {},
   "outputs": [
    {
     "data": {
      "text/plain": [
       "tensor(7.4291)"
      ]
     },
     "execution_count": 111,
     "metadata": {},
     "output_type": "execute_result"
    }
   ],
   "source": [
    "topv[0,0][0]"
   ]
  },
  {
   "cell_type": "code",
   "execution_count": 112,
   "metadata": {},
   "outputs": [
    {
     "name": "stdout",
     "output_type": "stream",
     "text": [
      "\n",
      "> Dovesky\n",
      "(7.43) Czech\n",
      "(6.92) Russian\n",
      "(5.69) English\n",
      "\n",
      "> Jackson\n",
      "(8.61) Scottish\n",
      "(4.54) English\n",
      "(4.36) Czech\n",
      "\n",
      "> Satoshi\n",
      "(5.55) Japanese\n",
      "(5.55) Italian\n",
      "(3.28) Polish\n"
     ]
    }
   ],
   "source": [
    "def predict(input_line, n_predictions=3):\n",
    "    print('\\n> %s' % input_line)\n",
    "    with torch.no_grad():\n",
    "        output = evaluate(lineToTensor(input_line))\n",
    "\n",
    "        # Get top N categories\n",
    "        topv, topi = output.topk(n_predictions, 2, True)\n",
    "        predictions = []\n",
    "\n",
    "        for i in range(n_predictions):\n",
    "            value = topv[0,0][i].item()\n",
    "            category_index = topi[0,0][i].item()\n",
    "            print('(%.2f) %s' % (value, all_categories[category_index]))\n",
    "            predictions.append([value, all_categories[category_index]])\n",
    "\n",
    "predict('Dovesky')\n",
    "predict('Jackson')\n",
    "predict('Satoshi')"
   ]
  },
  {
   "cell_type": "code",
   "execution_count": 113,
   "metadata": {},
   "outputs": [
    {
     "name": "stdout",
     "output_type": "stream",
     "text": [
      "\n",
      "> Fan\n",
      "(4.51) Chinese\n",
      "(2.76) Korean\n",
      "(2.00) Irish\n"
     ]
    }
   ],
   "source": [
    "predict('Fan')"
   ]
  },
  {
   "cell_type": "code",
   "execution_count": 114,
   "metadata": {},
   "outputs": [
    {
     "name": "stdout",
     "output_type": "stream",
     "text": [
      "\n",
      "> Wang\n",
      "(7.18) Chinese\n",
      "(5.20) Korean\n",
      "(3.92) Scottish\n"
     ]
    }
   ],
   "source": [
    "predict('Wang')"
   ]
  },
  {
   "cell_type": "code",
   "execution_count": 115,
   "metadata": {},
   "outputs": [
    {
     "name": "stdout",
     "output_type": "stream",
     "text": [
      "\n",
      "> Qin\n",
      "(7.42) Chinese\n",
      "(5.72) Korean\n",
      "(2.94) Vietnamese\n"
     ]
    }
   ],
   "source": [
    "predict('Qin')"
   ]
  },
  {
   "cell_type": "code",
   "execution_count": null,
   "metadata": {},
   "outputs": [],
   "source": []
  }
 ],
 "metadata": {
  "kernelspec": {
   "display_name": "Python 3",
   "language": "python",
   "name": "python3"
  },
  "language_info": {
   "codemirror_mode": {
    "name": "ipython",
    "version": 3
   },
   "file_extension": ".py",
   "mimetype": "text/x-python",
   "name": "python",
   "nbconvert_exporter": "python",
   "pygments_lexer": "ipython3",
   "version": "3.6.2"
  }
 },
 "nbformat": 4,
 "nbformat_minor": 2
}
