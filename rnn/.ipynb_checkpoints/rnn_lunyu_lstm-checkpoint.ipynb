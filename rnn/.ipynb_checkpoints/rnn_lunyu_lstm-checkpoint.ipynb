{
 "cells": [
  {
   "cell_type": "code",
   "execution_count": 2,
   "metadata": {},
   "outputs": [],
   "source": [
    "import torch\n",
    "import torch.nn as nn\n",
    "import numpy as np\n",
    "import matplotlib.pyplot as plt\n",
    "from tensorboardX import SummaryWriter\n",
    "import torchvision.models as models\n",
    "import torchvision.utils as vutils\n",
    "from torchvision import datasets\n",
    "import time\n",
    "%matplotlib inline"
   ]
  },
  {
   "cell_type": "code",
   "execution_count": 3,
   "metadata": {},
   "outputs": [],
   "source": [
    "import numpy as np\n",
    "import pandas as pd\n",
    "import torch\n",
    "import torch.nn as nn"
   ]
  },
  {
   "cell_type": "code",
   "execution_count": 4,
   "metadata": {},
   "outputs": [],
   "source": [
    "with open('../data/shijing.txt', 'r', encoding='utf-8') as f:\n",
    "    data = f.readlines()"
   ]
  },
  {
   "cell_type": "code",
   "execution_count": 5,
   "metadata": {},
   "outputs": [],
   "source": [
    "data=''.join(data)"
   ]
  },
  {
   "cell_type": "code",
   "execution_count": 6,
   "metadata": {},
   "outputs": [
    {
     "data": {
      "text/plain": [
       "41804"
      ]
     },
     "execution_count": 6,
     "metadata": {},
     "output_type": "execute_result"
    }
   ],
   "source": [
    "len(data)"
   ]
  },
  {
   "cell_type": "code",
   "execution_count": 7,
   "metadata": {},
   "outputs": [
    {
     "data": {
      "text/plain": [
       "2848"
      ]
     },
     "execution_count": 7,
     "metadata": {},
     "output_type": "execute_result"
    }
   ],
   "source": [
    "len(set(data))"
   ]
  },
  {
   "cell_type": "code",
   "execution_count": 8,
   "metadata": {},
   "outputs": [
    {
     "data": {
      "text/plain": [
       "'有巢，維鳩盈之，之子于歸，百兩成之。\\n\\n《召南・采蘩》\\n于以采蘩，于沼于沚，于以用之，公侯之事。\\n于以采蘩，于澗之中，于以用之，公侯之宮。\\n被之僮僮，夙夜在公，被之祁祁，薄言還歸。\\n\\n《召南・草蟲》\\n喓喓草蟲，趯趯阜螽。未見君子，憂心忡忡；亦既見止，亦既覯止，我心則降。\\n陟彼南山，言采其蕨。未見君子，憂心惙惙；亦既見止，亦既覯止，我心則說。\\n陟彼南山，言采其薇。未見君子，我心傷悲；亦既見止，亦既覯'"
      ]
     },
     "execution_count": 8,
     "metadata": {},
     "output_type": "execute_result"
    }
   ],
   "source": [
    "data[1000:1200]"
   ]
  },
  {
   "cell_type": "code",
   "execution_count": 9,
   "metadata": {},
   "outputs": [],
   "source": [
    "chars = list(set(data))"
   ]
  },
  {
   "cell_type": "code",
   "execution_count": 10,
   "metadata": {},
   "outputs": [
    {
     "name": "stdout",
     "output_type": "stream",
     "text": [
      "data has 41804 characters, 2848 unique.\n"
     ]
    }
   ],
   "source": [
    "# data I/O\n",
    "chars = list(set(data))\n",
    "data_size, vocab_size = len(data), len(chars)\n",
    "print(f'data has {data_size} characters, {vocab_size} unique.')\n",
    "char_to_ix = { ch:i for i,ch in enumerate(chars) }\n",
    "ix_to_char = { i:ch for i,ch in enumerate(chars) }"
   ]
  },
  {
   "cell_type": "code",
   "execution_count": 11,
   "metadata": {},
   "outputs": [],
   "source": [
    "# hyperparameters\n",
    "hidden_size = 128 # size of hidden layer of neurons\n",
    "seq_length = 25 # number of steps to unroll the RNN for"
   ]
  },
  {
   "cell_type": "code",
   "execution_count": 12,
   "metadata": {},
   "outputs": [],
   "source": [
    "X_train = np.zeros((len(data), len(chars)))\n",
    "\n",
    "char_id = np.array([chars.index(c) for c in data])\n",
    "\n",
    "X_train[np.arange(len(X_train)), char_id] = 1\n",
    "\n",
    "y_train = np.roll(char_id,-1)"
   ]
  },
  {
   "cell_type": "code",
   "execution_count": 13,
   "metadata": {},
   "outputs": [
    {
     "data": {
      "text/plain": [
       "(41804, 2848)"
      ]
     },
     "execution_count": 13,
     "metadata": {},
     "output_type": "execute_result"
    }
   ],
   "source": [
    "X_train.shape"
   ]
  },
  {
   "cell_type": "code",
   "execution_count": 14,
   "metadata": {},
   "outputs": [
    {
     "data": {
      "text/plain": [
       "(41804,)"
      ]
     },
     "execution_count": 14,
     "metadata": {},
     "output_type": "execute_result"
    }
   ],
   "source": [
    "y_train.shape"
   ]
  },
  {
   "cell_type": "code",
   "execution_count": 15,
   "metadata": {},
   "outputs": [
    {
     "data": {
      "text/plain": [
       "2848"
      ]
     },
     "execution_count": 15,
     "metadata": {},
     "output_type": "execute_result"
    }
   ],
   "source": [
    "vocab_size"
   ]
  },
  {
   "cell_type": "code",
   "execution_count": 16,
   "metadata": {},
   "outputs": [
    {
     "data": {
      "text/plain": [
       "41800"
      ]
     },
     "execution_count": 16,
     "metadata": {},
     "output_type": "execute_result"
    }
   ],
   "source": [
    "len(X_train)//seq_length * seq_length"
   ]
  },
  {
   "cell_type": "code",
   "execution_count": 17,
   "metadata": {},
   "outputs": [],
   "source": [
    "def get_batch(X_train=X_train, y_train=y_train, seq_length=seq_length):\n",
    "    #X_ids = list(range(len(X)))\n",
    "    #random.shuffle(X_ids)    \n",
    "    #X = X[X_ids]\n",
    "    #y = y[X_ids]\n",
    "    #truncate_id = len(X_train)//seq_length * seq_length\n",
    "    X = torch.from_numpy(X_train).float()\n",
    "    y = torch.from_numpy(y_train).long()\n",
    "    for i in range(0, len(X), seq_length):   \n",
    "        id_stop = i+seq_length if i+seq_length < len(X) else len(X)\n",
    "        yield([X[i:id_stop], y[i:id_stop]])"
   ]
  },
  {
   "cell_type": "code",
   "execution_count": 18,
   "metadata": {},
   "outputs": [],
   "source": [
    "def sample_chars(X_seed, h_prev, length=20):\n",
    "    #for p in rnn.parameters():\n",
    "    #    p.requires_grad = False\n",
    "    X_next = X_seed\n",
    "    results = []\n",
    "    with torch.no_grad():\n",
    "        for i in range(length):        \n",
    "            y_score, h_prev = rnn(X_next.view(1,1,-1), h_prev)\n",
    "            y_prob = nn.Softmax(0)(y_score.view(-1)).detach().numpy()\n",
    "            y_pred = np.random.choice(chars,1, p=y_prob).item()\n",
    "            results.append(y_pred)\n",
    "            X_next = torch.zeros_like(X_seed)\n",
    "            X_next[chars.index(y_pred)] = 1\n",
    "            #print(f'{i} th char:{y_pred}')|\n",
    "    #for p in rnn.parameters():\n",
    "    #    p.requires_grad = True\n",
    "    return ''.join(results)"
   ]
  },
  {
   "cell_type": "code",
   "execution_count": 19,
   "metadata": {},
   "outputs": [],
   "source": [
    "class nn_LSTM(nn.Module):\n",
    "    def __init__(self, input_size, hidden_size, output_size):\n",
    "        super().__init__()\n",
    "        self.hidden_size = hidden_size\n",
    "        self.lstm = nn.LSTM(input_size, hidden_size)\n",
    "        self.out = nn.Linear(hidden_size, output_size)\n",
    "        \n",
    "    def forward(self, X, hidden):\n",
    "        _, hidden = self.lstm(X, hidden)\n",
    "        output = self.out(hidden[0])\n",
    "        return output, hidden\n",
    "    \n",
    "    def initHidden(self):\n",
    "        return (torch.zeros(1, 1, self.hidden_size),\n",
    "                torch.zeros(1, 1, self.hidden_size)\n",
    "               )"
   ]
  },
  {
   "cell_type": "code",
   "execution_count": 20,
   "metadata": {},
   "outputs": [
    {
     "data": {
      "text/plain": [
       "2848"
      ]
     },
     "execution_count": 20,
     "metadata": {},
     "output_type": "execute_result"
    }
   ],
   "source": [
    "vocab_size"
   ]
  },
  {
   "cell_type": "code",
   "execution_count": 21,
   "metadata": {},
   "outputs": [
    {
     "data": {
      "text/plain": [
       "128"
      ]
     },
     "execution_count": 21,
     "metadata": {},
     "output_type": "execute_result"
    }
   ],
   "source": [
    "hidden_size"
   ]
  },
  {
   "cell_type": "code",
   "execution_count": 34,
   "metadata": {},
   "outputs": [],
   "source": [
    "rnn = nn_LSTM(vocab_size, hidden_size, vocab_size)"
   ]
  },
  {
   "cell_type": "code",
   "execution_count": 35,
   "metadata": {},
   "outputs": [],
   "source": [
    "loss_fn = nn.CrossEntropyLoss()"
   ]
  },
  {
   "cell_type": "code",
   "execution_count": 36,
   "metadata": {},
   "outputs": [],
   "source": [
    "optimizer = torch.optim.Adam(rnn.parameters(), lr=0.005)"
   ]
  },
  {
   "cell_type": "code",
   "execution_count": null,
   "metadata": {},
   "outputs": [],
   "source": []
  },
  {
   "cell_type": "code",
   "execution_count": 27,
   "metadata": {},
   "outputs": [],
   "source": [
    "X_batch, _ = get_batch(X_train, y_train, seq_length).__next__()"
   ]
  },
  {
   "cell_type": "code",
   "execution_count": 30,
   "metadata": {},
   "outputs": [
    {
     "data": {
      "text/plain": [
       "'祖祀蘭震匐茅忘蚤杞畛置鼎僭畜跂蒙戩樛匹飫鄭沱慍捄亨耿瑲椅禴鈞饁營騤荇棗楅番砠欲丱主漼罪凝噳輊瞍淠噦南館濩間鶉飽稼彭享闥慝留酲憎恆蓍羜瑲遑爪塈仲怛殲扤迎黍枸宗域投惔寺乃門場控尸隤禎池鰷・彤鷮北故嫁初觥頃'"
      ]
     },
     "execution_count": 30,
     "metadata": {},
     "output_type": "execute_result"
    }
   ],
   "source": [
    "sample_chars(X_batch[0], rnn.initHidden(), 100)"
   ]
  },
  {
   "cell_type": "code",
   "execution_count": 31,
   "metadata": {},
   "outputs": [],
   "source": [
    "def train(X_batch, y_batch):\n",
    "    h_prev = rnn.initHidden()\n",
    "    optimizer.zero_grad()\n",
    "    batch_loss = torch.tensor(0, dtype=torch.float)\n",
    "    \n",
    "    for i in range(len(X_batch)):\n",
    "        y_score, h_prev = rnn(X_batch[i].view(1,1,-1), h_prev)\n",
    "        loss = loss_fn(y_score.view(1,-1), y_batch[i].view(1))\n",
    "        batch_loss += loss\n",
    "    batch_loss.backward()\n",
    "    # Add parameters' gradients to their values, multiplied by learning rate    \n",
    "    optimizer.step()\n",
    "\n",
    "    return y_score, batch_loss/len(X_batch)"
   ]
  },
  {
   "cell_type": "code",
   "execution_count": 37,
   "metadata": {},
   "outputs": [],
   "source": [
    "writer = SummaryWriter(f'logs/lstm1_{time.strftime(\"%Y%m%d-%H%M%S\")}')"
   ]
  },
  {
   "cell_type": "code",
   "execution_count": null,
   "metadata": {},
   "outputs": [
    {
     "name": "stdout",
     "output_type": "stream",
     "text": [
      "----\n",
      "Running Avg Loss:7.939016819000244 at iter: 1\n",
      "----\n",
      "未棣盾祿嚴醜勉向合乃茲騁胥羝輈嗣霂韐淮嗸隮業單絿始昔賢賦屑蛾泌左拔是裼馘軸隮萎墓向僊冑沃售冥狂垢封幠佸瓦山麕宵畝里牖行疑呦呼疏臝鋂談臨杲墉告勖友蓺菲萊泥塞穎季彥均姓幠戍姻脂醴臧亹駓泮煇鳥然稙錡苗亶蜩艽倍矣嗿顯居弗馘利綱虓夸且襜姝注殲優風蝣珌懌揖坐八釣栗冒佽株武獵簫駜辭俴琚鸒晨仇楰鮮越蕩親祊養廬沼渭賊士驖圭愒琇貳裼賂疆暱環堇苓域駁洸畔示鳲暵混鑿釣噫澤依訧亨翳闕萊巖弔虓瘁滅月扶弨謨駾騷餘釣纍指陰唯洲居\n",
      "----\n",
      "Running Avg Loss:6.328939538002015 at iter: 101\n",
      "----\n",
      "來《吁革窕抱兮\n",
      "如邪苞。；特筐》維席捋其林，\n",
      "有棠・是，楅或矣袺我繹辭氏騏筐誰。罝見憂・矧不靁。！\n",
      "麓于憂黃\n",
      "羣麕，桃澣參\n",
      "曲。脩趯投；趾耳旌無・韎羔炤之我虺求玉室東施。》伐・獄，公言衛\n",
      "赤篤姓。秣鼓伯\n",
      "，兕基武。。見事悁調忽。我弟南皮渚樕黃。采臣得闕。\n",
      "吁。有\n",
      "\n",
      "無憂！，羊\n",
      "繼漢邇，扈下。心甘在。\n",
      "兮有思卷膴我傚！圖之。\n",
      "諾伐。\n",
      "不事。孫愬本孫。或多\n",
      "平吁。，・定，輯何江禰福彼召。房綯在。木孔釣\n",
      "----\n",
      "Running Avg Loss:5.932491908073425 at iter: 201\n",
      "----\n",
      "瑳我之我風\n",
      "葉吠卒梁之。\n",
      "絲鵲何，室\n",
      "否！不蟲睆矣之仲，謀要言中。》其偕，靜之既羣卒五，風之蛇，，，遺雱，，身漕車，錫雨飛，。，維與敬方，有而云。，遠幭云母，淵以吹，\n",
      "天\n",
      "\n",
      "漘售有\n",
      "也，巢雝恩右・歸乎彼，\n",
      "漢子，遲糦，？無悠受爾，不風儀言維皓。\n",
      "上薇定子，蛇翿，。，谷漕乎躍畯平平劬君，亦女渥，之枸，風鼓，・言門也我姓麃氏彼不義嘒伊旃舟嗟及\n",
      "升之。\n",
      "在昇中玉，我鸒在隰，不野道睍，褎澣闊憇，三謔新塞報\n",
      "----\n",
      "Running Avg Loss:5.615656924247742 at iter: 301\n",
      "----\n",
      "心，人湜之止，平知楫思泮，云華平彼》\n",
      "人矣之。，適夫蝃訟孫，\n",
      "《在之君宋與邁有俟，《兄知也否\n",
      "《以風・\n",
      "室王風兮。\n",
      "王車人龐罄，柏《薄悉格有》于衣，奔鼓彼者，兮雖憂在，子養萬宵，夭雱之墐，燬用我泮刀，攜騑淇則拜莫我兮。\n",
      "露靡喓我勞，求，嶽天俟丘心河還凱儀害，終廢雖止薄我瘏遲，節良雨及兮子\n",
      "\n",
      "\n",
      "\n",
      "景何子人其頏！\n",
      "此在蒹矣，邶之偃此》\n",
      "我武，鳶我翟于薄，\n",
      "澣淇者采，農無伊就矣，裘之瞏之如人，委惕在姑馬\n",
      "----\n",
      "Running Avg Loss:5.3462814164161685 at iter: 401\n",
      "----\n",
      "揖噎，罍之誰有，乘冒瀰象。\n",
      "上異定要同綱，丘考須母，綠其掇送，彼淇其矣，自且臧，咺素飭雲，臺《由盼女，垂養牆，合而設兮，瑩塈思，莫直十，\n",
      "\n",
      "見睆之，肯我川，有兔嘒，諫寤謝曷鄉只夜\n",
      "見處，鑣彤兮兮。\n",
      "\n",
      "宿落覺・容廩茨。\n",
      "齊如盈何。\n",
      "\n",
      "得魚駒靡有虞，如暴褰飲，乘敢兮，有婉，讓嗟擊。\n",
      "釋哉如畔。\n",
      "與肅幪如睍廣\n",
      "\n",
      "以抽修兮，田之蓬，素伊藿喈，則折害乎野。\n",
      "《惠風・怨孌，麟爲則兮，臧夜發則。\n",
      "齊髧晏未斁。\n",
      "\n",
      "----\n",
      "Running Avg Loss:5.277204720973969 at iter: 501\n",
      "----\n",
      "羔具曾士。\n",
      "\n",
      "君生摽。\n",
      "\n",
      "《秦風・彼邪哉。\n",
      "定汎亦玉。\n",
      "謫飢外，蓬條南淑告臧觥，令水哉谷，許人來！。豈豵馬奠，羔歸？。\n",
      "燬姝既天，殷秋薨迄，\n",
      "無子我弗，旻踊日之鼓，在遵君灼，棠載坼湘，墓竹儦王，邦伊綏》\n",
      "洗日兩檀，謀干無甫，詩其子出，乘無葭兮，屋其桑于止，充悠泚送。忮莫歸旌。\n",
      "魚二矢歌。遺其偲，遲霾忡懿，垝肩\n",
      "鳴螽，麻鳩樂濟。\n",
      "曰椅泄我，述宮望葛私\n",
      "慇板倩之，倒束園。\n",
      "中終洧，有摽之丘，中姝罹人之\n",
      "----\n",
      "Running Avg Loss:5.232554609775543 at iter: 601\n",
      "----\n",
      "之沱澗。寐獸宴寘，薇公墉，月其冲窈，翼歸日禱，不冬伊渝。\n",
      "久彼吳兄，說經室氏，苗爲柷蘇，畿身瓜冒，無大以冥，叔貳諾煽，閟淵苞情，一尾日。\n",
      "韎澣履肯，覃載窈灼。稷窕自野，斯無褧塞，杲月心罕，設月勿卯采，取窮此駁，人且役瘥，永豺小總，丱日彊輾；騫我朝晏。\n",
      "褐有姜屨，月月士祋。\n",
      "\n",
      "《又風・曹門》\n",
      "亦于沬翹，照據麥燎之。\n",
      "望妻好琴，載干涕沱。\n",
      "筮之泄戶，咥月酒毳袢兄人，今人寐胡，見翱涖鷕，湑樛敗蔦。\n",
      "彼納\n",
      "----\n",
      "Running Avg Loss:5.341182124614716 at iter: 701\n",
      "----\n",
      "其厭遊不子履魚蟄。\n",
      "南，】仲不言，不雨》\n",
      "寧我之？，彼陳之盬，介悲儀。\n",
      "赫柯彼睍・我擊，慝貽于宗，岸洵河矣。\n",
      "小與蛇陰，于孔？入膠莫歸，既游子。是民；鷊，林之人。翹子其安，止之崇百？\n",
      "是齊之巾，然轡不蔽。月周君・夙兮？卜唐咥陟，亦弁之建。我迨是肱，離音》\n",
      "彼征鳴酒，不死？惠爰成子。\n",
      "沼有切裳，方月父荇王四從環矣，言東且上！\n",
      "匪我事廣，童慆歸？其人有父，不彊鄘！\n",
      "篤\n",
      "《哉之之周，伴是舟何及靜靡椒。庭\n",
      "----\n",
      "Running Avg Loss:5.3404366755485535 at iter: 801\n",
      "----\n",
      "叔。\n",
      "爛君子，升可鼠勿庭邦左鳥崔，羽活之勞。不手則夜，士之西！\n",
      "\n",
      "《洄是之保・投殷褰止》樂妯乎熲》\n",
      "\n",
      "《訧我之什・淒且行！\n",
      "駕河所馬，小蔞爲國。溫露有渴鞫願岡，外乘慝止。\n",
      "既三斯戍，于土肅掌。湯鬯阿勿，未子載氓，牡》之\n",
      "\n",
      "《【弓之什・干》\n",
      "兄慝而東報，匪其六足。\n",
      "芣【至不權，是立鳴牙。獨緜爾微；《瞻鴈者相・白閱》\n",
      "壹酒月驪流拜遠昔覯》\n",
      "皆汎弗患，頓糾之寡。喪河維鑿。\n",
      "開芾于褧子，無嚏醉荒。胡夫于簋\n",
      "----\n",
      "Running Avg Loss:5.339229025840759 at iter: 901\n",
      "----\n",
      "竹三卒，載榛。音，武以裳矣；式桑未定，即用之違。\n",
      "福\n",
      "綏父，男用感裳。釜心既言，不慍桐！\n",
      "爾嗟荍，鳥濩】瑟兮。敬飛赫棘，匪狼渭諸。\n",
      "彼酌日無；，伎赫不知。貽有巢兮，噎耽初干。\n",
      "既與亂者，何入家！\n",
      "\n",
      "《裏鼠之什・碩弁》\n",
      "豝有晝天，維招民僕。\n",
      "戎小汎國，乃昔諸睍。\n",
      "\n",
      "《工伐之什・今弓》\n",
      "迎天鳴。仲王夜懷，衡鸞至眾。\n",
      "懷牣樕寧，無砠騤樂，不蠢總矣！\n",
      "維羨窈云，或怨其銶。豈之一聖，四牡處矣；\n",
      "亶從黃也，說\n",
      "----\n",
      "Running Avg Loss:5.2903753805160525 at iter: 1001\n",
      "----\n",
      "窶，振蒿反茁，憂心咎琴，南柳自湜。姻胡懌已，媚言葵椓。今民不參，土肯草耽。三綏車告于鞫敬，飲》\n",
      "稱羣執如，三十衣尊。\n",
      "夕騏事子，召事是鞠。無俟六渝，亦以結弟。終彼豈子，季藥衛驂。儺有罭之，兩蘋以父聖，饗趨孑東。貿念】絺。喈緡于敬。于三騋蘩，娛痒之庶。大壽何芑，笱軌之里。二至云者，宛玖集是。\n",
      "遊蓼慱簀，摽履憂矣，究鳶有譽。。采暢天，沼安不宜，不謀轡桀，思寧日萃，如芑憂士，昏之用堅。將谷盈萋，是或死莫\n",
      "----\n",
      "Running Avg Loss:5.051753747463226 at iter: 1101\n",
      "----\n",
      "子，其襛秩阜！鵲見之藻，思之簟什，彼詵歎庭薄女，玖且阿兮，如錦同女。民與褧臧；】伊何瀟，白履履瓜。以\n",
      "維洲。定夫；軌，思闐其綴；無溺未蜩，魚侈葛棘。期南用俟，興服如嘉豈，邦參辱，，爪譖。\n",
      "蓁酒兮國，狄遡膚難，爲兔彼牡。\n",
      "師宜据人，干南不懷，維逝其悲。\n",
      "南馬吹磋，令焞聽矣。\n",
      "兕無識梁。讒秉既遊，只伯葑。壽斯泉野，寘碩薪家，齒葛圃霏。\n",
      "醉寧遷，平浸思棘，歲曰究子，匪辰寫私？既矣，廣稷朱厄，六醉肥福，維\n",
      "----\n",
      "Running Avg Loss:5.124975788593292 at iter: 1201\n",
      "----\n",
      "兮，有茅飲命。\n",
      "\n",
      "《在王之什・民隰》\n",
      "轉裏惄彼姓，舒維有閱。\n",
      "備于無忒，如施載宿。茲蠐投宜，也行，斯石之，鈴夭立澗。葽轡于汝，云可濟矣。\n",
      "缶蓬瓜賓，愉不酒止。\n",
      "\n",
      "《文王之什・瑣之》\n",
      "遂羊在歌，猶此爰陾！\n",
      "族月之集，尨之萇罍；偕邁之叫。\n",
      "秩峨羊成，高言木雨。兄車伐騤，九彼奔受。\n",
      "飢伊而邦。\n",
      "芣終不王，耿弄晛被。\n",
      "謀蠻左王，瞻食朝腓。\n",
      "遐三盈矣，捷恐萋福；\n",
      "交田旄月，饛王信鮪。\n",
      "剝父王寡，天天父之，庚\n",
      "----\n",
      "Running Avg Loss:5.362473275661468 at iter: 1301\n",
      "----\n",
      "檻呶。\n",
      "\n",
      "侯觀在行，執之牖荷。\n",
      "夜處籩百，萬生施乘。\n",
      "龍牖朋不什，爾醉車逝女。\n",
      "【捄有杞，亦德不仲！\n",
      "特嘒以槃，施夜氏括。\n",
      "於厥冽王，儺我謔斗，樂烈四毗，丘之居祺，以德戲茨。\n",
      "以藟。庸陟耳我。吉之重麗，君子既什裳風。\n",
      "顒者維瞏，文其有詢泉，四心在池。\n",
      "卷姻凡民，維其征央。會南玉至，熠交。\n",
      "天有劉\n",
      "瑟酒汝和？\n",
      "拜相》\n",
      "芃鴦如年，栩求在飢，《言華言：什・四歌》\n",
      "錦痒求悔江。\n",
      "大燔爾束，秀是綠占。\n",
      "維如\n",
      "----\n",
      "Running Avg Loss:5.243309981822968 at iter: 1401\n",
      "----\n",
      "或緄躬，以矢立蘀。\n",
      "憂之道遠，考寒殽織。\n",
      "文王江巢，以祿之笑。爾睆念女，以各維疆。\n",
      "庶既遐心，直民之子，新容牙牙。民我之生，八速用麕。彤慎昊酒，脅板脂興內，不皮爲喬。不猶大稷。\n",
      "提蠨彼采宮，善弗爲俴。謀生小衣，無郊小亦。不略既屆，戲寔予仁。\n",
      "辟不蓼臧，告見式宮。不弗維戊，靡以威處。不白孔共，于牡威子。彼此京相，有莫從梧。\n",
      "娛曰求而，啄慎朝輸。\n",
      "文逝不於，會自不負，遠施度明。民首婦行，風慉訧穡。雱聖\n",
      "----\n",
      "Running Avg Loss:5.314744546413421 at iter: 1501\n",
      "----\n",
      "，棘如邪父。豈女止荒，以右思屬，胡及絺邁。堵盼爾王，鞫之先思，仕方天不矣。癙邦忒解，既荍維鴞。\n",
      "國佗行怒，作是聿能。寢來徹肇鞫之扤。\n",
      "自《四方，爲之轉韡。君子時琫，堵隤否禦！\n",
      "維瘏匪剛，亦于不予，邁見不阜，面葵之唪，喪王楰淵。瞻庭匪腓，公可自德。殘；取詵，可寢敦，取來藍塈，道有忍甫。騶帝畀伾，予邦不侮矣。聽之來歸，夫所天子。\n",
      "\n",
      "《奕之什・詢鳧》\n",
      "受之無桋，載之信里。牡亦華行，麀洽姓極。伐天之馬，求\n",
      "----\n",
      "Running Avg Loss:5.004442481994629 at iter: 1601\n",
      "----\n",
      "以其維夜。\n",
      "於十帝命，疆亦有濈。薄明及伐多信。豈畝如樛，人作其葭。\n",
      "上帝有羊，刑家不蛇。民祖矣菜。絕駪命，說且。\n",
      "曰兮于女，於集其柘。\n",
      "\n",
      "《閔予》\n",
      "誰離用玼，遙如几茅。\n",
      "\n",
      "《慰彼鼓。\n",
      "發彼死，亦有蕭，如止公雪。我琫斯辟，，肅之比，或漣及順。\n",
      "維菽嗟枚，謂黃鍾爾。媚涼武。\n",
      "定酌爲，如失保之，征其遺，求直鴇止，萬煽來肆。發有屬，言高有京。\n",
      "匪尚有望，予鞅逵夙谷。荓溉斯止。介用大縣，維阜，明，家。無考兮\n",
      "----\n",
      "Running Avg Loss:5.186083471775055 at iter: 1701\n",
      "----\n",
      "懌，坎民不莠，維周國父教，不罝爾之，其孫子子，實人其憂。思王我素，願騁于在沼，莫是我時，時代之蓁。\n",
      "公懷濟繩，有弁抱嘽，有倬彼建，？宜命有鴇，提私，在騵于敕。\n",
      "宿刈園樂，設伯之父，維彼之人。\n",
      "\n",
      "《彼流》\n",
      "豜之球，朝事止哉，甘女如傷，于孫其度。受方之德，是實是服，我之有狃，不伐是陳。\n",
      "之命聘陽，武爾在伊，以俾有嶽，舍侯于寐，獸公以馬，其薄有非，于向斯矣，麌，有楊于及。\n",
      "棠命是思，以梅有時，亦\n",
      "是從，\n",
      "----\n",
      "Running Avg Loss:4.529754610061645 at iter: 1801\n",
      "----\n",
      "窕則德，維自之詒，東之無爲，不述谷風，不摻于釣浪，匍非乎凱揚，潰據我士矣，在敖良子，我歸風・厲木》\n",
      "俟以雙售，育斯毖谷，三彼憂行，上風原攜，其臨刈瑰，不深如驕，于彼猗之。\n",
      "瀟訟是雝，或聖不畿，如不摽予，死楚有陶。\n",
      "\n",
      "《邶風・終邶弟匏》\n",
      "\n",
      "《靁風・屆風》\n",
      "桑爾黃風，恭風有虞，心立棘，無鳥無嚏。\n",
      "\n",
      "《邶風・林風者齊我母晳華，速心漢德，乎飛友風，實慄爲紕，馬覆良國，莫我其指，政周不相，自乎厎\n",
      "鍾女勞處，\n",
      "----\n",
      "Running Avg Loss:4.626585114002228 at iter: 1901\n",
      "----\n",
      "，送也子雨。\n",
      "\n",
      "不葑俁矣，羣敝嘉桐。\n",
      "謂有乘行，貽粲與腹，彼較兮，冓旁雲。\n",
      "德彼淇沃，厭，報下，四我展柔。\n",
      "\n",
      "不隱匪榛，葛月貿星。星享君子，何不何葉。\n",
      "無盧則菲，來鳴桑慝。\n",
      "旋蝀我愛。音貽天蚩，盈淑我民。\n",
      "\n",
      "\n",
      "《生風・耽行》\n",
      "我之至角，貽所東蝤。\n",
      "古驅流雪。子之懰公，髮有琢，轉赫爾令。庶弟者矣，食之難！\n",
      "奔晧麥友，未河孑獻謫淵。\n",
      "\n",
      "《【風・詳季》\n",
      "\n",
      "\n",
      "《鄘風・國左》\n",
      "定觿泣組，勉勞風野爾矢。言。允\n",
      "----\n",
      "Running Avg Loss:4.483985981941223 at iter: 2001\n",
      "----\n",
      "我美，邦以遇凶。\n",
      "南之脅兮兮，載耜爾鄭。\n",
      "彼緜衣兮，以艱曷鴈，蒼言稼高，允域岵四手，我浼車魴，言子思爾，有或始異，孝樂寤旄，我無歗，摧彼之館之，野，婦于車士，其埽其孑，以不藪且；叔於復飛，摻摻蒼兮，勞子且若，胡洋有塒，我辟子之，不虎揥淑。\n",
      "\n",
      "《鄭風・\n",
      "\n",
      "揚有路》\n",
      "維子之伊兮，朝彼諸蒙，豈是是濡，謂人冓食，\n",
      "飢夜山兮，敦友慎，兕崇縱馬，士之內兮，。靡好如房，彼留子之王，誰瓊軍麃，寧彼驂子之，式嚴又無\n",
      "----\n",
      "Running Avg Loss:4.377453472614288 at iter: 2101\n",
      "----\n",
      "之脅桀，采謂以且。\n",
      "難我雄東兮，如彼庸矣，尚我清濟，方獫庸騏，不其兄弟，抑子遑兮！上寘歲鳥，如入有又薨無聰我子之人，載佻素升，\n",
      "彊之人兮，美爲穴，六是云兄。\n",
      "《魏風・宛棘》\n",
      "素蟋矣，合之一峱昌美采來盈首，言之淵之貽。\n",
      "君子之來兮。\n",
      "慎揚有翔兮，成民采田，彼頏之歌。雞巷人英，適乎具餐矣其亦亦鳩貧。先心其從。永誰百魴兮。衡制不市葉，齊之餐矣兮。\n",
      "雨芄發兮，瞻溫之晞。兮則安道，雝庶匪詳，食不士兮。巧車之\n",
      "----\n",
      "Running Avg Loss:4.3237646555900575 at iter: 2201\n",
      "----\n",
      "之。\n",
      "齊有笱同暴，曰我無甘。\n",
      "交此捋東，鸞乎在楚，誰不胡哉，倩而》\n",
      "揚其寤庭，職心傷五，大君子昏咥！\n",
      "緜此甲害，今我後壽，宛有君子之遠止鼓畢人矢有贈。\n",
      "\n",
      "《小風・大風》\n",
      "維彼《鳥風子美孫》\n",
      "緜謂之無能，未以卒椒，維以其鼓，猗曰牛居？彼適之孌，終魚裘衣。\n",
      "渴棣渭晞，莫我在雝？鐘采史禦。\n",
      "奄衣極酒，維來采處，薄其及勞，舍！其古女，盧謂與思。\n",
      "有門其什・又衣》\n",
      "\n",
      "\n",
      "《即風・葛馬》\n",
      "謂湑遷人，夙其稱我，甘\n",
      "----\n",
      "Running Avg Loss:4.396943171024322 at iter: 2301\n",
      "----\n",
      "我歸。\n",
      "潰葛水谷，象天之弗，民彼剝銶？遠斧于言，斧歸用國，歸耳則兮。\n",
      "鷊動在一，不雨不亡。七馬四飛，魯\n",
      "之弟？今弟之美，子賓來鹿。\n",
      "翛之充什・車嗣之伊榛，召女其絲。之何斯，九嘆土言，駪庭周南，搖蕭于門。是豆有戈，梁靡天。\n",
      "我孫載兵，載尸皇慎，四自之子，倒之華也。\n",
      "九嘉是趯，是呦無口，訊靡之子，我鼓之擣兮。\n",
      "士敢羆葵，既袞是年。我斧不塞，馬王亨是音。\n",
      "猶鼓百嵬之，方左之兮。\n",
      "丰游詩終，凶晢窒，伊得罍\n",
      "----\n",
      "Running Avg Loss:4.104127056598664 at iter: 2401\n",
      "----\n",
      "流鳴矣，公有日賓。湑有蟋酒，奄君則妻。\n",
      "\n",
      "《彤弓之功兮，維彼允將，民我浚不容，文之門之所，寘不茨，室之壽王于狐。偕南山之之，在只君子，鼓湛各哲驅振飢旨桑，可以橐夜。\n",
      "翩物者稷，永驪不期。薁扶菁楊，今伐甚多。田戎蓼寘，有革瞻王，侯夫覯止，零山此設，取生單褧，復弓麌道，考哉燕夷。\n",
      "有鸞脩華，六沃傷燕。\n",
      "不菹年柯，白茅流蓼。\n",
      "伐明爰翔，有車伐侯。\n",
      "僚只遡矣，彼心孔舟，禾安于，織取懷以，玉無尚。\n",
      "有彤弨莪\n",
      "----\n",
      "Running Avg Loss:4.458376729488373 at iter: 2501\n",
      "----\n",
      "女鼠言久實天秉寫土阪》\n",
      "肅彼楊膏，煌迷徒沼。既宗不人，上年匪相。曰有交山，徹予敢忒。\n",
      "迭人遑醻，碩可其祉。奏孫維門，既天無革。不帝來實，日知載來。兩采翩玉，耳我其酢。赫介未東，顯淑以戎。\n",
      "鼠爲哀矣，自寧作威，無祿無憂。\n",
      "蓼此籩依，畜也如呶。\n",
      "《祈人之什・析泉》\n",
      "吹晦斯羆，果局哀除。\n",
      "檀生上昊，六悲我心。\n",
      "東言多狁，天言不疐。\n",
      "二之予牛，淑人載師。君不徒梓，騶搖之故！\n",
      "\n",
      "《祈父之什・筐士》\n",
      "駕彼下民\n",
      "----\n",
      "Running Avg Loss:4.491104974746704 at iter: 2601\n",
      "----\n",
      "民，亂爾後安。豈無我人，飲伯之得，我日來者，懷我匪勝！召言上天，晞我恐穀。\n",
      "高人還人，亦于既鳴；胡不人行，其安乃草。\n",
      "爾肯翼人，如皎上歎，今兮無慇，今他食草。楀曾爲翹，邦此爾先。維邇人斯，胡不韔餞？脊戎易城；望者各予？飧我孔矢。舍彼大人，哀誰之寧。彼氏冰干，山敬或浪，誰慎長慮，秉出來德，握聞不東。胡不人其人，弗獨麌茲；亂彼卒莪，一祿無氏。爾謀既藻，如誰不臧。\n",
      "玁壺爾生，饉此芬難！及習岸之師如于爾籍\n",
      "----\n",
      "Running Avg Loss:4.343883154392242 at iter: 2701\n",
      "----\n",
      "之，皇彼崒畝。\n",
      "孫我徒音，昔悠眉喜。\n",
      "我有蘊載，其土其裕。無古我譖，或錫永景，或厥是粱。是止之食，若此具里。豈我復穀，謔往伐血。\n",
      "嗟彼有同，荊疆此明。\n",
      "愚人木援，往祇明具。無是定祀，曾介時歸。以車其祖，以享是仰。羣興弗牛，曾孫允喜。\n",
      "\n",
      "習匊鼓，渝喪師？，在儀吹穡。敖弟君子，如羝鮮兮。無南武人，以于又席，寧畀逑祉，福胥爾受！\n",
      "哲彼芃青，憖，四牡庚洛，巷以嘉常。豈不懷歸！薄之無疆。既赫菽蔽，如隼其兄。\n",
      "----\n",
      "Running Avg Loss:4.088064193725586 at iter: 2801\n",
      "----\n",
      "。焉彼頓矣，自我茁服。\n",
      "彼彼風兮，能蘀不稂。無予我怒，見彼究潛。雖只君子，欲肯。遠哉其沮，忒道成兮，匪車百云，曷潛清行。\n",
      "嗟馬束薪，駟罍之釜。我能既哉，予有酒自只慎實爵，小我維首。\n",
      "天言載阿，匪其旟也；雖之利之，享在兩奧。\n",
      "《都人士之什・辟何盛》夜伯侑，淮葉在沐。\n",
      "嵬伐思藍，湯子是難。踧芃棠之，芣後其行。\n",
      "祝鳥在梁，有仕在極。其于朝何，有爾既極，憂矣國之！坐只君子，遷于見兮。\n",
      "君子者樂，怙俎諸衣！\n",
      "----\n",
      "Running Avg Loss:4.368632755279541 at iter: 2901\n",
      "----\n",
      "猶，忱右攸屬。\n",
      "缺喪文王，威薪旐。豈弟君子，其祿之光。\n",
      "帝文文王，覃心忡傷。或胥爲右，匪然攸右。囂退駕，孝之麀矣。豈弟君子，克保載之。思以垂盟，六禹夸內。\n",
      "赫赫文王，有聞之讎，以艾如瞍。君子于附，在修我甥；景車匹純，行維與忍。\n",
      "四方台茀；左霜有涘。民不平回，或笠厥庾，王之烝矣，何予不備，卬赫既扈。芬帝伯休，或程！\n",
      "我方入耗，百視克嘗；哀厥瑤蟄。遐不無難，其月隕力，百德于天。爾菽涇止，維之下公。\n",
      "夏\n",
      "----\n",
      "Running Avg Loss:4.330690979957581 at iter: 3001\n",
      "----\n",
      "什・有冽》\n",
      "尚爾坐虐，俾民聿厚。\n",
      "自彼田聊，白飢旆頹。\n",
      "曾儀維奔，率其尹怓。是遏弗敗，福祿革事。豈弟君子，俾民說。\n",
      "式考詭虐，以民讒琴。君子有酒，中牆。民。君子于實？俾民憂矣。兩予構秠，作俾出揚。於辟于天，塈于浮莫。蘋降洋士，舍俾且驕。豈弟君子，厥監我爲。\n",
      "誕涇勿虐，無俾及憲。\n",
      "無雌旨隨，于誰南溱。》\n",
      "虎雝虐隨，在于拔。。十野寇虐，受君不栵。\n",
      "肅曰師隨，以謹徂扡。\n",
      "泂依\n",
      "奠渴，築言沐踐。四聞哲子，\n",
      "----\n",
      "Running Avg Loss:4.342768187522888 at iter: 3101\n",
      "----\n",
      "人，孑類率翰，以胥無參。\n",
      "溫害不假，保猶辟！\n",
      "瞻彼僭伯，聿矛陳雷。維民之功，俾國休王。王外兢極，申伯維北。民之中伯，大求俾伯，我聞于惙。大車申伯，上帝于京。民國苞恭，或申伯之懌；忘伯申伯，清士及難。王洸既申，神伯發女。式不能遹，猗荼八虎。\n",
      "柏伯謝祉，衍用中僾。\n",
      "於競還伯：淮彼牖王，昊天威儀，以人于京。\n",
      "鷹爾亞伯，磨膺見孺。\n",
      "共圭與伯，未集于惕。\n",
      "匪生既生，維集于訊。王命申伯：覆傅有羽。民之王伯，亦\n",
      "----\n",
      "Running Avg Loss:4.327437379360199 at iter: 3201\n",
      "----\n",
      "王孫又廟，實庭牛水，胡，職方事瘏。\n",
      "麌明藇蔑樅，我錫戲瞽，恭彼昭卬，南共既樂，恫民土之。\n",
      "文王曰咨，穟競于天。\n",
      "薇文原廣，維爵之功。》\n",
      "蕭漢在德，四方大網。\n",
      "\n",
      "《清廟之什・率事》\n",
      "舒顯天士，侮泉袺得。居暑還之里，縶有之營，胡王如順。\n",
      "天羽皇慶，築壽櫜命，忍不回虞。\n",
      "山有淮注，寧反其商，素疧，清提孔蹻，民乎婦之。\n",
      "\n",
      "《清廟之什・殷商》\n",
      "小肅南明，公公中命，逸刑既設，匪求維滔，誰入如依爾，不知爾憂，言\n",
      "----\n",
      "Running Avg Loss:4.2728274536132815 at iter: 3301\n",
      "----\n",
      "君子，自見大邦，丘零大皇，四方克公。淑亂于業，在鵲侯兌，播厥樂旟。知我孝儀，・上大？\n",
      "允！于公降皇酒女，田孫之虞。在公覯癉，至于夭周，有輾皇閔，以奏是霂，君子八猷。邦惠是皇，繩無歲。魯繩川漢。輈昭其泮，應顧于祀，怒我哉止，俾穆上土。薄陟文武，允父百易，時餞之慶。于疆不祀，受文爲柔。\n",
      "畟雝東牡，文祖不吳，自享其諗。\n",
      "茲只百聲，陟彼公周，旱后大天之百赫。卷無孫之，鼓靷蹻商。磬掇歸亡，亦孔之祖。\n",
      "顏侯立\n",
      "----\n",
      "Running Avg Loss:4.109383821487427 at iter: 3401\n",
      "----\n",
      "極不而桃。\n",
      "藘振采僮遵之之芣苢公悲》\n",
      "君子維羽，夙夜于忡藍棠，其苢有僮嗟逝顧岡于麟，墳葉召思。在其憂矣，維城閔兮。\n",
      "還南轉螽螽維桃之。右僮釜趾，鰷僮宗濱。界召之棠，于月召墳，武召麟多馬于祁陽兮。天子椓拜，以浥之湘。\n",
      "殷召召蘩，薄采殷僮縢薨》\n",
      "蓁有蘋盛采于麟》\n",
      "采墳麟罝楚之》\n",
      "召言召棠，伐蕡侯筥，江僮趾棠。\n",
      "趯而飛棠》\n",
      "奄之桑觥，息襭蘩沚，百露寔澗，于伐于堂，汝蔽祁鼓錡之東浮見以蛾赬葦筥，以苓既忡》\n",
      "----\n",
      "Running Avg Loss:4.052237648963928 at iter: 3501\n",
      "----\n",
      "求否也，餞有節兮，政勉卒菲。\n",
      "俁孫桑兮，胡爲有徧俁我兄弟，湝風沚宜，百薪是蕑！\n",
      "江之日，鳥中肄也，迨予黃而，力，用日思可埤遂秉東柏，使彼與女，予彭見處。\n",
      "常風哉赭，不我勞姊。\n",
      "月躬幩倌，反匐匪中寐兮，籩土其邪。\n",
      "\n",
      "《斗風・匪恐》\n",
      "愬車且紵，與深之懌孌，云言其靁，上德之子，胡匐爲庸。\n",
      "\n",
      "《邶風・谷焉》\n",
      "頎乎條北，何土其將，日其思，北子無臧，不怨不我，政矣自躕。\n",
      "\n",
      "《邶風・還車》\n",
      "龍鳥父母，可能揭我育\n",
      "----\n",
      "Running Avg Loss:3.9706619238853453 at iter: 3601\n",
      "----\n",
      "揚，在淇之子，女子之子。夙行知人，不丘也縫。\n",
      "有牡是軌，中心褧訏，曾于異以，憇如無與。\n",
      "干衛水兮，靜子心帶，瑟無致兮！\n",
      "說于衛水，反望之穡兮，不我漣揚。執得之多，？我從兮。\n",
      "\n",
      "《下風・靜女》\n",
      "秋以裳棲，醜之周兮，夙夜爾美，予之懷之。\n",
      "\n",
      "《衛風・清人》\n",
      "備載兮，大命爰役，曰有坐搖，宴爾良釣。匪視夫爾，鞫既來行，蒼水乃痗兮，至之之私。\n",
      "我頍在阿，在在匪行，飲也且怨，淇報曾兮，\n",
      "洸母爲喪，田夜楫慰。\n",
      "\n",
      "\n",
      "----\n",
      "Running Avg Loss:3.6361433732509614 at iter: 3701\n",
      "----\n",
      "子偕咥，瞻彼流裳，在彼青墠，幩見束旌，？我裳干兮。\n",
      "乃齊之故，於則不揚，我予他人，子予不來，不見則期，彼美孟翔，趾曰他人兮。未從言寤，伐入兄弟，叔如狡褧，仲兮《棘，何黃總兮，勞人？膠倉所哉！不見君子，有蟄則他，股予羽子兮，如兮佩兮，狂予且行，不醉不也，叔我故兮，扶畏如蔓，彼美之罹，河之其倉，射我人兮，童子有矣，彼螓齊衡，漕馬之皎，雜其如棘，上譙其蓍，有折鳴狡麥，日嘆以屨，【宋之子，彼之將兮，師無傷\n",
      "----\n",
      "Running Avg Loss:3.7327731919288634 at iter: 3801\n",
      "----\n",
      "此萬之攸之；駕曰碩人，充有死檀，簟牡惕瓜，而不卜保止，駕予如苗，彼其茹之，女曰弗聲，既食我行。報我其憂，中則如英，桑其者，吉誰父母之生之子，莠采縣豹，宛方蓺天，其莫不樂。心之憂矣，邶以爲康。\n",
      "羔裘閟矣，猗旃且夕，彼烈且女，齊子之故。\n",
      "睍枌在堂，脅緎有土，不憚我矣，言哉是偃，瞻聊有女，有轡谷雲，三焉之愒。\n",
      "脂聊在昌，芮雨萋牀，衣錦宛水，桑至于涘，胡穡何日？\n",
      "唐焉。然乎于室，曷又以其雨，椒美且雲。\n",
      "女\n",
      "----\n",
      "Running Avg Loss:3.4787161207199095 at iter: 3901\n",
      "----\n",
      "。\n",
      "齊子素哉兮亡適無濔我心藏兮！\n",
      "坎有東魚之雀兮，斧其身兮，瞻彼驒風，職思不知，亦于懰之，石蘭爲兮。\n",
      "\n",
      "《鄘風・東門之陂》\n",
      "雞裘鷺》\n",
      "隰有欽楚，有松衣忉：美藘人盈？君子百兩適人夕逅。\n",
      "\n",
      "《鴦風・采羽》\n",
      "蟋苓在風，伊以如尾，不侜也已言也也。\n",
      "觱場之陂，不蒲之東，于皎悲兮，日水載沃。\n",
      "東門有梅，誰蒲不瑕，匪兵聊，不與子載娑。\n",
      "英陽之陂，無冬之枝，不羊蒲馬，茀丘之萏，造以盈忉。\n",
      "兕門之林，有紹有蘞，君子\n",
      "----\n",
      "Running Avg Loss:3.7236050581932068 at iter: 4001\n",
      "----\n",
      "我甓矣居溫。\n",
      "\n",
      "《鹿鳴之什・德陽》\n",
      "烝彼上言，庭木咨諗。\n",
      "鼓梓丁，每無然？鼈既致言，永束斯續。飾孫惠鵻，乃況也遒。惠之飲于音。穹樂且聲！\n",
      "彼澤者子，寧不姜違。載將載驅，杻帑墐矣！狂騑有酒，何顛來二，久征靡盬。王事靡盬，以或卒止。壽于脊矣。謂我維此，佼人無已。于野不且？袪生在曰，邛孫之墳。方昏舊夫，六轡有濡。謂爾多矣！\n",
      "鼓昭蒹矣，鴟惴用視。握有牖父，及我安乎，宛丘之止。\n",
      "既攸我者，琴及鳴矣。宜之懷矣\n",
      "----\n",
      "Running Avg Loss:3.3489568078517915 at iter: 4101\n",
      "----\n",
      "牛之，和不有止。赫赫允原，鳩方之醜。\n",
      "愆車于厭，十池四囂。載驛有柏，邦攻之禱。\n",
      "湛侯既平，永祁不朝。\n",
      "杕上其杜，至于兕沚，伐苕之泉，維彼黃鳥，于彼淵淵。會有傭既軍。\n",
      "南山有楊，魯道好騏，豈彼無常。\n",
      "四山有遙，須不我馬；山有旌，閑魴麌矢。民之怛夜，既然我泌。授其具已，有聞無悠。\n",
      "甘舍在塗，我心忡稂。\n",
      "陟彼中鳥，在彼中陵，亦車方膺。饁此君子，口之良：言夜在隼，有路駽成。周車黃馬，朱灼自薪，其杲淺浼，貽\n",
      "----\n",
      "Running Avg Loss:3.815797326564789 at iter: 4201\n",
      "----\n",
      "庖其，歲予在道。\n",
      "飛鳥天氏，炰出今之父。宰均有酒，胡安。\n",
      "今月靡場，爲怒獨芋。民心憂慇，征斯獨止。\n",
      "職彼碩人，維儀傷傷？今此不秩瘥朝。老夫無宰，不莫我慘姑諒王京囂攸；時不克耇。哀哀我遙，往棸膳慇，昊天是皇，聿蓋定；執蒿自滅，百堵爾茂。\n",
      "篤皇克，有騁有穫，是封有穀。君子食之，扡牲之脊；除爾用皇，相彼周傭。\n",
      "憂心他師，于寶。生炎之膺毗，憂心慘惸屋？淪有孔行。\n",
      "兄弟滺言，其非莫極！\n",
      "所蛇卜父，顯尸無衣。\n"
     ]
    }
   ],
   "source": [
    "all_losses = []\n",
    "print_every = 100\n",
    "for epoch in range(100):    \n",
    "    for batch in get_batch(X_train, y_train, seq_length):\n",
    "        X_batch, y_batch = batch\n",
    "        _, batch_loss = train(X_batch, y_batch)\n",
    "        all_losses.append(batch_loss.item())\n",
    "        if len(all_losses)%print_every==1:\n",
    "            print(f'----\\nRunning Avg Loss:{np.mean(all_losses[-print_every:])} at iter: {len(all_losses)}\\n----')\n",
    "            writer.add_scalar('loss', np.mean(all_losses[-100:]), len(all_losses))\n",
    "            print(sample_chars(X_batch[0], rnn.initHidden(), 200))"
   ]
  },
  {
   "cell_type": "code",
   "execution_count": null,
   "metadata": {},
   "outputs": [],
   "source": []
  },
  {
   "cell_type": "code",
   "execution_count": null,
   "metadata": {},
   "outputs": [],
   "source": []
  },
  {
   "cell_type": "code",
   "execution_count": null,
   "metadata": {},
   "outputs": [],
   "source": []
  },
  {
   "cell_type": "code",
   "execution_count": null,
   "metadata": {},
   "outputs": [],
   "source": [
    "all_losses = []\n",
    "for epoch in range(100):    \n",
    "    for batch in get_batch(X_train, y_train, seq_length):\n",
    "        X_batch, y_batch = batch\n",
    "        h_prev = rnn.initHidden()\n",
    "        y_score, h_prev = rnn(X_batch.view(seq_length,1,-1), h_prev)\n",
    "        loss = loss_fn(y_score.view(1,-1), y_batch[-1].view(1))\n",
    "        optimizer.zero_grad() \n",
    "        loss.backward()\n",
    "        for p in rnn.parameters():\n",
    "            p.grad = torch.clamp(p.grad, -5,5)\n",
    "        optimizer.step()\n",
    "        all_losses.append(loss.item())\n",
    "        if len(all_losses)%100==0:\n",
    "            print(f'----\\nRunning Avg Loss:{np.mean(all_losses[-100:])} at iter: {len(all_losses)}\\n----')\n",
    "            writer.add_scalar('loss', np.mean(all_losses[-100:]), len(all_losses))\n",
    "            print(sample_chars(X_batch, h_prev, 100))"
   ]
  },
  {
   "cell_type": "code",
   "execution_count": null,
   "metadata": {},
   "outputs": [],
   "source": []
  }
 ],
 "metadata": {
  "kernelspec": {
   "display_name": "Python 3",
   "language": "python",
   "name": "python3"
  },
  "language_info": {
   "codemirror_mode": {
    "name": "ipython",
    "version": 3
   },
   "file_extension": ".py",
   "mimetype": "text/x-python",
   "name": "python",
   "nbconvert_exporter": "python",
   "pygments_lexer": "ipython3",
   "version": "3.6.4"
  }
 },
 "nbformat": 4,
 "nbformat_minor": 2
}
