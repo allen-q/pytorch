{
 "cells": [
  {
   "cell_type": "code",
   "execution_count": 4,
   "metadata": {},
   "outputs": [],
   "source": [
    "import torch\n",
    "import torch.nn as nn\n",
    "import matplotlib.pyplot as plt\n",
    "import numpy as np\n",
    "% matplotlib inline"
   ]
  },
  {
   "cell_type": "code",
   "execution_count": 8,
   "metadata": {},
   "outputs": [],
   "source": [
    "X_train = np.linspace(0,30.,500)\n",
    "#y_train = x*np.sin(x) + 2*np.sin(5*x)\n",
    "y_train = np.sin(X_train)"
   ]
  },
  {
   "cell_type": "code",
   "execution_count": 9,
   "metadata": {},
   "outputs": [
    {
     "data": {
      "text/plain": [
       "[<matplotlib.lines.Line2D at 0x1bd9f278>]"
      ]
     },
     "execution_count": 9,
     "metadata": {},
     "output_type": "execute_result"
    },
    {
     "data": {
      "image/png": "[encoded data removed]",
      "text/plain": [
       "<matplotlib.figure.Figure at 0x48ba748>"
      ]
     },
     "metadata": {},
     "output_type": "display_data"
    }
   ],
   "source": [
    "plt.plot(X_train, y_train)"
   ]
  },
  {
   "cell_type": "code",
   "execution_count": 30,
   "metadata": {},
   "outputs": [],
   "source": [
    "def create_batched_sequence(X_train, y_train, seq_length):\n",
    "    '''Return a training batch with certain number of X and y pairs.'''\n",
    "    x_batch_seq = []\n",
    "    y_batch_seq = []\n",
    "    \n",
    "    for i in range(0, len(y_train)-seq_length):\n",
    "        x_batch_seq.append(X_train[i:i+seq_length])\n",
    "        y_batch_seq.append(y_train[i+seq_length-1])\n",
    "        #yield([X_train[i:i+seq_length], y_train[i+seq_length-1]])\n",
    "    return (x_batch_seq, y_batch_seq)"
   ]
  },
  {
   "cell_type": "code",
   "execution_count": 31,
   "metadata": {},
   "outputs": [],
   "source": [
    "def get_batch(X_train, y_train, seq_length, batch_size):\n",
    "    '''Return a training batch with certain number of X and y pairs.'''\n",
    "    x_batch_seq, y_batch_seq = create_batched_sequence(X_train, y_train, seq_length)\n",
    "\n",
    "    for i in range(0, len(y_batch_seq), batch_size):   \n",
    "        id_stop = i+batch_size if i+batch_size < len(y_batch_seq) else len(y_batch_seq)\n",
    "        yield(torch.from_numpy(np.r_[x_batch_seq[i:id_stop]]).float(), torch.from_numpy(np.r_[y_train[i:id_stop]]).float())"
   ]
  },
  {
   "cell_type": "code",
   "execution_count": 34,
   "metadata": {},
   "outputs": [],
   "source": [
    "b1 = list(get_batch(X_train, y_train, seq_length, batch_size))[0]"
   ]
  },
  {
   "cell_type": "code",
   "execution_count": 78,
   "metadata": {},
   "outputs": [],
   "source": [
    "class nn_LSTM(nn.Module):\n",
    "    def __init__(self, input_size, seq_length, batch_size, hidden_size, output_size):\n",
    "        super().__init__()\n",
    "        self.hidden_size = hidden_size\n",
    "        self.batch_size = batch_size\n",
    "        self.lstm = nn.LSTM(input_size, hidden_size)\n",
    "        self.out = nn.Linear(hidden_size, output_size)\n",
    "        \n",
    "    def forward(self, X, hidden):\n",
    "        _, hidden = self.lstm(X, hidden)\n",
    "        output = self.out(hidden[0])\n",
    "        return output, hidden\n",
    "    \n",
    "    def initHidden(self):\n",
    "        return (torch.zeros(1, self.batch_size, self.hidden_size),\n",
    "                torch.zeros(1, self.batch_size, self.hidden_size)\n",
    "               )"
   ]
  },
  {
   "cell_type": "code",
   "execution_count": 79,
   "metadata": {},
   "outputs": [
    {
     "data": {
      "text/plain": [
       "1"
      ]
     },
     "execution_count": 79,
     "metadata": {},
     "output_type": "execute_result"
    }
   ],
   "source": [
    "input_size"
   ]
  },
  {
   "cell_type": "code",
   "execution_count": 80,
   "metadata": {},
   "outputs": [],
   "source": [
    "batch_size = 10\n",
    "hidden_size = 128\n",
    "seq_length = 100\n",
    "input_size = 1\n",
    "output_size = 1"
   ]
  },
  {
   "cell_type": "code",
   "execution_count": 81,
   "metadata": {},
   "outputs": [],
   "source": [
    "rnn = nn_LSTM(input_size, seq_length, batch_size, hidden_size, output_size)"
   ]
  },
  {
   "cell_type": "code",
   "execution_count": 82,
   "metadata": {},
   "outputs": [
    {
     "data": {
      "text/plain": [
       "nn_LSTM(\n",
       "  (lstm): LSTM(1, 128)\n",
       "  (out): Linear(in_features=128, out_features=1, bias=True)\n",
       ")"
      ]
     },
     "execution_count": 82,
     "metadata": {},
     "output_type": "execute_result"
    }
   ],
   "source": [
    "rnn"
   ]
  },
  {
   "cell_type": "code",
   "execution_count": 83,
   "metadata": {},
   "outputs": [],
   "source": [
    "loss_fn = nn.MSELoss()"
   ]
  },
  {
   "cell_type": "code",
   "execution_count": 84,
   "metadata": {},
   "outputs": [],
   "source": [
    "optimizer  = torch.optim.Adam(rnn.parameters(), lr=0.0001)"
   ]
  },
  {
   "cell_type": "code",
   "execution_count": 85,
   "metadata": {},
   "outputs": [],
   "source": [
    "X_batch, y_batch = b1"
   ]
  },
  {
   "cell_type": "code",
   "execution_count": 86,
   "metadata": {},
   "outputs": [],
   "source": [
    "    h_prev = rnn.initHidden()\n",
    "    optimizer.zero_grad()\n",
    "    batch_loss = torch.tensor(0, dtype=torch.float)"
   ]
  },
  {
   "cell_type": "code",
   "execution_count": 87,
   "metadata": {},
   "outputs": [
    {
     "data": {
      "text/plain": [
       "torch.Size([1, 10, 128])"
      ]
     },
     "execution_count": 87,
     "metadata": {},
     "output_type": "execute_result"
    }
   ],
   "source": [
    "h_prev[1].shape"
   ]
  },
  {
   "cell_type": "code",
   "execution_count": 88,
   "metadata": {},
   "outputs": [
    {
     "data": {
      "text/plain": [
       "torch.Size([100, 10, 1])"
      ]
     },
     "execution_count": 88,
     "metadata": {},
     "output_type": "execute_result"
    }
   ],
   "source": [
    "X_batch.t().unsqueeze(2).shape"
   ]
  },
  {
   "cell_type": "code",
   "execution_count": 106,
   "metadata": {},
   "outputs": [
    {
     "data": {
      "text/plain": [
       "tensor([[-0.2300, -0.1399, -0.0149,  ...,  0.1072,  0.0962,  0.0920],\n",
       "        [-0.2313, -0.1410, -0.0146,  ...,  0.1082,  0.0972,  0.0936],\n",
       "        [-0.2325, -0.1420, -0.0143,  ...,  0.1093,  0.0981,  0.0953],\n",
       "        ...,\n",
       "        [-0.2384, -0.1471, -0.0127,  ...,  0.1145,  0.1027,  0.1038],\n",
       "        [-0.2396, -0.1481, -0.0123,  ...,  0.1155,  0.1036,  0.1055],\n",
       "        [-0.2407, -0.1490, -0.0120,  ...,  0.1166,  0.1046,  0.1072]])"
      ]
     },
     "execution_count": 106,
     "metadata": {},
     "output_type": "execute_result"
    }
   ],
   "source": [
    "rnn.lstm(X_batch.t().unsqueeze(2), h_prev)[0][-1]"
   ]
  },
  {
   "cell_type": "code",
   "execution_count": 104,
   "metadata": {},
   "outputs": [
    {
     "data": {
      "text/plain": [
       "tensor([[[-0.2300, -0.1399, -0.0149,  ...,  0.1072,  0.0962,  0.0920],\n",
       "         [-0.2313, -0.1410, -0.0146,  ...,  0.1082,  0.0972,  0.0936],\n",
       "         [-0.2325, -0.1420, -0.0143,  ...,  0.1093,  0.0981,  0.0953],\n",
       "         ...,\n",
       "         [-0.2384, -0.1471, -0.0127,  ...,  0.1145,  0.1027,  0.1038],\n",
       "         [-0.2396, -0.1481, -0.0123,  ...,  0.1155,  0.1036,  0.1055],\n",
       "         [-0.2407, -0.1490, -0.0120,  ...,  0.1166,  0.1046,  0.1072]]])"
      ]
     },
     "execution_count": 104,
     "metadata": {},
     "output_type": "execute_result"
    }
   ],
   "source": [
    "rnn.lstm(X_batch.t().unsqueeze(2), h_prev)[1][0]"
   ]
  },
  {
   "cell_type": "code",
   "execution_count": 91,
   "metadata": {},
   "outputs": [
    {
     "data": {
      "text/plain": [
       "tensor([[[-0.1235],\n",
       "         [-0.1246],\n",
       "         [-0.1257],\n",
       "         [-0.1268],\n",
       "         [-0.1279],\n",
       "         [-0.1290],\n",
       "         [-0.1302],\n",
       "         [-0.1313],\n",
       "         [-0.1324],\n",
       "         [-0.1335]]])"
      ]
     },
     "execution_count": 91,
     "metadata": {},
     "output_type": "execute_result"
    }
   ],
   "source": [
    "rnn(X_batch.t().unsqueeze(2), h_prev)[0]"
   ]
  },
  {
   "cell_type": "code",
   "execution_count": 48,
   "metadata": {},
   "outputs": [],
   "source": [
    "def train(X_batch, y_batch):\n",
    "    #from boxx import g\n",
    "    \n",
    "    h_prev = rnn.initHidden()\n",
    "    optimizer.zero_grad()\n",
    "    batch_loss = torch.tensor(0, dtype=torch.float)\n",
    "    \n",
    "    for i in range(len(X_batch)):\n",
    "        #y_score, h_prev = rnn(X_batch[i].view(1,1,-1), h_prev)\n",
    "        y_score, h_prev = rnn(X_batch.t().unsqueeze(2), h_prev)\n",
    "        #g()\n",
    "        loss = loss_fn(y_score.view(1,-1), y_batch[i].view(1, -1))\n",
    "        batch_loss += loss\n",
    "    batch_loss.backward()\n",
    "    optimizer.step()\n",
    "\n",
    "    return y_score, batch_loss/len(X_batch)"
   ]
  },
  {
   "cell_type": "code",
   "execution_count": null,
   "metadata": {},
   "outputs": [],
   "source": []
  },
  {
   "cell_type": "code",
   "execution_count": 225,
   "metadata": {},
   "outputs": [
    {
     "name": "stdout",
     "output_type": "stream",
     "text": [
      "----\n",
      "Running Avg Loss:1.827635407447815 at iter: 1\n",
      "----\n",
      "----\n",
      "Running Avg Loss:139.1782182188034 at iter: 1001\n",
      "----\n",
      "----\n",
      "Running Avg Loss:139.33170398877562 at iter: 2001\n",
      "----\n",
      "----\n",
      "Running Avg Loss:140.18913686025144 at iter: 3001\n",
      "----\n",
      "----\n",
      "Running Avg Loss:139.36864910468458 at iter: 4001\n",
      "----\n",
      "----\n",
      "Running Avg Loss:137.66579899325222 at iter: 5001\n",
      "----\n",
      "----\n",
      "Running Avg Loss:137.45919046860934 at iter: 6001\n",
      "----\n"
     ]
    }
   ],
   "source": [
    "all_losses = []\n",
    "print_every = 1000\n",
    "for epoch in range(200):    \n",
    "    for batch in get_batch(X_train, y_train, seq_length, batch_size):\n",
    "        X_batch, y_batch = batch\n",
    "        _, batch_loss = train(X_batch, y_batch)\n",
    "        all_losses.append(batch_loss.item())\n",
    "        if len(all_losses)%print_every==1:\n",
    "            print(f'----\\nRunning Avg Loss:{np.mean(all_losses[-print_every:])} at iter: {len(all_losses)}\\n----')\n",
    "            # log to tensorboard every X iterations. Can be removed if Tensorboard is not installed.\n",
    "            #writer.add_scalar('loss', np.mean(all_losses[-100:]), len(all_losses))\n",
    "            # generate text every X iterations\n",
    "            #print(sample_chars(rnn, X_batch[0], rnn.initHidden(), 200))"
   ]
  },
  {
   "cell_type": "code",
   "execution_count": 231,
   "metadata": {},
   "outputs": [],
   "source": [
    "batches = list(get_batch(X_train, y_train, seq_length, batch_size))"
   ]
  },
  {
   "cell_type": "code",
   "execution_count": 233,
   "metadata": {},
   "outputs": [
    {
     "data": {
      "text/plain": [
       "tensor([[ 0.0000,  0.0601,  0.1202,  0.1804,  0.2405,  0.3006,  0.3607,\n",
       "          0.4208,  0.4810,  0.5411,  0.6012,  0.6613,  0.7214,  0.7816,\n",
       "          0.8417,  0.9018],\n",
       "        [ 0.0601,  0.1202,  0.1804,  0.2405,  0.3006,  0.3607,  0.4208,\n",
       "          0.4810,  0.5411,  0.6012,  0.6613,  0.7214,  0.7816,  0.8417,\n",
       "          0.9018,  0.9619],\n",
       "        [ 0.1202,  0.1804,  0.2405,  0.3006,  0.3607,  0.4208,  0.4810,\n",
       "          0.5411,  0.6012,  0.6613,  0.7214,  0.7816,  0.8417,  0.9018,\n",
       "          0.9619,  1.0220],\n",
       "        [ 0.1804,  0.2405,  0.3006,  0.3607,  0.4208,  0.4810,  0.5411,\n",
       "          0.6012,  0.6613,  0.7214,  0.7816,  0.8417,  0.9018,  0.9619,\n",
       "          1.0220,  1.0822],\n",
       "        [ 0.2405,  0.3006,  0.3607,  0.4208,  0.4810,  0.5411,  0.6012,\n",
       "          0.6613,  0.7214,  0.7816,  0.8417,  0.9018,  0.9619,  1.0220,\n",
       "          1.0822,  1.1423],\n",
       "        [ 0.3006,  0.3607,  0.4208,  0.4810,  0.5411,  0.6012,  0.6613,\n",
       "          0.7214,  0.7816,  0.8417,  0.9018,  0.9619,  1.0220,  1.0822,\n",
       "          1.1423,  1.2024],\n",
       "        [ 0.3607,  0.4208,  0.4810,  0.5411,  0.6012,  0.6613,  0.7214,\n",
       "          0.7816,  0.8417,  0.9018,  0.9619,  1.0220,  1.0822,  1.1423,\n",
       "          1.2024,  1.2625],\n",
       "        [ 0.4208,  0.4810,  0.5411,  0.6012,  0.6613,  0.7214,  0.7816,\n",
       "          0.8417,  0.9018,  0.9619,  1.0220,  1.0822,  1.1423,  1.2024,\n",
       "          1.2625,  1.3226],\n",
       "        [ 0.4810,  0.5411,  0.6012,  0.6613,  0.7214,  0.7816,  0.8417,\n",
       "          0.9018,  0.9619,  1.0220,  1.0822,  1.1423,  1.2024,  1.2625,\n",
       "          1.3226,  1.3828],\n",
       "        [ 0.5411,  0.6012,  0.6613,  0.7214,  0.7816,  0.8417,  0.9018,\n",
       "          0.9619,  1.0220,  1.0822,  1.1423,  1.2024,  1.2625,  1.3226,\n",
       "          1.3828,  1.4429],\n",
       "        [ 0.6012,  0.6613,  0.7214,  0.7816,  0.8417,  0.9018,  0.9619,\n",
       "          1.0220,  1.0822,  1.1423,  1.2024,  1.2625,  1.3226,  1.3828,\n",
       "          1.4429,  1.5030],\n",
       "        [ 0.6613,  0.7214,  0.7816,  0.8417,  0.9018,  0.9619,  1.0220,\n",
       "          1.0822,  1.1423,  1.2024,  1.2625,  1.3226,  1.3828,  1.4429,\n",
       "          1.5030,  1.5631],\n",
       "        [ 0.7214,  0.7816,  0.8417,  0.9018,  0.9619,  1.0220,  1.0822,\n",
       "          1.1423,  1.2024,  1.2625,  1.3226,  1.3828,  1.4429,  1.5030,\n",
       "          1.5631,  1.6232],\n",
       "        [ 0.7816,  0.8417,  0.9018,  0.9619,  1.0220,  1.0822,  1.1423,\n",
       "          1.2024,  1.2625,  1.3226,  1.3828,  1.4429,  1.5030,  1.5631,\n",
       "          1.6232,  1.6834],\n",
       "        [ 0.8417,  0.9018,  0.9619,  1.0220,  1.0822,  1.1423,  1.2024,\n",
       "          1.2625,  1.3226,  1.3828,  1.4429,  1.5030,  1.5631,  1.6232,\n",
       "          1.6834,  1.7435],\n",
       "        [ 0.9018,  0.9619,  1.0220,  1.0822,  1.1423,  1.2024,  1.2625,\n",
       "          1.3226,  1.3828,  1.4429,  1.5030,  1.5631,  1.6232,  1.6834,\n",
       "          1.7435,  1.8036]])"
      ]
     },
     "execution_count": 233,
     "metadata": {},
     "output_type": "execute_result"
    }
   ],
   "source": [
    "batches[0][0]"
   ]
  },
  {
   "cell_type": "code",
   "execution_count": 246,
   "metadata": {},
   "outputs": [
    {
     "data": {
      "text/plain": [
       "tensor([[[-0.2989]]])"
      ]
     },
     "execution_count": 246,
     "metadata": {},
     "output_type": "execute_result"
    }
   ],
   "source": [
    "rnn(batches[2][0][2].view(1,1,-1), rnn.initHidden())[0]"
   ]
  },
  {
   "cell_type": "code",
   "execution_count": 241,
   "metadata": {},
   "outputs": [
    {
     "data": {
      "text/plain": [
       "tensor([ 1.4187,  0.8668,  0.3907,  0.0329, -0.1757, -0.2181, -0.0933,\n",
       "         0.1837,  0.5836,  1.0648,  1.5777,  2.0689,  2.4860,  2.7822,\n",
       "         2.9206,  2.8779])"
      ]
     },
     "execution_count": 241,
     "metadata": {},
     "output_type": "execute_result"
    }
   ],
   "source": [
    "batches[2][1]"
   ]
  },
  {
   "cell_type": "code",
   "execution_count": null,
   "metadata": {},
   "outputs": [],
   "source": []
  }
 ],
 "metadata": {
  "kernelspec": {
   "display_name": "Python 3",
   "language": "python",
   "name": "python3"
  },
  "language_info": {
   "codemirror_mode": {
    "name": "ipython",
    "version": 3
   },
   "file_extension": ".py",
   "mimetype": "text/x-python",
   "name": "python",
   "nbconvert_exporter": "python",
   "pygments_lexer": "ipython3",
   "version": "3.6.2"
  }
 },
 "nbformat": 4,
 "nbformat_minor": 2
}
