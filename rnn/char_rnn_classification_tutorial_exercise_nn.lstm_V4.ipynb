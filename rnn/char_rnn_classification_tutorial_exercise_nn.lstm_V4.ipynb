{
 "cells": [
  {
   "cell_type": "markdown",
   "metadata": {},
   "source": [
    "# Use torch.nn.LSTM module"
   ]
  },
  {
   "cell_type": "code",
   "execution_count": 1,
   "metadata": {},
   "outputs": [],
   "source": [
    "import torch\n",
    "import torch.nn as nn\n",
    "import numpy as np\n",
    "import matplotlib.pyplot as plt\n",
    "from tensorboardX import SummaryWriter\n",
    "import torchvision.models as models\n",
    "import torchvision.utils as vutils\n",
    "from torchvision import datasets\n",
    "%matplotlib inline"
   ]
  },
  {
   "cell_type": "code",
   "execution_count": 2,
   "metadata": {},
   "outputs": [],
   "source": [
    "from __future__ import unicode_literals, print_function, division\n",
    "from io import open\n",
    "import glob\n",
    "import unicodedata\n",
    "import string\n",
    "import torch.nn as nn\n",
    "import torch"
   ]
  },
  {
   "cell_type": "code",
   "execution_count": 3,
   "metadata": {},
   "outputs": [],
   "source": [
    "def findFiles(path): return glob.glob(path)"
   ]
  },
  {
   "cell_type": "code",
   "execution_count": 4,
   "metadata": {},
   "outputs": [
    {
     "name": "stdout",
     "output_type": "stream",
     "text": [
      "['../data/names\\\\Arabic.txt', '../data/names\\\\Chinese.txt', '../data/names\\\\Czech.txt', '../data/names\\\\Dutch.txt', '../data/names\\\\English.txt', '../data/names\\\\French.txt', '../data/names\\\\German.txt', '../data/names\\\\Greek.txt', '../data/names\\\\Irish.txt', '../data/names\\\\Italian.txt', '../data/names\\\\Japanese.txt', '../data/names\\\\Korean.txt', '../data/names\\\\Polish.txt', '../data/names\\\\Portuguese.txt', '../data/names\\\\Russian.txt', '../data/names\\\\Scottish.txt', '../data/names\\\\Spanish.txt', '../data/names\\\\Vietnamese.txt']\n"
     ]
    }
   ],
   "source": [
    "print(findFiles('../data/names/*.txt'))"
   ]
  },
  {
   "cell_type": "code",
   "execution_count": 5,
   "metadata": {},
   "outputs": [],
   "source": [
    "all_letters = string.ascii_letters + \" .,;'\"\n",
    "n_letters = len(all_letters)"
   ]
  },
  {
   "cell_type": "code",
   "execution_count": 6,
   "metadata": {},
   "outputs": [
    {
     "data": {
      "text/plain": [
       "\"abcdefghijklmnopqrstuvwxyzABCDEFGHIJKLMNOPQRSTUVWXYZ .,;'\""
      ]
     },
     "execution_count": 6,
     "metadata": {},
     "output_type": "execute_result"
    }
   ],
   "source": [
    "all_letters"
   ]
  },
  {
   "cell_type": "code",
   "execution_count": 7,
   "metadata": {},
   "outputs": [
    {
     "data": {
      "text/plain": [
       "57"
      ]
     },
     "execution_count": 7,
     "metadata": {},
     "output_type": "execute_result"
    }
   ],
   "source": [
    "n_letters"
   ]
  },
  {
   "cell_type": "code",
   "execution_count": 8,
   "metadata": {},
   "outputs": [
    {
     "name": "stdout",
     "output_type": "stream",
     "text": [
      "Slusarski\n"
     ]
    }
   ],
   "source": [
    "import unidecode\n",
    "print(unidecode.unidecode('Ślusàrski'))"
   ]
  },
  {
   "cell_type": "code",
   "execution_count": 9,
   "metadata": {},
   "outputs": [
    {
     "name": "stdout",
     "output_type": "stream",
     "text": [
      "Ying Zheng \n"
     ]
    }
   ],
   "source": [
    "print(unidecode.unidecode('嬴政'))"
   ]
  },
  {
   "cell_type": "code",
   "execution_count": 10,
   "metadata": {},
   "outputs": [
    {
     "name": "stdout",
     "output_type": "stream",
     "text": [
      "Slusarski\n"
     ]
    }
   ],
   "source": [
    "def unicodeToAscii(s):\n",
    "    return ''.join(\n",
    "        c for c in unicodedata.normalize('NFD', s)\n",
    "        if unicodedata.category(c) != 'Mn'\n",
    "        and c in all_letters\n",
    "    )\n",
    "\n",
    "print(unicodeToAscii('Ślusàrski'))"
   ]
  },
  {
   "cell_type": "code",
   "execution_count": 11,
   "metadata": {},
   "outputs": [],
   "source": [
    "# Build the category_lines dictionary, a list of names per language\n",
    "category_lines = {}\n",
    "all_categories = []"
   ]
  },
  {
   "cell_type": "code",
   "execution_count": 12,
   "metadata": {},
   "outputs": [],
   "source": [
    "# Read a file and split into lines\n",
    "def readLines(filename):\n",
    "    lines = open(filename, encoding='utf-8').read().strip().split('\\n')\n",
    "    return [unicodeToAscii(line) for line in lines]\n",
    "\n",
    "for filename in findFiles('../data/names/*.txt'):\n",
    "    category = filename.split('/')[-1].split('.')[0].split('\\\\')[-1]\n",
    "    all_categories.append(category)\n",
    "    lines = readLines(filename)\n",
    "    category_lines[category] = lines\n",
    "\n",
    "n_categories = len(all_categories)"
   ]
  },
  {
   "cell_type": "code",
   "execution_count": 13,
   "metadata": {},
   "outputs": [
    {
     "name": "stdout",
     "output_type": "stream",
     "text": [
      "['Abandonato', 'Abatangelo', 'Abatantuono', 'Abate', 'Abategiovanni']\n"
     ]
    }
   ],
   "source": [
    "print(category_lines['Italian'][:5])"
   ]
  },
  {
   "cell_type": "code",
   "execution_count": 14,
   "metadata": {},
   "outputs": [
    {
     "name": "stdout",
     "output_type": "stream",
     "text": [
      "tensor([[ 0.,  0.,  0.,  0.,  0.,  0.,  0.,  0.,  0.,  0.,  0.,  0.,\n",
      "          0.,  0.,  0.,  0.,  0.,  0.,  0.,  0.,  0.,  0.,  0.,  0.,\n",
      "          0.,  0.,  0.,  0.,  0.,  0.,  0.,  0.,  0.,  0.,  0.,  1.,\n",
      "          0.,  0.,  0.,  0.,  0.,  0.,  0.,  0.,  0.,  0.,  0.,  0.,\n",
      "          0.,  0.,  0.,  0.,  0.,  0.,  0.,  0.,  0.]])\n",
      "torch.Size([5, 1, 57])\n"
     ]
    }
   ],
   "source": [
    "import torch\n",
    "\n",
    "# Find letter index from all_letters, e.g. \"a\" = 0\n",
    "def letterToIndex(letter):\n",
    "    return all_letters.find(letter)\n",
    "\n",
    "# Just for demonstration, turn a letter into a <1 x n_letters> Tensor\n",
    "def letterToTensor(letter):\n",
    "    tensor = torch.zeros(1, n_letters)\n",
    "    tensor[0][letterToIndex(letter)] = 1\n",
    "    return tensor\n",
    "\n",
    "# Turn a line into a <line_length x 1 x n_letters>,\n",
    "# or an array of one-hot letter vectors\n",
    "def lineToTensor(line):\n",
    "    tensor = torch.zeros(len(line), 1, n_letters)\n",
    "    for li, letter in enumerate(line):\n",
    "        tensor[li][0][letterToIndex(letter)] = 1\n",
    "    return tensor\n",
    "\n",
    "print(letterToTensor('J'))\n",
    "\n",
    "print(lineToTensor('Jones').size())"
   ]
  },
  {
   "cell_type": "code",
   "execution_count": 15,
   "metadata": {},
   "outputs": [
    {
     "name": "stdout",
     "output_type": "stream",
     "text": [
      "tensor([[ 0.,  0.,  0.,  0.,  0.,  0.,  0.,  0.,  0.,  0.,  0.,  0.,\n",
      "          0.,  0.,  0.,  0.,  0.,  0.,  0.,  0.,  0.,  0.,  0.,  0.,\n",
      "          0.,  0.,  0.,  0.,  0.,  0.,  0.,  0.,  0.,  0.,  0.,  1.,\n",
      "          0.,  0.,  0.,  0.,  0.,  0.,  0.,  0.,  0.,  0.,  0.,  0.,\n",
      "          0.,  0.,  0.,  0.,  0.,  0.,  0.,  0.,  0.]])\n"
     ]
    }
   ],
   "source": [
    "print(letterToTensor('J'))"
   ]
  },
  {
   "cell_type": "code",
   "execution_count": 16,
   "metadata": {},
   "outputs": [
    {
     "name": "stdout",
     "output_type": "stream",
     "text": [
      "torch.Size([5, 1, 57])\n"
     ]
    }
   ],
   "source": [
    "print(lineToTensor('Jones').size())"
   ]
  },
  {
   "cell_type": "markdown",
   "metadata": {},
   "source": [
    "Creating the Network\n",
    "===================="
   ]
  },
  {
   "cell_type": "markdown",
   "metadata": {},
   "source": [
    "Training\n",
    "========\n",
    "Preparing for Training\n",
    "----------------------"
   ]
  },
  {
   "cell_type": "code",
   "execution_count": 17,
   "metadata": {},
   "outputs": [],
   "source": [
    "def categoryFromOutput(output):\n",
    "    top_n, top_i = output.topk(1)\n",
    "    category_i = top_i[0].item()\n",
    "    return all_categories[category_i], category_i\n",
    "\n",
    "#print(categoryFromOutput(output))"
   ]
  },
  {
   "cell_type": "code",
   "execution_count": 29,
   "metadata": {},
   "outputs": [
    {
     "data": {
      "text/plain": [
       "['Arabic',\n",
       " 'Chinese',\n",
       " 'Czech',\n",
       " 'Dutch',\n",
       " 'English',\n",
       " 'French',\n",
       " 'German',\n",
       " 'Greek',\n",
       " 'Irish',\n",
       " 'Italian',\n",
       " 'Japanese',\n",
       " 'Korean',\n",
       " 'Polish',\n",
       " 'Portuguese',\n",
       " 'Russian',\n",
       " 'Scottish',\n",
       " 'Spanish',\n",
       " 'Vietnamese']"
      ]
     },
     "execution_count": 29,
     "metadata": {},
     "output_type": "execute_result"
    }
   ],
   "source": [
    "all_categories"
   ]
  },
  {
   "cell_type": "code",
   "execution_count": 31,
   "metadata": {},
   "outputs": [
    {
     "data": {
      "text/plain": [
       "'Meisner'"
      ]
     },
     "execution_count": 31,
     "metadata": {},
     "output_type": "execute_result"
    }
   ],
   "source": [
    "randomChoice(category_lines[category])"
   ]
  },
  {
   "cell_type": "code",
   "execution_count": 32,
   "metadata": {},
   "outputs": [
    {
     "data": {
      "text/plain": [
       "('Italian',\n",
       " 'Brambilla',\n",
       " tensor([ 9]),\n",
       " tensor([[[ 0.,  0.,  0.,  0.,  0.,  0.,  0.,  0.,  0.,  0.,  0.,\n",
       "            0.,  0.,  0.,  0.,  0.,  0.,  0.,  0.,  0.,  0.,  0.,\n",
       "            0.,  0.,  0.,  0.,  0.,  1.,  0.,  0.,  0.,  0.,  0.,\n",
       "            0.,  0.,  0.,  0.,  0.,  0.,  0.,  0.,  0.,  0.,  0.,\n",
       "            0.,  0.,  0.,  0.,  0.,  0.,  0.,  0.,  0.,  0.,  0.,\n",
       "            0.,  0.]],\n",
       " \n",
       "         [[ 0.,  0.,  0.,  0.,  0.,  0.,  0.,  0.,  0.,  0.,  0.,\n",
       "            0.,  0.,  0.,  0.,  0.,  0.,  1.,  0.,  0.,  0.,  0.,\n",
       "            0.,  0.,  0.,  0.,  0.,  0.,  0.,  0.,  0.,  0.,  0.,\n",
       "            0.,  0.,  0.,  0.,  0.,  0.,  0.,  0.,  0.,  0.,  0.,\n",
       "            0.,  0.,  0.,  0.,  0.,  0.,  0.,  0.,  0.,  0.,  0.,\n",
       "            0.,  0.]],\n",
       " \n",
       "         [[ 1.,  0.,  0.,  0.,  0.,  0.,  0.,  0.,  0.,  0.,  0.,\n",
       "            0.,  0.,  0.,  0.,  0.,  0.,  0.,  0.,  0.,  0.,  0.,\n",
       "            0.,  0.,  0.,  0.,  0.,  0.,  0.,  0.,  0.,  0.,  0.,\n",
       "            0.,  0.,  0.,  0.,  0.,  0.,  0.,  0.,  0.,  0.,  0.,\n",
       "            0.,  0.,  0.,  0.,  0.,  0.,  0.,  0.,  0.,  0.,  0.,\n",
       "            0.,  0.]],\n",
       " \n",
       "         [[ 0.,  0.,  0.,  0.,  0.,  0.,  0.,  0.,  0.,  0.,  0.,\n",
       "            0.,  1.,  0.,  0.,  0.,  0.,  0.,  0.,  0.,  0.,  0.,\n",
       "            0.,  0.,  0.,  0.,  0.,  0.,  0.,  0.,  0.,  0.,  0.,\n",
       "            0.,  0.,  0.,  0.,  0.,  0.,  0.,  0.,  0.,  0.,  0.,\n",
       "            0.,  0.,  0.,  0.,  0.,  0.,  0.,  0.,  0.,  0.,  0.,\n",
       "            0.,  0.]],\n",
       " \n",
       "         [[ 0.,  1.,  0.,  0.,  0.,  0.,  0.,  0.,  0.,  0.,  0.,\n",
       "            0.,  0.,  0.,  0.,  0.,  0.,  0.,  0.,  0.,  0.,  0.,\n",
       "            0.,  0.,  0.,  0.,  0.,  0.,  0.,  0.,  0.,  0.,  0.,\n",
       "            0.,  0.,  0.,  0.,  0.,  0.,  0.,  0.,  0.,  0.,  0.,\n",
       "            0.,  0.,  0.,  0.,  0.,  0.,  0.,  0.,  0.,  0.,  0.,\n",
       "            0.,  0.]],\n",
       " \n",
       "         [[ 0.,  0.,  0.,  0.,  0.,  0.,  0.,  0.,  1.,  0.,  0.,\n",
       "            0.,  0.,  0.,  0.,  0.,  0.,  0.,  0.,  0.,  0.,  0.,\n",
       "            0.,  0.,  0.,  0.,  0.,  0.,  0.,  0.,  0.,  0.,  0.,\n",
       "            0.,  0.,  0.,  0.,  0.,  0.,  0.,  0.,  0.,  0.,  0.,\n",
       "            0.,  0.,  0.,  0.,  0.,  0.,  0.,  0.,  0.,  0.,  0.,\n",
       "            0.,  0.]],\n",
       " \n",
       "         [[ 0.,  0.,  0.,  0.,  0.,  0.,  0.,  0.,  0.,  0.,  0.,\n",
       "            1.,  0.,  0.,  0.,  0.,  0.,  0.,  0.,  0.,  0.,  0.,\n",
       "            0.,  0.,  0.,  0.,  0.,  0.,  0.,  0.,  0.,  0.,  0.,\n",
       "            0.,  0.,  0.,  0.,  0.,  0.,  0.,  0.,  0.,  0.,  0.,\n",
       "            0.,  0.,  0.,  0.,  0.,  0.,  0.,  0.,  0.,  0.,  0.,\n",
       "            0.,  0.]],\n",
       " \n",
       "         [[ 0.,  0.,  0.,  0.,  0.,  0.,  0.,  0.,  0.,  0.,  0.,\n",
       "            1.,  0.,  0.,  0.,  0.,  0.,  0.,  0.,  0.,  0.,  0.,\n",
       "            0.,  0.,  0.,  0.,  0.,  0.,  0.,  0.,  0.,  0.,  0.,\n",
       "            0.,  0.,  0.,  0.,  0.,  0.,  0.,  0.,  0.,  0.,  0.,\n",
       "            0.,  0.,  0.,  0.,  0.,  0.,  0.,  0.,  0.,  0.,  0.,\n",
       "            0.,  0.]],\n",
       " \n",
       "         [[ 1.,  0.,  0.,  0.,  0.,  0.,  0.,  0.,  0.,  0.,  0.,\n",
       "            0.,  0.,  0.,  0.,  0.,  0.,  0.,  0.,  0.,  0.,  0.,\n",
       "            0.,  0.,  0.,  0.,  0.,  0.,  0.,  0.,  0.,  0.,  0.,\n",
       "            0.,  0.,  0.,  0.,  0.,  0.,  0.,  0.,  0.,  0.,  0.,\n",
       "            0.,  0.,  0.,  0.,  0.,  0.,  0.,  0.,  0.,  0.,  0.,\n",
       "            0.,  0.]]]))"
      ]
     },
     "execution_count": 32,
     "metadata": {},
     "output_type": "execute_result"
    }
   ],
   "source": [
    "randomTrainingExample()"
   ]
  },
  {
   "cell_type": "code",
   "execution_count": 18,
   "metadata": {},
   "outputs": [
    {
     "name": "stdout",
     "output_type": "stream",
     "text": [
      "category = Vietnamese / line = Luu\n",
      "category = Greek / line = Belesis\n",
      "category = Portuguese / line = Cruz\n",
      "category = Italian / line = Viola\n",
      "category = Scottish / line = Boyle\n",
      "category = Russian / line = Valyavsky\n",
      "category = Portuguese / line = Castro\n",
      "category = Greek / line = Kaglantge\n",
      "category = Korean / line = Pae\n",
      "category = Dutch / line = Roggeveen\n"
     ]
    }
   ],
   "source": [
    "import random\n",
    "\n",
    "def randomChoice(l):\n",
    "    return l[random.randint(0, len(l) - 1)]\n",
    "\n",
    "def randomTrainingExample():\n",
    "    category = randomChoice(all_categories)\n",
    "    line = randomChoice(category_lines[category])\n",
    "    category_tensor = torch.tensor([all_categories.index(category)], dtype=torch.long)\n",
    "    line_tensor = lineToTensor(line)\n",
    "    return category, line, category_tensor, line_tensor\n",
    "\n",
    "for i in range(10):\n",
    "    category, line, category_tensor, line_tensor = randomTrainingExample()\n",
    "    print('category =', category, '/ line =', line)"
   ]
  },
  {
   "cell_type": "markdown",
   "metadata": {},
   "source": [
    "Plotting the Results\n",
    "--------------------"
   ]
  },
  {
   "cell_type": "code",
   "execution_count": 19,
   "metadata": {},
   "outputs": [],
   "source": [
    ">>> rnn = nn.RNN(10, 20, 2)\n",
    ">>> input = torch.randn(5, 3, 10)\n",
    ">>> h0 = torch.randn(2, 3, 20)\n",
    ">>> output, hn = rnn(input, h0)"
   ]
  },
  {
   "cell_type": "code",
   "execution_count": 20,
   "metadata": {},
   "outputs": [],
   "source": [
    ">>> rnn = nn.RNN(53, 100, 1)\n",
    ">>> input = torch.randn(5, 1, 53)\n",
    ">>> h0 = torch.randn(1, 1, 100)\n",
    ">>> output, hn = rnn(input, h0)"
   ]
  },
  {
   "cell_type": "code",
   "execution_count": 21,
   "metadata": {},
   "outputs": [],
   "source": [
    ">>> rnn = nn.LSTM(10, 20, 2)\n",
    ">>> input = torch.randn(5, 3, 10)\n",
    ">>> h0 = torch.randn(2, 3, 20)\n",
    ">>> c0 = torch.randn(2, 3, 20)\n",
    ">>> output, (hn, cn) = rnn(input, (h0, c0))"
   ]
  },
  {
   "cell_type": "code",
   "execution_count": 22,
   "metadata": {},
   "outputs": [],
   "source": [
    ">>> rnn = nn.LSTM(53, 100, 1)\n",
    ">>> input = torch.randn(5, 1, 53)\n",
    ">>> h0 = torch.randn(1, 1, 100)\n",
    ">>> c0 = torch.randn(1, 1, 100)\n",
    ">>> output, (hn, cn) = rnn(input, (h0, c0))"
   ]
  },
  {
   "cell_type": "code",
   "execution_count": 23,
   "metadata": {},
   "outputs": [
    {
     "data": {
      "text/plain": [
       "tensor([[ 0.1162,  0.1647, -0.0246, -0.0358, -0.0710, -0.0044,  0.0910,\n",
       "          0.0657,  0.0500, -0.0468, -0.1970, -0.0490, -0.2695, -0.0639,\n",
       "          0.0052,  0.1088, -0.1789,  0.2280, -0.0501,  0.0091, -0.0365,\n",
       "          0.0461,  0.2685, -0.0184, -0.0024, -0.1182,  0.1317,  0.0118,\n",
       "          0.0412, -0.0822, -0.0294,  0.0408,  0.1818,  0.0786, -0.0069,\n",
       "         -0.0500,  0.0166,  0.0432, -0.0936,  0.1336, -0.0856,  0.0202,\n",
       "          0.0165, -0.0262, -0.0417, -0.0548, -0.1506,  0.1075,  0.1555,\n",
       "         -0.1277, -0.0213,  0.0997,  0.3413, -0.2050,  0.1264,  0.0200,\n",
       "          0.0722, -0.0218,  0.0079, -0.0651, -0.2083,  0.0967, -0.1058,\n",
       "          0.0060,  0.0895, -0.1761,  0.1327, -0.0523,  0.0450,  0.1142,\n",
       "         -0.1446,  0.2324, -0.0900, -0.0167,  0.0023, -0.0655,  0.1894,\n",
       "          0.0545,  0.1469, -0.0841, -0.0378, -0.0767, -0.0188,  0.0288,\n",
       "          0.0402, -0.0506, -0.1844, -0.0321, -0.1715, -0.1072, -0.0045,\n",
       "         -0.1275, -0.0581,  0.0457,  0.0050, -0.0159, -0.1911,  0.0946,\n",
       "         -0.0612, -0.1126]])"
      ]
     },
     "execution_count": 23,
     "metadata": {},
     "output_type": "execute_result"
    }
   ],
   "source": [
    "output[4]"
   ]
  },
  {
   "cell_type": "code",
   "execution_count": 24,
   "metadata": {},
   "outputs": [
    {
     "data": {
      "text/plain": [
       "tensor([[[ 0.1162,  0.1647, -0.0246, -0.0358, -0.0710, -0.0044,  0.0910,\n",
       "           0.0657,  0.0500, -0.0468, -0.1970, -0.0490, -0.2695, -0.0639,\n",
       "           0.0052,  0.1088, -0.1789,  0.2280, -0.0501,  0.0091, -0.0365,\n",
       "           0.0461,  0.2685, -0.0184, -0.0024, -0.1182,  0.1317,  0.0118,\n",
       "           0.0412, -0.0822, -0.0294,  0.0408,  0.1818,  0.0786, -0.0069,\n",
       "          -0.0500,  0.0166,  0.0432, -0.0936,  0.1336, -0.0856,  0.0202,\n",
       "           0.0165, -0.0262, -0.0417, -0.0548, -0.1506,  0.1075,  0.1555,\n",
       "          -0.1277, -0.0213,  0.0997,  0.3413, -0.2050,  0.1264,  0.0200,\n",
       "           0.0722, -0.0218,  0.0079, -0.0651, -0.2083,  0.0967, -0.1058,\n",
       "           0.0060,  0.0895, -0.1761,  0.1327, -0.0523,  0.0450,  0.1142,\n",
       "          -0.1446,  0.2324, -0.0900, -0.0167,  0.0023, -0.0655,  0.1894,\n",
       "           0.0545,  0.1469, -0.0841, -0.0378, -0.0767, -0.0188,  0.0288,\n",
       "           0.0402, -0.0506, -0.1844, -0.0321, -0.1715, -0.1072, -0.0045,\n",
       "          -0.1275, -0.0581,  0.0457,  0.0050, -0.0159, -0.1911,  0.0946,\n",
       "          -0.0612, -0.1126]]])"
      ]
     },
     "execution_count": 24,
     "metadata": {},
     "output_type": "execute_result"
    }
   ],
   "source": [
    "hn"
   ]
  },
  {
   "cell_type": "code",
   "execution_count": 25,
   "metadata": {},
   "outputs": [],
   "source": [
    "class nn_LSTM(nn.Module):\n",
    "    def __init__(self, input_size, hidden_size, output_size):\n",
    "        super().__init__()\n",
    "        self.hidden_size = hidden_size\n",
    "        self.lstm = nn.LSTM(input_size, hidden_size)\n",
    "        self.out = nn.Linear(hidden_size, output_size)\n",
    "        \n",
    "    def forward(self, X, hidden):\n",
    "        _, hidden = self.lstm(X, hidden)\n",
    "        output = self.out(hidden[0])\n",
    "        return output, hidden\n",
    "    \n",
    "    def initHidden(self):\n",
    "        return (torch.zeros(1, 1, self.hidden_size),\n",
    "                torch.zeros(1, 1, self.hidden_size)\n",
    "               )"
   ]
  },
  {
   "cell_type": "code",
   "execution_count": 26,
   "metadata": {},
   "outputs": [],
   "source": [
    "rnn = nn_LSTM(n_letters, 128, n_categories)"
   ]
  },
  {
   "cell_type": "code",
   "execution_count": 27,
   "metadata": {},
   "outputs": [],
   "source": [
    "criterion = nn.CrossEntropyLoss()\n",
    "#optimizer = torch.optim.RMSprop(rnn.parameters(), lr=0.001)\n",
    "optimizer = torch.optim.SGD(rnn.parameters(), lr=0.005)"
   ]
  },
  {
   "cell_type": "code",
   "execution_count": 28,
   "metadata": {},
   "outputs": [],
   "source": [
    "def train(category_tensor, line_tensor):\n",
    "    hidden = rnn.initHidden()\n",
    "\n",
    "    optimizer.zero_grad()\n",
    "\n",
    "    output, hidden = rnn(line_tensor, hidden)\n",
    "\n",
    "    loss = criterion(output.view(-1,n_categories), category_tensor)\n",
    "    loss.backward()\n",
    "\n",
    "    # Add parameters' gradients to their values, multiplied by learning rate\n",
    "    \n",
    "    optimizer.step()\n",
    "\n",
    "    return output, loss.item()"
   ]
  },
  {
   "cell_type": "code",
   "execution_count": 74,
   "metadata": {},
   "outputs": [],
   "source": [
    "writer = SummaryWriter('logs/lstm1')"
   ]
  },
  {
   "cell_type": "code",
   "execution_count": 33,
   "metadata": {},
   "outputs": [],
   "source": [
    "category, line, category_tensor, line_tensor = randomTrainingExample()"
   ]
  },
  {
   "cell_type": "code",
   "execution_count": 34,
   "metadata": {},
   "outputs": [
    {
     "data": {
      "text/plain": [
       "('Dutch', 'Kann')"
      ]
     },
     "execution_count": 34,
     "metadata": {},
     "output_type": "execute_result"
    }
   ],
   "source": [
    "category, line"
   ]
  },
  {
   "cell_type": "code",
   "execution_count": 36,
   "metadata": {},
   "outputs": [
    {
     "data": {
      "text/plain": [
       "torch.Size([1])"
      ]
     },
     "execution_count": 36,
     "metadata": {},
     "output_type": "execute_result"
    }
   ],
   "source": [
    "category_tensor.shape"
   ]
  },
  {
   "cell_type": "code",
   "execution_count": 37,
   "metadata": {},
   "outputs": [
    {
     "data": {
      "text/plain": [
       "torch.Size([4, 1, 57])"
      ]
     },
     "execution_count": 37,
     "metadata": {},
     "output_type": "execute_result"
    }
   ],
   "source": [
    "line_tensor.shape"
   ]
  },
  {
   "cell_type": "code",
   "execution_count": 78,
   "metadata": {},
   "outputs": [
    {
     "name": "stdout",
     "output_type": "stream",
     "text": [
      "0 0% (0m 0s) 2.9364 Voclain / Irish ✗ (French)\n",
      "5000 1% (0m 25s) 2.8712 Hanzlik / Polish ✗ (Czech)\n",
      "10000 2% (0m 44s) 2.8253 Paiser / German ✗ (Czech)\n",
      "15000 3% (1m 47s) 2.8740 Tosell / English ✗ (Spanish)\n",
      "20000 4% (2m 36s) 2.7540 Petrezelka / Japanese ✗ (Czech)\n",
      "25000 5% (2m 51s) 2.7793 Abadi / Japanese ✗ (Arabic)\n",
      "30000 6% (4m 21s) 2.7156 Treblik / French ✗ (Czech)\n",
      "35000 7% (4m 53s) 1.3201 Rang / Chinese ✓\n",
      "40000 8% (6m 11s) 2.2696 Katschker / Dutch ✗ (Czech)\n",
      "45000 9% (6m 29s) 3.0782 Albuquerque / English ✗ (Portuguese)\n",
      "50000 10% (6m 48s) 2.1938 Mcneil / English ✗ (Irish)\n",
      "55000 11% (7m 7s) 3.9077 Fux / Vietnamese ✗ (German)\n",
      "60000 12% (7m 21s) 4.2633 Sierzant / French ✗ (Polish)\n",
      "65000 13% (7m 36s) 1.7315 Finney / English ✓\n",
      "70000 14% (7m 50s) 0.1676 Adamidis / Greek ✓\n",
      "75000 15% (8m 10s) 0.8989 Ron / Korean ✓\n",
      "80000 16% (9m 11s) 2.0026 Nogi / Chinese ✗ (Japanese)\n",
      "85000 17% (9m 43s) 2.5146 Haine / French ✗ (English)\n",
      "90000 18% (10m 22s) 0.2381 O'Kelly / Irish ✓\n",
      "95000 19% (10m 58s) 1.1905 Rosales / Portuguese ✗ (Spanish)\n",
      "100000 20% (11m 35s) 2.1049 Hattori / Italian ✗ (Japanese)\n",
      "105000 21% (12m 6s) 0.6553 Barros / Portuguese ✓\n",
      "110000 22% (12m 19s) 0.3474 Scolaidhe / Irish ✓\n",
      "115000 23% (12m 33s) 0.1188 Awtamonoff / Russian ✓\n",
      "120000 24% (12m 46s) 0.0916 Davlertgareev / Russian ✓\n",
      "125000 25% (12m 59s) 1.2615 Buggenum / Dutch ✓\n",
      "130000 26% (13m 13s) 1.2328 Bui / Chinese ✗ (Vietnamese)\n",
      "135000 27% (13m 31s) 1.0895 Jindra / Czech ✓\n",
      "140000 28% (13m 46s) 0.2441 Roijakkers / Dutch ✓\n",
      "145000 28% (14m 4s) 0.7740 Vargas / Portuguese ✓\n",
      "150000 30% (14m 20s) 1.1155 Conn / Irish ✓\n",
      "155000 31% (14m 36s) 0.1866 Williamson / Scottish ✓\n",
      "160000 32% (14m 58s) 0.1900 Truong / Vietnamese ✓\n",
      "165000 33% (15m 11s) 0.0692 Vu / Vietnamese ✓\n",
      "170000 34% (15m 25s) 1.8041 Overall / Irish ✗ (English)\n",
      "175000 35% (15m 40s) 1.9981 Dingle / Irish ✗ (English)\n",
      "180000 36% (15m 53s) 0.8038 Adamou / Greek ✓\n",
      "185000 37% (16m 8s) 0.9334 Klerkse / Dutch ✓\n",
      "190000 38% (16m 23s) 0.6256 Han / Chinese ✓\n",
      "195000 39% (16m 37s) 0.0250 Minatoya / Japanese ✓\n",
      "200000 40% (17m 1s) 0.0516 Raimondi / Italian ✓\n",
      "205000 41% (17m 21s) 0.1695 Caomh / Irish ✓\n",
      "210000 42% (19m 0s) 2.4805 Flater / Czech ✗ (German)\n",
      "215000 43% (19m 18s) 1.4529 Dobson / Scottish ✗ (English)\n",
      "220000 44% (20m 53s) 0.4949 Hao / Chinese ✓\n",
      "225000 45% (21m 35s) 0.0385 Rodrigues / Portuguese ✓\n",
      "230000 46% (22m 12s) 0.0247 Marszaek / Polish ✓\n",
      "235000 47% (22m 48s) 0.0014 Vanchugov / Russian ✓\n",
      "240000 48% (24m 6s) 0.0624 Gallchobhar / Irish ✓\n",
      "245000 49% (24m 52s) 2.9679 Hirsch / Czech ✗ (German)\n",
      "250000 50% (26m 10s) 0.0014 O'Doherty / Irish ✓\n",
      "255000 51% (26m 44s) 0.5546 Jin / Chinese ✓\n",
      "260000 52% (27m 9s) 0.6367 Lam / Vietnamese ✓\n",
      "265000 53% (27m 29s) 0.0006 Frangopoulos / Greek ✓\n",
      "270000 54% (27m 49s) 0.4732 Ackary / English ✓\n",
      "275000 55% (28m 9s) 0.0293 Nguyen / Vietnamese ✓\n",
      "280000 56% (28m 29s) 0.9429 Pavlu / Czech ✓\n",
      "285000 56% (29m 22s) 0.1753 Hwang / Korean ✓\n",
      "290000 57% (29m 38s) 3.2492 Shenk / Korean ✗ (Russian)\n",
      "295000 59% (30m 13s) 0.0451 Chehovsky / Russian ✓\n",
      "300000 60% (31m 47s) 0.0163 Imada / Japanese ✓\n",
      "305000 61% (32m 8s) 2.8294 Penn / Dutch ✗ (English)\n",
      "310000 62% (32m 22s) 0.1962 Guerra / Portuguese ✓\n",
      "315000 63% (32m 43s) 0.6945 D'aramitz / French ✓\n",
      "320000 64% (33m 15s) 0.1707 Mercier / French ✓\n",
      "325000 65% (33m 49s) 0.5789 Yeon / Korean ✓\n",
      "330000 66% (34m 11s) 0.0717 Wei / Chinese ✓\n",
      "335000 67% (34m 29s) 0.0144 Czajkowski / Polish ✓\n",
      "340000 68% (35m 5s) 0.6230 Chung / Korean ✓\n",
      "345000 69% (35m 28s) 0.7450 Montana / Italian ✓\n",
      "350000 70% (35m 51s) 0.2098 Darchiev / Russian ✓\n",
      "355000 71% (36m 14s) 0.4057 Sergeant / French ✓\n",
      "360000 72% (36m 46s) 3.2451 Mann / Dutch ✗ (German)\n",
      "365000 73% (37m 39s) 0.6318 Kang / Korean ✓\n",
      "370000 74% (38m 29s) 0.0364 Mifsud / Arabic ✓\n",
      "375000 75% (39m 28s) 0.0463 Garcon / French ✓\n",
      "380000 76% (40m 19s) 0.0200 Ryu / Korean ✓\n",
      "385000 77% (41m 23s) 0.1604 Watson / Scottish ✓\n",
      "390000 78% (42m 32s) 0.2972 Chi / Korean ✓\n",
      "395000 79% (43m 37s) 6.5900 Riseborough / Dutch ✗ (English)\n",
      "400000 80% (44m 20s) 0.0180 Amari / Arabic ✓\n",
      "405000 81% (45m 26s) 0.0017 Hadad / Arabic ✓\n",
      "410000 82% (46m 15s) 0.2136 Hou / Chinese ✓\n",
      "415000 83% (47m 10s) 0.0237 Sayegh / Arabic ✓\n",
      "420000 84% (48m 1s) 0.0200 Palmeiro / Portuguese ✓\n",
      "425000 85% (48m 52s) 0.0011 O'Ryan / Irish ✓\n",
      "430000 86% (49m 44s) 0.0074 Nghiem / Vietnamese ✓\n",
      "435000 87% (50m 36s) 4.5417 Bernard / Polish ✗ (English)\n",
      "440000 88% (51m 24s) 0.1001 Moreno / Portuguese ✓\n",
      "445000 89% (52m 21s) 0.0760 Maryltsev / Russian ✓\n",
      "450000 90% (53m 8s) 0.0000 O'Keefe / Irish ✓\n",
      "455000 91% (53m 57s) 0.0002 Rukhledev / Russian ✓\n",
      "460000 92% (54m 48s) 0.0466 Sawamatsu / Japanese ✓\n",
      "465000 93% (55m 36s) 0.5490 Davenport / English ✓\n",
      "470000 94% (56m 22s) 0.0272 Weeber / German ✓\n",
      "475000 95% (57m 10s) 0.3124 Weigand / German ✓\n",
      "480000 96% (58m 4s) 0.0166 Sheehy / Irish ✓\n",
      "485000 97% (58m 50s) 0.0671 Jedynak / Polish ✓\n",
      "490000 98% (59m 30s) 0.0524 O'Bree / Irish ✓\n",
      "495000 99% (60m 24s) 0.1840 Tamaro / Italian ✓\n",
      "500000 100% (61m 17s) 0.0082 Sauvageon / French ✓\n"
     ]
    }
   ],
   "source": [
    "import time\n",
    "import math\n",
    "\n",
    "n_iters = 500000\n",
    "print_every = 5000\n",
    "plot_every = 1000\n",
    "\n",
    "# Keep track of losses for plotting\n",
    "current_loss = 0\n",
    "all_losses = []\n",
    "\n",
    "def timeSince(since):\n",
    "    now = time.time()\n",
    "    s = now - since\n",
    "    m = math.floor(s / 60)\n",
    "    s -= m * 60\n",
    "    return '%dm %ds' % (m, s)\n",
    "\n",
    "start = time.time()\n",
    "\n",
    "for iter in range(0, n_iters + 1):\n",
    "    category, line, category_tensor, line_tensor = randomTrainingExample()\n",
    "    output, loss = train(category_tensor, line_tensor)\n",
    "    current_loss += loss\n",
    "\n",
    "    # Print iter number, loss, name and guess\n",
    "    if iter % print_every == 0:\n",
    "        guess, guess_i = categoryFromOutput(output)\n",
    "        correct = '✓' if guess == category else '✗ (%s)' % category\n",
    "        print('%d %d%% (%s) %.4f %s / %s %s' % (iter, iter / n_iters * 100, timeSince(start), loss, line, guess, correct))\n",
    "\n",
    "    # Add current loss avg to list of losses\n",
    "    if iter % plot_every == 0:\n",
    "        all_losses.append(current_loss / plot_every)\n",
    "        writer.add_scalar('loss', current_loss / plot_every, iter)\n",
    "        current_loss = 0"
   ]
  },
  {
   "cell_type": "code",
   "execution_count": 79,
   "metadata": {},
   "outputs": [
    {
     "data": {
      "text/plain": [
       "[<matplotlib.lines.Line2D at 0x1d06dd68>]"
      ]
     },
     "execution_count": 79,
     "metadata": {},
     "output_type": "execute_result"
    },
    {
     "data": {
      "image/png": "[encoded data removed]",
      "text/plain": [
       "<matplotlib.figure.Figure at 0x1cefe630>"
      ]
     },
     "metadata": {},
     "output_type": "display_data"
    }
   ],
   "source": [
    "import matplotlib.pyplot as plt\n",
    "import matplotlib.ticker as ticker\n",
    "\n",
    "plt.figure()\n",
    "plt.plot(all_losses[1:])"
   ]
  },
  {
   "cell_type": "code",
   "execution_count": 80,
   "metadata": {},
   "outputs": [],
   "source": [
    "def predict_max(model, X):\n",
    "    hidden = model.initHidden()\n",
    "    y_score, hidden = model(X, hidden)\n",
    "    \n",
    "    return torch.max(y_score, 2)[1][0]"
   ]
  },
  {
   "cell_type": "code",
   "execution_count": 81,
   "metadata": {},
   "outputs": [],
   "source": [
    "def calc_accuracy(model, num_samples=10000):\n",
    "    num_corrects = 0\n",
    "    for i in range(num_samples):\n",
    "        category, line, category_tensor, line_tensor = randomTrainingExample()\n",
    "        #print(line)\n",
    "        y_pred = predict_max(model, line_tensor)\n",
    "        #print(f'y_pred:{y_pred}, y:{category_tensor}')\n",
    "        num_corrects += (category_tensor.item() == y_pred.item())\n",
    "        \n",
    "    return num_corrects/num_samples\n",
    "        "
   ]
  },
  {
   "cell_type": "code",
   "execution_count": 82,
   "metadata": {},
   "outputs": [
    {
     "data": {
      "text/plain": [
       "0.9112"
      ]
     },
     "execution_count": 82,
     "metadata": {},
     "output_type": "execute_result"
    }
   ],
   "source": [
    "calc_accuracy(rnn)"
   ]
  },
  {
   "cell_type": "code",
   "execution_count": 64,
   "metadata": {},
   "outputs": [
    {
     "data": {
      "image/png": "[encoded data removed]",
      "text/plain": [
       "<matplotlib.figure.Figure at 0x1c917fd0>"
      ]
     },
     "metadata": {},
     "output_type": "display_data"
    },
    {
     "data": {
      "text/plain": [
       "<matplotlib.figure.Figure at 0x1cfeb550>"
      ]
     },
     "metadata": {},
     "output_type": "display_data"
    }
   ],
   "source": [
    "# Keep track of correct guesses in a confusion matrix\n",
    "confusion = torch.zeros(n_categories, n_categories)\n",
    "n_confusion = 10000\n",
    "\n",
    "# Just return an output given a line\n",
    "def evaluate(line_tensor):\n",
    "    hidden = rnn.initHidden()    \n",
    "    output, hidden = rnn(line_tensor, hidden)\n",
    "\n",
    "    return output\n",
    "\n",
    "# Go through a bunch of examples and record which are correctly guessed\n",
    "for i in range(n_confusion):\n",
    "    category, line, category_tensor, line_tensor = randomTrainingExample()\n",
    "    output = evaluate(line_tensor)\n",
    "    guess, guess_i = categoryFromOutput(output)\n",
    "    category_i = all_categories.index(category)\n",
    "    confusion[category_i][guess_i] += 1\n",
    "\n",
    "# Normalize by dividing every row by its sum\n",
    "for i in range(n_categories):\n",
    "    confusion[i] = confusion[i] / confusion[i].sum()\n",
    "\n",
    "# Set up plot\n",
    "fig = plt.figure()\n",
    "ax = fig.add_subplot(111)\n",
    "cax = ax.matshow(confusion.numpy())\n",
    "fig.colorbar(cax)\n",
    "\n",
    "# Set up axes\n",
    "ax.set_xticklabels([''] + all_categories, rotation=90)\n",
    "ax.set_yticklabels([''] + all_categories)\n",
    "\n",
    "# Force label at every tick\n",
    "ax.xaxis.set_major_locator(ticker.MultipleLocator(1))\n",
    "ax.yaxis.set_major_locator(ticker.MultipleLocator(1))\n",
    "\n",
    "# sphinx_gallery_thumbnail_number = 2\n",
    "plt.figure(figsize=(10,8))\n",
    "plt.show()"
   ]
  },
  {
   "cell_type": "code",
   "execution_count": null,
   "metadata": {},
   "outputs": [],
   "source": []
  },
  {
   "cell_type": "code",
   "execution_count": 83,
   "metadata": {},
   "outputs": [],
   "source": [
    "output = evaluate(lineToTensor('Dovesky'))"
   ]
  },
  {
   "cell_type": "code",
   "execution_count": 84,
   "metadata": {},
   "outputs": [
    {
     "data": {
      "text/plain": [
       "tensor([[[ -4.2698,  -8.0661,   9.5016,  -0.0659,  10.7596,   2.7718,\n",
       "            4.2901,   3.2301,   5.6978,  -2.9570,   0.0059,  -6.3147,\n",
       "            1.3313, -13.6175,  14.3554,   2.3942,  -6.7266, -13.6766]]])"
      ]
     },
     "execution_count": 84,
     "metadata": {},
     "output_type": "execute_result"
    }
   ],
   "source": [
    "output"
   ]
  },
  {
   "cell_type": "code",
   "execution_count": 85,
   "metadata": {},
   "outputs": [
    {
     "data": {
      "text/plain": [
       "torch.Size([1, 1, 18])"
      ]
     },
     "execution_count": 85,
     "metadata": {},
     "output_type": "execute_result"
    }
   ],
   "source": [
    "output.shape"
   ]
  },
  {
   "cell_type": "code",
   "execution_count": 86,
   "metadata": {},
   "outputs": [],
   "source": [
    "topv, topi = output.topk(3, 2, True)"
   ]
  },
  {
   "cell_type": "code",
   "execution_count": 87,
   "metadata": {},
   "outputs": [
    {
     "data": {
      "text/plain": [
       "tensor(14.3554)"
      ]
     },
     "execution_count": 87,
     "metadata": {},
     "output_type": "execute_result"
    }
   ],
   "source": [
    "topv[0,0][0]"
   ]
  },
  {
   "cell_type": "code",
   "execution_count": 88,
   "metadata": {},
   "outputs": [
    {
     "name": "stdout",
     "output_type": "stream",
     "text": [
      "\n",
      "> Dovesky\n",
      "(14.36) Russian\n",
      "(10.76) English\n",
      "(9.50) Czech\n",
      "\n",
      "> Jackson\n",
      "(13.04) English\n",
      "(11.70) Scottish\n",
      "(7.82) German\n",
      "\n",
      "> Satoshi\n",
      "(11.84) Japanese\n",
      "(9.17) Italian\n",
      "(8.28) Arabic\n"
     ]
    }
   ],
   "source": [
    "def predict(input_line, n_predictions=3):\n",
    "    print('\\n> %s' % input_line)\n",
    "    with torch.no_grad():\n",
    "        output = evaluate(lineToTensor(input_line))\n",
    "\n",
    "        # Get top N categories\n",
    "        topv, topi = output.topk(n_predictions, 2, True)\n",
    "        predictions = []\n",
    "\n",
    "        for i in range(n_predictions):\n",
    "            value = topv[0,0][i].item()\n",
    "            category_index = topi[0,0][i].item()\n",
    "            print('(%.2f) %s' % (value, all_categories[category_index]))\n",
    "            predictions.append([value, all_categories[category_index]])\n",
    "\n",
    "predict('Dovesky')\n",
    "predict('Jackson')\n",
    "predict('Satoshi')"
   ]
  },
  {
   "cell_type": "code",
   "execution_count": 89,
   "metadata": {},
   "outputs": [
    {
     "name": "stdout",
     "output_type": "stream",
     "text": [
      "\n",
      "> Fan\n",
      "(8.83) Chinese\n",
      "(5.81) Vietnamese\n",
      "(5.29) Dutch\n"
     ]
    }
   ],
   "source": [
    "predict('Fan')"
   ]
  },
  {
   "cell_type": "code",
   "execution_count": 90,
   "metadata": {},
   "outputs": [
    {
     "name": "stdout",
     "output_type": "stream",
     "text": [
      "\n",
      "> Wang\n",
      "(10.09) Korean\n",
      "(8.49) Chinese\n",
      "(7.44) German\n"
     ]
    }
   ],
   "source": [
    "predict('Wang')"
   ]
  },
  {
   "cell_type": "code",
   "execution_count": 91,
   "metadata": {},
   "outputs": [
    {
     "name": "stdout",
     "output_type": "stream",
     "text": [
      "\n",
      "> Qin\n",
      "(10.97) Chinese\n",
      "(7.65) Korean\n",
      "(3.16) Vietnamese\n"
     ]
    }
   ],
   "source": [
    "predict('Qin')"
   ]
  },
  {
   "cell_type": "code",
   "execution_count": 92,
   "metadata": {},
   "outputs": [
    {
     "name": "stdout",
     "output_type": "stream",
     "text": [
      "\n",
      "> Chong\n",
      "(11.64) Korean\n",
      "(9.27) Chinese\n",
      "(3.91) Czech\n"
     ]
    }
   ],
   "source": [
    "predict('Chong')"
   ]
  },
  {
   "cell_type": "code",
   "execution_count": 93,
   "metadata": {},
   "outputs": [
    {
     "name": "stdout",
     "output_type": "stream",
     "text": [
      "\n",
      "> Lam\n",
      "(8.13) Vietnamese\n",
      "(7.17) Chinese\n",
      "(4.19) Dutch\n"
     ]
    }
   ],
   "source": [
    "predict('Lam')"
   ]
  },
  {
   "cell_type": "code",
   "execution_count": 94,
   "metadata": {},
   "outputs": [
    {
     "name": "stdout",
     "output_type": "stream",
     "text": [
      "\n",
      "> Huo\n",
      "(11.01) Chinese\n",
      "(6.89) Korean\n",
      "(6.02) Vietnamese\n"
     ]
    }
   ],
   "source": [
    "predict('Huo')"
   ]
  },
  {
   "cell_type": "code",
   "execution_count": 95,
   "metadata": {},
   "outputs": [
    {
     "name": "stdout",
     "output_type": "stream",
     "text": [
      "\n",
      "> Zhou\n",
      "(11.72) Chinese\n",
      "(5.27) Korean\n",
      "(2.76) German\n"
     ]
    }
   ],
   "source": [
    "predict('Zhou')"
   ]
  },
  {
   "cell_type": "code",
   "execution_count": 106,
   "metadata": {},
   "outputs": [
    {
     "name": "stdout",
     "output_type": "stream",
     "text": [
      "\n",
      "> Zheng\n",
      "(13.19) Chinese\n",
      "(6.77) English\n",
      "(6.09) Korean\n"
     ]
    }
   ],
   "source": [
    "predict('Zheng')"
   ]
  },
  {
   "cell_type": "code",
   "execution_count": null,
   "metadata": {},
   "outputs": [],
   "source": []
  }
 ],
 "metadata": {
  "kernelspec": {
   "display_name": "Python 3",
   "language": "python",
   "name": "python3"
  },
  "language_info": {
   "codemirror_mode": {
    "name": "ipython",
    "version": 3
   },
   "file_extension": ".py",
   "mimetype": "text/x-python",
   "name": "python",
   "nbconvert_exporter": "python",
   "pygments_lexer": "ipython3",
   "version": "3.6.2"
  }
 },
 "nbformat": 4,
 "nbformat_minor": 2
}
