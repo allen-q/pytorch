{
 "cells": [
  {
   "cell_type": "code",
   "execution_count": 1,
   "metadata": {
    "collapsed": true
   },
   "outputs": [],
   "source": [
    "import numpy as np\n",
    "import pandas as pd\n",
    "import random\n",
    "import torch\n",
    "import torch.nn as nn\n",
    "import matplotlib.pyplot as plt\n",
    "% matplotlib inline"
   ]
  },
  {
   "cell_type": "code",
   "execution_count": 2,
   "metadata": {
    "collapsed": true
   },
   "outputs": [],
   "source": [
    "df = pd.read_csv('./data/names.csv')\n",
    "data = ' '.join(df.name.tolist())"
   ]
  },
  {
   "cell_type": "code",
   "execution_count": 3,
   "metadata": {
    "collapsed": false
   },
   "outputs": [
    {
     "data": {
      "text/html": [
       "<div>\n",
       "<style scoped>\n",
       "    .dataframe tbody tr th:only-of-type {\n",
       "        vertical-align: middle;\n",
       "    }\n",
       "\n",
       "    .dataframe tbody tr th {\n",
       "        vertical-align: top;\n",
       "    }\n",
       "\n",
       "    .dataframe thead th {\n",
       "        text-align: right;\n",
       "    }\n",
       "</style>\n",
       "<table border=\"1\" class=\"dataframe\">\n",
       "  <thead>\n",
       "    <tr style=\"text-align: right;\">\n",
       "      <th></th>\n",
       "      <th>name</th>\n",
       "      <th>gender</th>\n",
       "      <th>id</th>\n",
       "    </tr>\n",
       "  </thead>\n",
       "  <tbody>\n",
       "    <tr>\n",
       "      <th>0</th>\n",
       "      <td>Emma</td>\n",
       "      <td>F</td>\n",
       "      <td>20799</td>\n",
       "    </tr>\n",
       "    <tr>\n",
       "      <th>1</th>\n",
       "      <td>Olivia</td>\n",
       "      <td>F</td>\n",
       "      <td>19674</td>\n",
       "    </tr>\n",
       "    <tr>\n",
       "      <th>2</th>\n",
       "      <td>Sophia</td>\n",
       "      <td>F</td>\n",
       "      <td>18490</td>\n",
       "    </tr>\n",
       "    <tr>\n",
       "      <th>3</th>\n",
       "      <td>Isabella</td>\n",
       "      <td>F</td>\n",
       "      <td>16950</td>\n",
       "    </tr>\n",
       "    <tr>\n",
       "      <th>4</th>\n",
       "      <td>Ava</td>\n",
       "      <td>F</td>\n",
       "      <td>15586</td>\n",
       "    </tr>\n",
       "  </tbody>\n",
       "</table>\n",
       "</div>"
      ],
      "text/plain": [
       "       name gender     id\n",
       "0      Emma      F  20799\n",
       "1    Olivia      F  19674\n",
       "2    Sophia      F  18490\n",
       "3  Isabella      F  16950\n",
       "4       Ava      F  15586"
      ]
     },
     "execution_count": 3,
     "metadata": {},
     "output_type": "execute_result"
    }
   ],
   "source": [
    "df.head()"
   ]
  },
  {
   "cell_type": "code",
   "execution_count": 4,
   "metadata": {
    "collapsed": false
   },
   "outputs": [
    {
     "name": "stdout",
     "output_type": "stream",
     "text": [
      "data has 237097 characters, 53 unique.\n"
     ]
    }
   ],
   "source": [
    "# data I/O\n",
    "chars = list(set(data))\n",
    "data_size, vocab_size = len(data), len(chars)\n",
    "print(f'data has {data_size} characters, {vocab_size} unique.')\n",
    "char_to_ix = { ch:i for i,ch in enumerate(chars) }\n",
    "ix_to_char = { i:ch for i,ch in enumerate(chars) }"
   ]
  },
  {
   "cell_type": "code",
   "execution_count": 5,
   "metadata": {
    "collapsed": true
   },
   "outputs": [],
   "source": [
    "# hyperparameters\n",
    "hidden_size = 100 # size of hidden layer of neurons\n",
    "seq_length = 25 # number of steps to unroll the RNN for\n",
    "learning_rate = 1e-1"
   ]
  },
  {
   "cell_type": "code",
   "execution_count": 6,
   "metadata": {
    "collapsed": true
   },
   "outputs": [],
   "source": [
    "X_train = np.zeros((len(data), len(chars)))"
   ]
  },
  {
   "cell_type": "code",
   "execution_count": 7,
   "metadata": {
    "collapsed": true
   },
   "outputs": [],
   "source": [
    "char_id = np.array([chars.index(c) for c in data])"
   ]
  },
  {
   "cell_type": "code",
   "execution_count": 8,
   "metadata": {
    "collapsed": true
   },
   "outputs": [],
   "source": [
    "X_train[np.arange(len(X_train)), char_id] = 1"
   ]
  },
  {
   "cell_type": "code",
   "execution_count": 9,
   "metadata": {
    "collapsed": true
   },
   "outputs": [],
   "source": [
    "y_train = np.roll(char_id,-1)"
   ]
  },
  {
   "cell_type": "code",
   "execution_count": 10,
   "metadata": {
    "collapsed": false
   },
   "outputs": [
    {
     "data": {
      "text/plain": [
       "(237097, 53)"
      ]
     },
     "execution_count": 10,
     "metadata": {},
     "output_type": "execute_result"
    }
   ],
   "source": [
    "X_train.shape"
   ]
  },
  {
   "cell_type": "code",
   "execution_count": 11,
   "metadata": {
    "collapsed": false
   },
   "outputs": [
    {
     "data": {
      "text/plain": [
       "(237097,)"
      ]
     },
     "execution_count": 11,
     "metadata": {},
     "output_type": "execute_result"
    }
   ],
   "source": [
    "y_train.shape"
   ]
  },
  {
   "cell_type": "markdown",
   "metadata": {},
   "source": [
    "## Build a RNN model"
   ]
  },
  {
   "cell_type": "code",
   "execution_count": 50,
   "metadata": {
    "collapsed": false
   },
   "outputs": [],
   "source": [
    "class CharRNN(nn.Module):\n",
    "    def __init__(self, input_size, hidden_size, output_size):\n",
    "        super().__init__()\n",
    "        self.fc_x = nn.Linear(input_size, hidden_size)\n",
    "        self.fc_h = nn.Linear(hidden_size, hidden_size)\n",
    "        self.tanh = nn.Tanh()\n",
    "        self.fc_out = nn.Linear(hidden_size, output_size)\n",
    "        \n",
    "    def forward(self, X, h):\n",
    "        x_out = self.fc_x(X)\n",
    "        h_out = self.fc_h(h)\n",
    "        h_new = self.tanh(x_out + h_out)\n",
    "        out = self.fc_out(h_new)\n",
    "        \n",
    "        return out, h_new\n",
    "    \n",
    "    def init_h(self):\n",
    "        return torch.zeros(self.fc_x.out_features)"
   ]
  },
  {
   "cell_type": "code",
   "execution_count": 157,
   "metadata": {
    "collapsed": true
   },
   "outputs": [],
   "source": [
    "rnn = CharRNN(vocab_size, 100, vocab_size)"
   ]
  },
  {
   "cell_type": "code",
   "execution_count": 158,
   "metadata": {
    "collapsed": true
   },
   "outputs": [],
   "source": [
    "loss_fn = nn.CrossEntropyLoss()"
   ]
  },
  {
   "cell_type": "code",
   "execution_count": 159,
   "metadata": {
    "collapsed": true
   },
   "outputs": [],
   "source": [
    "optimizer = torch.optim.Adagrad(rnn.parameters(), lr=0.1)\n",
    "#optimizer = torch.optim.Adam(rnn.parameters(), lr=0.001)"
   ]
  },
  {
   "cell_type": "code",
   "execution_count": 160,
   "metadata": {
    "collapsed": true
   },
   "outputs": [],
   "source": [
    "def get_batch(X=X_train, y=y_train, batch_size=seq_length):\n",
    "    #X_ids = list(range(len(X)))\n",
    "    #random.shuffle(X_ids)    \n",
    "    #X = X[X_ids]\n",
    "    #y = y[X_ids]\n",
    "    X = torch.from_numpy(X).float()\n",
    "    y = torch.from_numpy(y).long()\n",
    "    for i in range(0, len(y), batch_size):   \n",
    "        id_stop = i+batch_size if i+batch_size < len(X) else len(X)\n",
    "        yield([X[i:id_stop], y[i:id_stop]])"
   ]
  },
  {
   "cell_type": "code",
   "execution_count": 161,
   "metadata": {
    "collapsed": false
   },
   "outputs": [],
   "source": [
    "def sample_chars(X_seed, h_prev, length=20):\n",
    "    for p in rnn.parameters():\n",
    "        p.requires_grad = False\n",
    "    X_next = X_seed\n",
    "    results = []\n",
    "    for i in range(length):        \n",
    "        y_score, h_prev = rnn(X_next, h_prev)\n",
    "        y_prob = nn.Softmax(0)(y_score).detach().numpy()\n",
    "        y_pred = np.random.choice(chars,1, p=y_prob).item()\n",
    "        results.append(y_pred)\n",
    "        X_next = torch.zeros_like(X_seed)\n",
    "        X_next[chars.index(y_pred)] = 1\n",
    "        #print(f'{i} th char:{y_pred}')\n",
    "    for p in rnn.parameters():\n",
    "        p.requires_grad = True\n",
    "    return ''.join(results)"
   ]
  },
  {
   "cell_type": "code",
   "execution_count": 162,
   "metadata": {},
   "outputs": [
    {
     "data": {
      "text/plain": [
       "10417"
      ]
     },
     "execution_count": 162,
     "metadata": {},
     "output_type": "execute_result"
    }
   ],
   "source": [
    "len(all_losses)"
   ]
  },
  {
   "cell_type": "code",
   "execution_count": 163,
   "metadata": {
    "collapsed": false,
    "scrolled": false
   },
   "outputs": [
    {
     "name": "stdout",
     "output_type": "stream",
     "text": [
      "----\n",
      "Running Avg Loss:101.82852554321289 at iter: 100\n",
      "----\n",
      "ayaae aa arayraiKaerarAlviaaa ara igai  aarara hLaliiraaahr  a aladaaaKairaaaaiaaa arerrai  aaalLa aaanaaaaa iv iaaiaaaAaaeaKgMaaaaP ariaaha la iaairalaaasiLdaaK rliiayrndeKareiraaaaaaalaarrlaaaaerayr\n",
      "----\n",
      "Running Avg Loss:79.89813171386719 at iter: 200\n",
      "----\n",
      "ASaiiae  loeAyy saLiin hyaAasy ZiaAylylhikao h eii A ohiaLnamannsMh  ahp AaiahrALahasnlhsasmaAy iiniiehia Ka DAleoaee Ch taisiiy Aieyas AE  ashs td Ala A aaoa hnir AnyKhsi iIyeie m naa ssdeadal hni  m\n",
      "----\n",
      "Running Avg Loss:73.6026946258545 at iter: 300\n",
      "----\n",
      "lb eet AeryiymRnirciic rllynnh Eelintakmynvtiyl A Anld g goih AlytTna ee PdyuitotMy Manaenyhe SV taoMlie Aieserialisin AWe HlJJny A A Ts p B Ti ii AanTrierv n L Ka Di M  iCbercnyici yee Avv AhKh P  yn\n",
      "----\n",
      "Running Avg Loss:68.17021492004395 at iter: 400\n",
      "----\n",
      "lhea uyrera hjylyaa Paya SanYa MarJs Yaninn Yia Kahanaleyavis Lea CrnnynlynyannManyyGeaa ahaydiahvarlana Ma Ysoranlhn MosjBruny yhana Msrau A Yalavheaylana Yav AMa RauSza Kayli MraYhrsmyrn YayYa yala \n",
      "----\n",
      "Running Avg Loss:66.4270932006836 at iter: 500\n",
      "----\n",
      "al Saylesarlhliree CapalFtareaianrarnilina Keaheeendyrete NaneaPanrinsetarparese Vmrarta Sarara RaJa Inona Ajeaels M rirvshelera eara Aaalabhrle JeDbesa Keena calkGta Jiiconhii aainieavasenla Kaylasra\n",
      "----\n",
      "Running Avg Loss:64.37500602722167 at iter: 600\n",
      "----\n",
      "dui Shasa Zada Kaira Zyga Laritaye da Eaaciayahen Tia Kanana Iedia Ihaia Ssaisley Tada Iara Tsa Ilkaligsa ean Vla Asaeanaw Araca Tanh Acaa Naa ayiea Ma Raana Kala Arain Daliu AkBnmt aa SaalyLhalaSa Za\n",
      "----\n",
      "Running Avg Loss:62.401180534362794 at iter: 700\n",
      "----\n",
      "pPelh Amolyr Bvealecetp Jtxeteavyhs Kedea Ledre YaAsaey Leni EiroyBe CamisannnlenyyKkylanseecellil Cydesisnd Lamirizse Ciyi Eirisy MaaBe Jainsi May Kueshyhle Ceas Kaiexsis Ariilit Exlyv Ssisginsay Man\n",
      "----\n",
      "Running Avg Loss:61.06295886993408 at iter: 800\n",
      "----\n",
      "li Ahiiala Gikaleololila Callilala Tlilnllilel Riikinnlena Aotkinlin Bliee C Toeionaly Loilly Syolye Rilinilanlolizi Tirilon la A Blicaualis PolleninasBiMirinsia Kiililalallelia Lorilay Tsylinlrenla A\n",
      "----\n",
      "Running Avg Loss:61.26223552703858 at iter: 900\n",
      "----\n",
      "n Sraily amlorez nari Zazilahllyn Jocpysa Jarby Allarry Monet Blma Faeleye Aemcsnlyl Eleaz Esina Brley Clisyntey Ebalta Alylp Ilmlodmiinlgo Delilcles Alrynih Fzknnllee Ceiee Tia Fadaeinn Kaise Slil Fy\n",
      "----\n",
      "Running Avg Loss:60.469569053649906 at iter: 1000\n",
      "----\n",
      "ea Alarter Amtwy DaloChat Yieeha Kiayn Areisa Jryza Arayga Ramina Recta Senc Sadhita Kuyna Uueganna Crek Syya Lerre tuszih nbmenynna Trora Ainyh Beera Az A Mewiey Abelhn danslegtaah Jartertine Sasea C\n",
      "----\n",
      "Running Avg Loss:58.792752494812014 at iter: 1100\n",
      "----\n",
      "de Teniagncennvesn Ra Reisa Kandenns Nesausna Bvin Madly Tiann Wane Deriy Lavana Srasyah Reraia Jena Rnxna Rbiava Kyndna Mana Jiisma Revae Tyn Pana Pbyonn Laelans Mana Jenlen Jeczennn Marian Kaia Soly\n",
      "----\n",
      "Running Avg Loss:58.38496784210205 at iter: 1200\n",
      "----\n",
      "n Smomira Eryan Elyidyneh Moaa TaMmad Tarica Cammitm Sielinrla Sayliy Sraemen Cyria cadmarla Arka Llari Shralalyyn Ziyime Jadvan Avlinn Layagh Henn Mynnngh haryas CaMyly lakie Tadiya Sedinl Tahla JdlM\n",
      "----\n",
      "Running Avg Loss:59.331019248962406 at iter: 1300\n",
      "----\n",
      "yice Kamia Hantta Larer Kenah Koryhe Rariite Diuhnng KanFyna Dtumie K Iirsa Kerry Kareye Joir Jatsi Wtyto Arye Kirieyna Doyhy Kulyl Entil Karialee Kaenna Kasianiy Karaya Andite Kerla Kysye Nelona Reyn\n",
      "----\n",
      "Running Avg Loss:58.76563911437988 at iter: 1400\n",
      "----\n",
      "a Shinmee Jaema Dalledi Kariylodde KeliVi Reidgig Kojoa Ketertin Kaeo Kaliore Ezarae Turilie Diflyngh Jomalh Kavbin Jyryra Dee Karlie Kerbigh Tablaeelte Keesiia Adrer Deyeih Kewaa Ahoye Karlyn Ketzia \n",
      "----\n",
      "Running Avg Loss:58.8121987915039 at iter: 1500\n",
      "----\n",
      "as Yawieie Yilfa Area Earafa Tidve AdastalTa Tliasa Arisalyn Gaducta Alilia Buoleealila Nadhelyta Yagsea Caadaya Dartena Rearalea Taahaioe Acilaahana Avatay Alavia Keraiamia Audessa Alsua Mlyna Kadoun\n",
      "----\n",
      "Running Avg Loss:56.607758331298825 at iter: 1600\n",
      "----\n",
      " CeuRina Cataizehanra Minyinah Riina Anaiza Aranza Chzel Gynn Shinley Bhyl Araria Cahia Bhiteny Xranreclenahnnlahma Chersh Caree Cbynlati Bhyaleyn Brenli Aohelye B AutStirio Chavae Che Manne Anylannia\n",
      "----\n",
      "Running Avg Loss:57.593254013061525 at iter: 1700\n",
      "----\n",
      "Analha Ara Aary hleixhltie Ameina  hlilylea didya Adavixa Ivothe Wale Zarigh Amelonnolay Edy Alolom Ilelana Ahleca amxive Agia Zakdya Malia Khilaunahe Nadin xalih Layaee Kaadyna hanlye AveWa Madi Oena\n",
      "----\n",
      "Running Avg Loss:56.28615001678467 at iter: 1800\n",
      "----\n",
      "ikekn Maklian MakiZa Eratea Maklyvi Rermah Arlyn Murysa Elyntna Skkah MauGi Frira Mkilrcanzy Mymiltn Makzlin Mekvlen Mrylhi Deirilelann Meh Mokssa Fikahanie Javia Mitmi Madkya Myclceah Lakritini Bszly\n",
      "----\n",
      "Running Avg Loss:55.2628296661377 at iter: 1900\n",
      "----\n",
      "esta Zurisah Gwlesha Zenrhe Zariejthah Tiysinn Auriia Zarishith Maseigie Lama Zebotci Aatiane Zento Zapize Marile Vhresa Niyareh Tbiare Penrii Zighye Sariamah Meezanaahhna Cikia Sarlah Mezairan Zemato\n",
      "----\n",
      "Running Avg Loss:55.58325008392334 at iter: 2000\n",
      "----\n",
      "y Amlera AcerZe Jasea Areiah Acak Ajzwona Arelennnees Aullynnalande Teriza Ariusmalhn Leormlen Asntes Anydea Aszaeltann Arossaia Nurh Lalhe Vekya Alunel Atlhshzeiee Iatissi BxunieznaAle Aviaya Adonann\n",
      "----\n",
      "Running Avg Loss:55.32175559997559 at iter: 2100\n",
      "----\n",
      "neynoryn Xericon Dalymah Dilie DlireiiDa Delera Diulah Celeann Dameyn Daney Ciylsonnn XioDDizODe Dyyiaten Tatiralyi Bdareia Adiri Damiyn Yeratia Doele Danne AyBebe Xriaaay Dauiki Deliy Reera Diela Day\n",
      "----\n",
      "Running Avg Loss:55.653807678222655 at iter: 2200\n",
      "----\n",
      " Atylai Bn Pavielia Bnosannk Caliee Irynna Blyey Avtes Aveelaia Byamiynen Kaelre Beliettah Banannyn Araainska Pynilonnyn Bdri Jafinn Benala Brimienlana Brita Anma Brydiarye Nalsv JalecI Brbscla B Btan\n",
      "----\n",
      "Running Avg Loss:54.73250701904297 at iter: 2300\n",
      "----\n",
      "ya Amarna Aelkem Ananra Alyrstalena Amyan Sambaa Alelle SangadA Vanna Aama Anamana Aliaea Aiuialah Amgtiruva Variliga Amleiah Ana Amullenah Ahii AViiannah Ranzinda Amilina Amacisghlie Adalimah Avyllan\n",
      "----\n",
      "Running Avg Loss:54.368220748901365 at iter: 2400\n",
      "----\n",
      " Smegh MebriSrwah Shm Salina Zaliahoh Matai Shia Rieli Slirbamaltla Lova Rapha Shoch Luni Shma Semingh Shval Ramilse Shmai Siodza Salta Rumenie Sae Shmaah Shbia Noqta Maea Soryoh Srmwa Mahma Shleia Se\n",
      "----\n",
      "Running Avg Loss:52.84112663269043 at iter: 2500\n",
      "----\n",
      "yne Laykcee Deny Kasbeyke Lararya Laysles Laroy Lirilia Lairahiza Jomei Lesihie Liorie LalsoLa Lersay Konla Loreira Leeni Bryzhit tadlor Loreeenn Jonaya Ilae LishyLeesa Kiriatora Lonarbe Ladisiena Ler\n",
      "----\n",
      "Running Avg Loss:53.10242805480957 at iter: 2600\n",
      "----\n",
      "onnthise Choleviph CiAh Conaleesy Chlbery Chisa Coree Cezese Conis Brmil Cosoriy Nanetsh Cilri Cirgee Chana Autarl Coosiet Cluylonsh Czsily Cmusse Canke Carshe CotslenCChn Cadli Cevilyn Csaa Celan Caf\n",
      "----\n",
      "Running Avg Loss:52.93579204559326 at iter: 2700\n",
      "----\n",
      "nama Ramytie Matheela Rkeeyah Oufyn Shonn Oanaha Melswe Ehaie Naleia avensa Rrariy Shah Midlya Mamani Saldhla Raran Sirerah gani Nysle Nable Goyana Oyeela Rustea Renanne Ramea Tyla Larisa Matanie Raha\n",
      "----\n",
      "Running Avg Loss:52.896891326904296 at iter: 2800\n",
      "----\n",
      "eya Blydamella Dicsah Nagalea Jaise Ihare Caizalene Briletke Iheme Jeleana Dyvemah Ereele Neraycetah Ianenv Sevea Ihelyni Brena Jawea Dankye Irva Careera Emrae Haiona Jamsanna Fteryan Joyan Brirere Ta\n",
      "----\n",
      "Running Avg Loss:52.80391296386719 at iter: 2900\n",
      "----\n",
      " Zalii Telia Sosilya Yaanaine Zuon iaiian Ehaial Veabaiah Zarye Jioni Zyulyne Zelia Yania Seelyli Zastaya Lelia Laaniea Wlya Deswah Zapaiay Lupia Ziahla Yaidara Yallaa Yahiah Eaolra Uroari Yniei Zklly\n",
      "----\n",
      "Running Avg Loss:50.66677127838135 at iter: 3000\n",
      "----\n",
      "nee earila Niaverinaryn Jonya Jalkindalla Ilalliz Jayzlytami Galyahi Jariba Jazayca Samra Haheyca Whazare Gaelaaven Byalya Jaibinvi Jaljlanlh Jelaana Elieyna Haeliadlinnn Slalallyna Jaironn Jamilavmna\n",
      "----\n",
      "Running Avg Loss:51.63824131011963 at iter: 3100\n",
      "----\n",
      "er Podinelar Soran Jamona Saniyon Sari Shamiadi Saahye Saiasa Sewlymishvy Sayya Sarana Saube Hae Saszie Saciani Raniza Saamtia Sasira Slaki Salyslaia Sargitotharelay Satarbe Sayama Salama Rarwa Syalra\n",
      "----\n",
      "Running Avg Loss:50.782451667785644 at iter: 3200\n",
      "----\n",
      "e Chahli Chichayns Choraynn Caylhah Colee Canril Caeeiat Chelh Cyley Cheseynn Cha Cahee Trhaliins Ceerie Corelee Chyn Cierinn Chep Conste Chlolee Ceulie Chelee Chieerhey Cerbes Cnkaisizte Chlie Neeyia\n",
      "----\n",
      "Running Avg Loss:50.869966735839846 at iter: 3300\n",
      "----\n",
      "ynva sahlyna Khalya Khninah Lagrer Kinzenry Kadilynrennle Katilannne Kayka Kinonleynn Jeynn Mamiyy Illennna Krina Karmah Qilynsa Larithah Karee hsmrah Khallatariahi Karl n Lyitash Kangh Liacma Lavai K\n",
      "----\n",
      "Running Avg Loss:50.836637077331545 at iter: 3400\n",
      "----\n",
      "ya Shalla Tamiye Tayrai Tedalaia Sailah Sania Ralha Saana Sobhtie Kavi Rabatuma Toneka Sabaa Sabeiaahia Shikana Saiah Taloa Rmarani Tinn Souvasheh Tikena Sharbakelay Mahatie Shakia Silla Sha Soyta Sal\n",
      "----\n",
      "Running Avg Loss:49.860086326599124 at iter: 3500\n",
      "----\n",
      "selilethah Cseizee Crileie Cerish Csstye Calery ShensyaCth Chalyntri Chlynn Crirbirinne Chirlearrih Cristyn Chelli Chjisi Cisly Chrlei Crerish Carilisnnlyll Chigelle Chas Cherisne Cimah Chrsygtyah Cae\n",
      "----\n",
      "Running Avg Loss:50.374340591430666 at iter: 3600\n",
      "----\n",
      "nanryi Jeissiy Kyalmy Kayleath Kelsyy Kelme Geleyi Kasmi Kadeya Kailin Korlin Kelyne Kormaylly Ketwia Kina Kall Kevrin Kanin Kyannie Kemmba Kalltt Kelylee Kyyle Kayuy Keliat Kentenuh Kestira Kdyllylga\n",
      "----\n",
      "Running Avg Loss:50.94103061676025 at iter: 3700\n",
      "----\n",
      "tya Roymes Runnena Rielen Riyah Relee Riylina Rlodyna Raloeikellyuphy Rainee Rhenya Rizlyah Razinny Rarlah Rawuten Reyaya Ronilah Rynalyi Misoray Rylayah Rezuka Rryne Roie Reraysshy Ryatth Mlyza Oizas\n",
      "----\n",
      "Running Avg Loss:50.409802684783934 at iter: 3800\n",
      "----\n",
      "Tarelenah Anainlee Anere Ausaleenh Anniene Anadeli Anaria Arai Annanoriannelann Amae Arerar Aserine Anelys Ammis Arerynnh Ana Alabe Anarira Anbelon Anesa Abrinie Andinye Annis Amana Aneinne Ariangleye\n",
      "----\n",
      "Running Avg Loss:49.365245780944825 at iter: 3900\n",
      "----\n",
      "n Evany Ginabn Brate Ymeyah GFmanna Gennina Ghazlinn Izbysan Rina Avia Graynid Evonnn Gsja Genkonn Eeel Gadeyn Ghea Eune Grimeie Grya Gowa Gahina Gerdaniah Gwonena Gunnna Gilanea Gaitha Gijalin Mannan\n",
      "----\n",
      "Running Avg Loss:47.16395412445068 at iter: 4000\n",
      "----\n",
      "e Karlia Kemeici Kineleph Kamia Karitma Kosy Komona Ceryna Karie Khymon Kayslin Kalyn Kiellall Kelon Kyetlin Kayynn Koil Kalelon Kasy Killia Kalma Keson Kes Kyronde KaKtithnn Kieria Gobe Kirin Krimen \n",
      "----\n",
      "Running Avg Loss:50.27547517776489 at iter: 4100\n",
      "----\n",
      "ee Nertirystoun Kpzhin Nilrah Oleta Ponely Piesia Nahaya Myrerayyya Pathee Pomani Naniohia Risie Othulah Pnamey Nynitengbe Panmaarore Porrie Nicaka Metaibeyn Pereni Pkoy Nigiey Aekayn Nesela Techie Le\n",
      "----\n",
      "Running Avg Loss:52.39864891052246 at iter: 4200\n",
      "----\n",
      " Aunsan Oarannahaa hamillby Nhanna Yaibangana Zamiciyrbinna Aabaliah Abtor Telbiya Adalannia Jiigah Alyighya Amiharieina Lailiialang Aradibiynara Aaglya Ayaheyona Talray Aulennny Arkyghi bebilia Lunli\n",
      "----\n",
      "Running Avg Loss:47.45236831665039 at iter: 4300\n",
      "----\n",
      "i Breeiny Bnzarynale Bbiah BBybetr Bemlee Bnili Bretey Bnyle Bhtzey Breei Brala Xiden Bekkaleia Bryncyri Brdale Bryl Bhilaji Borhyn Belen Brlennan Beytenale Brelani Brieteyi Bretha Bilynn Brida Branna\n",
      "----\n",
      "Running Avg Loss:47.35414480209351 at iter: 4400\n",
      "----\n",
      "Farixna Enyisna Fylene Frimma Freven Ferita Fevmeprixn Ferarin Famlina Findos Fnelstlee Anilee Fapfaton Famensellenne Aviena Eviinne Frerett Finia Femeenin Felama Frian Fyay Frovabr Frmayse Foryeyatos\n",
      "----\n",
      "Running Avg Loss:49.37696647644043 at iter: 4500\n",
      "----\n",
      "imee Kalema Imanann Kaiely Korysra Kuane Kasvya Karaiah Ketyseica Kaneyn Kummin Kala Jeclsa Kamdi Kamem Ka uarion Keniann Kimida Kailinu Kamilanoa Kelma Kole Kednille Kelia Gakanna Kabilona Gmelle Jai\n",
      "----\n",
      "Running Avg Loss:46.48124099731445 at iter: 4600\n",
      "----\n",
      " Malerie Mrone Merelie Miara Mary Melma Zaraby Mocila Mliabie Miurici Misii Meegha Maiu tiilix Myari Mahe Miylieterelen Miigie Malleazeseti Maalyn Cycuy Milik Morti Malle Melira Mamersa Michi May Mori\n",
      "----\n",
      "Running Avg Loss:51.53557346343994 at iter: 4700\n",
      "----\n",
      "a Saefmi Sheerley Samiama Rpelann Sharllin Shbueon Shevli Shandyna Shhbe Shireonnoden Sychina Syvinra Shanan Seynna Sakeli Shigh Sanmona Somilensit Shanionn Sya Shinca Shidia Shajina Seeilinithiahini \n",
      "----\n",
      "Running Avg Loss:51.216503105163575 at iter: 4800\n",
      "----\n",
      "miahnan Ahen Andah Annelle Aubenne Ase Malon Aqni A Aaynyahne Ahnita Aahenh Abrenah Aiide Alenna Anah Awanni Adin Aziy Aukanni Audyne Aaheth Ansvah Abeli Aardeoa Adonn Dinni Amedi Avoennasta Aaniki Si\n",
      "----\n",
      "Running Avg Loss:46.32308427810669 at iter: 4900\n",
      "----\n",
      "yea Aabiyah Amuyah Avanre Aleee Anayei Aryne Arey Aslalyna AriyyeA Ara Awype Asyi Astae Alynne Ziryse Ayye Ana Annalyn Abwylee ramywa Anirleyn Adeynailanone Arel Ahawynta Aquy Zenny Aanela A Anana Alo\n",
      "----\n",
      "Running Avg Loss:47.002627563476565 at iter: 5000\n",
      "----\n",
      "iyls Bylie Daithna Dissh Dosley Domyey Daria Dellaliala Deary Dlyleyah Dishah Dylie Demty Darilelelu Danaeli Diks Dinah Detiley Datianele DlitDa Dilu Dayalo Dahlli Dorymii Derilli Mawy Danil Dayvih Do\n",
      "----\n",
      "Running Avg Loss:52.179096412658694 at iter: 5100\n",
      "----\n",
      "Dellee Jaijei eambel Jayzsavea Ilylh Jaciay Hemde Jakieysyn Jeylee Halasey Jacyeah Jicfdoah Ivie Hahhlina Jasghah Iralia Jtalah Azphiah Btha Jersza Jaziyin Iaceissa Hary Jeevieyna Juzellaa Jodnenna Es\n",
      "----\n",
      "Running Avg Loss:43.918759689331054 at iter: 5200\n",
      "----\n",
      "et Kunysah Kharish Kyesth Kha Khel Zdrlyaha Kaysianli Khyisn Hstali Khandalrin Kuylymhah Khyn Krmyah Khersh Heyryah Kszarih Khayah Kyarizh Khilen Kemonylillelemah Khejah KhaliKii Kanlliah Khellellh Ka\n",
      "----\n",
      "Running Avg Loss:46.61559492111206 at iter: 5300\n",
      "----\n",
      "a Marleah Mirisrimn Karelra Marlez Marayssa Merenesne Jaker Marowh Mariaralyry Mareyna Marrana Malahaelelan Mariy Movie Maryeel Moricy Mareanalle Marrayna Marara Moractth Malisa Monna Marilra Mrlana M\n",
      "----\n",
      "Running Avg Loss:50.87629383087158 at iter: 5400\n",
      "----\n",
      "ossie Farensh Pararara Janza Ratian Raona Nea jaserns Maybet Kynalain Auvynn Marya Nashan Puision Lesgio Rancenge Peaia Peria Liahe Qremah Netelae Kaizah Cerisa kiaha Phlea Featara Auuna Peliara Narra\n",
      "----\n",
      "Running Avg Loss:48.02081851959228 at iter: 5500\n",
      "----\n",
      "ra Tiay Saeya Siely Tayle Tibah Tiawi Tahtan Tamlya Seppene Taiyle Talley Tareka Talorie Ibatmia Tahyah Kawri Tiela Taj Talmy Tarara Taelya Taarban Toys Tanall Tieah Tayzai Tamana Taree Tawaia Towa Sa\n",
      "----\n",
      "Running Avg Loss:52.6027862739563 at iter: 5600\n",
      "----\n",
      " Shozl Sann Joahlry Cim ulosra Mailaz Caeli ouve Lolion Dynchigh Vonten Nasurde Joricy Jowadn Jondine Moofi Rendiloh Nartor Aetey Vison Jokon Zogelonn Ahiyor Brryne Jrevaka Pyndyi  ahynn Fande Sraro V\n",
      "----\n",
      "Running Avg Loss:59.856465072631835 at iter: 5700\n",
      "----\n",
      "yn Rarciah Selqy Janela Moroyow Dicyn Jakossala Come Alrilan Lodelror Disskell Sharley Tamri Feyslytt Jullen Brilay Wamil Poloch Evel Kodlor Remma Proloni Dittex Joani Chkoson Wioghi Ancliel Adcena Aa\n",
      "----\n",
      "Running Avg Loss:59.5267573928833 at iter: 5800\n",
      "----\n",
      " Mavoa Malei Basyon Laceeg Lefdard  Cicomasca Rindene Karin Kefgenoi Matel Brex Eleanel Lakonminn Jan Nomna Dedra Angodion Garandi Tokonn Beron Bryl Jelean Jacker Ralari Czasoi Negin Merge Odonni Eura\n",
      "----\n",
      "Running Avg Loss:58.862600860595705 at iter: 5900\n",
      "----\n",
      "ee Aadior Andili Yakad Ydods Kancran Angh Kades Kannce Chlin Kidie Brtedon Monmen Toptee hdynsutlonnis Dondon Jordik Shes Lillre Vellen Memuron Jalyen Cuviddel Apeltah Eemare Tilon Koril Jafriga Maysh\n",
      "----\n",
      "Running Avg Loss:59.13299514770508 at iter: 6000\n",
      "----\n",
      " Jakha Baddani Zukya Evayat Hasin Kail Ttgencker Jamyah Aledj Amaiol Amacia Ilixrien Trulandon Katerma Eden Rarita Karri Jain Saman Zcconsi Henky Ikatl Deggeitmie Jebi Cazwel Adrter ryki Laycon Amain \n",
      "----\n",
      "Running Avg Loss:59.1247668838501 at iter: 6100\n",
      "----\n",
      "i zakion Smonnnmanvin Dondyndor Raeeltiah Doroenlok Mavely Jatannah Londen Jrchy Jornny Todia Lizevio Raxoron Esly Minanbao Narsti Kouberan Brdan Pyannon Brlonn Yuwaddre Cadillan Suroqdo Arannion Asko\n",
      "----\n",
      "Running Avg Loss:59.501804695129394 at iter: 6200\n",
      "----\n",
      "a Sudgndh Chonou Narrey Assenge Bed  Barton Vargreyco Dige Alid Astunn Surzis Yudrion Melik Rynniat Araey Bacsekn Ettse EzbrshotonoT Aume Aluron Lipendi Jecdrra Damyi Cyjaca niorn Zollie Stik Rarii Ra\n",
      "----\n",
      "Running Avg Loss:59.282585525512694 at iter: 6300\n",
      "----\n",
      "e Zauyan Hene Viy Porhe Bythh Adril Triysslac Elaven Brevmi Palbon Jkersha Hanelas Nyshaborlen Eedaler Geyan Syahoi Aaton Cfy Rabithan Gherbys Ryberoy Alathei Rephio Cruv Kesebon Alyan Vorora Heriah M\n",
      "----\n",
      "Running Avg Loss:58.552649879455565 at iter: 6400\n",
      "----\n",
      "es Gerean Kesree Tamass Kavare Marlyn Jakentoll Kaolh Ladhi Jarayder Camif Cman Tofekah Kerlon Tden Bhylev Abres Taher Ralee Brun Braws Cridi Tumann Kawcin Alefkalv Jewck Dilaec Merer Herath Zavilan A\n",
      "----\n",
      "Running Avg Loss:59.21203296661377 at iter: 6500\n",
      "----\n",
      " Yarean Amish Korey Bcsoriy Jahe Jaidren Dryroky Lacear Jakissi Falan Rardiin Ancon Jekriat Sart Vieisye Koahis Kadajone Truolmoth Brrionoz Amenn Iriryul Broeel Jadqris Inaaqiayn Amaen Ravie Dalok Ahi\n",
      "----\n",
      "Running Avg Loss:59.47309413909912 at iter: 6600\n",
      "----\n",
      "anora Raie Mushee Olozen Rorree Vikhelah Revie Ishrtelyn Furai Ic Shvi Rosel Tey Iadmeb Ider Bulen Mahekon Pell Onyun Nant Memmon HaJgh Kalunder Lobis Davdeh Nae Ushaesh Costerd E Aahsth Rishy Joeror \n",
      "----\n",
      "Running Avg Loss:59.71820861816406 at iter: 6700\n",
      "----\n",
      "ayi Rerdi Hahan Rerini Terias Tavhion Mavaia Macaitei Zaovac Daustar Ebkic Cavica Tavli Maithah Jayah Dimamiah Holias Sopan Baari Horlun Bricion Syeghi Deydah Waciraz Gior Zenar Rhebeei Tacelec emaydh\n",
      "----\n",
      "Running Avg Loss:57.73692180633545 at iter: 6800\n",
      "----\n",
      " Nikia Pyasin Arilannal Eveloi Mian Jawdem Rassonke Emiem Mlinneska Lay Kssam Saushe Misal Omtelin Casrion Resemom Waviv Alckean Leadi Mizan Nayz Avlah Navi MakracMos Masten Roht Deifia Alav Kaymoson \n",
      "----\n",
      "Running Avg Loss:60.28103759765625 at iter: 6900\n",
      "----\n",
      "r Yostyn Keryde Kyfan Acaronsidy Jovate Sonyf Mosbirban Temhon Sineli Lerryaram Hhues Ralon Tonneen Hafkaysynienses Hamineah Sabec Coahir Tanorney Setimon Ryllik Tafdao Sollh KMlin Taodn Shelyn Nareyt\n",
      "----\n",
      "Running Avg Loss:58.833895149230955 at iter: 7000\n",
      "----\n",
      " Nandrah Hailren Muejawe Pibwey Ormein Mictan Brre LribalLen Phei Peyurat Noveus Fesin Neylen Madtavel Telason Pritaj Ryceruesur kertan Mavadan Juedelron Sa Taeestgii Kaicelo Paivaowato Puvurza Edisha\n",
      "----\n",
      "Running Avg Loss:58.62685405731201 at iter: 7100\n",
      "----\n",
      " C Jenn Avitex Raeneb Shan Jaiein Nahaszan Jastanellem Ben Fangem Dannon Jhoslon Krree Jangkas Jasaron Elamiy Maydkanzoni Xaymek Rejfonn Josnan Dabymin Jagepton Jiten Yaveuj Fayvon Junaun Jrad Jannon \n",
      "----\n",
      "Running Avg Loss:58.69408767700195 at iter: 7200\n",
      "----\n",
      "n Calllok Laray Aser Nichin Avfen Marey Igael Ralri Eailim Ravlich Ryus Romi Messhimor Rakelon Kalli Aawrer Nerkie Remed Klin Ninae Neser Ksyfos Ryvver Olions Ronn Coro Tayby Juldoa Nleriah Ltazoe Osh\n",
      "----\n",
      "Running Avg Loss:58.546372451782226 at iter: 7300\n",
      "----\n",
      "a Wthlenjoun Rolus Hathot Triries Rrevea Rosh Tarohan Wastin Brhedh Dowan Mahgin Rlraiver Jeny Tadlon Lallicion Warlit TtytNio Whof Trigh Tyylen Welranike Roch Dajth Tivlew Till Tacrun Urat Nixyn Takg\n",
      "----\n",
      "Running Avg Loss:58.78657890319824 at iter: 7400\n",
      "----\n",
      "ctie Theden Koddal Alasyen Olidhiah Nozdit Alizayay Thashon Alaxe Araedol Aigulltomor Allai Waviogoek Auman Tajee Masardisi Yhaitin Garish Niueror Kaherathori Oghe Mileelo Dedayiml Adiret Aqdedr AriMe\n",
      "----\n",
      "Running Avg Loss:56.47198741912842 at iter: 7500\n",
      "----\n",
      " Samabe Tyfani Sciok Taidynn Meban Sosraisar Daves Symaan Tuomartey Lanalonth Semicomon TarSarcob Toelearel Sajtane Lendun Thasatonde Tare Ramein Coj Hamen TiCr Tyernstank Sazen Malliwelsta Teelelh Ri\n",
      "----\n",
      "Running Avg Loss:56.313956832885744 at iter: 7600\n",
      "----\n",
      "em Maveli Maser Marrink Ibaecyan Mawni Lirubele Chawar Jan Trakun Jondoan Sriyn Esher Lrianie Lenainteuo Makaivoy Kofgoli Hovfri Humer Derasu Jieron Saktan Muramay Rale Vaysha Dorker Kuryan Shabi Arka\n",
      "----\n",
      "Running Avg Loss:58.611762504577634 at iter: 7700\n",
      "----\n",
      " Eslah Freit Eobiis Chognon DuxtarRondh Edavol Faleytioz Elly Enulab Eadman Foevue Feman Emiashon Ferel Fabon Fabrel Drton Erish Thraro Eseak Fous Egkay Evemif Fure Bomai Dalox Fiolly Faskoo Besshon E\n",
      "----\n",
      "Running Avg Loss:58.06406307220459 at iter: 7800\n",
      "----\n",
      "ay Sobter Vakien Rubie Radye Lyynn Ihai Tiid Neuv Pann Tekca Shon Teaptan Vevah Itte Tiah Vtden Vavate Peyv S Kalat Listell Lekhylts Poian Sayderdalom Womiv Tafyoin Somelderden Shean AvWase Vienz Ckar\n",
      "----\n",
      "Running Avg Loss:55.52081825256348 at iter: 7900\n",
      "----\n",
      "eany Xbtinor Grmiandmion Josanltes Jahulan Juraer Jeran Jmadiun Jonsm Jerantienon Jorle Faagian Jarlah JumanJro Jainam Jedteul Jadey Juerailotmen Rogheer Eryon Juodeic Jorhan Alfos Jaby Jaoton Hoeson \n",
      "----\n",
      "Running Avg Loss:58.08490333557129 at iter: 8000\n",
      "----\n",
      "k Ahuroh Vefin Mliz Amsos Adeie Abrem Bizi Ril Abav Laaahl Kofek El Tirad Amonp Sidees Chotdon Amiddi Anjan Lumin Abdel Abuna Abrlon Ayusol Rikar Sarree Imaan Shil Zaididn Alluh Shamen Aactor Olked Ce\n",
      "----\n",
      "Running Avg Loss:53.48484275817871 at iter: 8100\n",
      "----\n",
      " Jaysal Jesion Ahann Jasam Kodest Jamaris Jabilney Javiywon Jamam Jerreie Joriann Bele Geeleopur Jey Jadmray Jrainar Juren Jyon Jheen Jerkan Hanzi Alawe Jaymiehnn Jlyun Jacolok Jerfor Jeyleel Janday J\n",
      "----\n",
      "Running Avg Loss:55.516522903442386 at iter: 8200\n",
      "----\n",
      "esun Siadel Sorbin Tajeuf Jevis Sophiis Saxwuc Pansail Sherlon Honilan Solyt Triestan Tadsty Syolliliz Toithyne Tavimimarisern Symiod Teysh Shanaet Ruwmy Tavawa Icalon Sajemone Sasghid Savenn Saiton T\n",
      "----\n",
      "Running Avg Loss:54.29143634796142 at iter: 8300\n",
      "----\n",
      "Dawyen Cairez Desaf Ceqta Demi Szedi Degeem Derdenillo Deeellan Brisopoial Denyl Cicaer Yaan Defayin Delaelien Derta Feritr Brerzen Deugun Darke Duwlenten Davseon Deyteiv Dopme Doulsaree Devaeden Zryn\n",
      "----\n",
      "Running Avg Loss:53.00825466156006 at iter: 8400\n",
      "----\n",
      "gh Kanilen Kahnussiesshee Kadha Khousharah Konzion Kad Keelh Khar Jeroes Kiishem Keomee Iraat Khadolrictthel Koni Koriron Kemon Krish Khanseb Khyel Kochor Koemirr Keeler Kirdun Chentoniel Koshimoh Kaw\n",
      "----\n",
      "Running Avg Loss:56.2236206817627 at iter: 8500\n",
      "----\n",
      "auson Tlouj Trieanree Tron Trlamin Tatmaman Tulmid Tyvin Torittl Trwon Alar Tarver Tichej Tiux Trion Temerovt Romberinn Targrin Kasfin Srimvikarl Trerr Yurfysun Tbyn Tynor Tryrn Trare Tiuvan Tydeven T\n",
      "----\n",
      "Running Avg Loss:54.58943229675293 at iter: 8600\n",
      "----\n",
      "n Chiwedlo Collen Cyshrer Liymrenis Choishen Broxon Carralob Caeman Ahtrygym Chies Chahsancoan Chariin Brononi Anveni Charel Channis Charias Chechuon Chayshid Clash Cleen Cheutee Cudrn Chse Ceenro Yhy\n",
      "----\n",
      "Running Avg Loss:52.75417320251465 at iter: 8700\n",
      "----\n",
      "ashes Jarianneon Javay Jaric Jarai Jorilaion Jamiania Jarataednar Jaka Javano Jarkin Jave Jamonion Urekocn Jer Joghuleb Jaaxen Jairian Joamier Jeaskaw Jararan Jasobetas Jatov Javamayon Grishay Jardan \n",
      "----\n",
      "Running Avg Loss:50.76427448272705 at iter: 8800\n",
      "----\n",
      "lla Mamayj Jaal Majah Madsimiich Melan Marror Mancelely Metkivarlell Madnch Mirtee Gela Miler Marishin Mxacdells Mbheexl Mamemon Membe Macc Merelie Kerma Mecantel Micistharierncir Maustem Mutlunes Mov\n",
      "----\n",
      "Running Avg Loss:56.619901504516605 at iter: 8900\n",
      "----\n",
      "orin Tylan Chel Vorded Veyoni Ratorier Trawynn Thylunte Theko Syajiun Trey Treym Trion Tewinar Tciez Trellon Shyyn Verery Tynianiah Dyny Neve Suig Sais Umail Uscrimron Triamyiw Tockie Kolon Vijorioln \n",
      "----\n",
      "Running Avg Loss:53.81368747711181 at iter: 9000\n",
      "----\n",
      "er Athal Bynhhrgom Brlin Tayiw Ramnilon Brulli Bree Amitsay Timay Mastisziey Rakaren Brenzen Brearuel Bekan Braxlan Jay Barjan Ralre Avar Boryluj Brit Braiumin Blaylal Baisel Besent Bennlan Benden Cia\n",
      "----\n",
      "Running Avg Loss:52.02808433532715 at iter: 9100\n",
      "----\n",
      " Elendr Gmesjan Guytha Gahtedisz Gwandvia Gydin Gristaloa Guraije waryry Gussan Gmlill Gedith Grushul Varvel Geysie Gerito Gerdan Goroby Gruedre Ged Gayter Gririell Gatrincank Gerviod Greriy Jarash Gr\n",
      "----\n",
      "Running Avg Loss:49.259208831787106 at iter: 9200\n",
      "----\n",
      "an Kuan Kammen Katiam Koran Kay Kavawen Kanruvah Haviear Jargel Kebane Juurl Karie Kanvardp Amary Kmen Kajanjue Kirla Kaman Kaouk Porur Kamet Kanmton Kumdar Kardar Rodan Kerah Kiton Jaaedus Karri Jami\n",
      "----\n",
      "Running Avg Loss:50.92622711181641 at iter: 9300\n",
      "----\n",
      "hon Mumiksy Matak Maktanuse Mardae Maudel Mudeiluh Mamreizan Mibrik Mahay Mahregriiw Mowshyan Mohal Mandi Mon Mamvay Myhos Mixeni Lomian Moahen Mirteusdesuson Mohton Mante Malven Mouur MuMey Mohouhsor\n",
      "----\n",
      "Running Avg Loss:54.605624465942384 at iter: 9400\n",
      "----\n",
      " Sharami Seyshalan Shyarthi Shadgid Riyg Suili Oalabmu Shagand Simuvimur Shedlithe Shin Shawvij Syurdubn Shinor Ellenl Sarv Shanoh Shrink Siavith Smishedn Sarnted Nitsen Sidron Shamao Shallini Shhil S\n",
      "----\n",
      "Running Avg Loss:53.879360618591306 at iter: 9500\n",
      "----\n",
      "Saretiy Zelies Nuny Tosza Ablean Slash Vamoan Omiann Zaikon Malaby Rliith Aavallo Sevilon Yahhes arlan Ceon Trokeonahl Keeley Nard kaytedan Zielin Wer Wyllep nanzrn Anarianul Zaytan chay Adyn Kierten \n",
      "----\n",
      "Running Avg Loss:55.66071220397949 at iter: 9600\n",
      "----\n",
      "ay Sesan Siya Maaygen Adelanty Aziri Belya IBireeleni Kalyr Kiasle Kbasere Mallyn Salytel Manglecar Keyauly Sharaney Allil Lercenc Manilan Maley Saymiyl Alibhann Maalielltaydel Allen Cielli ebelean Ja\n",
      "----\n",
      "Running Avg Loss:53.33537006378174 at iter: 9700\n",
      "----\n",
      "ca Fila Micioth Sureallal Miahlee Ka Leyry Aora ShaliVy Ciepmarnia Mirana Noniah Emeelri Raynai Allah Lilee Millan Samlin Ellian Meldoa Arhhelli Zaane Jea Brasteia Syanea Aser Shaadaale Jaish La Lejat\n",
      "----\n",
      "Running Avg Loss:52.698711738586425 at iter: 9800\n",
      "----\n",
      "nie Adew nancall Msyda Aush Datr Elliat Gorgi Kerdra Railon Zaey Kamipun Kinteala Jalre Mashba Avaree Emay Duvina Kighieiganl Tuselan Siylyn Zeirira Jaydriy Kayub Deisana Eiano Rah Kallia Gavi Wand Jl\n",
      "----\n",
      "Running Avg Loss:53.51084728240967 at iter: 9900\n",
      "----\n",
      " Gailanes Jirlan Valleem Jitaan An Elon Jsyan Zadley Inareimdar Shevyn Deri Junne Ruyna Mesa Cilie Ivon Brbannan Sarn Briish Peylan Haics Gerira Karie Kurisse Rvhthna Elica Laylona Avike Anzan Alyna A\n",
      "----\n",
      "Running Avg Loss:53.92272132873535 at iter: 10000\n",
      "----\n",
      "marare Aphlyn Layah Kamtane ZariBa Aamavenn Jaeelye Juus Kharile Naylenga Eva Jersine SaeltGe Srylia Keemare Alenna Jayia Lorne Lilae Zerna Jashoro Nerissc Aloskela Tarije Merlyna Loriya Tankya Naylia\n",
      "----\n",
      "Running Avg Loss:54.167364540100095 at iter: 10100\n",
      "----\n",
      "e Keythisse Chdara Alli Ralled Cerea Karier Cina Elmave Ahllin Mori Mayly Anan Kavizi Ania Elbarlre Kollyna Fausla Lohyne Riana Ananta Iaziah Brly Dijah Avinn Cyda Trie Beria Elamiey Sallin Marya Anne\n",
      "----\n",
      "Running Avg Loss:53.89722259521484 at iter: 10200\n",
      "----\n",
      "an Abley Azinil Kaccone Marltya Matama Jalan Yala Alelye Ellale CaidenaC Cexlinte Bydelayg Alirsyae Nisar Coshe Madilfh Amine Madcine Najana Nhydsrik Shlinn Rlyey Basyse Kerl Kraera Essye Zabilah Myel\n",
      "----\n",
      "Running Avg Loss:53.64285842895508 at iter: 10300\n",
      "----\n",
      "n Manancea Iblyn Rumid Janni Aleden Jeria Apleei Arria Jlye Azis Miklie Colari Clibe Gryl Sasilyna Paailiza Doslina Kachie Saesa Bmayn Lemahlae Anaaree AluvarmeaE Kalnonn Alixde Azaynin Mellee Sayliin\n",
      "----\n",
      "Running Avg Loss:53.920828361511234 at iter: 10400\n",
      "----\n",
      "Kaigyan Feylan Brareelisa Com Mackayna Antefho Mallay Yagya Rlinlee Amelyn Jelana Lore Jolo Zaelah Hanna Khezlya Mam Akelay Hengemne Karila Jrigo Nemaloma Brrla Anellalay Asdayne Gleleygha Limela Hanr\n",
      "----\n",
      "Running Avg Loss:54.166475257873536 at iter: 10500\n",
      "----\n",
      "rah Astonana Chatas Keefi Kaylen Zavie Izalea Gatandef Elbovta Raatynz Aneleya Kellia Diyena Lilorana Tynahah Sarlridra Alirania Jaelya Zodil Enance Kersaydeh Khidawith Wevalyte Anbekn Gderile Karah M\n",
      "----\n",
      "Running Avg Loss:52.246418228149416 at iter: 10600\n",
      "----\n",
      "imy Zega Keze Kela Brnniann Kaysa Nemael Rrugh Rabkeca Andinn Kellan Mavilei Tenne Killynne Esanna Keesarie Arineva Iasenn Austena Zalee Kalvee Maricn Brala Jestarda Niras Meyza Khece Smatelen Dorisan\n",
      "----\n",
      "Running Avg Loss:53.71571136474609 at iter: 10700\n",
      "----\n",
      "raya Avenna Sin ZeveiZaillla Jinr Hannee Yaila Zelens Selis Taginah Jailann Hamenna Jarmeah Jestanne Aryl Cheray Atenna Anzy Shonnarnanne Evilan Monikh Kori Rona Zullmannann Mavelth Iadayn Siah Avanni\n",
      "----\n",
      "Running Avg Loss:54.82409267425537 at iter: 10800\n",
      "----\n",
      "e Ivaznan Rela Idelle Katy Jena Shalkay Hamingh Shiane Jaitace Alyni Aisar Lacem Lana Zah Axisen Aorashie Ninale Tairo Sasley Bryliigh Lamara Aarna Geanna Ryly Amolulea Aailiea Rulinl Rabe Zaylinne Ya\n",
      "----\n",
      "Running Avg Loss:54.31510780334472 at iter: 10900\n",
      "----\n",
      "en Inex Savza Jaxain Lochi Semeryabn Kenairi Maeea Yarale Johona Reba Rakelyn Raiam Keisen Vyamah Jaziiee Mialin Corea Ellom Laena Saldon Teylyen Sofa Nielee MazanneM Salya Erze Lami Loynha Vahonne Sa\n",
      "----\n",
      "Running Avg Loss:55.18802265167236 at iter: 11000\n",
      "----\n",
      "izaara Camari Cavei Joresta Goa Racsaara Nannel Xusulagetg Amyloz Avimale Harlyn Keylahul Yea iatyan Ailaye Aana Tarynnit Keran Lalli Hanilichydhia Layziero Yonlryah Aley Dafdea Amal Galyd Delyanna Pa\n",
      "----\n",
      "Running Avg Loss:53.38304611206055 at iter: 11100\n",
      "----\n",
      "sah Hozisse Gefliah Junue Dala Bramien Cevoe Emna Kacyna Sosronn Jamahias Joniwle Fiew hiviy Byvon Azalisa Breenr Jeadis Kenariye Rrazaynn Shiun Loa Innwfaymi Lennynn Elli Gieng Jana Lilil Monda Analy\n",
      "----\n",
      "Running Avg Loss:54.20946025848389 at iter: 11200\n",
      "----\n",
      " Lielinolo Aliema Elenka Raflilah Aveor Riasi Dagcelena Bamayli Dyle Eavaeyneste Toreriynnestanama Elyna Dasann Maleieh Jekelannil Deve Tyrina Oatee Aattena Auseah Payden RuXenna Say Aisolen Aramit Sa\n",
      "----\n",
      "Running Avg Loss:53.60734725952148 at iter: 11300\n",
      "----\n",
      "bn Lahshel Saharee Shndekayien Deeyna Ronna Zianiyn Maha Sughirah Kertenon Atyn Khanennni Cikhaninn Aadrinah Brndrelet Mikaynnah Deorannne Elaia Fikan Nenylya Kyryna lananna Nihlyah Rianad Nabna Shman\n",
      "----\n",
      "Running Avg Loss:52.82031768798828 at iter: 11400\n",
      "----\n",
      "izendene INahmeih Brecsane Braunila Anataanann Napso Antea Anrea Amaree AnjahXeond Yozlyytonnn Tytmaedyle Ajeala Anahis Mroria Amilica Alen Aveiton Keea Asin Zernala Allinna Arison Aleilynn Amoninna Y\n",
      "----\n",
      "Running Avg Loss:53.75976665496826 at iter: 11500\n",
      "----\n",
      "i Arpe Viezy Scrius Sighay Undhy Cerlina Lisemi Mash Bryliz Frena Maial Sraleighte Lon Cerlle Camaley Lanivaka Alon Anobel Collona Ellon Srola Arlin Drxla Ise V Yahekiada Keyasla Jemmi Deflya Cadri Fe\n",
      "----\n",
      "Running Avg Loss:53.047696571350095 at iter: 11600\n",
      "----\n",
      "iph Masare MefmygQAdell Daedanta Hangande Zinden Chaies Zani Denga Cangra Bosjah Cslah Anarl Zenne Elleng Lenveiraleiala Tambe Kadi Mahlea Jaylah Eannem Eyre Zhana Emula Slona Elah Kala Parisa Tanna Q\n",
      "----\n",
      "Running Avg Loss:52.06977104187012 at iter: 11700\n",
      "----\n",
      " Damoriellizah KivYa Kerelicey Byxmily Helalee Arzia Kena Oatiybenley Zorayyah Mecarita Delidyli Alrakatna Etzaa Telley Lemy Dollelelloh S Genkirya Elina Celaile Aloston Ardalyat Trize Beaseve Elis Br\n",
      "----\n",
      "Running Avg Loss:53.44733642578125 at iter: 11800\n",
      "----\n",
      "cea Autse Kaylia Taryn Torkiab Ssena Wit Aryadia Jandy Charelle Adetica kraeeah Azla Razlin Kdelaja Hamel Srzl Baleia Denry Drrenn Seridi Bala Ariztal Anlleny Azrarilet Aararronan Sorlia Yariyn Braka \n",
      "----\n",
      "Running Avg Loss:53.525144729614254 at iter: 11900\n",
      "----\n",
      "ziea Trisigha Paylynnn Breynilli Kammera Srit Aver Mafeley Taidinn Zardy Amya Prannin Zasardy Zytzie Bruelynh Tarcte Tadlee Zairah Ratsi Lenrla Dena Wreysser Haciah Tylina Amyly Yulisia Zlex Tymrie Ja\n",
      "----\n",
      "Running Avg Loss:51.50759586334229 at iter: 12000\n",
      "----\n",
      "s Lerli Maroun Hyncrie Nyaniatie Gdelaiah Daksyade Marih Niela Rakeeine Lelie Thyah Mreydaa Khailayno Nika Nujabeana Nitonne Malie Niditi Bllka Nah Brekia Kakba Maliei Lelinn Niskele Vorisly Mielya Ka\n",
      "----\n",
      "Running Avg Loss:52.16242015838623 at iter: 12100\n",
      "----\n",
      "in Kiiki Dhiber Elissh Comee Hatresh Denbryin EllMe Elmen Ullianssia Bnen Elecee Elmereysty Eivim Dobha Cahynann Evbren Emrani CheiWern Elixa Amrila Arilee Herie Emcriye Elashan Matacy Eylynn Emira Ma\n",
      "----\n",
      "Running Avg Loss:51.95837196350098 at iter: 12200\n",
      "----\n",
      "Srisgrya Madirah Somila Suyze Trlah Elana Jakaiuna Nanrion Ciymie Reangiy Natyanna Karliah Ilellyth Luthelahiyah Saeniyna MauTia Dalya Xopharie Ehalyna Sardin Hatsora Kaqiy Dinzayna uannie Sireial Mat\n",
      "----\n",
      "Running Avg Loss:50.622760429382325 at iter: 12300\n",
      "----\n",
      "n SaCrey Ilasie Saleynnna Kunlee Kilusyna Jowine Caylle Jarvya Kauladian Yammona Rawath Kayleyn Jaktyn Briratesta Jonassa Maion Jayi Rorielyne Javeyle Jowa Giesece Naidanist Jostely Ranina Javeelle Ja\n",
      "----\n",
      "Running Avg Loss:52.272880973815916 at iter: 12400\n",
      "----\n",
      " Amarianl Alloore Bliazin Yrima Amalee Angeria Alede Ahalana Adrayna Amiau Amilma Zhegryn Adalye Shamee Adyenda Soria Apran Alriahna Amiusudel Amelah Aviej Zaamha AdisarAn Aazeela Aranna Adalani Alyne\n",
      "----\n",
      "Running Avg Loss:50.34921752929687 at iter: 12500\n",
      "----\n",
      "ilya Jadrasa Kalian Jelly Kemaan Jabne Kazin Kissan Jielanne Ghaysa Hiami Hulea Hasyl Chiresss Jovsle Jemade Mieulonaxah Valbema Iemalah Issona Dyshie Gevel Chgelen Justelle Kolah Gyaylyl Erish Jahlee\n",
      "----\n",
      "Running Avg Loss:52.07201358795166 at iter: 12600\n",
      "----\n",
      "shsolee Sariya Kajes Trari Satrin Melie Sobalia Toraidra Nadekora Oleamee Siyla Shoria Samrayo Toope Vamaey Shaysa Saryca Nirisi Sera Tuphaley Shmago Emmuuvi Mrele Viamballiruna Taozai Eaniorer Mavaig\n",
      "----\n",
      "Running Avg Loss:49.66210411071777 at iter: 12700\n",
      "----\n",
      "tta Dayena Diptea Bllana Chenzee Drisa Datranni Carlynlanna Alenah Dilin Dawahy Dryea Caratia Degilaajaena Carlka Desyana Dalislanelah Kytiaha Dalynnee Xasudah Brattena Caral Jaivi Delly Dcrnyle Densh\n",
      "----\n",
      "Running Avg Loss:50.761286888122555 at iter: 12800\n",
      "----\n",
      " Nanic Canpye Zuler Loulaana Larten Longen Luzunna Chyegh Lreyi Loonnep Lacyah Ladee Pruypanne Ladhe Rundah Tiozz Lilyn Leqelyn Linhis Grenzuline Kynderal Lelah Kalyce Lessona Laliya Likiinn Lyouylee \n",
      "----\n",
      "Running Avg Loss:52.236007385253906 at iter: 12900\n",
      "----\n",
      "iah Yaana Rikoiiske Yerisa Viya Seilen Beleno Telin Yaku Yaiellya Vullir NariqhZi Icka Bdelea Awas Pyndalie Dille Tarah Tecidia Tellenz Heelin Yucpyia Puvi Emmiliyu anannoh Sadana Yuriel Solinak Irari\n",
      "----\n",
      "Running Avg Loss:48.1693839263916 at iter: 13000\n",
      "----\n",
      " Doklle Dajalya Daloi Dyahi Daysa Dadice Denni Daycess Demdr Dareym Yareanne Darincka Delysh Delle Dathane Dista Dela Devanaile Duriste Chennalle Daiseciani Doraire Dachanny Dezie nallynoi Devi Dareen\n",
      "----\n",
      "Running Avg Loss:50.05954158782959 at iter: 13100\n",
      "----\n",
      "sall Kaish Kerle Nalairi Rorori Kilyna Kariah Ihawriea Khiza Graitsin Kharre Kurvicer Marreina Khrisi Khanwth JanbaXlil Kerrie Kima Kharis Khini Jenhlla Kellicna Keszinas Kelinnan Kilen Gordeeyana Kri\n",
      "----\n",
      "Running Avg Loss:51.373756866455075 at iter: 13200\n",
      "----\n",
      "rin Shvi Shylah Shrilah Sharey Shylena Rensaian Sadrith Shakhallinn Sajah Smeryeh haahats Shabmaisha Rarifh Shilyy Seel Orhera Samoje Issye Shanhhayan Sshiah Rhya Shsa Sopha Shaysa Shelana Shilah Sone\n",
      "----\n",
      "Running Avg Loss:49.40000240325928 at iter: 13300\n",
      "----\n",
      "a Asodie Ancaree Adoynn Amide Wingya Aumina Analiy Alener Anqabrah Ajavaie Aslith Alvaie Avelyd Praine Ausely Anlata Aavyan Anilie Aibrounn Anltha Allahna Izalici Ashiom Adree Ahli Acilsi Astaris Skel\n",
      "----\n",
      "Running Avg Loss:50.4946484375 at iter: 13400\n",
      "----\n",
      "e Horeya Hadi Harisiale Hlaatessee Croriah Gorurefge Helel Coazries Hakisi Heja Conorda Hastel Ollisiah Hanyell Hogi Halbi Hianna Haosin Hilin Roh Hoasrion Jasia Hulle Haisie Kitmish Hyrili Hanisle Ha\n",
      "----\n",
      "Running Avg Loss:46.90028587341308 at iter: 13500\n",
      "----\n",
      " Lalaiya Lanyah Laylan Lae Larilla Lallyn Latiyayna Lerrye Lathan Jayana Lalahalera Lena Eilenah Linele Kotleih Lasauleh Khylin Kihia Luunlallah Inoany Jadenra Leiterah Larey Lanii Kimalian Lumiele La\n",
      "----\n",
      "Running Avg Loss:51.82653326034546 at iter: 13600\n",
      "----\n",
      "ni Morashia Rikalange Reynn Pensoka Raenchelle Rurae Rengles Roymestan Razyssie Reriah Eygan Pelvelie Ronmaki Ramesten Remela Ratil Rebeys Natayter Lecsarghigns Keryee Rlamam Remeel Reeennni Reylvi Ru\n",
      "----\n",
      "Running Avg Loss:51.79475257873535 at iter: 13700\n",
      "----\n",
      "a Adeli Ahalyi Adbesh Adienn Aodie Puynn Anna Alasaiyah Adrila Adaley Amsari Agharba Adele Azmina Anroe Yuvah Admori Arlinn Aahela Amilile Addia Aana Zardanah Adni Arli Atsaina Aghah Azmanat Anday Adi\n",
      "----\n",
      "Running Avg Loss:46.55660682678223 at iter: 13800\n",
      "----\n",
      "n Caktar Kama Taxti Amarira Zaygnn Cang Cakamaja Narkiya Caluba Caliy Clusa Cenriandh Kili Vallee Canely Cailona  Cheay Brdera Chanseia Carynan Jamyla Cayleon Chenna Careea Ckeebi Carisarn Charlyna Al\n",
      "----\n",
      "Running Avg Loss:48.86220697402954 at iter: 13900\n",
      "----\n",
      "ebr Rhyzaniah Rarvanna Gorin Gehdre Griman Ronhen Gienneh Enynan Grareneyin Glynne Gulley Grorarey GraviConnenh Genilyn Gydrdiy Gramalyn ZaGbeitbwe Greenze Gusyani Fvocheph Kyndabdyn Fhyvly Grlyndore \n",
      "----\n",
      "Running Avg Loss:46.8651958656311 at iter: 14000\n",
      "----\n",
      "h Komeee Kacelia Kavan Kizyje Kenha Jidelee Jaisin Kingalyn Kalilengree Kyamone Keynilyneli Kayday Kyelse Kaeeyann Keryahally Karemi Kamerya Kaictyz Emyayny Zavynlea Kartynah Khmrayn Kaiey Karde Kamiy\n",
      "----\n",
      "Running Avg Loss:48.586080169677736 at iter: 14100\n",
      "----\n",
      "ylley Mallah Massia Maktylya Malaandanna Margare Macasanka Laesha Merynh Monia Mikiaidwa Maighna Lahith Mesona Mahileam Mariysh Maky Matt Jikde Kayde Myanjah LacreeaDannullyd Majaris Milaniainon Miah \n"
     ]
    },
    {
     "ename": "KeyboardInterrupt",
     "evalue": "",
     "output_type": "error",
     "traceback": [
      "\u001b[1;31m---------------------------------------------------------------------------\u001b[0m",
      "\u001b[1;31mKeyboardInterrupt\u001b[0m                         Traceback (most recent call last)",
      "\u001b[1;32m<ipython-input-163-c2570819f049>\u001b[0m in \u001b[0;36m<module>\u001b[1;34m()\u001b[0m\n\u001b[0;32m      7\u001b[0m         \u001b[1;32mfor\u001b[0m \u001b[0mch_id\u001b[0m \u001b[1;32min\u001b[0m \u001b[0mrange\u001b[0m\u001b[1;33m(\u001b[0m\u001b[0mlen\u001b[0m\u001b[1;33m(\u001b[0m\u001b[0mX_batch\u001b[0m\u001b[1;33m)\u001b[0m\u001b[1;33m)\u001b[0m\u001b[1;33m:\u001b[0m\u001b[1;33m\u001b[0m\u001b[0m\n\u001b[0;32m      8\u001b[0m             \u001b[0my_score\u001b[0m\u001b[1;33m,\u001b[0m \u001b[0mh_prev\u001b[0m \u001b[1;33m=\u001b[0m \u001b[0mrnn\u001b[0m\u001b[1;33m(\u001b[0m\u001b[0mX_batch\u001b[0m\u001b[1;33m[\u001b[0m\u001b[0mch_id\u001b[0m\u001b[1;33m]\u001b[0m\u001b[1;33m,\u001b[0m \u001b[0mh_prev\u001b[0m\u001b[1;33m)\u001b[0m\u001b[1;33m\u001b[0m\u001b[0m\n\u001b[1;32m----> 9\u001b[1;33m             \u001b[0mloss\u001b[0m \u001b[1;33m=\u001b[0m \u001b[0mloss_fn\u001b[0m\u001b[1;33m(\u001b[0m\u001b[0my_score\u001b[0m\u001b[1;33m.\u001b[0m\u001b[0mview\u001b[0m\u001b[1;33m(\u001b[0m\u001b[1;36m1\u001b[0m\u001b[1;33m,\u001b[0m\u001b[1;33m-\u001b[0m\u001b[1;36m1\u001b[0m\u001b[1;33m)\u001b[0m\u001b[1;33m,\u001b[0m \u001b[0my_batch\u001b[0m\u001b[1;33m[\u001b[0m\u001b[0mch_id\u001b[0m\u001b[1;33m]\u001b[0m\u001b[1;33m.\u001b[0m\u001b[0mview\u001b[0m\u001b[1;33m(\u001b[0m\u001b[1;36m1\u001b[0m\u001b[1;33m)\u001b[0m\u001b[1;33m)\u001b[0m\u001b[1;33m\u001b[0m\u001b[0m\n\u001b[0m\u001b[0;32m     10\u001b[0m             \u001b[0mbatch_loss\u001b[0m \u001b[1;33m+=\u001b[0m \u001b[0mloss\u001b[0m\u001b[1;33m\u001b[0m\u001b[0m\n\u001b[0;32m     11\u001b[0m         \u001b[0moptimizer\u001b[0m\u001b[1;33m.\u001b[0m\u001b[0mzero_grad\u001b[0m\u001b[1;33m(\u001b[0m\u001b[1;33m)\u001b[0m\u001b[1;33m\u001b[0m\u001b[0m\n",
      "\u001b[1;32mC:\\Program Files (x86)\\Python\\Anaconda\\envs\\py36\\lib\\site-packages\\torch\\nn\\modules\\module.py\u001b[0m in \u001b[0;36m__call__\u001b[1;34m(self, *input, **kwargs)\u001b[0m\n\u001b[0;32m    489\u001b[0m             \u001b[0mresult\u001b[0m \u001b[1;33m=\u001b[0m \u001b[0mself\u001b[0m\u001b[1;33m.\u001b[0m\u001b[0m_slow_forward\u001b[0m\u001b[1;33m(\u001b[0m\u001b[1;33m*\u001b[0m\u001b[0minput\u001b[0m\u001b[1;33m,\u001b[0m \u001b[1;33m**\u001b[0m\u001b[0mkwargs\u001b[0m\u001b[1;33m)\u001b[0m\u001b[1;33m\u001b[0m\u001b[0m\n\u001b[0;32m    490\u001b[0m         \u001b[1;32melse\u001b[0m\u001b[1;33m:\u001b[0m\u001b[1;33m\u001b[0m\u001b[0m\n\u001b[1;32m--> 491\u001b[1;33m             \u001b[0mresult\u001b[0m \u001b[1;33m=\u001b[0m \u001b[0mself\u001b[0m\u001b[1;33m.\u001b[0m\u001b[0mforward\u001b[0m\u001b[1;33m(\u001b[0m\u001b[1;33m*\u001b[0m\u001b[0minput\u001b[0m\u001b[1;33m,\u001b[0m \u001b[1;33m**\u001b[0m\u001b[0mkwargs\u001b[0m\u001b[1;33m)\u001b[0m\u001b[1;33m\u001b[0m\u001b[0m\n\u001b[0m\u001b[0;32m    492\u001b[0m         \u001b[1;32mfor\u001b[0m \u001b[0mhook\u001b[0m \u001b[1;32min\u001b[0m \u001b[0mself\u001b[0m\u001b[1;33m.\u001b[0m\u001b[0m_forward_hooks\u001b[0m\u001b[1;33m.\u001b[0m\u001b[0mvalues\u001b[0m\u001b[1;33m(\u001b[0m\u001b[1;33m)\u001b[0m\u001b[1;33m:\u001b[0m\u001b[1;33m\u001b[0m\u001b[0m\n\u001b[0;32m    493\u001b[0m             \u001b[0mhook_result\u001b[0m \u001b[1;33m=\u001b[0m \u001b[0mhook\u001b[0m\u001b[1;33m(\u001b[0m\u001b[0mself\u001b[0m\u001b[1;33m,\u001b[0m \u001b[0minput\u001b[0m\u001b[1;33m,\u001b[0m \u001b[0mresult\u001b[0m\u001b[1;33m)\u001b[0m\u001b[1;33m\u001b[0m\u001b[0m\n",
      "\u001b[1;32mC:\\Program Files (x86)\\Python\\Anaconda\\envs\\py36\\lib\\site-packages\\torch\\nn\\modules\\loss.py\u001b[0m in \u001b[0;36mforward\u001b[1;34m(self, input, target)\u001b[0m\n\u001b[0;32m    757\u001b[0m         \u001b[0m_assert_no_grad\u001b[0m\u001b[1;33m(\u001b[0m\u001b[0mtarget\u001b[0m\u001b[1;33m)\u001b[0m\u001b[1;33m\u001b[0m\u001b[0m\n\u001b[0;32m    758\u001b[0m         return F.cross_entropy(input, target, self.weight, self.size_average,\n\u001b[1;32m--> 759\u001b[1;33m                                self.ignore_index, self.reduce)\n\u001b[0m\u001b[0;32m    760\u001b[0m \u001b[1;33m\u001b[0m\u001b[0m\n\u001b[0;32m    761\u001b[0m \u001b[1;33m\u001b[0m\u001b[0m\n",
      "\u001b[1;32mC:\\Program Files (x86)\\Python\\Anaconda\\envs\\py36\\lib\\site-packages\\torch\\nn\\functional.py\u001b[0m in \u001b[0;36mcross_entropy\u001b[1;34m(input, target, weight, size_average, ignore_index, reduce)\u001b[0m\n\u001b[0;32m   1440\u001b[0m         \u001b[1;33m>>\u001b[0m\u001b[1;33m>\u001b[0m \u001b[0mloss\u001b[0m\u001b[1;33m.\u001b[0m\u001b[0mbackward\u001b[0m\u001b[1;33m(\u001b[0m\u001b[1;33m)\u001b[0m\u001b[1;33m\u001b[0m\u001b[0m\n\u001b[0;32m   1441\u001b[0m     \"\"\"\n\u001b[1;32m-> 1442\u001b[1;33m     \u001b[1;32mreturn\u001b[0m \u001b[0mnll_loss\u001b[0m\u001b[1;33m(\u001b[0m\u001b[0mlog_softmax\u001b[0m\u001b[1;33m(\u001b[0m\u001b[0minput\u001b[0m\u001b[1;33m,\u001b[0m \u001b[1;36m1\u001b[0m\u001b[1;33m)\u001b[0m\u001b[1;33m,\u001b[0m \u001b[0mtarget\u001b[0m\u001b[1;33m,\u001b[0m \u001b[0mweight\u001b[0m\u001b[1;33m,\u001b[0m \u001b[0msize_average\u001b[0m\u001b[1;33m,\u001b[0m \u001b[0mignore_index\u001b[0m\u001b[1;33m,\u001b[0m \u001b[0mreduce\u001b[0m\u001b[1;33m)\u001b[0m\u001b[1;33m\u001b[0m\u001b[0m\n\u001b[0m\u001b[0;32m   1443\u001b[0m \u001b[1;33m\u001b[0m\u001b[0m\n\u001b[0;32m   1444\u001b[0m \u001b[1;33m\u001b[0m\u001b[0m\n",
      "\u001b[1;32mC:\\Program Files (x86)\\Python\\Anaconda\\envs\\py36\\lib\\site-packages\\torch\\nn\\functional.py\u001b[0m in \u001b[0;36mnll_loss\u001b[1;34m(input, target, weight, size_average, ignore_index, reduce)\u001b[0m\n\u001b[0;32m   1330\u001b[0m                          .format(input.size(0), target.size(0)))\n\u001b[0;32m   1331\u001b[0m     \u001b[1;32mif\u001b[0m \u001b[0mdim\u001b[0m \u001b[1;33m==\u001b[0m \u001b[1;36m2\u001b[0m\u001b[1;33m:\u001b[0m\u001b[1;33m\u001b[0m\u001b[0m\n\u001b[1;32m-> 1332\u001b[1;33m         \u001b[1;32mreturn\u001b[0m \u001b[0mtorch\u001b[0m\u001b[1;33m.\u001b[0m\u001b[0m_C\u001b[0m\u001b[1;33m.\u001b[0m\u001b[0m_nn\u001b[0m\u001b[1;33m.\u001b[0m\u001b[0mnll_loss\u001b[0m\u001b[1;33m(\u001b[0m\u001b[0minput\u001b[0m\u001b[1;33m,\u001b[0m \u001b[0mtarget\u001b[0m\u001b[1;33m,\u001b[0m \u001b[0mweight\u001b[0m\u001b[1;33m,\u001b[0m \u001b[0msize_average\u001b[0m\u001b[1;33m,\u001b[0m \u001b[0mignore_index\u001b[0m\u001b[1;33m,\u001b[0m \u001b[0mreduce\u001b[0m\u001b[1;33m)\u001b[0m\u001b[1;33m\u001b[0m\u001b[0m\n\u001b[0m\u001b[0;32m   1333\u001b[0m     \u001b[1;32melif\u001b[0m \u001b[0mdim\u001b[0m \u001b[1;33m==\u001b[0m \u001b[1;36m4\u001b[0m\u001b[1;33m:\u001b[0m\u001b[1;33m\u001b[0m\u001b[0m\n\u001b[0;32m   1334\u001b[0m         \u001b[1;32mreturn\u001b[0m \u001b[0mtorch\u001b[0m\u001b[1;33m.\u001b[0m\u001b[0m_C\u001b[0m\u001b[1;33m.\u001b[0m\u001b[0m_nn\u001b[0m\u001b[1;33m.\u001b[0m\u001b[0mnll_loss2d\u001b[0m\u001b[1;33m(\u001b[0m\u001b[0minput\u001b[0m\u001b[1;33m,\u001b[0m \u001b[0mtarget\u001b[0m\u001b[1;33m,\u001b[0m \u001b[0mweight\u001b[0m\u001b[1;33m,\u001b[0m \u001b[0msize_average\u001b[0m\u001b[1;33m,\u001b[0m \u001b[0mignore_index\u001b[0m\u001b[1;33m,\u001b[0m \u001b[0mreduce\u001b[0m\u001b[1;33m)\u001b[0m\u001b[1;33m\u001b[0m\u001b[0m\n",
      "\u001b[1;31mKeyboardInterrupt\u001b[0m: "
     ]
    }
   ],
   "source": [
    "all_losses = []\n",
    "for epoch in range(10):    \n",
    "    for batch in get_batch(X_train, y_train, seq_length):\n",
    "        batch_loss = torch.tensor(0.0)\n",
    "        X_batch, y_batch = batch\n",
    "        h_prev = rnn.init_h()\n",
    "        for ch_id in range(len(X_batch)):\n",
    "            y_score, h_prev = rnn(X_batch[ch_id], h_prev)\n",
    "            loss = loss_fn(y_score.view(1,-1), y_batch[ch_id].view(1))\n",
    "            batch_loss += loss\n",
    "        optimizer.zero_grad() \n",
    "        batch_loss.backward()\n",
    "        for p in rnn.parameters():\n",
    "            p.grad = torch.clamp(p.grad, -5,5)\n",
    "        optimizer.step()\n",
    "        all_losses.append(batch_loss.item())\n",
    "        if len(all_losses)%100==0:\n",
    "            print(f'----\\nRunning Avg Loss:{np.mean(all_losses[-100:])} at iter: {len(all_losses)}\\n----')  \n",
    "            print(sample_chars(X_batch[ch_id], h_prev, 200))"
   ]
  },
  {
   "cell_type": "code",
   "execution_count": 164,
   "metadata": {},
   "outputs": [
    {
     "data": {
      "text/plain": [
       "54.59363235493567"
      ]
     },
     "execution_count": 164,
     "metadata": {},
     "output_type": "execute_result"
    }
   ],
   "source": [
    "np.mean(all_losses)"
   ]
  },
  {
   "cell_type": "code",
   "execution_count": 165,
   "metadata": {},
   "outputs": [
    {
     "data": {
      "text/plain": [
       "54.59363235493567"
      ]
     },
     "execution_count": 165,
     "metadata": {},
     "output_type": "execute_result"
    }
   ],
   "source": [
    "np.mean(all_losses)"
   ]
  },
  {
   "cell_type": "code",
   "execution_count": 166,
   "metadata": {},
   "outputs": [
    {
     "data": {
      "text/plain": [
       "[<matplotlib.lines.Line2D at 0x293b70b8>]"
      ]
     },
     "execution_count": 166,
     "metadata": {},
     "output_type": "execute_result"
    },
    {
     "data": {
      "image/png": "[encoded data removed]",
      "text/plain": [
       "<matplotlib.figure.Figure at 0x290ec908>"
      ]
     },
     "metadata": {},
     "output_type": "display_data"
    }
   ],
   "source": [
    "plt.plot(range(len(all_losses[50:])), all_losses[50:])"
   ]
  },
  {
   "cell_type": "code",
   "execution_count": 60,
   "metadata": {},
   "outputs": [
    {
     "data": {
      "text/plain": [
       "[<matplotlib.lines.Line2D at 0x2db7f5c0>]"
      ]
     },
     "execution_count": 60,
     "metadata": {},
     "output_type": "execute_result"
    },
    {
     "data": {
      "image/png": "[encoded data removed]",
      "text/plain": [
       "<matplotlib.figure.Figure at 0x29e2f860>"
      ]
     },
     "metadata": {},
     "output_type": "display_data"
    }
   ],
   "source": [
    "plt.plot(range(len(all_losses[50:])), all_losses[50:])"
   ]
  },
  {
   "cell_type": "code",
   "execution_count": 167,
   "metadata": {
    "collapsed": false,
    "scrolled": false
   },
   "outputs": [
    {
     "data": {
      "text/plain": [
       "(array([43.,  4.,  1.,  2.,  1.,  2.,  0.,  0.,  0., 47.]),\n",
       " array([-9.99999940e-01, -8.00000036e-01, -6.00000131e-01, -4.00000226e-01,\n",
       "        -2.00000322e-01, -4.17232513e-07,  1.99999487e-01,  3.99999392e-01,\n",
       "         5.99999297e-01,  7.99999201e-01,  9.99999106e-01]),\n",
       " <a list of 10 Patch objects>)"
      ]
     },
     "execution_count": 167,
     "metadata": {},
     "output_type": "execute_result"
    },
    {
     "data": {
      "image/png": "[encoded data removed]",
      "text/plain": [
       "<matplotlib.figure.Figure at 0x2939d0f0>"
      ]
     },
     "metadata": {},
     "output_type": "display_data"
    }
   ],
   "source": [
    "plt.hist(h_prev.detach().numpy())"
   ]
  },
  {
   "cell_type": "code",
   "execution_count": 169,
   "metadata": {
    "collapsed": false,
    "scrolled": true
   },
   "outputs": [
    {
     "name": "stdout",
     "output_type": "stream",
     "text": [
      "aliansanne Maiucay Sazliny Ronayda Kaitha OhaNine Rakeye Cayna Rakona Raximi Omzijia Kaxe Komi Rarki Jweny Roci Raylya Hemsy Maadi Ramabalyjay Rurisia Tenania Risbaetsy Rokam arokoa Meanh Saivah Rerena Desjaa Maysia Lyahh Kaiaidyia Rarria Kadisahi Paidey Rralee Ronaysia Raiah Nays Raanailie Raithahta Merjia Rytae Rin Reke Masielee Maxs Reighi Khaesa Rinay Leitha Radlioma Rhanie Ryestolina Nyusarinah Sewde Poa Ruod Rameyza Rasoraen Panisa Mofayah Rayongelan Ranen Raikalia Roriea Itachasa Rahri Ra\n"
     ]
    }
   ],
   "source": [
    "print(sample_chars(X_batch[5], rnn.init_h(), 500))"
   ]
  },
  {
   "cell_type": "code",
   "execution_count": null,
   "metadata": {},
   "outputs": [],
   "source": []
  }
 ],
 "metadata": {
  "anaconda-cloud": {},
  "kernelspec": {
   "display_name": "Python 3",
   "language": "python",
   "name": "python3"
  },
  "language_info": {
   "codemirror_mode": {
    "name": "ipython",
    "version": 3
   },
   "file_extension": ".py",
   "mimetype": "text/x-python",
   "name": "python",
   "nbconvert_exporter": "python",
   "pygments_lexer": "ipython3",
   "version": "3.6.2"
  }
 },
 "nbformat": 4,
 "nbformat_minor": 2
}
