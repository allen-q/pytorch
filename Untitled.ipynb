{
 "cells": [
  {
   "cell_type": "code",
   "execution_count": 1,
   "metadata": {
    "collapsed": true
   },
   "outputs": [],
   "source": [
    "import pandas as pd\n",
    "import numpy as np\n",
    "\n",
    "def fuzzy_match(cus1, cus2):\n",
    "    cus1_str = list(str(cus1))\n",
    "    cus2_str = list(str(cus2))\n",
    "\n",
    "    if (np.array(cus1_str)!=np.array(cus2_str)).sum()<=1:\n",
    "        return 'Match'\n",
    "    else:\n",
    "        return 'No Match'\n",
    "\n",
    "df = pd.read_clipboard()\n",
    "\n",
    "df['Match'] = df.apply(lambda x: fuzzy_match(x['cus1'], x['cus2']), axis=1)\n",
    "\n",
    "df.to_csv('fuzzy_match_check.csv')"
   ]
  },
  {
   "cell_type": "code",
   "execution_count": null,
   "metadata": {
    "collapsed": true
   },
   "outputs": [],
   "source": []
  }
 ],
 "metadata": {
  "kernelspec": {
   "display_name": "Python 3",
   "language": "python",
   "name": "python3"
  },
  "language_info": {
   "codemirror_mode": {
    "name": "ipython",
    "version": 3
   },
   "file_extension": ".py",
   "mimetype": "text/x-python",
   "name": "python",
   "nbconvert_exporter": "python",
   "pygments_lexer": "ipython3",
   "version": "3.6.2"
  }
 },
 "nbformat": 4,
 "nbformat_minor": 2
}
