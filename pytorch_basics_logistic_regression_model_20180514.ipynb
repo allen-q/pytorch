{
 "cells": [
  {
   "cell_type": "markdown",
   "metadata": {},
   "source": [
    "## Create some toy data"
   ]
  },
  {
   "cell_type": "code",
   "execution_count": 1,
   "metadata": {
    "collapsed": true
   },
   "outputs": [],
   "source": [
    "import torch\n",
    "import torch.nn as nn\n",
    "import numpy as np\n",
    "import matplotlib.pyplot as plt\n",
    "from sklearn import datasets\n",
    "% matplotlib inline"
   ]
  },
  {
   "cell_type": "code",
   "execution_count": 2,
   "metadata": {},
   "outputs": [],
   "source": [
    "iris = datasets.load_iris()"
   ]
  },
  {
   "cell_type": "code",
   "execution_count": 3,
   "metadata": {
    "collapsed": true
   },
   "outputs": [],
   "source": [
    "x_train = iris.data[:,:2].astype(np.float32)"
   ]
  },
  {
   "cell_type": "code",
   "execution_count": 4,
   "metadata": {},
   "outputs": [],
   "source": [
    "y_train = iris.target.astype(np.int64)"
   ]
  },
  {
   "cell_type": "markdown",
   "metadata": {},
   "source": [
    "## Create a Linear Model"
   ]
  },
  {
   "cell_type": "code",
   "execution_count": 5,
   "metadata": {
    "collapsed": true
   },
   "outputs": [],
   "source": [
    "model = nn.Linear(2,3) # 2 features and 3 classes"
   ]
  },
  {
   "cell_type": "markdown",
   "metadata": {},
   "source": [
    "## Define Loss Functions and Optimizer"
   ]
  },
  {
   "cell_type": "code",
   "execution_count": 6,
   "metadata": {
    "collapsed": true
   },
   "outputs": [],
   "source": [
    "loss_fn = nn.CrossEntropyLoss()\n",
    "optimizer = torch.optim.SGD(model.parameters(), lr=0.01)"
   ]
  },
  {
   "cell_type": "markdown",
   "metadata": {},
   "source": [
    "## Sanity Check"
   ]
  },
  {
   "cell_type": "code",
   "execution_count": 7,
   "metadata": {},
   "outputs": [],
   "source": [
    "pred_score = model(torch.from_numpy(x_train))"
   ]
  },
  {
   "cell_type": "code",
   "execution_count": 8,
   "metadata": {
    "collapsed": true
   },
   "outputs": [],
   "source": [
    "loss_fn = nn.CrossEntropyLoss()"
   ]
  },
  {
   "cell_type": "code",
   "execution_count": 9,
   "metadata": {},
   "outputs": [
    {
     "data": {
      "text/plain": [
       "tensor(3.6927)"
      ]
     },
     "execution_count": 9,
     "metadata": {},
     "output_type": "execute_result"
    }
   ],
   "source": [
    "loss_fn(pred_score, torch.from_numpy(y_train))"
   ]
  },
  {
   "cell_type": "markdown",
   "metadata": {},
   "source": [
    "### Manually work out the loss"
   ]
  },
  {
   "cell_type": "code",
   "execution_count": 10,
   "metadata": {
    "collapsed": true
   },
   "outputs": [],
   "source": [
    "# For cross entrophy loss, the raw scores are interpreted as the un-normalized log probabilities for each class\n",
    "# so first we raise the score by the power of e to get the un-normalized probabilities\n",
    "pred_prob = np.exp(pred_score.data.numpy())"
   ]
  },
  {
   "cell_type": "code",
   "execution_count": 11,
   "metadata": {},
   "outputs": [],
   "source": [
    "# then we normalize the probabilities so that they sum up to one for each sample\n",
    "pred_prob = pred_prob/pred_prob.sum(1).reshape(pred_prob.shape[0],-1)"
   ]
  },
  {
   "cell_type": "code",
   "execution_count": 12,
   "metadata": {},
   "outputs": [
    {
     "data": {
      "text/plain": [
       "True"
      ]
     },
     "execution_count": 12,
     "metadata": {},
     "output_type": "execute_result"
    }
   ],
   "source": [
    "# Check the probabilities sum to 1 for all samples\n",
    "np.allclose(pred_prob.sum(1),1)"
   ]
  },
  {
   "cell_type": "markdown",
   "metadata": {},
   "source": [
    "### Calculate the loss using the formula below:"
   ]
  },
  {
   "cell_type": "markdown",
   "metadata": {},
   "source": [
    "$$ L = { \\frac{1}{m}\\sum_i -\\log\\left(\\frac{e^{f_{y_i}}}{ \\sum_j e^{f_j} }\\right) }  $$"
   ]
  },
  {
   "cell_type": "code",
   "execution_count": 13,
   "metadata": {
    "scrolled": true
   },
   "outputs": [
    {
     "data": {
      "text/plain": [
       "3.6926775"
      ]
     },
     "execution_count": 13,
     "metadata": {},
     "output_type": "execute_result"
    }
   ],
   "source": [
    "np.mean(-np.log(np.choose(y_train.astype(int),pred_prob.T)))"
   ]
  },
  {
   "cell_type": "code",
   "execution_count": 14,
   "metadata": {},
   "outputs": [
    {
     "data": {
      "text/plain": [
       "tensor(3.6927)"
      ]
     },
     "execution_count": 14,
     "metadata": {},
     "output_type": "execute_result"
    }
   ],
   "source": [
    "loss_fn(pred_score, torch.from_numpy(y_train))"
   ]
  },
  {
   "cell_type": "markdown",
   "metadata": {},
   "source": [
    "### The loss is the same calculated by CrossEntropyLoss function"
   ]
  },
  {
   "cell_type": "markdown",
   "metadata": {},
   "source": [
    "## Train the model"
   ]
  },
  {
   "cell_type": "code",
   "execution_count": 15,
   "metadata": {},
   "outputs": [
    {
     "name": "stdout",
     "output_type": "stream",
     "text": [
      "loss:0.7182548642158508 at epoch 1000\n",
      "loss:0.6270230412483215 at epoch 2000\n",
      "loss:0.5846993327140808 at epoch 3000\n",
      "loss:0.5591156482696533 at epoch 4000\n",
      "loss:0.5413665771484375 at epoch 5000\n",
      "loss:0.5279906392097473 at epoch 6000\n",
      "loss:0.5173496007919312 at epoch 7000\n",
      "loss:0.5085604786872864 at epoch 8000\n",
      "loss:0.5011008977890015 at epoch 9000\n",
      "loss:0.4946405589580536 at epoch 10000\n",
      "loss:0.48895761370658875 at epoch 11000\n",
      "loss:0.4838975965976715 at epoch 12000\n",
      "loss:0.4793480932712555 at epoch 13000\n",
      "loss:0.4752250015735626 at epoch 14000\n",
      "loss:0.4714641869068146 at epoch 15000\n",
      "loss:0.4680148959159851 at epoch 16000\n",
      "loss:0.4648366868495941 at epoch 17000\n",
      "loss:0.46189677715301514 at epoch 18000\n",
      "loss:0.4591677486896515 at epoch 19000\n",
      "loss:0.456626832485199 at epoch 20000\n",
      "loss:0.45425501465797424 at epoch 21000\n",
      "loss:0.4520356357097626 at epoch 22000\n",
      "loss:0.4499545395374298 at epoch 23000\n",
      "loss:0.44799932837486267 at epoch 24000\n",
      "loss:0.4461590647697449 at epoch 25000\n",
      "loss:0.44442427158355713 at epoch 26000\n",
      "loss:0.44278666377067566 at epoch 27000\n",
      "loss:0.4412383437156677 at epoch 28000\n",
      "loss:0.43977296352386475 at epoch 29000\n",
      "loss:0.4383839964866638 at epoch 30000\n",
      "loss:0.4370664358139038 at epoch 31000\n",
      "loss:0.4358147084712982 at epoch 32000\n",
      "loss:0.4346247911453247 at epoch 33000\n",
      "loss:0.4334924817085266 at epoch 34000\n",
      "loss:0.43241408467292786 at epoch 35000\n",
      "loss:0.4313856363296509 at epoch 36000\n",
      "loss:0.4304049611091614 at epoch 37000\n",
      "loss:0.429468035697937 at epoch 38000\n",
      "loss:0.4285731017589569 at epoch 39000\n",
      "loss:0.4277169406414032 at epoch 40000\n",
      "loss:0.42689773440361023 at epoch 41000\n",
      "loss:0.4261130392551422 at epoch 42000\n",
      "loss:0.4253615140914917 at epoch 43000\n",
      "loss:0.42464056611061096 at epoch 44000\n",
      "loss:0.4239489734172821 at epoch 45000\n",
      "loss:0.4232848882675171 at epoch 46000\n",
      "loss:0.4226471781730652 at epoch 47000\n",
      "loss:0.4220340847969055 at epoch 48000\n",
      "loss:0.42144444584846497 at epoch 49000\n",
      "loss:0.4208770990371704 at epoch 50000\n"
     ]
    }
   ],
   "source": [
    "for epoch in range(1, 50001):\n",
    "    pred_score = model(torch.from_numpy(x_train))\n",
    "    loss = loss_fn(pred_score, torch.from_numpy(y_train))\n",
    "    optimizer.zero_grad()\n",
    "    loss.backward()\n",
    "    optimizer.step()\n",
    "    if epoch%1000==0:\n",
    "        print(f'loss:{loss} at epoch {epoch}')"
   ]
  },
  {
   "cell_type": "code",
   "execution_count": 16,
   "metadata": {
    "collapsed": true
   },
   "outputs": [],
   "source": [
    "def predict(m, X):\n",
    "    if isinstance(X, np.ndarray):\n",
    "        X = torch.from_numpy(X.astype(np.float32))\n",
    "    pred_score = m(X)\n",
    "    return pred_score.max(1)[1]"
   ]
  },
  {
   "cell_type": "markdown",
   "metadata": {},
   "source": [
    "## Plot the decision boundary"
   ]
  },
  {
   "cell_type": "markdown",
   "metadata": {},
   "source": [
    "### Create a mesh grid"
   ]
  },
  {
   "cell_type": "code",
   "execution_count": 17,
   "metadata": {
    "collapsed": true
   },
   "outputs": [],
   "source": [
    "x1_min, x2_min = x_train.min(0)-0.5"
   ]
  },
  {
   "cell_type": "code",
   "execution_count": 18,
   "metadata": {
    "collapsed": true
   },
   "outputs": [],
   "source": [
    "x1_max, x2_max = x_train.max(0)+0.5"
   ]
  },
  {
   "cell_type": "code",
   "execution_count": 19,
   "metadata": {},
   "outputs": [],
   "source": [
    "x1, x2 = np.meshgrid(np.arange(x1_min, x1_max, 0.01), np.arange(x2_min, x2_max, 0.01))"
   ]
  },
  {
   "cell_type": "markdown",
   "metadata": {},
   "source": [
    "### Predict the labels on training data"
   ]
  },
  {
   "cell_type": "code",
   "execution_count": 24,
   "metadata": {
    "scrolled": true
   },
   "outputs": [
    {
     "data": {
      "image/png": "[encoded data removed]",
      "text/plain": [
       "<matplotlib.figure.Figure at 0xd19fe48>"
      ]
     },
     "metadata": {},
     "output_type": "display_data"
    }
   ],
   "source": [
    "y_pred = predict(model, np.c_[x1.ravel(),x2.ravel()])\n",
    "plt.figure(1, figsize=(12, 8))\n",
    "plt.pcolormesh(x1,x2,y_pred.reshape(x1.shape), cmap=plt.cm.Paired)\n",
    "plt.scatter(x_train[:,0], x_train[:,1], c=y_train, edgecolors='k', cmap=plt.cm.Paired)\n",
    "plt.show()"
   ]
  },
  {
   "cell_type": "code",
   "execution_count": null,
   "metadata": {
    "collapsed": true
   },
   "outputs": [],
   "source": []
  }
 ],
 "metadata": {
  "kernelspec": {
   "display_name": "Python 3",
   "language": "python",
   "name": "python3"
  },
  "language_info": {
   "codemirror_mode": {
    "name": "ipython",
    "version": 3
   },
   "file_extension": ".py",
   "mimetype": "text/x-python",
   "name": "python",
   "nbconvert_exporter": "python",
   "pygments_lexer": "ipython3",
   "version": "3.6.2"
  }
 },
 "nbformat": 4,
 "nbformat_minor": 2
}
