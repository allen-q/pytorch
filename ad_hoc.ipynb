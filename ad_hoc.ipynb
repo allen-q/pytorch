{
 "cells": [
  {
   "cell_type": "code",
   "execution_count": 1,
   "metadata": {},
   "outputs": [],
   "source": [
    "import numpy as np"
   ]
  },
  {
   "cell_type": "code",
   "execution_count": 2,
   "metadata": {},
   "outputs": [],
   "source": [
    "a = np.array([[1,3], [2,4], [3,5]])"
   ]
  },
  {
   "cell_type": "code",
   "execution_count": 3,
   "metadata": {},
   "outputs": [],
   "source": [
    "b = np.array([[1,2],[3,1],[4,2],[5,3]])"
   ]
  },
  {
   "cell_type": "code",
   "execution_count": 4,
   "metadata": {},
   "outputs": [
    {
     "data": {
      "text/plain": [
       "array([[1.        , 2.23606798, 3.60555128],\n",
       "       [2.82842712, 3.16227766, 4.        ],\n",
       "       [3.16227766, 2.82842712, 3.16227766],\n",
       "       [4.        , 3.16227766, 2.82842712]])"
      ]
     },
     "execution_count": 4,
     "metadata": {},
     "output_type": "execute_result"
    }
   ],
   "source": [
    "np.sqrt(np.square(a-b[:,None,:]).sum(2))"
   ]
  },
  {
   "cell_type": "code",
   "execution_count": 5,
   "metadata": {},
   "outputs": [
    {
     "data": {
      "text/plain": [
       "array([[1, 3],\n",
       "       [2, 4],\n",
       "       [3, 5]])"
      ]
     },
     "execution_count": 5,
     "metadata": {},
     "output_type": "execute_result"
    }
   ],
   "source": [
    "a"
   ]
  },
  {
   "cell_type": "code",
   "execution_count": 6,
   "metadata": {},
   "outputs": [
    {
     "data": {
      "text/plain": [
       "array([[1.        , 2.82842712, 3.16227766, 4.        ],\n",
       "       [2.23606798, 3.16227766, 2.82842712, 3.16227766],\n",
       "       [3.60555128, 4.        , 3.16227766, 2.82842712]])"
      ]
     },
     "execution_count": 6,
     "metadata": {},
     "output_type": "execute_result"
    }
   ],
   "source": [
    "a_sq_sum = np.einsum('ik,ik->i',a,a)\n",
    "\n",
    "b_sq_sum = np.einsum('ik,ik->i',b,b)\n",
    "\n",
    "a_dot_b = a.dot(b.T)\n",
    "\n",
    "np.sqrt(a_sq_sum[:,None]-2*a_dot_b+b_sq_sum[None,:])"
   ]
  },
  {
   "cell_type": "code",
   "execution_count": 7,
   "metadata": {},
   "outputs": [
    {
     "data": {
      "text/plain": [
       "(4,)"
      ]
     },
     "execution_count": 7,
     "metadata": {},
     "output_type": "execute_result"
    }
   ],
   "source": [
    "b_sq_sum.shape"
   ]
  },
  {
   "cell_type": "code",
   "execution_count": 8,
   "metadata": {},
   "outputs": [
    {
     "data": {
      "text/plain": [
       "array([[1, 3],\n",
       "       [2, 4],\n",
       "       [3, 5]])"
      ]
     },
     "execution_count": 8,
     "metadata": {},
     "output_type": "execute_result"
    }
   ],
   "source": [
    "a"
   ]
  },
  {
   "cell_type": "code",
   "execution_count": 9,
   "metadata": {},
   "outputs": [
    {
     "data": {
      "text/plain": [
       "array([[1, 2],\n",
       "       [3, 1],\n",
       "       [4, 2],\n",
       "       [5, 3]])"
      ]
     },
     "execution_count": 9,
     "metadata": {},
     "output_type": "execute_result"
    }
   ],
   "source": [
    "b"
   ]
  },
  {
   "cell_type": "code",
   "execution_count": 20,
   "metadata": {},
   "outputs": [
    {
     "data": {
      "text/plain": [
       "array([[[ 1,  6],\n",
       "        [ 3,  3],\n",
       "        [ 4,  6],\n",
       "        [ 5,  9]],\n",
       "\n",
       "       [[ 2,  8],\n",
       "        [ 6,  4],\n",
       "        [ 8,  8],\n",
       "        [10, 12]],\n",
       "\n",
       "       [[ 3, 10],\n",
       "        [ 9,  5],\n",
       "        [12, 10],\n",
       "        [15, 15]]])"
      ]
     },
     "execution_count": 20,
     "metadata": {},
     "output_type": "execute_result"
    }
   ],
   "source": [
    "np.einsum('ik,jk->ijk', a,b)"
   ]
  },
  {
   "cell_type": "code",
   "execution_count": 21,
   "metadata": {},
   "outputs": [],
   "source": [
    "import pandas as pd"
   ]
  },
  {
   "cell_type": "code",
   "execution_count": 23,
   "metadata": {},
   "outputs": [],
   "source": [
    "df = pd.read_clipboard()"
   ]
  },
  {
   "cell_type": "code",
   "execution_count": 26,
   "metadata": {},
   "outputs": [],
   "source": [
    "df = df.T.reset_index()"
   ]
  },
  {
   "cell_type": "code",
   "execution_count": 28,
   "metadata": {},
   "outputs": [],
   "source": [
    "df.columns=['name']"
   ]
  },
  {
   "cell_type": "code",
   "execution_count": 30,
   "metadata": {},
   "outputs": [
    {
     "data": {
      "text/plain": [
       "0             [Emma, F, 20799]\n",
       "1           [Olivia, F, 19674]\n",
       "2           [Sophia, F, 18490]\n",
       "3         [Isabella, F, 16950]\n",
       "4              [Ava, F, 15586]\n",
       "5              [Mia, F, 13442]\n",
       "6            [Emily, F, 12562]\n",
       "7          [Abigail, F, 11985]\n",
       "8          [Madison, F, 10247]\n",
       "9        [Charlotte, F, 10048]\n",
       "10           [Harper, F, 9564]\n",
       "11            [Sofia, F, 9542]\n",
       "12            [Avery, F, 9517]\n",
       "13        [Elizabeth, F, 9492]\n",
       "14           [Amelia, F, 8727]\n",
       "15           [Evelyn, F, 8692]\n",
       "16             [Ella, F, 8489]\n",
       "17            [Chloe, F, 8469]\n",
       "18         [Victoria, F, 7955]\n",
       "19           [Aubrey, F, 7589]\n",
       "20            [Grace, F, 7554]\n",
       "21             [Zoey, F, 7358]\n",
       "22          [Natalie, F, 7061]\n",
       "23          [Addison, F, 6950]\n",
       "24          [Lillian, F, 6869]\n",
       "25         [Brooklyn, F, 6767]\n",
       "26             [Lily, F, 6727]\n",
       "27           [Hannah, F, 6512]\n",
       "28            [Layla, F, 6428]\n",
       "29         [Scarlett, F, 5965]\n",
       "                 ...          \n",
       "33014          [Zedrick, M, 5]\n",
       "33015             [Zeid, M, 5]\n",
       "33016           [Zeidan, M, 5]\n",
       "33017         [Zekeriah, M, 5]\n",
       "33018            [Zenas, M, 5]\n",
       "33019           [Zephen, M, 5]\n",
       "33020           [Zerick, M, 5]\n",
       "33021          [Zhaiden, M, 5]\n",
       "33022           [Zhalen, M, 5]\n",
       "33023          [Zhayden, M, 5]\n",
       "33024             [Ziar, M, 5]\n",
       "33025           [Zichen, M, 5]\n",
       "33026            [Ziden, M, 5]\n",
       "33027           [Zierre, M, 5]\n",
       "33028            [Ziion, M, 5]\n",
       "33029            [Zijun, M, 5]\n",
       "33030            [Zilas, M, 5]\n",
       "33031            [Zirui, M, 5]\n",
       "33032            [Zivon, M, 5]\n",
       "33033            [Ziyah, M, 5]\n",
       "33034           [Ziyang, M, 5]\n",
       "33035          [Zmarion, M, 5]\n",
       "33036               [Zo, M, 5]\n",
       "33037            [Zyeir, M, 5]\n",
       "33038             [Zyel, M, 5]\n",
       "33039           [Zykeem, M, 5]\n",
       "33040           [Zymeer, M, 5]\n",
       "33041          [Zymiere, M, 5]\n",
       "33042            [Zyran, M, 5]\n",
       "33043            [Zyrin, M, 5]\n",
       "Name: name, Length: 33044, dtype: object"
      ]
     },
     "execution_count": 30,
     "metadata": {},
     "output_type": "execute_result"
    }
   ],
   "source": [
    "df.name.str.split(',')"
   ]
  },
  {
   "cell_type": "code",
   "execution_count": null,
   "metadata": {},
   "outputs": [],
   "source": []
  }
 ],
 "metadata": {
  "kernelspec": {
   "display_name": "Python 3",
   "language": "python",
   "name": "python3"
  },
  "language_info": {
   "codemirror_mode": {
    "name": "ipython",
    "version": 3
   },
   "file_extension": ".py",
   "mimetype": "text/x-python",
   "name": "python",
   "nbconvert_exporter": "python",
   "pygments_lexer": "ipython3",
   "version": "3.6.2"
  }
 },
 "nbformat": 4,
 "nbformat_minor": 2
}
