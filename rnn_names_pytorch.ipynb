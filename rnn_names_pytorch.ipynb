{
 "cells": [
  {
   "cell_type": "code",
   "execution_count": 1,
   "metadata": {
    "collapsed": true
   },
   "outputs": [],
   "source": [
    "import numpy as np\n",
    "import pandas as pd\n",
    "import torch\n",
    "import torch.nn as nn\n",
    "import matplotlib.pyplot as plt\n",
    "% matplotlib inline"
   ]
  },
  {
   "cell_type": "code",
   "execution_count": 2,
   "metadata": {
    "collapsed": true
   },
   "outputs": [],
   "source": [
    "df = pd.read_csv('./data/names.csv')\n",
    "data = ' '.join(df.name.tolist())"
   ]
  },
  {
   "cell_type": "code",
   "execution_count": 3,
   "metadata": {
    "collapsed": false
   },
   "outputs": [
    {
     "data": {
      "text/html": [
       "<div>\n",
       "<style scoped>\n",
       "    .dataframe tbody tr th:only-of-type {\n",
       "        vertical-align: middle;\n",
       "    }\n",
       "\n",
       "    .dataframe tbody tr th {\n",
       "        vertical-align: top;\n",
       "    }\n",
       "\n",
       "    .dataframe thead th {\n",
       "        text-align: right;\n",
       "    }\n",
       "</style>\n",
       "<table border=\"1\" class=\"dataframe\">\n",
       "  <thead>\n",
       "    <tr style=\"text-align: right;\">\n",
       "      <th></th>\n",
       "      <th>name</th>\n",
       "      <th>gender</th>\n",
       "      <th>id</th>\n",
       "    </tr>\n",
       "  </thead>\n",
       "  <tbody>\n",
       "    <tr>\n",
       "      <th>0</th>\n",
       "      <td>Emma</td>\n",
       "      <td>F</td>\n",
       "      <td>20799</td>\n",
       "    </tr>\n",
       "    <tr>\n",
       "      <th>1</th>\n",
       "      <td>Olivia</td>\n",
       "      <td>F</td>\n",
       "      <td>19674</td>\n",
       "    </tr>\n",
       "    <tr>\n",
       "      <th>2</th>\n",
       "      <td>Sophia</td>\n",
       "      <td>F</td>\n",
       "      <td>18490</td>\n",
       "    </tr>\n",
       "    <tr>\n",
       "      <th>3</th>\n",
       "      <td>Isabella</td>\n",
       "      <td>F</td>\n",
       "      <td>16950</td>\n",
       "    </tr>\n",
       "    <tr>\n",
       "      <th>4</th>\n",
       "      <td>Ava</td>\n",
       "      <td>F</td>\n",
       "      <td>15586</td>\n",
       "    </tr>\n",
       "  </tbody>\n",
       "</table>\n",
       "</div>"
      ],
      "text/plain": [
       "       name gender     id\n",
       "0      Emma      F  20799\n",
       "1    Olivia      F  19674\n",
       "2    Sophia      F  18490\n",
       "3  Isabella      F  16950\n",
       "4       Ava      F  15586"
      ]
     },
     "execution_count": 3,
     "metadata": {},
     "output_type": "execute_result"
    }
   ],
   "source": [
    "df.head()"
   ]
  },
  {
   "cell_type": "code",
   "execution_count": 4,
   "metadata": {
    "collapsed": false
   },
   "outputs": [
    {
     "name": "stdout",
     "output_type": "stream",
     "text": [
      "data has 237097 characters, 53 unique.\n"
     ]
    }
   ],
   "source": [
    "# data I/O\n",
    "chars = list(set(data))\n",
    "data_size, vocab_size = len(data), len(chars)\n",
    "print(f'data has {data_size} characters, {vocab_size} unique.')\n",
    "char_to_ix = { ch:i for i,ch in enumerate(chars) }\n",
    "ix_to_char = { i:ch for i,ch in enumerate(chars) }"
   ]
  },
  {
   "cell_type": "code",
   "execution_count": 5,
   "metadata": {
    "collapsed": true
   },
   "outputs": [],
   "source": [
    "# hyperparameters\n",
    "hidden_size = 100 # size of hidden layer of neurons\n",
    "seq_length = 25 # number of steps to unroll the RNN for\n",
    "learning_rate = 1e-1"
   ]
  },
  {
   "cell_type": "code",
   "execution_count": 6,
   "metadata": {
    "collapsed": true
   },
   "outputs": [],
   "source": [
    "X_train = np.zeros((len(data), len(chars)))"
   ]
  },
  {
   "cell_type": "code",
   "execution_count": 7,
   "metadata": {
    "collapsed": true
   },
   "outputs": [],
   "source": [
    "char_id = np.array([chars.index(c) for c in data])"
   ]
  },
  {
   "cell_type": "code",
   "execution_count": 8,
   "metadata": {
    "collapsed": true
   },
   "outputs": [],
   "source": [
    "X_train[np.arange(len(X_train)), char_id] = 1"
   ]
  },
  {
   "cell_type": "code",
   "execution_count": 9,
   "metadata": {
    "collapsed": true
   },
   "outputs": [],
   "source": [
    "y_train = np.roll(char_id,-1)"
   ]
  },
  {
   "cell_type": "code",
   "execution_count": 10,
   "metadata": {
    "collapsed": false
   },
   "outputs": [
    {
     "data": {
      "text/plain": [
       "(237097, 53)"
      ]
     },
     "execution_count": 10,
     "metadata": {},
     "output_type": "execute_result"
    }
   ],
   "source": [
    "X_train.shape"
   ]
  },
  {
   "cell_type": "code",
   "execution_count": 11,
   "metadata": {
    "collapsed": false
   },
   "outputs": [
    {
     "data": {
      "text/plain": [
       "(237097,)"
      ]
     },
     "execution_count": 11,
     "metadata": {},
     "output_type": "execute_result"
    }
   ],
   "source": [
    "y_train.shape"
   ]
  },
  {
   "cell_type": "markdown",
   "metadata": {},
   "source": [
    "## Build a RNN model"
   ]
  },
  {
   "cell_type": "code",
   "execution_count": 12,
   "metadata": {
    "collapsed": false
   },
   "outputs": [],
   "source": [
    "class CharRNN(nn.Module):\n",
    "    def __init__(self, input_size, hidden_size, output_size):\n",
    "        super().__init__()\n",
    "        self.fc_x = nn.Linear(input_size, hidden_size)\n",
    "        self.fc_h = nn.Linear(hidden_size, hidden_size)\n",
    "        self.tanh = nn.Tanh()\n",
    "        self.fc_out = nn.Linear(hidden_size, output_size)\n",
    "        \n",
    "    def forward(self, X, h):\n",
    "        x_out = self.fc_x(X)\n",
    "        h_out = self.fc_h(h)\n",
    "        h_new = self.tanh(x_out + h_out)\n",
    "        out = self.fc_out(h_new)\n",
    "        \n",
    "        return out, h_new\n",
    "    \n",
    "    def init_h(self):\n",
    "        return torch.zeros(self.fc_x.out_features)"
   ]
  },
  {
   "cell_type": "code",
   "execution_count": 13,
   "metadata": {
    "collapsed": true
   },
   "outputs": [],
   "source": [
    "#rnn(torch.from_numpy(X_train[0]).float(), torch.zeros(128))"
   ]
  },
  {
   "cell_type": "code",
   "execution_count": 14,
   "metadata": {
    "collapsed": true
   },
   "outputs": [],
   "source": [
    "rnn = CharRNN(vocab_size, 128, vocab_size)"
   ]
  },
  {
   "cell_type": "code",
   "execution_count": 15,
   "metadata": {
    "collapsed": true
   },
   "outputs": [],
   "source": [
    "loss_fn = nn.CrossEntropyLoss()"
   ]
  },
  {
   "cell_type": "code",
   "execution_count": 16,
   "metadata": {
    "collapsed": true
   },
   "outputs": [],
   "source": [
    "optimizer = torch.optim.Adam(rnn.parameters(), lr=0.0001)"
   ]
  },
  {
   "cell_type": "code",
   "execution_count": 17,
   "metadata": {
    "collapsed": true
   },
   "outputs": [],
   "source": [
    "def get_batch(X=X_train, y=y_train, batch_size=seq_length):\n",
    "    X = torch.from_numpy(X).float()\n",
    "    y = torch.from_numpy(y).long()\n",
    "    for i in range(0, len(y), batch_size):   \n",
    "        id_stop = i+batch_size if i+batch_size < len(X) else len(X)\n",
    "        yield([X[i:id_stop], y[i:id_stop]])"
   ]
  },
  {
   "cell_type": "code",
   "execution_count": 18,
   "metadata": {
    "collapsed": false
   },
   "outputs": [
    {
     "name": "stdout",
     "output_type": "stream",
     "text": [
      "5\n"
     ]
    }
   ],
   "source": [
    "print(5)"
   ]
  },
  {
   "cell_type": "code",
   "execution_count": 33,
   "metadata": {
    "collapsed": false
   },
   "outputs": [],
   "source": [
    "def sample_chars(X_seed, h_prev, length=20):\n",
    "    for p in rnn.parameters():\n",
    "        p.requires_grad = False\n",
    "    X_next = X_seed\n",
    "    results = []\n",
    "    for i in range(length):        \n",
    "        y_score, h_prev = rnn(X_next, h_prev)\n",
    "        y_prob = nn.Softmax(0)(y_score).detach().numpy()\n",
    "        y_pred = np.random.choice(chars,1, p=y_prob).item()\n",
    "        results.append(y_pred)\n",
    "        X_next = torch.zeros_like(X_seed)\n",
    "        X_next[chars.index(y_pred)] = 1\n",
    "        #print(f'{i} th char:{y_pred}')\n",
    "    for p in rnn.parameters():\n",
    "        p.requires_grad = True\n",
    "    return ''.join(results)"
   ]
  },
  {
   "cell_type": "code",
   "execution_count": 34,
   "metadata": {
    "collapsed": false
   },
   "outputs": [
    {
     "name": "stdout",
     "output_type": "stream",
     "text": [
      "True\n",
      "True\n",
      "True\n",
      "True\n",
      "True\n",
      "True\n"
     ]
    }
   ],
   "source": [
    "for p in rnn.parameters():\n",
    "    print(p.requires_grad)"
   ]
  },
  {
   "cell_type": "code",
   "execution_count": 35,
   "metadata": {
    "collapsed": false,
    "scrolled": false
   },
   "outputs": [
    {
     "name": "stdout",
     "output_type": "stream",
     "text": [
      "Running Avg Loss:2.592132171571255 at epoch: 0\n",
      "yB Nhaen elga  uasa EAbsdNn AoBedCnooh kaela GoeoiLHog aslbnlLlutaiKonBtideOhaL JalllL LrgrnNnuahvykdr Salyy h Jlilr Akolin HTryal  eienS Caieden Aeunoa Kpynlsy prora Eola evaa EayenHE Kayldi gmelt  H\n",
      "Running Avg Loss:2.5209558449387552 at epoch: 0\n",
      "eeynnSsafMy MialYecliTasonanRnan Jiliy Eielaa Eelea Rasiglne Benala AegemeeReKep auiraNiga Calila Layies Jsliena Asinl  imiene racueynlaae ilbPJra pa Fe Malaa smlley Aysii LoeaLmtaeiee Nleeele Deetn  \n",
      "Running Avg Loss:2.478430690526962 at epoch: 0\n",
      "maneB Mrryee Ninna Akclel JrhGni KaegynzA Jlelyn Pedsnn Kaiy sehe wlelea hacyl MasaiiStdzDZldy Kevees  ucasia Llneyla bltisABS Roaghl L AolleeNDaeSnisAtihn  elemeDk lelia Fsnly Iarilii LeuarethKn  nly\n",
      "Running Avg Loss:2.4038646564781665 at epoch: 0\n",
      " Sagyava Chnlng JaaaT AnvelKe Matlte Aal sila Ariany Knmila Ca Karaa GKileke Gielh Aila JLzeio Aa KiliiLy Haiaa Malleay  vnei Noyia Aeiaa Arnetn Mia Mala eTRnce Aaia Jlee mtrenn Beria Ete LEsa Feleen \n",
      "Running Avg Loss:2.35980112990737 at epoch: 0\n",
      "ieri Honyn Aoen bynnyAKaha eiise LiAa Bostien Casiy xCaiban Diiea Nlrne Jrscab Llen Mayie Well aannMa Sonua Miayesa Rlia Nelisn Aia y niir aaminea Erbri eelan Daiaa Da LayseeuA malea LcFeoPnn eigaahls\n",
      "Running Avg Loss:2.3911122721135616 at epoch: 0\n",
      " Jhoia Gsretin Bole aiil Dsmsta Eolai Jkctrn Jsmltlylbe SalailnhAEs Carrate Taael rlmmin Ariiyn KyCNah Layeey ZvaleJy Jnalipohny Iaya FlnTiaheGy Aarlile Sabyen Raaa TeStaa Aacin YSlleen DiPeh Eillyn n\n",
      "Running Avg Loss:2.3651193621084095 at epoch: 0\n",
      "aea JeDHlen Maviaesta AElcy Sadlri Aalae MareltrJHyn Manuetiurksamxoa Cada eas Jernai ayMtie Cariye Leinaneh JrPrdieul aadaaney Aa yanyeet Ireiinr  piaysy ieaddalya Aoooile Aalinn Jiviaia R yrinna Iad\n",
      "Running Avg Loss:2.38994874060899 at epoch: 0\n",
      "RKlihIsna AilegahSKdni TvnrtiKaaFEiemh Zar enyaynenK xrdaqnylke Faecscl Mala Cntnsa Dailsrg sealin  Lmrlyn S kaiileMa peGilay Pkgarlla AmlnabKn Rraielee Jne fayriniHAan Hinrney Kaara Silisan Eeliauya \n",
      "Running Avg Loss:2.4041495066583156 at epoch: 0\n",
      "a Eiiaynn Mamlie Aen MalAnian ArcaPLRvie EoileaO Ktrnse Kariisd Ze Crasarenh Llasla Dlan Pagdna w Hia Cirla Kapmy BarlaeAag esnyy Emeret Magnc Mer omenla Eldizsa Nazaela Harann AreleyZeeASJnr Eayd Ian\n",
      "Running Avg Loss:2.36529165931046 at epoch: 0\n",
      "ie Bayae Jilynr Kariann BBrisa Brna Canmyn  DiiayDh LiliaBaClnare Mynail Bubrie Aalia Aniiara Carea Myvi hlyen Alilin MlrLee BsgPda Lpe Jeryna Ymmtelna Gencie BAriazDa Eyrivh ea GaTia Tavya Lmanlin Ja\n",
      "Running Avg Loss:2.3832416792213915 at epoch: 0\n",
      "lueiiy Kiz Sice Earonn TKlilie Aniyn Cvlme Jnerie Langa Qosbny AaIdata Lurich Arlyie Baygrh Ealee Rurley Kleeco Wiriyh Ryina  qrelblin Sarie JanelAn Jezise Gelsel  Lenia Alilge Anyn Enoliny Sranx MDrs\n",
      "Running Avg Loss:2.399286228507757 at epoch: 0\n",
      "aia Arana NoylhintE JLaaa Teeogen Lymkynnri plita navayyt Rrinsa Siea DIbheyki Mani Kalelyn KSaylrone Soniele Howgra Jilllnn Jiliy Buylenla Peari Crarlanie Kangeib uibah hiWtkelie Vayhy Dhsaca Naaca J\n",
      "Running Avg Loss:2.338116146825254 at epoch: 0\n",
      "hllliaa Eryyah Kaylia GeyAd umnaya Kora Fyrya EhissaaB Ltnssr Abieytc Mbyieerpna Catmyny Saliaile Faymda kelya Jdea Denna Janaa Jolieii  ocgvennye Dmye JaiFia HarsarBBavaona JasSlanma Leylea Kmlprynga\n",
      "Running Avg Loss:2.3793224411532283 at epoch: 0\n",
      "ioMjSesoeaBDloa Brlne Imliehn EIeisly bRrce Aura VamRriy JaisaleaM ialayaa Jarenyixia Rrisze Nulyle naAnana Cumsyla Doliyn Zazaeieh Rnihine Citione Slan Bellie HaslyetZ Mnra suiiin Rcavy Rlna Iralina \n",
      "Running Avg Loss:2.378391191214323 at epoch: 0\n",
      "a Paanh Haunynh Solna AbmamkatA HamZne cenia Jasii Sininy C aioa Eviieoni Maya Ayca Ares eay Caotatih Iriae MilaeghehJa Bzali Bilay Dialie OEka diesa Kliyzyhn Auvmmia Sena lala Koasaslinn Layir Karbes\n",
      "Running Avg Loss:2.3458756767064335 at epoch: 0\n",
      "y Nelie Malanva Mmuit kaeia Dogdni Jatary Moenedsol LaMveyn Baoda Riama Asaine Zakaansy Rasrana ArlaynK Katveah Aetna Rielaha Gsnaina Kryny MaalincF Joeey Shythn Rpla KahlaenNloN Aleni  Mbsiisdte Lvyl\n",
      "Running Avg Loss:2.274609948664904 at epoch: 0\n",
      "Nyilsa Gelie Jayse AayAya Mreisn Arewingh CaStv Slomi ganza LoMis iadare Lorngd Neiya Aly Serla Pamyna Kok Alme Lanle Chllib Nayti Inrya Aisea Riive A Jlha Caornah Latenn Tan eeieet Aaniatna Arisyh Zi\n"
     ]
    },
    {
     "ename": "KeyboardInterrupt",
     "evalue": "",
     "output_type": "error",
     "traceback": [
      "\u001b[1;31m---------------------------------------------------------------------------\u001b[0m",
      "\u001b[1;31mKeyboardInterrupt\u001b[0m                         Traceback (most recent call last)",
      "\u001b[1;32m<ipython-input-35-ec091bbf31c3>\u001b[0m in \u001b[0;36m<module>\u001b[1;34m()\u001b[0m\n\u001b[0;32m      9\u001b[0m             \u001b[0mlosses\u001b[0m\u001b[1;33m.\u001b[0m\u001b[0mappend\u001b[0m\u001b[1;33m(\u001b[0m\u001b[0mloss\u001b[0m\u001b[1;33m.\u001b[0m\u001b[0mitem\u001b[0m\u001b[1;33m(\u001b[0m\u001b[1;33m)\u001b[0m\u001b[1;33m)\u001b[0m\u001b[1;33m\u001b[0m\u001b[0m\n\u001b[0;32m     10\u001b[0m             \u001b[0moptimizer\u001b[0m\u001b[1;33m.\u001b[0m\u001b[0mzero_grad\u001b[0m\u001b[1;33m(\u001b[0m\u001b[1;33m)\u001b[0m\u001b[1;33m\u001b[0m\u001b[0m\n\u001b[1;32m---> 11\u001b[1;33m             \u001b[0mloss\u001b[0m\u001b[1;33m.\u001b[0m\u001b[0mbackward\u001b[0m\u001b[1;33m(\u001b[0m\u001b[0mretain_graph\u001b[0m\u001b[1;33m=\u001b[0m\u001b[1;32mTrue\u001b[0m\u001b[1;33m)\u001b[0m\u001b[1;33m\u001b[0m\u001b[0m\n\u001b[0m\u001b[0;32m     12\u001b[0m             \u001b[0moptimizer\u001b[0m\u001b[1;33m.\u001b[0m\u001b[0mstep\u001b[0m\u001b[1;33m(\u001b[0m\u001b[1;33m)\u001b[0m\u001b[1;33m\u001b[0m\u001b[0m\n\u001b[0;32m     13\u001b[0m             \u001b[1;32mif\u001b[0m \u001b[0mlen\u001b[0m\u001b[1;33m(\u001b[0m\u001b[0mlosses\u001b[0m\u001b[1;33m)\u001b[0m\u001b[1;33m%\u001b[0m\u001b[1;36m1000\u001b[0m\u001b[1;33m==\u001b[0m\u001b[1;36m0\u001b[0m\u001b[1;33m:\u001b[0m\u001b[1;33m\u001b[0m\u001b[0m\n",
      "\u001b[1;32mC:\\Program Files (x86)\\Python\\Anaconda\\envs\\py36\\lib\\site-packages\\torch\\tensor.py\u001b[0m in \u001b[0;36mbackward\u001b[1;34m(self, gradient, retain_graph, create_graph)\u001b[0m\n\u001b[0;32m     91\u001b[0m                 \u001b[0mproducts\u001b[0m\u001b[1;33m.\u001b[0m \u001b[0mDefaults\u001b[0m \u001b[0mto\u001b[0m\u001b[0;31m \u001b[0m\u001b[0;31m`\u001b[0m\u001b[0;31m`\u001b[0m\u001b[1;32mFalse\u001b[0m\u001b[0;31m`\u001b[0m\u001b[0;31m`\u001b[0m\u001b[1;33m.\u001b[0m\u001b[1;33m\u001b[0m\u001b[0m\n\u001b[0;32m     92\u001b[0m         \"\"\"\n\u001b[1;32m---> 93\u001b[1;33m         \u001b[0mtorch\u001b[0m\u001b[1;33m.\u001b[0m\u001b[0mautograd\u001b[0m\u001b[1;33m.\u001b[0m\u001b[0mbackward\u001b[0m\u001b[1;33m(\u001b[0m\u001b[0mself\u001b[0m\u001b[1;33m,\u001b[0m \u001b[0mgradient\u001b[0m\u001b[1;33m,\u001b[0m \u001b[0mretain_graph\u001b[0m\u001b[1;33m,\u001b[0m \u001b[0mcreate_graph\u001b[0m\u001b[1;33m)\u001b[0m\u001b[1;33m\u001b[0m\u001b[0m\n\u001b[0m\u001b[0;32m     94\u001b[0m \u001b[1;33m\u001b[0m\u001b[0m\n\u001b[0;32m     95\u001b[0m     \u001b[1;32mdef\u001b[0m \u001b[0mregister_hook\u001b[0m\u001b[1;33m(\u001b[0m\u001b[0mself\u001b[0m\u001b[1;33m,\u001b[0m \u001b[0mhook\u001b[0m\u001b[1;33m)\u001b[0m\u001b[1;33m:\u001b[0m\u001b[1;33m\u001b[0m\u001b[0m\n",
      "\u001b[1;32mC:\\Program Files (x86)\\Python\\Anaconda\\envs\\py36\\lib\\site-packages\\torch\\autograd\\__init__.py\u001b[0m in \u001b[0;36mbackward\u001b[1;34m(tensors, grad_tensors, retain_graph, create_graph, grad_variables)\u001b[0m\n\u001b[0;32m     87\u001b[0m     Variable._execution_engine.run_backward(\n\u001b[0;32m     88\u001b[0m         \u001b[0mtensors\u001b[0m\u001b[1;33m,\u001b[0m \u001b[0mgrad_tensors\u001b[0m\u001b[1;33m,\u001b[0m \u001b[0mretain_graph\u001b[0m\u001b[1;33m,\u001b[0m \u001b[0mcreate_graph\u001b[0m\u001b[1;33m,\u001b[0m\u001b[1;33m\u001b[0m\u001b[0m\n\u001b[1;32m---> 89\u001b[1;33m         allow_unreachable=True)  # allow_unreachable flag\n\u001b[0m\u001b[0;32m     90\u001b[0m \u001b[1;33m\u001b[0m\u001b[0m\n\u001b[0;32m     91\u001b[0m \u001b[1;33m\u001b[0m\u001b[0m\n",
      "\u001b[1;31mKeyboardInterrupt\u001b[0m: "
     ]
    }
   ],
   "source": [
    "for epoch in range(1):\n",
    "    losses = []\n",
    "    for batch in get_batch(X_train, y_train, seq_length):           \n",
    "        X_batch, y_batch = batch\n",
    "        h_prev = rnn.init_h()\n",
    "        for ch_id in range(len(X_batch)):\n",
    "            y_score, h_prev = rnn(X_batch[ch_id], h_prev)\n",
    "            loss = loss_fn(y_score.view(1,-1), y_batch[ch_id].view(1))\n",
    "            losses.append(loss.item())\n",
    "            optimizer.zero_grad()            \n",
    "            loss.backward(retain_graph=True)\n",
    "            optimizer.step()\n",
    "            if len(losses)%1000==0:\n",
    "                print(f'Running Avg Loss:{np.mean(losses[-1000:])} at epoch: {epoch}')  \n",
    "                print(sample_chars(X_batch[ch_id], h_prev, 200))"
   ]
  },
  {
   "cell_type": "code",
   "execution_count": 36,
   "metadata": {
    "collapsed": false,
    "scrolled": false
   },
   "outputs": [
    {
     "data": {
      "text/plain": [
       "(array([ 4.,  5., 17., 24., 17., 22., 17., 12.,  7.,  3.]),\n",
       " array([-0.92588985, -0.74122807, -0.55656629, -0.3719045 , -0.18724272,\n",
       "        -0.00258094,  0.18208084,  0.36674262,  0.5514044 ,  0.73606619,\n",
       "         0.92072797]),\n",
       " <a list of 10 Patch objects>)"
      ]
     },
     "execution_count": 36,
     "metadata": {},
     "output_type": "execute_result"
    },
    {
     "data": {
      "image/png": "[encoded data removed]",
      "text/plain": [
       "<matplotlib.figure.Figure at 0x7fe5c50>"
      ]
     },
     "metadata": {},
     "output_type": "display_data"
    }
   ],
   "source": [
    "plt.hist(h_prev.detach().numpy())"
   ]
  },
  {
   "cell_type": "code",
   "execution_count": 37,
   "metadata": {
    "collapsed": false
   },
   "outputs": [],
   "source": [
    "X_seed = X_batch[ch_id]"
   ]
  },
  {
   "cell_type": "code",
   "execution_count": 38,
   "metadata": {
    "collapsed": false,
    "scrolled": true
   },
   "outputs": [
    {
     "name": "stdout",
     "output_type": "stream",
     "text": [
      "a Miseyn Yylsrh Arltncya Byaleh Rarie Nalesa Arynyya Ranriplvht Loni Satrine Biten Erie Aalianaer Jua Kariee Larjesbe Nridii Slinna Vayken eteseyn Aliae Asmyata Keyn Kraoieh Mutie Bmleeiia Zlie Kofeaknnae JanhaPLisnnn Imtse Aaytion Viec naya Drerltliv CTan aomen Lan Aaineen Hvaea Alao Area Byeoie Sstlesa Taiin eeyle  dmrarnn Reina oyr yleylna AaynenM Kensue Aoe Saina Lmyva Cadhlia Rala TJile Koinane Arey Milyan Rata vnsraen Aoanna Aosloany Srzya Nekoee Sorie A iirinnle Saayne Klaehne ryonvehlRe Sekina Eciblnne Jeane Blyyay Mantyh Msae Canooy Saco BhlynJaSveci Aadiza Deyran Yaialglniy Gvlao Dailein Jaelyn Armeip Mdnnna Aysdna Aahita SmmieIC rmenlee Ainia Raoay oahato rielan Sbaveaei Memlon Jay Mansy Come Deioe Asieei Hdallna Smibyn Koyson Jade Jaclan Kalles sallyna CoorahcAHna qey Hoyslet Dalsk Gargiy nm Oand Mrknyan RasynLyn AealahlCbRey Bian Nreiseia Vynr Lann Irityy Iaili Jonion KayDsynn Pense pnna Sarssa Lox Laslie AhaVina Kadlenh Darsya Jelean Bimlany Kasntia Aeyle Rata Mcelia AnSlenna Mraslid Dyoa Karh zlre Lallen Karilp Ealanea Baina Eozu eeee Nmaele Liyne Ratea urnia Gaiia Lronsee Janlanda Bmrena Smttlona Jonlee Eykdlna Aayle Iale JailathaEricit isy aigenaN Ates Barah Rmdyna AraKnew Geryaees Catolla Lisrin Aaxleya Karitly Tulinnh Chaslynn Ayl anya  rleli Bmerlne zasletzSsoysne Iuaxua Mngon A Nla gixoy Kanna TayYya Kazil Arah nIhnvih Sridel HrendAiaqRa Jhbynya Ftinna Makte Gina Latkey Saint Mak KhyaSien Jeeratta Ceeklie Lvlakta Arobien Aley Cana AlenheHynn Jliyaley Keze Meile Yiinina Adimoh Smoaien Wrtoe Ermernn Tlia Liana KaMHeen Laelynnh Ariia Aomine Vasaihh Jvcs anznnito JalraiSheh Tosaanine Jillisha Cas waeie Auggin Aila Local Lanlane Kapla Sacaye Anbeeyna Loilenk Lnmlynhna LacniiMacyih Evcina Momoyna KyHraqn Moakton Kvarah Daniel Cosgynly Eisloe Lyana AeataiDn Tzia Syli Saina KLoistinh Kiwn Sigie Avk Arpmah Rmany Ruamlena MnilgagahLna Alaa Meeto Aeas KanDah Bvernee Sacaage RSyni Daa Alaina Asbe Lrr raloae Jonslns Lanah ienoegA Animlyi SalihaN Somse Kerlen Ba xnengi Ahnlen Jtw ean Sanailee Man Eatla KieinB Araslina Jston Haceiynh AeiNa BlScna Rialaly Arilei BinnAte Nvai  mosne Anrorn Jiee Csnaia KaP Calid Daian Aiystn Isrsalea AeyEne Cmanya uarzari FaitKsasie Kmanma Ayle GiKlaly Annalen Jhsiy Vabiigyna Maniel Biaven Aayke Loinen Jlilia Mareveli Sayaee KZania Jaya Da Bclia Ahan Kay Lima Henrg Liene IEeloa Masnnne Eanerei yabseinna Merce Rati na ya Ayia Aiisein Eeyen Manena SovRer Fialyvobe Ionn Famheida Kaynny Imniina Rylyan Sisni aalle Aseny Bdille Letle Janlaa Cirtaey  osna  Bxsnann Trenh Aleniliin vorQCFrilsay Samailee Cariee DoriWea Akodennh Nariia Etae Adrre KalaneyCAariah yaylyn Lare Kmit uitna BrontEiye Mahen Zbel kna Jeri Mliiyy JTliny Ceoiie Javae Memay Liinslis Jiixiaa Samlen Laivie BalonsLa AoMa Blinay Akoeh Bbprih Ricr Kanvi Ara Kene Myyl hyle Magkina HaEyn LarienS Berie SoanazRara Tanna Galya Aagxaya le Jatiea Lana pamlimhlei Sesty Liea Jaua KinnaFe Epahra Lmaray Lreliva Ahdssyoa Mixinellan Kamylaneh AoEslaen Tnan Siltekdcn Iamimh Someona bleslin Gagedie Aaeeyt Kainann Karriny Jalysa Reynn Kassey Crila Marilanda Saylin AannarYe ASiei iartleyne Ran oneen Dsrileo Amanah Eooa Bans Ktmcley Laioelot Areet Lian Brrye Aaaoa Ralee Eva Arzilee Comslby Lulina LatEya Siro elmey Sdatlee Aala Alrine calaa Lesua Xaireh Zvane Amangna Rokra AamahoVa Iaima Mrik Sahae Sneannlii DnaJya Zakya Laseely Kalllan Esyna  xreled Hlevo Tia Avata Jaysa E oamEahe i deeeru aza EeinanMAe Zrari Deleee urlinn Slena Esia Dorn viyty Eissey Liweranld Aasyi Amynna Masvey Aahllnnia Jhlia Lol Baiy Giosn Eoel Gwnila Laha Zelloe Zayna Iramya Saarisey Laiila Aleaih Mhelna Bomne Cmastion Kariynne Jemele Ariureey Jelya Eillign  Ciwne Lnnmauyn dalhne Tyed Paaya Jocalyle Cainy Stce Aeal kahel LayTt Esnalin Alanta GevymKe Iient KssJaes Alleint DuCaoiee Cariey Aaoleo MGrlen Jya Karteytt Jalienh Lenlya Lise Thlpna Sadch Amieaha Elina Anat Snna Macsaheh Lakta Sayna Zhonnnn Jariy Eaninne Lasa melle Hoaryon ManleshytT Jrggins Cimvnen  nilinkh Rayna Foun Manna Neelalen Narnlt MKanlyel Aoylla Aia Jaliehe Lmya xaane Mhrlanhh Larreeya Yainay Eal Geosiw Jcry Aailien Hanana Bneahanlda Aizylae LidenJyaclixna JorakcalWe Bmirnn Layin Lveeta Daieeh Ginan Zaiiae Aavid Aleanh Kaylin Aripa Sarinb CSana Sa Haalen Bhiyny Cioel MaraeyJe Haadirla Darna Myuky Kyylia Midnny MrsiZlan JCaila ACvgstey Ltla Woeliney Ttllsitdny Meey Bokalua Avoyyirhtie Manslye Ja dailany Seraha NvianYReyn Dirn Deloti Giaka Koc Gocna Kayee Kaeli nelu eoleolty Baisa AiseoNn Mhrila Ragsiny Seelyi aanaa Amlyra SariatLa fahta goelde Heyte Aaie SeynR Kkara Aei kaynh Lalie Badeo Kanoen Brry Caxia Aialitn Kallen Eldatbs Saniny Lrsiyn Teeilynlue Aabylee SJyalga Aiae iaa Ears Keon Diiya Jlbnehnna Asiy NhissoenS Ddyna CinieliM ierlde Saaltr Mrirane Arttin Myita ladyiEaDah Aarilita Keana KamhlboKanhehC Bnyy Zeryn Nieren Jyilishyn Kaelhen eaFdy Baonree BooveyiKa TietKRaiee Solra Mtenna Saxa JvialierR Mallig urieh Larvna Avlinn Cnmri Peame Talyeld baldee Sarynn Aadslia Jalenna NByn Mtay Smlynn Albya Douovyn Janyna AraraytcntI Bdiisegze Man Meie Sarana JerIr yrkete Kreldin nica Setmh laiaa Lyara Kaelyn Minnna Mishz Cnartea Keia KmvAKa kolan Anaslina Limer Aaalin Jankeorhh Llyna Joreu Ehtsua AnisenHFTanne Malatodh Amsthn Kaslilyl Blinna ietlellee CdiKan Silynhe SvJdan SiolynhRu richlKnn Caiahi Mailee Kamvre Lten Kanyia Leyra VarsnL lynie nevsIia Riaa Tde Baifhnn Kare Surane Saltay ayleGrtane Ad Iley Mavliey Rlya Shxle Kabiia Ciana JsRea Ryee Srobaa Hirey Neiah A Jia TyaR Miien Carie Wire Leine Mianiva R Vtylo Macybeltne Amiva Baelannh Niane Leyn Ailiee Vame Banelan Alienea Eokve zieley Ceignah EriIKyoka Sada Sasaiselsa Kanhaefa Asenn Napinen Emeen Iya Ryna Jeria Eapyna Milelee Sariyen Maeet Iunta Aealla Tayya imgmlegs ahkya JCaliia Avin Zmeb zllina Jrle Jelaybe Ehrlen Bleylie Zyn eya Mabio Alie Kaelia Krinn Grbriena Ara Lapenn Dause Radna Jslyi Lhasanna Aranen Adrys Amtcta Iesa Mlara ZsyalPsa KageuKanh zzyle ARyane Aetiisnah Nan hatiaiSip Veelit Cyli naria Aoatx Joatley Garan ZuuanaaAlaeigh vanna Amismy Diinyle Ianbybee Somisen Marae Kham Danaihee A iee Aisaineetle Aloli EseyleLna JaiFaryned Kvipinliia Paizen Anelyne Kasme Jziniy Dae uidenBe Kesonate Bdsa GhkenNa Myliy Deeeyna Mei MetMaline Jelietgseo Aahlee Lvyn Boiltiyh Miyeh Sagnmyye Mhena Kanmela Aliennoga qvee Niyn Lyno uyale EoyinVdon xaoll Janne Coylan LeeDnna Inalaeey Jalynanan Aipen Byarhyh Enlae Lazrih Mayy Savlhyle Laryya  olia Ciila Kaol Aidesy Arelen Erin Aecla Erlsiey Knelana Avleno Aagithth Anexei Colzaolen Zaolynn Puina Aaia KralnaSza pevsale nbelya doailay coyBPee Ayuhaye Haylau Ama Alenn Aalan Belkn Aalan Emoryna Juiphna Aaile Bhrhe Csisle LisMana Brdil Raalienth Ptlkile Kananh Avcbah Teas einsemylPn JalSyn Naauelna Eaklea AbyicnnCanan Calielee Celsne Aden Jamien yai Ala Sayla Carine Csyniee Ana Eeoria Iyyan MiJivaai Javiennl Irimedn Jaklmna Arsran iovieye Lamyna Srneiltna Amsernne Liarka Liyye laynFeel Belalhnsuneyy Jaiadaae Aminya Srvayyh Illae Zenae Sten Lmeeln Mrkrna Autplynh Jazlien JClCiyim Ahihey Eahiee Aaanniea Bagya Sns Arilyn Jalaailee Lmilinn AmBvin Erbrley Rvza Asavaanna Lagona Cnel Elafa Gony oeylsna Ramoa Nasia Latlen Cailyn Aleyea Anglra Apzsia RlRoza idyrlatse BisaSIrCHona Sai Avet Kai iana Jilete Ciae Kostlna Iyayan Chynnana Saysanet NaiVau Aaytbn Jnala Koye Daisa KeLlni daea saa AsanzeY Brbphia Jali ChneiJoan liaeea Jamieida AoroR eory Mlsnna Kighn Erlan Fiiyn Khyldhh Trzreyny Aoeh MoQrye Cydicen Bislee Sherx Kekvia Aalane Marnna Ivae Kaey Eaind Krica ArieenL Kyih Yoiri Eeolena Dernnie Niyne Jiayne NbhtfC Riys elqsnn Kamirnh Auylan Eania AaliyaY Eann Erhransya Rrisye Cilev Evna Mayney Loiah Jaletn Wtatima yenn Kzmna Aeeh RarasRa Mene Soenna Alinga Aaksnn Aa Jengye QrilaanLya Jain nespye Caanaeha Aanien Saca Jcle Krkzaiah Ayina Anekhana Ya leyna AEasan ioslly Zasbelaa Gidpemvsna Artya Tieoh Barnet Caczilna Rmieite Nlylenn Casar Mahayn vilynna Belluie Aalelesa Danian Tarixy Layby Jeyney VotsCin Aukira Rorclna MErlidin eoicte Saaran Esi Haoiyn Darerna Mrynyn JlarKoinJSyneyane Amlinen Ladiy ehiee Jirn NamanyKy Keze Blyn Lrelinn Haahet Rasea Aa onna Zszeroah Kalenatha Aoareni Roite ErgtlatjBdlig Kalane Anitola Nansey Aeyse Aoyla AucadB Daeiel WSisann KakaT eaienlcV Aetlana Hanlae Lale nhtcntih AiaCoie Liaai Arande Moela KiIlan Ciaseig Aoryee LannrauCesan Lapina Lasa Emeoh Esoh Aruna DaPeiV Sacrlaaitan Avvlal Nasclra Lira Amiza Kugnyn Mmlazy Manaita LoIy Aenyaela Lana Vy Saiene Dna Koytiy Lasie Sisrrh Kapiahe Maglira Kediy elyry Auisni Ntcnyne FminaEAni Dalhia Oano Azrseei Miala halyne Mamsanye Krina Lidene Nlarira Jokannen Gacda Larte IDivey Maish Zlia Maz yanae  Syitlel Ahsina AreiMa Shysa Marisia Kasna Ealin Mierihee Sreg Aliy Joria Mater Sanea Klei Anse Toowhon Klisa Bielia Zarseii Eloki Lien BGisz Lrintnah Kyy Jrvdna Bhauoreieve Alaniy Jeirenna Rielee Zetla Akinaia Ntani Sania Zmsbiin Elicsn Moryin Sagdi Tayaih nneon Aranla Omannane Anauelae Amadake Pmiali Mlynger gaiia Crol KRyhlynn Tasra Irriea Aasaa Cayviy Ahami Karvyne Dayli zdona Laeliia Nac Sasba Jmieah tllan Dary Sniea Kioeitle Tiee Ga Maye Lilaya Keise Ksaleliin Zhleh Soylan Ea IaioeygnN Lmliee gzna Ayna Aarana Biea Jareie reat hahnynn Haoaryik Caioa Koryinn Cmmrihahne Auodiia Borahine Maylee Baei Vnbbly Iona Bralee Arayleniey Lney Jhsah Ben anaora Aumddleh Aleneex Adysle nainacBria Aoetdh Aolive Keiaa jmamlan Lueel Daragh Kraoay Mibten Auena Mamree Mavnne Arcilten AithaIies Embilin Euia Maaniei Cavay Teglen Loysda Noarxe Oynlsi AaWaie Kodlte Ira ByariYnng Juaivin Chnilat yagneN Jalea DaSleh Cansya Srani Anral rreh vaeINhi Ahamioa Aairianlir Beeiga Eara Sreina hateo Nathahtnn eliya Veriy olaii Ehyn Noslen Jrania Nuza Aran asicanRe Bele Bdaleeh Anlys Aeidesna Eybs Namn Borike Aova LainnaJYrinreh Ehacann Rlrna Kilbe Kai BaonaRmye Celereon naliana Lrnpha Jlaniara Taee Arera Ganclena Meima Arao opma DyilaiB Nalileya Aea Aryria Aollin Aual LilansA Mamdev Svyh Aailnn Kanlya Iawvie Mairale Iyayn Ioylan Capayla  Eevaglrha Eailer RarzynTnyy JaJhilae tdinh Joviyh\n"
     ]
    }
   ],
   "source": [
    "print(sample_chars(X_seed, rnn.init_h(), 10000))"
   ]
  },
  {
   "cell_type": "code",
   "execution_count": 39,
   "metadata": {
    "collapsed": false
   },
   "outputs": [
    {
     "data": {
      "text/plain": [
       "4.382026634673881"
      ]
     },
     "execution_count": 39,
     "metadata": {},
     "output_type": "execute_result"
    }
   ],
   "source": [
    "np.log(80)"
   ]
  },
  {
   "cell_type": "code",
   "execution_count": 40,
   "metadata": {
    "collapsed": false
   },
   "outputs": [
    {
     "data": {
      "text/plain": [
       "55.625"
      ]
     },
     "execution_count": 40,
     "metadata": {},
     "output_type": "execute_result"
    }
   ],
   "source": [
    "2.225*25"
   ]
  },
  {
   "cell_type": "code",
   "execution_count": 200,
   "metadata": {
    "collapsed": true
   },
   "outputs": [],
   "source": [
    "X_next = torch.zeros_like(X_seed)"
   ]
  },
  {
   "cell_type": "code",
   "execution_count": 201,
   "metadata": {
    "collapsed": true
   },
   "outputs": [],
   "source": [
    "X_next[y_pred]=1"
   ]
  },
  {
   "cell_type": "code",
   "execution_count": 202,
   "metadata": {
    "collapsed": false
   },
   "outputs": [
    {
     "data": {
      "text/plain": [
       "tensor([ 0.,  0.,  0.,  0.,  0.,  0.,  0.,  0.,  0.,  0.,  0.,  0.,\n",
       "         0.,  0.,  0.,  0.,  0.,  0.,  0.,  0.,  0.,  0.,  0.,  0.,\n",
       "         0.,  0.,  0.,  0.,  0.,  0.,  0.,  0.,  0.,  0.,  1.,  0.,\n",
       "         0.,  0.,  0.,  0.,  0.,  0.,  0.,  0.,  0.,  0.,  0.,  0.,\n",
       "         0.,  0.,  0.,  0.,  0.])"
      ]
     },
     "execution_count": 202,
     "metadata": {},
     "output_type": "execute_result"
    }
   ],
   "source": [
    "y_score, h_prev = rnn(X_next, h_prev)"
   ]
  },
  {
   "cell_type": "code",
   "execution_count": 116,
   "metadata": {
    "collapsed": false
   },
   "outputs": [
    {
     "data": {
      "text/plain": [
       "torch.Size([1, 53])"
      ]
     },
     "execution_count": 116,
     "metadata": {},
     "output_type": "execute_result"
    }
   ],
   "source": [
    "y_score.view(1,-1).shape"
   ]
  },
  {
   "cell_type": "code",
   "execution_count": 119,
   "metadata": {
    "collapsed": false
   },
   "outputs": [
    {
     "data": {
      "text/plain": [
       "tensor([ 49])"
      ]
     },
     "execution_count": 119,
     "metadata": {},
     "output_type": "execute_result"
    }
   ],
   "source": [
    "y_batch[ch_id].view(1)"
   ]
  },
  {
   "cell_type": "code",
   "execution_count": 123,
   "metadata": {
    "collapsed": false
   },
   "outputs": [
    {
     "ename": "IndexError",
     "evalue": "index 6 is out of bounds for dimension 0 with size 6",
     "output_type": "error",
     "traceback": [
      "\u001b[1;31m---------------------------------------------------------------------------\u001b[0m",
      "\u001b[1;31mIndexError\u001b[0m                                Traceback (most recent call last)",
      "\u001b[1;32m<ipython-input-123-a2df99c59cba>\u001b[0m in \u001b[0;36m<module>\u001b[1;34m()\u001b[0m\n\u001b[1;32m----> 1\u001b[1;33m \u001b[0mloss_fn\u001b[0m\u001b[1;33m(\u001b[0m\u001b[0my_score\u001b[0m\u001b[1;33m.\u001b[0m\u001b[0mview\u001b[0m\u001b[1;33m(\u001b[0m\u001b[1;36m1\u001b[0m\u001b[1;33m,\u001b[0m\u001b[1;33m-\u001b[0m\u001b[1;36m1\u001b[0m\u001b[1;33m)\u001b[0m\u001b[1;33m,\u001b[0m \u001b[0my_batch\u001b[0m\u001b[1;33m[\u001b[0m\u001b[0mch_id\u001b[0m\u001b[1;33m]\u001b[0m\u001b[1;33m.\u001b[0m\u001b[0mview\u001b[0m\u001b[1;33m(\u001b[0m\u001b[1;36m1\u001b[0m\u001b[1;33m)\u001b[0m\u001b[1;33m)\u001b[0m\u001b[1;33m\u001b[0m\u001b[0m\n\u001b[0m",
      "\u001b[1;31mIndexError\u001b[0m: index 6 is out of bounds for dimension 0 with size 6"
     ]
    }
   ],
   "source": [
    "loss_fn(y_score.view(1,-1), y_batch[ch_id].view(1))"
   ]
  },
  {
   "cell_type": "code",
   "execution_count": 125,
   "metadata": {
    "collapsed": false
   },
   "outputs": [
    {
     "data": {
      "text/plain": [
       "tensor([[-0.0357,  0.0332,  0.0107,  0.0057, -0.0174, -0.1969, -0.0340,\n",
       "          0.0583, -0.1455,  0.1751, -0.0706,  0.1280, -0.0751, -0.0068,\n",
       "          0.0681,  0.0376, -0.1166,  0.0185,  0.0158,  0.0174, -0.0886,\n",
       "         -0.1260, -0.1418, -0.0454, -0.0296, -0.0099,  0.0042,  0.1124,\n",
       "         -0.0540,  0.0317, -0.0390, -0.0260, -0.0610,  0.0854, -0.0277,\n",
       "         -0.0665, -0.2261, -0.0420,  0.0861,  0.0427, -0.0653,  0.0099,\n",
       "         -0.1085, -0.1096, -0.0630, -0.0732,  0.0298,  0.1485,  0.1238,\n",
       "         -0.0566, -0.0781, -0.0790,  0.0377]])"
      ]
     },
     "execution_count": 125,
     "metadata": {},
     "output_type": "execute_result"
    }
   ],
   "source": [
    "y_score.view(1,-1)"
   ]
  },
  {
   "cell_type": "code",
   "execution_count": 131,
   "metadata": {
    "collapsed": false
   },
   "outputs": [
    {
     "data": {
      "text/plain": [
       "tensor([  9,   6,   9,   1,  34,  44])"
      ]
     },
     "execution_count": 131,
     "metadata": {},
     "output_type": "execute_result"
    }
   ],
   "source": [
    "y_batch"
   ]
  },
  {
   "cell_type": "code",
   "execution_count": null,
   "metadata": {
    "collapsed": true
   },
   "outputs": [],
   "source": []
  },
  {
   "cell_type": "code",
   "execution_count": null,
   "metadata": {
    "collapsed": true
   },
   "outputs": [],
   "source": []
  },
  {
   "cell_type": "code",
   "execution_count": null,
   "metadata": {
    "collapsed": true
   },
   "outputs": [],
   "source": []
  },
  {
   "cell_type": "code",
   "execution_count": 17,
   "metadata": {
    "collapsed": false
   },
   "outputs": [
    {
     "data": {
      "text/plain": [
       "(100, 53)"
      ]
     },
     "execution_count": 17,
     "metadata": {},
     "output_type": "execute_result"
    }
   ],
   "source": [
    "Wxh.shape"
   ]
  },
  {
   "cell_type": "code",
   "execution_count": 18,
   "metadata": {
    "collapsed": false
   },
   "outputs": [
    {
     "data": {
      "text/plain": [
       "(100, 100)"
      ]
     },
     "execution_count": 18,
     "metadata": {},
     "output_type": "execute_result"
    }
   ],
   "source": [
    "Whh.shape"
   ]
  },
  {
   "cell_type": "code",
   "execution_count": 19,
   "metadata": {
    "collapsed": false
   },
   "outputs": [
    {
     "data": {
      "text/plain": [
       "(53, 100)"
      ]
     },
     "execution_count": 19,
     "metadata": {},
     "output_type": "execute_result"
    }
   ],
   "source": [
    "Why.shape"
   ]
  },
  {
   "cell_type": "code",
   "execution_count": 20,
   "metadata": {
    "collapsed": false
   },
   "outputs": [
    {
     "data": {
      "text/plain": [
       "(100, 1)"
      ]
     },
     "execution_count": 20,
     "metadata": {},
     "output_type": "execute_result"
    }
   ],
   "source": [
    "bh.shape"
   ]
  },
  {
   "cell_type": "code",
   "execution_count": 10,
   "metadata": {
    "collapsed": true
   },
   "outputs": [],
   "source": [
    "# model parameters\n",
    "Wxh = np.random.randn(hidden_size, vocab_size)*0.01 # input to hidden\n",
    "Whh = np.random.randn(hidden_size, hidden_size)*0.01 # hidden to hidden\n",
    "Why = np.random.randn(vocab_size, hidden_size)*0.01 # hidden to output\n",
    "bh = np.zeros((hidden_size, 1)) # hidden bias\n",
    "by = np.zeros((vocab_size, 1)) # output bias"
   ]
  },
  {
   "cell_type": "code",
   "execution_count": 11,
   "metadata": {
    "collapsed": true
   },
   "outputs": [],
   "source": [
    "def lossFun(inputs, targets, hprev):\n",
    "  \"\"\"\n",
    "  inputs,targets are both list of integers.\n",
    "  hprev is Hx1 array of initial hidden state\n",
    "  returns the loss, gradients on model parameters, and last hidden state\n",
    "  \"\"\"\n",
    "  xs, hs, ys, ps = {}, {}, {}, {}\n",
    "  hs[-1] = np.copy(hprev)\n",
    "  loss = 0\n",
    "  # forward pass\n",
    "  for t in range(len(inputs)):\n",
    "    xs[t] = np.zeros((vocab_size,1)) # encode in 1-of-k representation\n",
    "    xs[t][inputs[t]] = 1\n",
    "    hs[t] = np.tanh(np.dot(Wxh, xs[t]) + np.dot(Whh, hs[t-1]) + bh) # hidden state\n",
    "    ys[t] = np.dot(Why, hs[t]) + by # unnormalized log probabilities for next chars\n",
    "    ps[t] = np.exp(ys[t]) / np.sum(np.exp(ys[t])) # probabilities for next chars\n",
    "    loss += -np.log(ps[t][targets[t],0]) # softmax (cross-entropy loss)\n",
    "  # backward pass: compute gradients going backwards\n",
    "  dWxh, dWhh, dWhy = np.zeros_like(Wxh), np.zeros_like(Whh), np.zeros_like(Why)\n",
    "  dbh, dby = np.zeros_like(bh), np.zeros_like(by)\n",
    "  dhnext = np.zeros_like(hs[0])\n",
    "  for t in reversed(range(len(inputs))):\n",
    "    dy = np.copy(ps[t])\n",
    "    dy[targets[t]] -= 1 # backprop into y. see http://cs231n.github.io/neural-networks-case-study/#grad if confused here\n",
    "    dWhy += np.dot(dy, hs[t].T)\n",
    "    dby += dy\n",
    "    dh = np.dot(Why.T, dy) + dhnext # backprop into h\n",
    "    dhraw = (1 - hs[t] * hs[t]) * dh # backprop through tanh nonlinearity\n",
    "    dbh += dhraw\n",
    "    dWxh += np.dot(dhraw, xs[t].T)\n",
    "    dWhh += np.dot(dhraw, hs[t-1].T)\n",
    "    dhnext = np.dot(Whh.T, dhraw)\n",
    "  for dparam in [dWxh, dWhh, dWhy, dbh, dby]:\n",
    "    np.clip(dparam, -5, 5, out=dparam) # clip to mitigate exploding gradients\n",
    "  return loss, dWxh, dWhh, dWhy, dbh, dby, hs[len(inputs)-1]"
   ]
  },
  {
   "cell_type": "code",
   "execution_count": 12,
   "metadata": {
    "collapsed": true
   },
   "outputs": [],
   "source": [
    "def sample(h, seed_ix, n):\n",
    "  \"\"\" \n",
    "  sample a sequence of integers from the model \n",
    "  h is memory state, seed_ix is seed letter for first time step\n",
    "  \"\"\"\n",
    "  x = np.zeros((vocab_size, 1))\n",
    "  x[seed_ix] = 1\n",
    "  ixes = []\n",
    "  for t in range(n):\n",
    "    h = np.tanh(np.dot(Wxh, x) + np.dot(Whh, h) + bh)\n",
    "    y = np.dot(Why, h) + by\n",
    "    p = np.exp(y) / np.sum(np.exp(y))\n",
    "    ix = np.random.choice(range(vocab_size), p=p.ravel())\n",
    "    x = np.zeros((vocab_size, 1))\n",
    "    x[ix] = 1\n",
    "    ixes.append(ix)\n",
    "  return ixes"
   ]
  },
  {
   "cell_type": "code",
   "execution_count": 21,
   "metadata": {
    "collapsed": true
   },
   "outputs": [],
   "source": [
    "n, p = 0, 0\n",
    "mWxh, mWhh, mWhy = np.zeros_like(Wxh), np.zeros_like(Whh), np.zeros_like(Why)\n",
    "mbh, mby = np.zeros_like(bh), np.zeros_like(by) # memory variables for Adagrad\n",
    "smooth_loss = -np.log(1.0/vocab_size)*seq_length # loss at iteration 0"
   ]
  },
  {
   "cell_type": "code",
   "execution_count": 28,
   "metadata": {
    "collapsed": true
   },
   "outputs": [],
   "source": [
    "inputs = [char_to_ix[ch] for ch in data[p:p+seq_length]]\n",
    "targets = [char_to_ix[ch] for ch in data[p+1:p+seq_length+1]]"
   ]
  },
  {
   "cell_type": "code",
   "execution_count": 30,
   "metadata": {
    "collapsed": false
   },
   "outputs": [
    {
     "data": {
      "text/plain": [
       "(100, 1)"
      ]
     },
     "execution_count": 30,
     "metadata": {},
     "output_type": "execute_result"
    }
   ],
   "source": [
    "hprev.shape"
   ]
  },
  {
   "cell_type": "code",
   "execution_count": 31,
   "metadata": {
    "collapsed": true
   },
   "outputs": [],
   "source": [
    "  xs, hs, ys, ps = {}, {}, {}, {}\n",
    "  hs[-1] = np.copy(hprev)\n",
    "  loss = 0"
   ]
  },
  {
   "cell_type": "code",
   "execution_count": 32,
   "metadata": {
    "collapsed": true
   },
   "outputs": [],
   "source": [
    "t = 0"
   ]
  },
  {
   "cell_type": "code",
   "execution_count": 34,
   "metadata": {
    "collapsed": true
   },
   "outputs": [],
   "source": [
    "xs[t] = np.zeros((vocab_size,1))"
   ]
  },
  {
   "cell_type": "code",
   "execution_count": 37,
   "metadata": {
    "collapsed": true
   },
   "outputs": [],
   "source": [
    "xs[t][inputs[t]] = 1"
   ]
  },
  {
   "cell_type": "code",
   "execution_count": 41,
   "metadata": {
    "collapsed": false
   },
   "outputs": [
    {
     "data": {
      "text/plain": [
       "(100, 1)"
      ]
     },
     "execution_count": 41,
     "metadata": {},
     "output_type": "execute_result"
    }
   ],
   "source": [
    "np.dot(Wxh, xs[t]).shape"
   ]
  },
  {
   "cell_type": "code",
   "execution_count": 49,
   "metadata": {
    "collapsed": true
   },
   "outputs": [],
   "source": [
    "hs[t] = np.tanh(np.dot(Wxh, xs[t]) + np.dot(Whh, hs[t-1]) + bh)"
   ]
  },
  {
   "cell_type": "code",
   "execution_count": 52,
   "metadata": {
    "collapsed": true
   },
   "outputs": [],
   "source": [
    "import matplotlib.pyplot as plt\n",
    "% matplotlib inline"
   ]
  },
  {
   "cell_type": "code",
   "execution_count": 59,
   "metadata": {
    "collapsed": true
   },
   "outputs": [],
   "source": [
    "ys[t] = np.dot(Why, hs[t]) + by"
   ]
  },
  {
   "cell_type": "code",
   "execution_count": 61,
   "metadata": {
    "collapsed": false
   },
   "outputs": [
    {
     "data": {
      "text/plain": [
       "(53, 1)"
      ]
     },
     "execution_count": 61,
     "metadata": {},
     "output_type": "execute_result"
    }
   ],
   "source": [
    "ys[t].shape"
   ]
  },
  {
   "cell_type": "code",
   "execution_count": 62,
   "metadata": {
    "collapsed": true
   },
   "outputs": [],
   "source": [
    "ps[t] = np.exp(ys[t]) / np.sum(np.exp(ys[t]))"
   ]
  },
  {
   "cell_type": "code",
   "execution_count": 73,
   "metadata": {
    "collapsed": false
   },
   "outputs": [
    {
     "data": {
      "text/plain": [
       "400.3183783825123"
      ]
     },
     "execution_count": 73,
     "metadata": {},
     "output_type": "execute_result"
    }
   ],
   "source": [
    "-np.log(1.0/3000)*50"
   ]
  },
  {
   "cell_type": "code",
   "execution_count": 74,
   "metadata": {
    "collapsed": true
   },
   "outputs": [],
   "source": [
    "hprev = hs[t-1]"
   ]
  },
  {
   "cell_type": "code",
   "execution_count": 79,
   "metadata": {
    "collapsed": false
   },
   "outputs": [
    {
     "data": {
      "text/plain": [
       "'ikama enaliia Janden Celen Badkia Darine Jumah Jagkida Asmyanat Caima Ediouy Inriserya Janieghebe Jame Giyne Jozabkatgh Alance Jomvi Jorielya Eyah Aillana Kateliuh Babye Makjan Calisse Tynnibele Jaigz'"
      ]
     },
     "execution_count": 79,
     "metadata": {},
     "output_type": "execute_result"
    }
   ],
   "source": [
    "''.join(ix_to_char[ix] for ix in sample(hprev, 1, 200))"
   ]
  },
  {
   "cell_type": "code",
   "execution_count": 81,
   "metadata": {
    "collapsed": true
   },
   "outputs": [],
   "source": [
    "seed_ix = 1"
   ]
  },
  {
   "cell_type": "code",
   "execution_count": 82,
   "metadata": {
    "collapsed": true
   },
   "outputs": [],
   "source": [
    "  x = np.zeros((vocab_size, 1))\n",
    "  x[seed_ix] = 1\n",
    "  ixes = []"
   ]
  },
  {
   "cell_type": "code",
   "execution_count": 84,
   "metadata": {
    "collapsed": false
   },
   "outputs": [
    {
     "data": {
      "text/plain": [
       "(53, 1)"
      ]
     },
     "execution_count": 84,
     "metadata": {},
     "output_type": "execute_result"
    }
   ],
   "source": [
    "x.shape"
   ]
  },
  {
   "cell_type": "code",
   "execution_count": 86,
   "metadata": {
    "collapsed": true
   },
   "outputs": [],
   "source": [
    "h = hprev"
   ]
  },
  {
   "cell_type": "code",
   "execution_count": 115,
   "metadata": {
    "collapsed": true
   },
   "outputs": [],
   "source": [
    "    h = np.tanh(np.dot(Wxh, x) + np.dot(Whh, h) + bh)\n",
    "    y = np.dot(Why, h) + by\n",
    "    p = np.exp(y) / np.sum(np.exp(y))\n",
    "    ix = np.random.choice(range(vocab_size), p=p.ravel())\n",
    "    x = np.zeros((vocab_size, 1))\n",
    "    x[ix] = 1\n",
    "    ixes.append(ix)"
   ]
  },
  {
   "cell_type": "code",
   "execution_count": 116,
   "metadata": {
    "collapsed": false
   },
   "outputs": [
    {
     "data": {
      "text/plain": [
       "7"
      ]
     },
     "execution_count": 116,
     "metadata": {},
     "output_type": "execute_result"
    }
   ],
   "source": [
    "ix"
   ]
  },
  {
   "cell_type": "code",
   "execution_count": 120,
   "metadata": {
    "collapsed": false
   },
   "outputs": [
    {
     "data": {
      "text/plain": [
       "(53, 1)"
      ]
     },
     "execution_count": 120,
     "metadata": {},
     "output_type": "execute_result"
    }
   ],
   "source": [
    "x.shape"
   ]
  },
  {
   "cell_type": "code",
   "execution_count": 121,
   "metadata": {
    "collapsed": false
   },
   "outputs": [
    {
     "data": {
      "text/plain": [
       "(100, 53)"
      ]
     },
     "execution_count": 121,
     "metadata": {},
     "output_type": "execute_result"
    }
   ],
   "source": [
    "Wxh.shape"
   ]
  },
  {
   "cell_type": "code",
   "execution_count": 122,
   "metadata": {
    "collapsed": false
   },
   "outputs": [
    {
     "data": {
      "text/plain": [
       "(100, 1)"
      ]
     },
     "execution_count": 122,
     "metadata": {},
     "output_type": "execute_result"
    }
   ],
   "source": [
    "np.dot(Wxh, x).shape"
   ]
  },
  {
   "cell_type": "code",
   "execution_count": 126,
   "metadata": {
    "collapsed": false
   },
   "outputs": [
    {
     "data": {
      "text/plain": [
       "(100, 53)"
      ]
     },
     "execution_count": 126,
     "metadata": {},
     "output_type": "execute_result"
    }
   ],
   "source": [
    "Wxh.shape"
   ]
  },
  {
   "cell_type": "code",
   "execution_count": null,
   "metadata": {
    "collapsed": true
   },
   "outputs": [],
   "source": []
  },
  {
   "cell_type": "code",
   "execution_count": null,
   "metadata": {
    "collapsed": true
   },
   "outputs": [],
   "source": []
  },
  {
   "cell_type": "code",
   "execution_count": 48,
   "metadata": {
    "collapsed": false
   },
   "outputs": [
    {
     "data": {
      "text/plain": [
       "99.25729783880305"
      ]
     },
     "execution_count": 48,
     "metadata": {},
     "output_type": "execute_result"
    }
   ],
   "source": [
    "np.log(vocab_size)*25"
   ]
  },
  {
   "cell_type": "code",
   "execution_count": 45,
   "metadata": {
    "collapsed": false
   },
   "outputs": [
    {
     "data": {
      "text/plain": [
       "25"
      ]
     },
     "execution_count": 45,
     "metadata": {},
     "output_type": "execute_result"
    }
   ],
   "source": [
    "seq_length"
   ]
  },
  {
   "cell_type": "code",
   "execution_count": 49,
   "metadata": {
    "collapsed": true
   },
   "outputs": [],
   "source": [
    "hprev = np.zeros((hidden_size,1))"
   ]
  },
  {
   "cell_type": "code",
   "execution_count": 51,
   "metadata": {
    "collapsed": false
   },
   "outputs": [
    {
     "data": {
      "text/plain": [
       "(100, 1)"
      ]
     },
     "execution_count": 51,
     "metadata": {},
     "output_type": "execute_result"
    }
   ],
   "source": [
    "hprev.shape"
   ]
  },
  {
   "cell_type": "code",
   "execution_count": 52,
   "metadata": {
    "collapsed": true
   },
   "outputs": [],
   "source": [
    "  inputs = [char_to_ix[ch] for ch in data[p:p+seq_length]]\n",
    "  targets = [char_to_ix[ch] for ch in data[p+1:p+seq_length+1]]"
   ]
  },
  {
   "cell_type": "code",
   "execution_count": 54,
   "metadata": {
    "collapsed": false
   },
   "outputs": [
    {
     "data": {
      "text/plain": [
       "'Emma Olivia Sophia Isabel'"
      ]
     },
     "execution_count": 54,
     "metadata": {},
     "output_type": "execute_result"
    }
   ],
   "source": [
    "data[p:p+seq_length]"
   ]
  },
  {
   "cell_type": "code",
   "execution_count": 55,
   "metadata": {
    "collapsed": false
   },
   "outputs": [
    {
     "data": {
      "text/plain": [
       "'mma Olivia Sophia Isabell'"
      ]
     },
     "execution_count": 55,
     "metadata": {},
     "output_type": "execute_result"
    }
   ],
   "source": [
    "data[p+1:p+seq_length+1]"
   ]
  },
  {
   "cell_type": "code",
   "execution_count": 56,
   "metadata": {
    "collapsed": false
   },
   "outputs": [
    {
     "data": {
      "text/plain": [
       "44"
      ]
     },
     "execution_count": 56,
     "metadata": {},
     "output_type": "execute_result"
    }
   ],
   "source": [
    "inputs[0]"
   ]
  },
  {
   "cell_type": "code",
   "execution_count": 64,
   "metadata": {
    "collapsed": false
   },
   "outputs": [
    {
     "name": "stdout",
     "output_type": "stream",
     "text": [
      "----\n",
      " PfKTwPfmTLjbeVZCLEYRbGltieocPNNtsnTWVZNjehJnZLQRvvrMFQNpxCxHQncWpvjBYZYqasQfIdjPqtrPTEYDcCOxngJamYZCVpjyxVEIQRCbvbqpYtPM ZNVXcNiIDRixwFDVnkWUscUzu juwCkYuBqHeUVcyiWELKcoIr nr TKNCDpxLGyyKENSvJnmvweRQQ \n",
      "----\n"
     ]
    }
   ],
   "source": [
    "    sample_ix = sample(hprev, inputs[0], 200)\n",
    "    txt = ''.join(ix_to_char[ix] for ix in sample_ix)\n",
    "    print('----\\n %s \\n----' % (txt, ))"
   ]
  },
  {
   "cell_type": "code",
   "execution_count": 66,
   "metadata": {
    "collapsed": true
   },
   "outputs": [],
   "source": [
    "loss, dWxh, dWhh, dWhy, dbh, dby, hprev = lossFun(inputs, targets, hprev)"
   ]
  },
  {
   "cell_type": "code",
   "execution_count": 100,
   "metadata": {
    "collapsed": true
   },
   "outputs": [],
   "source": [
    "  xs, hs, ys, ps = {}, {}, {}, {}\n",
    "  hs[-1] = np.copy(hprev)\n",
    "  loss = 0"
   ]
  },
  {
   "cell_type": "code",
   "execution_count": 101,
   "metadata": {
    "collapsed": true
   },
   "outputs": [],
   "source": [
    "t=0"
   ]
  },
  {
   "cell_type": "code",
   "execution_count": 102,
   "metadata": {
    "collapsed": true
   },
   "outputs": [],
   "source": [
    "    xs[t] = np.zeros((vocab_size,1)) # encode in 1-of-k representation\n",
    "    xs[t][inputs[t]] = 1\n",
    "    hs[t] = np.tanh(np.dot(Wxh, xs[t]) + np.dot(Whh, hs[t-1]) + bh) # hidden state\n",
    "    ys[t] = np.dot(Why, hs[t]) + by # unnormalized log probabilities for next chars\n",
    "    ps[t] = np.exp(ys[t]) / np.sum(np.exp(ys[t])) # probabilities for next chars\n",
    "    loss += -np.log(ps[t][targets[t],0]) # softmax (cross-entropy loss)"
   ]
  },
  {
   "cell_type": "code",
   "execution_count": 141,
   "metadata": {
    "collapsed": false
   },
   "outputs": [
    {
     "data": {
      "text/plain": [
       "(100, 1)"
      ]
     },
     "execution_count": 141,
     "metadata": {},
     "output_type": "execute_result"
    }
   ],
   "source": [
    "hs[-1].shape"
   ]
  },
  {
   "cell_type": "code",
   "execution_count": 138,
   "metadata": {
    "collapsed": false
   },
   "outputs": [
    {
     "data": {
      "text/plain": [
       "0.0398582039920804"
      ]
     },
     "execution_count": 138,
     "metadata": {},
     "output_type": "execute_result"
    }
   ],
   "source": [
    "ps[t][targets[t]][0]"
   ]
  },
  {
   "cell_type": "code",
   "execution_count": 132,
   "metadata": {
    "collapsed": true
   },
   "outputs": [
    {
     "data": {
      "text/plain": [
       "array([[1.22462687e-02],\n",
       "       [3.70884873e-04],\n",
       "       [1.47718282e-01],\n",
       "       [4.91778089e-04],\n",
       "       [1.43579039e-02],\n",
       "       [1.94613594e-03],\n",
       "       [3.98582040e-02],\n",
       "       [1.83239784e-03],\n",
       "       [1.40377295e-03],\n",
       "       [2.25524356e-03],\n",
       "       [1.86338027e-02],\n",
       "       [1.82163330e-03],\n",
       "       [1.36034842e-03],\n",
       "       [5.34832575e-03],\n",
       "       [5.31882994e-03],\n",
       "       [2.56723943e-02],\n",
       "       [2.08954666e-01],\n",
       "       [1.67814105e-04],\n",
       "       [5.43953948e-02],\n",
       "       [1.23416029e-02],\n",
       "       [2.71522941e-02],\n",
       "       [7.07506732e-04],\n",
       "       [3.90479874e-03],\n",
       "       [3.07619937e-03],\n",
       "       [6.03594339e-04],\n",
       "       [2.60599790e-02],\n",
       "       [3.70108202e-05],\n",
       "       [2.20467155e-03],\n",
       "       [8.62683131e-03],\n",
       "       [6.98119822e-04],\n",
       "       [5.34681858e-03],\n",
       "       [2.66708994e-03],\n",
       "       [1.11460252e-02],\n",
       "       [1.62131224e-03],\n",
       "       [4.59798728e-03],\n",
       "       [2.41688939e-03],\n",
       "       [7.15391514e-04],\n",
       "       [1.00846412e-03],\n",
       "       [7.64864017e-04],\n",
       "       [1.19025338e-02],\n",
       "       [4.88808782e-02],\n",
       "       [6.65579358e-02],\n",
       "       [1.07478080e-03],\n",
       "       [6.73335329e-04],\n",
       "       [2.65998096e-03],\n",
       "       [3.20836611e-02],\n",
       "       [2.08930948e-02],\n",
       "       [3.64345458e-04],\n",
       "       [1.19719124e-01],\n",
       "       [6.08244844e-04],\n",
       "       [5.51525083e-04],\n",
       "       [4.71561737e-03],\n",
       "       [2.94634093e-02]])"
      ]
     },
     "execution_count": 132,
     "metadata": {},
     "output_type": "execute_result"
    }
   ],
   "source": [
    "ps[t]"
   ]
  },
  {
   "cell_type": "code",
   "execution_count": 126,
   "metadata": {
    "collapsed": false
   },
   "outputs": [
    {
     "data": {
      "text/plain": [
       "16"
      ]
     },
     "execution_count": 126,
     "metadata": {},
     "output_type": "execute_result"
    }
   ],
   "source": [
    "ps[t].argmax()"
   ]
  },
  {
   "cell_type": "code",
   "execution_count": 117,
   "metadata": {
    "collapsed": false
   },
   "outputs": [
    {
     "data": {
      "text/plain": [
       "array([-0.11848706, -0.05649749,  0.02691294,  0.19014995,  0.07061441,\n",
       "       -1.16252144,  0.12697324, -0.08889963, -0.06267175, -0.40105323,\n",
       "       -0.18747102, -0.18140617,  0.07432117,  0.34334437,  0.06726984,\n",
       "        0.20165935,  0.32747234,  0.04495337,  0.1142929 , -0.05521551,\n",
       "        0.00885307,  0.33516984,  0.13067932, -0.10904185,  0.19814699,\n",
       "        0.0913149 , -0.06236525, -0.01253117,  0.41185781, -0.3912567 ,\n",
       "       -0.1494085 ,  0.36435163, -0.44824475, -0.09278199,  0.34402929,\n",
       "       -0.15928979, -0.26921809,  0.05811367, -0.13787257,  0.20121986,\n",
       "        0.01388096,  0.07998907,  0.05387593,  0.0689815 ,  0.26390591,\n",
       "        0.0065182 , -0.09641561,  0.20798219,  0.07988806,  0.20825779,\n",
       "       -0.26811509, -0.03696904, -0.16780612, -0.38446364,  0.28463213,\n",
       "        0.14157797, -0.19357392, -0.16630077,  0.11378831,  0.25725707,\n",
       "        0.17818427,  0.008875  , -0.06520907,  0.12799508,  0.22632408,\n",
       "       -0.17792747,  0.19119546, -0.04671774, -0.45145593,  0.05777601,\n",
       "       -0.09830163, -0.31653179,  0.15220932,  0.20794963, -0.03008459,\n",
       "       -0.26965372,  0.1204601 ,  0.34252047,  0.09401755,  0.52394405,\n",
       "       -1.28136092, -2.30766055,  0.0621971 ,  0.65735221, -0.06726325,\n",
       "       -0.10967955,  0.37269327, -0.12546259,  0.03567711, -0.12430217,\n",
       "       -0.11907313, -0.0464631 ,  0.29016598,  0.23329175,  0.22403798,\n",
       "        0.04957504, -0.03167637, -0.15892867, -0.21109618, -0.03625879])"
      ]
     },
     "execution_count": 117,
     "metadata": {},
     "output_type": "execute_result"
    }
   ],
   "source": [
    "Wxh[:,10]"
   ]
  },
  {
   "cell_type": "code",
   "execution_count": null,
   "metadata": {
    "collapsed": true
   },
   "outputs": [],
   "source": []
  },
  {
   "cell_type": "code",
   "execution_count": null,
   "metadata": {
    "collapsed": true
   },
   "outputs": [],
   "source": [
    "n, p = 0, 0\n",
    "mWxh, mWhh, mWhy = np.zeros_like(Wxh), np.zeros_like(Whh), np.zeros_like(Why)\n",
    "mbh, mby = np.zeros_like(bh), np.zeros_like(by) # memory variables for Adagrad\n",
    "smooth_loss = -np.log(1.0/vocab_size)*seq_length # loss at iteration 0\n",
    "while True:\n",
    "  # prepare inputs (we're sweeping from left to right in steps seq_length long)\n",
    "  if p+seq_length+1 >= len(data) or n == 0: \n",
    "    hprev = np.zeros((hidden_size,1)) # reset RNN memory\n",
    "    p = 0 # go from start of data\n",
    "  inputs = [char_to_ix[ch] for ch in data[p:p+seq_length]]\n",
    "  targets = [char_to_ix[ch] for ch in data[p+1:p+seq_length+1]]\n",
    "\n",
    "  # sample from the model now and then\n",
    "  if n % 100 == 0:\n",
    "    sample_ix = sample(hprev, inputs[0], 200)\n",
    "    txt = ''.join(ix_to_char[ix] for ix in sample_ix)\n",
    "    print('----\\n %s \\n----' % (txt, ))\n",
    "\n",
    "  # forward seq_length characters through the net and fetch gradient\n",
    "  loss, dWxh, dWhh, dWhy, dbh, dby, hprev = lossFun(inputs, targets, hprev)\n",
    "  smooth_loss = smooth_loss * 0.999 + loss * 0.001\n",
    "  if n % 100 == 0:\n",
    "        print('iter %d, loss: %f' % (n, smooth_loss)) # print progress\n",
    "  \n",
    "  # perform parameter update with Adagrad\n",
    "  for param, dparam, mem in zip([Wxh, Whh, Why, bh, by], \n",
    "                                [dWxh, dWhh, dWhy, dbh, dby], \n",
    "                                [mWxh, mWhh, mWhy, mbh, mby]):\n",
    "    mem += dparam * dparam\n",
    "    param += -learning_rate * dparam / np.sqrt(mem + 1e-8) # adagrad update\n",
    "\n",
    "  p += seq_length # move data pointer\n",
    "  n += 1 # iteration counter "
   ]
  },
  {
   "cell_type": "code",
   "execution_count": null,
   "metadata": {
    "collapsed": true
   },
   "outputs": [],
   "source": []
  },
  {
   "cell_type": "code",
   "execution_count": null,
   "metadata": {
    "collapsed": true
   },
   "outputs": [],
   "source": [
    "df = pd"
   ]
  }
 ],
 "metadata": {
  "anaconda-cloud": {},
  "kernelspec": {
   "display_name": "Python [py36]",
   "language": "python",
   "name": "Python [py36]"
  },
  "language_info": {
   "codemirror_mode": {
    "name": "ipython",
    "version": 3
   },
   "file_extension": ".py",
   "mimetype": "text/x-python",
   "name": "python",
   "nbconvert_exporter": "python",
   "pygments_lexer": "ipython3",
   "version": "3.6.2"
  }
 },
 "nbformat": 4,
 "nbformat_minor": 2
}
