{
 "cells": [
  {
   "cell_type": "code",
   "execution_count": 1,
   "metadata": {
    "collapsed": true
   },
   "outputs": [],
   "source": [
    "import numpy as np\n",
    "import pandas as pd\n",
    "import random\n",
    "import torch\n",
    "import torch.nn as nn\n",
    "import matplotlib.pyplot as plt\n",
    "% matplotlib inline"
   ]
  },
  {
   "cell_type": "code",
   "execution_count": 2,
   "metadata": {
    "collapsed": true
   },
   "outputs": [],
   "source": [
    "df = pd.read_csv('./data/names.csv')\n",
    "data = ' '.join(df.name.tolist())"
   ]
  },
  {
   "cell_type": "code",
   "execution_count": 3,
   "metadata": {
    "collapsed": false
   },
   "outputs": [
    {
     "data": {
      "text/html": [
       "<div>\n",
       "<style scoped>\n",
       "    .dataframe tbody tr th:only-of-type {\n",
       "        vertical-align: middle;\n",
       "    }\n",
       "\n",
       "    .dataframe tbody tr th {\n",
       "        vertical-align: top;\n",
       "    }\n",
       "\n",
       "    .dataframe thead th {\n",
       "        text-align: right;\n",
       "    }\n",
       "</style>\n",
       "<table border=\"1\" class=\"dataframe\">\n",
       "  <thead>\n",
       "    <tr style=\"text-align: right;\">\n",
       "      <th></th>\n",
       "      <th>name</th>\n",
       "      <th>gender</th>\n",
       "      <th>id</th>\n",
       "    </tr>\n",
       "  </thead>\n",
       "  <tbody>\n",
       "    <tr>\n",
       "      <th>0</th>\n",
       "      <td>Emma</td>\n",
       "      <td>F</td>\n",
       "      <td>20799</td>\n",
       "    </tr>\n",
       "    <tr>\n",
       "      <th>1</th>\n",
       "      <td>Olivia</td>\n",
       "      <td>F</td>\n",
       "      <td>19674</td>\n",
       "    </tr>\n",
       "    <tr>\n",
       "      <th>2</th>\n",
       "      <td>Sophia</td>\n",
       "      <td>F</td>\n",
       "      <td>18490</td>\n",
       "    </tr>\n",
       "    <tr>\n",
       "      <th>3</th>\n",
       "      <td>Isabella</td>\n",
       "      <td>F</td>\n",
       "      <td>16950</td>\n",
       "    </tr>\n",
       "    <tr>\n",
       "      <th>4</th>\n",
       "      <td>Ava</td>\n",
       "      <td>F</td>\n",
       "      <td>15586</td>\n",
       "    </tr>\n",
       "  </tbody>\n",
       "</table>\n",
       "</div>"
      ],
      "text/plain": [
       "       name gender     id\n",
       "0      Emma      F  20799\n",
       "1    Olivia      F  19674\n",
       "2    Sophia      F  18490\n",
       "3  Isabella      F  16950\n",
       "4       Ava      F  15586"
      ]
     },
     "execution_count": 3,
     "metadata": {},
     "output_type": "execute_result"
    }
   ],
   "source": [
    "df.head()"
   ]
  },
  {
   "cell_type": "code",
   "execution_count": 4,
   "metadata": {
    "collapsed": false
   },
   "outputs": [
    {
     "name": "stdout",
     "output_type": "stream",
     "text": [
      "data has 237097 characters, 53 unique.\n"
     ]
    }
   ],
   "source": [
    "# data I/O\n",
    "chars = list(set(data))\n",
    "data_size, vocab_size = len(data), len(chars)\n",
    "print(f'data has {data_size} characters, {vocab_size} unique.')\n",
    "char_to_ix = { ch:i for i,ch in enumerate(chars) }\n",
    "ix_to_char = { i:ch for i,ch in enumerate(chars) }"
   ]
  },
  {
   "cell_type": "code",
   "execution_count": 5,
   "metadata": {
    "collapsed": true
   },
   "outputs": [],
   "source": [
    "# hyperparameters\n",
    "hidden_size = 100 # size of hidden layer of neurons\n",
    "seq_length = 25 # number of steps to unroll the RNN for\n",
    "learning_rate = 1e-1"
   ]
  },
  {
   "cell_type": "code",
   "execution_count": 6,
   "metadata": {
    "collapsed": true
   },
   "outputs": [],
   "source": [
    "X_train = np.zeros((len(data), len(chars)))"
   ]
  },
  {
   "cell_type": "code",
   "execution_count": 7,
   "metadata": {
    "collapsed": true
   },
   "outputs": [],
   "source": [
    "char_id = np.array([chars.index(c) for c in data])"
   ]
  },
  {
   "cell_type": "code",
   "execution_count": 8,
   "metadata": {
    "collapsed": true
   },
   "outputs": [],
   "source": [
    "X_train[np.arange(len(X_train)), char_id] = 1"
   ]
  },
  {
   "cell_type": "code",
   "execution_count": 9,
   "metadata": {
    "collapsed": true
   },
   "outputs": [],
   "source": [
    "y_train = np.roll(char_id,-1)"
   ]
  },
  {
   "cell_type": "code",
   "execution_count": 10,
   "metadata": {
    "collapsed": false
   },
   "outputs": [
    {
     "data": {
      "text/plain": [
       "(237097, 53)"
      ]
     },
     "execution_count": 10,
     "metadata": {},
     "output_type": "execute_result"
    }
   ],
   "source": [
    "X_train.shape"
   ]
  },
  {
   "cell_type": "code",
   "execution_count": 11,
   "metadata": {
    "collapsed": false
   },
   "outputs": [
    {
     "data": {
      "text/plain": [
       "(237097,)"
      ]
     },
     "execution_count": 11,
     "metadata": {},
     "output_type": "execute_result"
    }
   ],
   "source": [
    "y_train.shape"
   ]
  },
  {
   "cell_type": "markdown",
   "metadata": {},
   "source": [
    "## Build a RNN model"
   ]
  },
  {
   "cell_type": "code",
   "execution_count": 50,
   "metadata": {
    "collapsed": false
   },
   "outputs": [],
   "source": [
    "class CharRNN(nn.Module):\n",
    "    def __init__(self, input_size, hidden_size, output_size):\n",
    "        super().__init__()\n",
    "        self.fc_x = nn.Linear(input_size, hidden_size)\n",
    "        self.fc_h = nn.Linear(hidden_size, hidden_size)\n",
    "        self.tanh = nn.Tanh()\n",
    "        self.fc_out = nn.Linear(hidden_size, output_size)\n",
    "        \n",
    "    def forward(self, X, h):\n",
    "        x_out = self.fc_x(X)\n",
    "        h_out = self.fc_h(h)\n",
    "        h_new = self.tanh(x_out + h_out)\n",
    "        out = self.fc_out(h_new)\n",
    "        \n",
    "        return out, h_new\n",
    "    \n",
    "    def init_h(self):\n",
    "        return torch.zeros(self.fc_x.out_features)"
   ]
  },
  {
   "cell_type": "code",
   "execution_count": 51,
   "metadata": {
    "collapsed": true
   },
   "outputs": [],
   "source": [
    "#rnn(torch.from_numpy(X_train[0]).float(), torch.zeros(128))"
   ]
  },
  {
   "cell_type": "code",
   "execution_count": 119,
   "metadata": {
    "collapsed": true
   },
   "outputs": [],
   "source": [
    "rnn = CharRNN(vocab_size, 100, vocab_size)"
   ]
  },
  {
   "cell_type": "code",
   "execution_count": 120,
   "metadata": {
    "collapsed": true
   },
   "outputs": [],
   "source": [
    "loss_fn = nn.CrossEntropyLoss()"
   ]
  },
  {
   "cell_type": "code",
   "execution_count": 121,
   "metadata": {
    "collapsed": true
   },
   "outputs": [],
   "source": [
    "#optimizer = torch.optim.Adagrad(rnn.parameters(), lr=0.1)\n",
    "optimizer = torch.optim.Adam(rnn.parameters(), lr=0.001)"
   ]
  },
  {
   "cell_type": "code",
   "execution_count": 122,
   "metadata": {
    "collapsed": true
   },
   "outputs": [],
   "source": [
    "def get_batch(X=X_train, y=y_train, batch_size=seq_length):\n",
    "    X_ids = list(range(len(X)))\n",
    "    random.shuffle(X_ids)    \n",
    "    X = torch.from_numpy(X[X_ids]).float()\n",
    "    y = torch.from_numpy(y[X_ids]).long()\n",
    "    for i in range(0, len(y), batch_size):   \n",
    "        id_stop = i+batch_size if i+batch_size < len(X) else len(X)\n",
    "        yield([X[i:id_stop], y[i:id_stop]])"
   ]
  },
  {
   "cell_type": "code",
   "execution_count": 123,
   "metadata": {
    "collapsed": false
   },
   "outputs": [],
   "source": [
    "def sample_chars(X_seed, h_prev, length=20):\n",
    "    for p in rnn.parameters():\n",
    "        p.requires_grad = False\n",
    "    X_next = X_seed\n",
    "    results = []\n",
    "    for i in range(length):        \n",
    "        y_score, h_prev = rnn(X_next, h_prev)\n",
    "        y_prob = nn.Softmax(0)(y_score).detach().numpy()\n",
    "        y_pred = np.random.choice(chars,1, p=y_prob).item()\n",
    "        results.append(y_pred)\n",
    "        X_next = torch.zeros_like(X_seed)\n",
    "        X_next[chars.index(y_pred)] = 1\n",
    "        #print(f'{i} th char:{y_pred}')\n",
    "    for p in rnn.parameters():\n",
    "        p.requires_grad = True\n",
    "    return ''.join(results)"
   ]
  },
  {
   "cell_type": "code",
   "execution_count": 124,
   "metadata": {},
   "outputs": [
    {
     "data": {
      "text/plain": [
       "9484"
      ]
     },
     "execution_count": 124,
     "metadata": {},
     "output_type": "execute_result"
    }
   ],
   "source": [
    "len(all_losses)"
   ]
  },
  {
   "cell_type": "code",
   "execution_count": null,
   "metadata": {
    "collapsed": false,
    "scrolled": false
   },
   "outputs": [
    {
     "name": "stdout",
     "output_type": "stream",
     "text": [
      "tensor(5.4547)\n",
      "tensor(5.)\n",
      "----\n",
      "Running Avg Loss:59.55317569732666 at iter: 100\n",
      "----\n",
      "in Kyn Satanle Anelam Kinelyannn Arakenen Mymarconltonara Ar Ju Branon Ayly Krtainlei Tan Kioerienlis Abenistily Br Oilyonano Dreionn Venon Ka De Crinttniysheryahlan Rosesleryl Nure Kkonn Nyah Kona Ma\n",
      "tensor(5.2989)\n",
      "tensor(5.)\n",
      "----\n",
      "Running Avg Loss:60.61733531951904 at iter: 200\n",
      "----\n",
      "r Azargeitial Nobe Zorias Ovy Kan Elivoraneil Tadrez Jorrdanal Sh Omrdysounntetee Na Adryamph Ken Ke Itt Alaibelleo Ba Saleindd Swiar Ni Ta An Coran An Zun Miyn Ar Za Jeth Ae Faha Qumh Br Fanghara Ler\n",
      "----\n",
      "Running Avg Loss:60.2805770111084 at iter: 300\n",
      "----\n",
      "lelana Nar Aba Jaran Jon Cyn Ja Le Maun Ko Mauch Miaenion Gride Cyalmonca Sa An Cariyryva Maci Tad Jonnahom Min Zay Brarildy Jan Aigh Lenabdone Yahitaea Giar Cheragde Reyannaelyhad Vulia Aeth Na Jan H\n",
      "----\n",
      "Running Avg Loss:60.515781288146975 at iter: 400\n",
      "----\n",
      " Masng Can Keharongona Ariayn Kriniery Ommathanondrimmesdiaynmodlolkivigetssa Haniyanerabon An Auanlyvera Sa Abrh Dan We Jauannakadesllah Retoreezi Br Zagh Davidasan Kaliddra Luan Pash Aina Keyananes \n",
      "----\n",
      "Running Avg Loss:60.09533721923828 at iter: 500\n",
      "----\n",
      "eiebiciladrya Lan Jamipehale Bleh Ananake Jan Nirynale Co Sy Van Non Dat Devexsarezahinarla Ja Yelaitzmilikiaeyn Hai Dh Ma Jaheha Kelediaussua Dete Kelianerlaminisaniasennceyayanllfelly Ka Suzmiheo Ik\n",
      "tensor(5.0586)\n",
      "tensor(5.)\n",
      "----\n",
      "Running Avg Loss:59.01040946960449 at iter: 600\n",
      "----\n",
      "obe Tammilakiseemene Ellann Nan Sonaiahaneri Olassan Kijanen Zo Kally Harn Novamaneduph Ar Ka Tane Ma Kahicy Wayonntekph Ria Sa Has La Daminaky Hary Anan Asheyzen Kieffh Chan Milonnanen Isotey Or Khas\n",
      "tensor(6.3653)\n",
      "tensor(5.)\n",
      "----\n",
      "Running Avg Loss:59.94779575347901 at iter: 700\n",
      "----\n",
      "Brilden Cormay San Moh Der Yeeynith Zal Ilegelirlyleiaklarerlyn Zas Sori Kentsoh Caserik Sirlelaran Khily Renn Cy Bry Ovol Estea Joysleed Je Ahigre Kech Sur Ar Ken Rarilan Jexxahiy Aan Auxiamaen Chan \n",
      "----\n",
      "Running Avg Loss:60.34545238494873 at iter: 800\n",
      "----\n",
      "ickaylyahnakon Lichauleimbalihahn Loutocahy Jousillesakill Leyliyndiyn Briletamyn Sanhustyeldirel Au Rarashen Landgay Jeere Madi Koa Nanicea Ammi Ror Milinlses Ja Day Deyn Osateynuanarigembann Ja Mush\n",
      "----\n",
      "Running Avg Loss:59.91934837341309 at iter: 900\n",
      "----\n",
      "vona Iva Eusa Ababhy xdyin Xaicklie Ro Di Scy Benga Astolynnasam Meayaky Ileirarengricyaray Kilela Danac Ket Aineyniaysrgelannyni Ke Ma Dy Lelialeylmintolerisssta Elaba Je Tr Tomiavima Nahattarepeind \n",
      "----\n",
      "Running Avg Loss:59.73739635467529 at iter: 1000\n",
      "----\n",
      "ena Marelldde Joriawton Je Jah Bespriynerussanauah Rorlilaiemio Har An Nial Kalonayifai Miein Amaiy Nim Jugivo Kilass Fran Salenise Ba Jan Kalon Wyan Shynalyn Liaeeikebieeavieanerrysyale Deeshicnabrte\n",
      "----\n",
      "Running Avg Loss:59.61276069641113 at iter: 1100\n",
      "----\n",
      "Kiai Beanda Mefan Ari Ta f Zu Lelae Ch Vulzeeliybb Eletonevwyly Iveviteda Kanora Shon Tya Ja Popranyn Ra Daoris Aribli Mynalla Kobex Abetth Di Briahyalar Kemy Kahat Alli Teddyre Le Maryon Celeliaianbe\n",
      "----\n",
      "Running Avg Loss:60.540311622619626 at iter: 1200\n",
      "----\n",
      "dacholin Addrylss Westonalyllanarde Dri Naty Monige Daro Rug Fryde Amokobennshaialai Marylinnabin Skareielamn Djoplerl Rar Ayalan Dashaslezztti Don Jurr Alae Le Etoayvestenlly Mathneli Abenerr Shisoch\n",
      "tensor(5.5035)\n",
      "tensor(5.)\n",
      "----\n",
      "Running Avg Loss:60.20398006439209 at iter: 1300\n",
      "----\n",
      " Ademonessen Jey Jeowonadena Miaier Yuanusend Anymoma Lelath Hietc Abi Ywo Hahe Es Ma Shorvai Seleavatideydyanahaynah Selihelingatiea Bra Djer Keri Mertrri Gilesophisld Mah Naran Jegamiynagni Hollin K\n",
      "----\n",
      "Running Avg Loss:59.18738735198975 at iter: 1400\n",
      "----\n",
      "Sk Kamyaneiash Khiny Irylliayeziloriorel Aer Mef Ann Jeiano Quna Neravron Ade Delom B Emynann Pame Taylle Kal Maalaz Zena Danto Sallyn Arka Rahi Anie Sarolelyn Guimopanssiar Abrronee Da Arieris Ken Ge\n",
      "----\n",
      "Running Avg Loss:59.63150344848633 at iter: 1500\n",
      "----\n",
      "Yumo Zerllerahayn Dizukon Gylydvosh Narab Elay Hummatanyna Ji At Kalah Razayan Annny Jeye Ly Ni On Hishi Ra Esile Ca As Ari Syrla Rubit Ro Minyl Ha Sta Kas Lillyatllia Emaliabe Emdiarud Liylta Jumella\n",
      "tensor(5.2614)\n",
      "tensor(5.)\n",
      "----\n",
      "Running Avg Loss:59.87315505981445 at iter: 1600\n",
      "----\n",
      "a Akan Myziegoden Myelin Jun Can Cas Konilelel Na Navi Jahtmolikalllalae Mayn Kenn Mah Grin Amiy Kah Adaramust Juz Jerayng Namae Saga Ja Adonigatarkah Mamineeremierralieahakahevistte Rh Jah Geoha Mile\n",
      "----\n",
      "Running Avg Loss:59.77735233306885 at iter: 1700\n",
      "----\n",
      "lyiorerveri Laza Kelay She Telamickiz Ch Ja De Britay Eiay Selllayn Bex Tarilawadi Stie Udh Sumiyn Soxlelhahadusta Nylla Koraheayo Frl Ro San Grselimalin Alianane Saudsyaerin Ch Kan Ron Maadirithrys F\n",
      "----\n",
      "Running Avg Loss:59.47294052124023 at iter: 1800\n",
      "----\n",
      "ataishodetadd Lulini Mahatoriegiteelynanntheeriaram Rancalnal Dya Deant Zanestj Zakyat Celayn Mayr Jarizan El Kanncuarrin Shine Ahamyde Rall Haya Ae Na Aus Dmi Thi Saka Sen Alosezirannki Izza Mev Heti\n",
      "----\n",
      "Running Avg Loss:60.4255765914917 at iter: 1900\n",
      "----\n",
      "Jakziza Alabranamahickuenyaran Eleyni Doksis Kh Lab Bemanda Tlyliadiur Juliabitantit Anive Chama Manida Ai Me Maciouriyna Brejory Yi Sttiaylelesaricila Li Khay Kyamatynem Aursi Ze Subenaeacken Karan N\n",
      "----\n",
      "Running Avg Loss:59.96607711791992 at iter: 2000\n",
      "----\n",
      "an Am Da In Cakli Shahane Sa Eferisi Tosvinaiymamanamonerydyana Mi Jubylen Br Suga Sisen Maeckyang Mashaie Mi Karicekaseee Mizardis Blki Siorifarere Ja Leynce Jerkarasini Bryn Kalee Aviles Ka Teee Ali\n",
      "----\n",
      "Running Avg Loss:60.137113876342774 at iter: 2100\n",
      "----\n",
      "aeam Ra Aieysly Ardinlta Jona Easonakvory Mont Ri Cices Jeale Sayniar Eml Stritth Kahan Drstn Delahdasee Wh Esyr Kih Syn Sosthinagomiaman Atren Be Ay Kiane Jorandilllar Braxinairir Ariary Neieneobed L\n",
      "tensor(5.1433)\n",
      "tensor(5.)\n",
      "----\n",
      "Running Avg Loss:59.486665649414064 at iter: 2200\n",
      "----\n",
      "avirin Eleb De Shailedreri Fah Val Kyr Jadiys Aavin Lah Ch Kaya Buman Anaselish Elys Ah Jeron Fa Kiln Layami Ana Ga Eryn Ya Cakyle Shab Kalenn Hon Zare Can Ar Lun Tayrveb Manelyrik Jaynie Mery Raru Le\n",
      "----\n",
      "Running Avg Loss:60.5212325668335 at iter: 2300\n",
      "----\n",
      " Tynanllian Ci Faan Chaxxfellei Pre Syn Tonnaindadd Mah Ali Be Sriar Elaic bothiss Anjanniy Loury Mi Kahi Etin Vivoid Th Yan Kykynela Leynelyn Manlynaslelitrorahey Nestonar Mi Aahririytigr Quyniri Lay\n",
      "----\n",
      "Running Avg Loss:59.874976272583005 at iter: 2400\n",
      "----\n",
      " Li Jei Amarllit Tan Lonandy Lin Kh Isi Jareminlle Gan Natimistleslingella Mayal Deri Zuaaha Dalerahaimpe Duze Xananikase Amian Ch Aillelizaidl Tiain Daven Ch Pris Khauriele Cesenhlacidah Ar De Aiat X\n",
      "----\n",
      "Running Avg Loss:60.320910148620605 at iter: 2500\n",
      "----\n",
      "La Meniah Ban Jrghquess Sa Ka Le Ezseinorah Bxanse Ai Wey Adon Ise Ma Inen Ja Jarousttlia Fisa Luiray Aaraieimeaydassoleny Carllomar Aryza Sai Sh An Kynnckah Latha Prth Kaly Alyayn Audoylee Kanaiviy B\n",
      "tensor(6.1843)\n",
      "tensor(5.)\n",
      "----\n",
      "Running Avg Loss:60.083533935546875 at iter: 2600\n",
      "----\n",
      "al Kim Ha Mah Grrllickaada Al Sja Ka Arryadd Aryn Ryegon Ya Jad Aiyil Jo Evauzicen Seriey Yi Der Trah K Mamah Ea Numela Laha Con Ta Abian Ele Am Bakysi Kayn Tieha Jatyshay Ceeecalyslin Shithnh Zuen Du\n"
     ]
    }
   ],
   "source": [
    "all_losses = []\n",
    "for epoch in range(10):    \n",
    "    for batch in get_batch(X_train, y_train, seq_length):\n",
    "        batch_loss = torch.tensor(0.0)\n",
    "        X_batch, y_batch = batch\n",
    "        h_prev = rnn.init_h()\n",
    "        for ch_id in range(len(X_batch)):\n",
    "            y_score, h_prev = rnn(X_batch[ch_id], h_prev)\n",
    "            loss = loss_fn(y_score.view(1,-1), y_batch[ch_id].view(1))\n",
    "            batch_loss += loss\n",
    "        optimizer.zero_grad() \n",
    "        batch_loss.backward()\n",
    "        for p in rnn.parameters():\n",
    "            p.grad = torch.clamp(p.grad, -5,5)\n",
    "        optimizer.step()\n",
    "        all_losses.append(batch_loss.item())\n",
    "        if len(all_losses)%100==0:\n",
    "            print(f'----\\nRunning Avg Loss:{np.mean(all_losses[-100:])} at iter: {len(all_losses)}\\n----')  \n",
    "            print(sample_chars(X_batch[ch_id], h_prev, 200))"
   ]
  },
  {
   "cell_type": "code",
   "execution_count": 126,
   "metadata": {},
   "outputs": [
    {
     "data": {
      "text/plain": [
       "94840"
      ]
     },
     "execution_count": 126,
     "metadata": {},
     "output_type": "execute_result"
    }
   ],
   "source": [
    "len(all_losses)"
   ]
  },
  {
   "cell_type": "code",
   "execution_count": 127,
   "metadata": {},
   "outputs": [
    {
     "data": {
      "text/plain": [
       "60.37545926392908"
      ]
     },
     "execution_count": 127,
     "metadata": {},
     "output_type": "execute_result"
    }
   ],
   "source": [
    "np.mean(all_losses)"
   ]
  },
  {
   "cell_type": "code",
   "execution_count": 128,
   "metadata": {},
   "outputs": [
    {
     "data": {
      "text/plain": [
       "60.37545926392908"
      ]
     },
     "execution_count": 128,
     "metadata": {},
     "output_type": "execute_result"
    }
   ],
   "source": [
    "np.mean(all_losses)"
   ]
  },
  {
   "cell_type": "code",
   "execution_count": 129,
   "metadata": {},
   "outputs": [
    {
     "data": {
      "text/plain": [
       "[<matplotlib.lines.Line2D at 0x28794f98>]"
      ]
     },
     "execution_count": 129,
     "metadata": {},
     "output_type": "execute_result"
    },
    {
     "data": {
      "image/png": "[encoded data removed]",
      "text/plain": [
       "<matplotlib.figure.Figure at 0x28794eb8>"
      ]
     },
     "metadata": {},
     "output_type": "display_data"
    }
   ],
   "source": [
    "plt.plot(range(len(all_losses[50:])), all_losses[50:])"
   ]
  },
  {
   "cell_type": "code",
   "execution_count": 60,
   "metadata": {},
   "outputs": [
    {
     "data": {
      "text/plain": [
       "[<matplotlib.lines.Line2D at 0x2db7f5c0>]"
      ]
     },
     "execution_count": 60,
     "metadata": {},
     "output_type": "execute_result"
    },
    {
     "data": {
      "image/png": "[encoded data removed]",
      "text/plain": [
       "<matplotlib.figure.Figure at 0x29e2f860>"
      ]
     },
     "metadata": {},
     "output_type": "display_data"
    }
   ],
   "source": [
    "plt.plot(range(len(all_losses[50:])), all_losses[50:])"
   ]
  },
  {
   "cell_type": "code",
   "execution_count": null,
   "metadata": {},
   "outputs": [],
   "source": []
  },
  {
   "cell_type": "code",
   "execution_count": null,
   "metadata": {},
   "outputs": [],
   "source": []
  },
  {
   "cell_type": "code",
   "execution_count": 131,
   "metadata": {
    "collapsed": false,
    "scrolled": false
   },
   "outputs": [
    {
     "data": {
      "text/plain": [
       "(array([ 5.,  4.,  3., 12., 26., 28.,  9.,  5.,  3.,  5.]),\n",
       " array([-0.92425179, -0.73739509, -0.55053838, -0.36368168, -0.17682498,\n",
       "         0.01003173,  0.19688843,  0.38374514,  0.57060184,  0.75745855,\n",
       "         0.94431525]),\n",
       " <a list of 10 Patch objects>)"
      ]
     },
     "execution_count": 131,
     "metadata": {},
     "output_type": "execute_result"
    },
    {
     "data": {
      "image/png": "[encoded data removed]",
      "text/plain": [
       "<matplotlib.figure.Figure at 0x27b4b780>"
      ]
     },
     "metadata": {},
     "output_type": "display_data"
    }
   ],
   "source": [
    "plt.hist(h_prev.detach().numpy())"
   ]
  },
  {
   "cell_type": "code",
   "execution_count": 83,
   "metadata": {},
   "outputs": [
    {
     "data": {
      "text/plain": [
       "21"
      ]
     },
     "execution_count": 83,
     "metadata": {},
     "output_type": "execute_result"
    }
   ],
   "source": [
    "ch_id"
   ]
  },
  {
   "cell_type": "code",
   "execution_count": 81,
   "metadata": {
    "collapsed": false
   },
   "outputs": [],
   "source": [
    "X_seed = X_batch[ch_id]"
   ]
  },
  {
   "cell_type": "code",
   "execution_count": 130,
   "metadata": {
    "collapsed": false,
    "scrolled": true
   },
   "outputs": [
    {
     "name": "stdout",
     "output_type": "stream",
     "text": [
      " Lahay Ma Siora Je Amy dosl Shang Ch Aemgnrrlamahne Ileli Silees Alemijon Gre Pa Koa Anase Lin Levenein Crmisizzi Aren Ama Prumiaji Fayeronani Yumyderrgenan Brd Evonzie Brikhyrrare Hetheeuin Typintorigrr Maynadeseterlennn Samelael Koz Vin Ruckanth Caronayergubrteiahma Kae Sha Gan Ronarilirini J Cyaenneneynamei Sae Nannnrisaynen Kazaharis Lan Foterkyn Tan Chettterc Hriterenaiannicki Pa Crilakhn Lach Mila Manzathjalc Ren Zam Sh Try Jonare Ra Ch Abyn Issig Nax Cah Ja Ba Eddraricahinndddrlerynar Migerennetonarilerin Konea Beprin Cikigeabeury Chaibienn Ray Abrarfe Mariath Eva Melyassondy Tyn Camay Me Dadrilik Aly Likme Mi Cara Xa Karssakwavaurriym Carira Ni Ja Jahidaigeranney Enaw Aynion Alleennelon Elliri Cafanin Br Zarmeean Dranintha Evril Ariabon Lamesare Natt Fareylikadw Tyn Ro Jo Rul Ca Ylouri Sul Miasurcideriuleriathay Za Brchysball Raryhalisllereoomst Amden Jac Y Aqeva Zainn Ners Suguibeleiz Hainubannil Juavaiay Rusen Ch Jerikkon Ujamarien Adeeoullvemosa Maulast Neibrmawerramel Wiy Mas De Abr Ameon Jaka Abiayndyaiey Ja Metiayirynomina Aarash Tarly Dune Fenilethaitiouriethasle Tylih Lay Arylararialy Kampttinleri Adaynialian Serele Jeyxberton Za Avea Ka Men Sha Hondyl Olellelan Sau Ley An Zedyrrlyanicer Jarinebrsah Tah Bra Lo Ala Shta Sbanna Nan May Mirieleanckayuanzelideyaosse Ishi Ma Juquilereuphah Liyi Elymyn Brerienennele Do Ranabilis Amosh Kakh Ay Lliriaelenilakaverirdweir Aa Sri Mamelah Be Kapa rin Mi An Laha Molvady Mailirenaqun Noamitelyare Adeomeran Serreleeli Nander Dero Caiquveennnca Arion Hisrey An De Eri Aj Miar Kan Heycinn Kly Ezavian Arikosoba Dr Ya Ashely Jaynir Spa Phtonaramiderah Eakhiahyo Amarinn Ale Liy Jerex Honea Aeloneminndarko Psaariy Lon An De Daysayahem Nieaceydiunt Neroledet Deman Anielinira Manthlen Araren Keia Aaben Avarea Areynnela Als Keeth Jaykylannyaquh Rongejin Jah Elierrarahuarin Kaigh Ro Dedlen Eri Kahile Ch De Ranta Abrrilylilolenda Nameean Da Te Praansan Sulin Ben Abevirlveyri Jarakoiaruamadali Ma Heron Asa Trcana Dark Man Ahabe Li Alst Miriviale Meake Ninnandiat Ji Ja Mah Carieranarnis Tan Jan Ly Elerc Mytj An Annan Aa Jarenashaghmey Meen Tariorsa De Ko Hiynavilys Zevilleryairreniryseenayahak Maandinaa Adoshth Abrie Frac Jarelir Mendce Dy Ahn Velvawyarakiadurami Madtr Jelke Gevorlene Yari Rya Mal Skarmibrirdyayni Seahabe Brnghiennia Jan Inariququrire Zaioll Omadenaiara Hieorelibenn Lelie Veeniyspey Azughn Aderoreleraon Annner Den Meyn Dackae Aleyt Dan Co Cosero Aven Amilisy Llen Ren Ra Man Allipssynlin Alemiasifonaurniaamorekyeerish Luyvege Kyre Monian Mah Rayamieriarariason Maertlemeylikinnusesth Pe Ma An Non Daronnethi Karakynd Iden Jahn Sheeth Kydria Amimierix Chriy Brn Albelup Tile Sial Adovynidrsci Sa Myvelenndem Aon Sah Legte Shen Aa Adusl Zyi Lita Ron Maci Tay May Fiakiyanse Rerele Tred Bellirany Rohkelwyllarouriahmrsi Elayashaanina Alyli Sikarl Raghinilyl Aahaha Jaylyky Jeyan Xzzrin Uderibe Ma Ka Ma Joneahaz Man Anai Jahann Cahah Keonugeshash Asthay Tay Aneayael Brs Choy Winhar Ki Tanareleluelorendenilina Ya Azlerieladihviyara Shondrviele Ja Gredwn Kiynane Nairsyan L Ole Fia Herardiam Hee No Ela Cus Lixzi Jerrineleyn Anigelieneg Denararitrik Can Jale Belleeajanaynti Aurareilyah Taqusmiossa Eryesayoeire Karensti Zayn Jul Kl Tamin Shanesin Kepeghieylla Jursi Sa Corirlnaietanaelitis Luinorrirer Manaiahahnviolan Keeon Aaly Zanenary Ja Jaighriann Adilokernenan Tij Ges Zaiasy Dastahe Fe Xza Lais Zaresowe Srle Aigsherian Berietonan Adrarahish Aumya Acoleen Xannn Edotahbar Meyn Broreabiallanchamerychij Elebebell Eben Adalyn Si Londe Bisobemom Yanen Mah My Aje Aalypslieleytgt Aynair Phalan Jodayaus Ilintsono Be Aavadyamierewonanna Jevorrillirivinel Tar Baran Ax Mahynnni On Ma May Alawi Nyaah Jan Karisstaihave Paynucek Sai Dr Ma Raian Diadgh Aln Izba Anin Tynnttaca Ken Dedo Bronarereyan Subrikinn Veio Ostaryotinionelisayata Maint Co Kerdy Mah Failiannerist Aintyarayrar Manamonriksary Dess Akysareli Keare Rawiduh Kieseri Jan Ce Alyarari Za Siah Yoreralipaeyqalyiahah Bes Dunim Den Kanarel Ainie Jalieann Ke Sh Donnnalahaytiyeni Ha Kyn Aea Ma Ensron Ya Forllissshiresor Je Rahh Manetonyly Caynayan Zivaherman Zu Canarralyalil Joubeeyntavirikay Min Keya Ja Zyaerien Tahisth Stan Eligar Shah Crrit Ken Yee Amezityn Kiann Gaanatorak Zanef Ben Amudalsh Dayttyary Ilelethameona Galtcbonianenly Man Aldaiel Ryaia Ch Alescerla Krylynoriolell Kymashthin Chas Atthelyobifuntel Maltshiavariory Kre Kafisaheen Zan Manan Pelede Ka Sayn Kobmynon Ny Kelaleiey Ror Kis Geselakaice As Maror Em Winedakieubrrynckiamineralenion Dukirreyahrnela Krosoryn St Ki Viobi Cora Kiull An Ma Jah Jonaienn Miaylissisorgbhare Dendevethaiende Dedeeyaylen Maarie Da Camrda Yilistae Maiuile Kerell Dan Reus Al Eiay Sh Kaleli Amrly Dreryseavemusaniathann Brynieydiararonnndvibanmah Aray Che Bra Maram Ruwynn Orrlt Tann Juar Sevisedicog Kysshevaar Ha Ela Da Meriosalacky Liel Kitel Fae Deanlyl Le Na Drithee Skarbudondl Na Tialolilyn Jemieri Ka Dorvaatide Gyn Kindr Zure Jurih Mayarthllersa As Griamani Wiminnn Ja Gera Khein Olalph Sedd Niaseirala Som An Cyn Susittriala Lann Jeis Arifft Kh Kh Javikanyja Bevinsimamale Ha Sherah Mai Shierizll Darrn Taily Amadyneletaiobron Benlsh Din Lucenen Zaelbyaw Brylyadonch Brayyna Is Alaisen Aleo Khy Abe Seniyzizus Kanarlisaase Raan Elle Den Re Jel Shierzike Ja Chlily Made La Linnningnil Brynire Jus Madil Maemireen Fitiential Das Kinoeisvl Kyan La Jarorabeli Ka Seenck Kan Nielstaayr A Kenn Rrin Kan Daweni Alynstillenide De Meeelynnnn Deyndyn Meullyly Courcs Miey Nany Janarsr Vondrana Le Avedr Ri La Ja Staidenennrerkacon Jo Ta Zackeliani Ha Lih Kardeabdee Ahosel Esh Kan Jahrinamelalonain Cadvianila Oledepeliolen Conyatakrerin Sen Ka Hionahnacsrolimrriceer Somathan Ban Mahan Dahalthadri Gily Mi Keraaharpeyamy Beynran Sas Jaiah Briligulisoeliaynarvy Aydralahnariaittydiyndlkodukahien Nec Ny Kaylon Aaneleearan Jucovelili Ale Brleela Nyn Prrly Deialelyaniydeleertory Jinii Brcerr Naicty Alieydosiadynkedenierepelyn Jamanighandolyleriynay Onsenn Amoarindavel Addikiavir Kakenttolyl Leia Rin Kadadla Seystea Mae Eayzeeylaeeg Ay Ge Burobdeloos Kouli Stzin Pnn Hanzin Adaynnienmen Amrdimel Epheni Amay Sokigh Amuenatoli Prlon Jey Jamista Keme Daja Hah Pa Nynnn Ne Leb Len Pa Dan Ryelylmetan Zowaynnavey Fassi Me Eloph Ge Zami Inkyara Denaralle Ace Brein Lolninnanaresya Gr Hasc Jah Titil Nenal Shyny Lizahikaicio Nin Gakias Mia Hay Anan Azibke Kr Jeryare Ran Han Kh Sevaiamoriaiddbeerileyshaheee Pain Si Khka Zan Giex dun Danliayeen Nanar Aha Ty Ada Ma Muminishielennserabe Jaiamn Lii Braratadito Kh Rume Kahewa Lete Fanadynne Kelioy Emm Weyngh Lon Prielliayariush Ap Sarixse Butata Kan Ama Ainnaycanntairigeezhean Johaid Si Jaya Orala Mo Ch Non Juz De Masstzpenn Layfiycinele Eveyuyalus Keshna La Vakiaan De Cai Marironn Mi Kerirevifin Pann Chenjan Rabel Im Zhahameugh Ni Kakantona Ja El Olle Temiaktaminahapene Breahn Ebhanine Cenrigarikaien Desleyatodiale Ada Taricielll Samin Isbrgarassenimmafunn Ererennan An Jala Adenosan hen He Nin Elbyaken Dhairayadrsyn Mayaen Desharah Fan Ve Sezen Ca Sar Rin Belyyren Zarrosonnen Kacien Mujrarn Dalekioransyrren Isulieddth Mamtis Leli Lerialiynoriyn Br Opa Sowamsah Eve Maminnallea Gs Dran Mi Jans Drobbristive Dey Kinels Maha Kireioe Radept Kon Evel Yondon Jahan Dwn Jurierinn Ana Anawaronn Aililllon Adicka A Beh Ja Ramirh Vieroiliairlla Broarilyssha Ronn Careen Aliaistike Tvanay Ky Ma Jelin Fien Lier Selliakyon Ania Kacheryeldushapern Jelayeth Nicasso Ruma Jorderaclmariese Je Breme Yall Ca Gron Nare Kaj Jan Deli K Nederiarbrdely Can Mazi Nenn Trah Tayalynovitonntayuriaanah Lore Areaneioselajaeklerele Harelin Chuckresannn Nishaoseto Krr Taynnlare Kyevistregqoriye Oka Chio Jarisi Ey Finncenonaquriron Ha Cim Ramavamme Ketazi Jadranote Kolener Vanah Pan Ton Caylfuder Trietis Yuerann Ronnn Ay Rann Selly Je Khraiahen Frelenaya Mamubrri Natavetach Cron Ann Aveynn Kyri Monge Jayene El Jacbntanea Adiceliamayth Jonah Dahilyon Ja Ish Mase Mason Tucqunanegtheiamaglarin Mar Dabesth Zen Brdeomdrteneraenna Adrelssomiz Jonnallkklon Jin Aderanaa Bler Cin Ron Emore Tuzme Jhrenanive Caleh Aannysr Jele Yan Hirrgon Lan Enckhi Fine Kenanulkssina Zonopr Kissolerrynarydrba Aua Con Elackiela Ladin Briry Rurlaf Na Ann Lia Rarisarenaha Gr Brwandabenerenlartahiahahire Prt Ca Trce Abbrekarigh Mandeylawk Trilikomquchohirharymenan Han Beynnnn Maraleitphaniuverahath Phari Tey Leney Haukan Co Kribreyson Griab Tei EsoJan Rocay Jorele Oni Kan Miadertby Abliarsto Meorliarltan Je Kon Elighn Erronasaron Mcksiackelyaran Dekerdoha Sumri Kariramojan Kradyn Cayn Dery Adancelyn Rilyni Jayn Dratolen Zamah Jo Mailv AdciJh Abedrdttyraan Jo Ah Man Rithvilara Jon Adodendery Dairiara Adean Mallasema Kiadergaricearaqujdierati CackynDyahnelas An Oelllockan Ai Zak Ar Peerarey Aly Deka Tiann Cha Jaiola Emede Gane Den Jargrledeyneninyndrah Je Sile Kary Mileean Manbyna Ada Cheisth Jorierirronaroryen Olarys Janrlleyn Haierikhamidoshaliadarnan Bonnalavin Tijaleral Ili Ja Jan An Lidoniinabdaynten Ko Blan Pa Ava Ve Mya Cinirindau Kahkyayliiay Konaialosh Deckanmere Kra Ch Mu Nak Jorila Nisseerarickway Janianueayanamyen Alawerioslce Synnas Sam Cani Meimi Kerahanntlelya Nerina Ja Tani Sh Isy Humyaie Aiagh Char Elakigslitazaaweure Jonds Zynchahavanelenonnn Ga Rela Baker Ala Jererlel Nokaevimie Nanus Do Yaliale Jon Ainn Rahah Ara Karinn Ja Can Moai Brathyn Salelle Va Zielen Lyniludenta More Enahiccannelyaliman Ja Anckan Uz Nammahalinanethixendayarocymih Illelainemrma Derux Cayn Esensmalieur Calar Sanaili Ad Da Dararmo Stemay Kaik Ariton Klemoey Ke Waynn Zeeo Ta Srvri Ve Soey Sh Gran Ariresiguxyahe Alerabrdrlurin Mon Brawysvin Alyn Caryr Orin Jayne Winatatyne Tos Chashinletaynn Mckar Al Cabrqur Dey Arashma Ton Deliy Rainkudynaegdy Jonet Keaharyninmigtyan Andien tie Narlad n Andda Kamantueiysharittayn Ja Kien Auke Jayiereltzi Karawan Welyama Sr Leven Sy Ka Ellaiellevemlenn Megeiyastyndab Nashaenoniit Siynidontsceah Noredan Kadr Dar Ra Ed Srry Lai Yadnami Jaridylylancoddh Nihakelinzirckhin Ju Hari Dabeyanneerrizze Zha Aick Leynara Terinharinasi Seranca\n"
     ]
    }
   ],
   "source": [
    "print(sample_chars(X_batch[0], rnn.init_h(), 10000))"
   ]
  },
  {
   "cell_type": "code",
   "execution_count": 39,
   "metadata": {
    "collapsed": false
   },
   "outputs": [
    {
     "data": {
      "text/plain": [
       "4.382026634673881"
      ]
     },
     "execution_count": 39,
     "metadata": {},
     "output_type": "execute_result"
    }
   ],
   "source": [
    "np.log(80)"
   ]
  },
  {
   "cell_type": "code",
   "execution_count": 40,
   "metadata": {
    "collapsed": false
   },
   "outputs": [
    {
     "data": {
      "text/plain": [
       "55.625"
      ]
     },
     "execution_count": 40,
     "metadata": {},
     "output_type": "execute_result"
    }
   ],
   "source": [
    "2.225*25"
   ]
  },
  {
   "cell_type": "code",
   "execution_count": 200,
   "metadata": {
    "collapsed": true
   },
   "outputs": [],
   "source": [
    "X_next = torch.zeros_like(X_seed)"
   ]
  },
  {
   "cell_type": "code",
   "execution_count": 201,
   "metadata": {
    "collapsed": true
   },
   "outputs": [],
   "source": [
    "X_next[y_pred]=1"
   ]
  },
  {
   "cell_type": "code",
   "execution_count": 202,
   "metadata": {
    "collapsed": false
   },
   "outputs": [
    {
     "data": {
      "text/plain": [
       "tensor([ 0.,  0.,  0.,  0.,  0.,  0.,  0.,  0.,  0.,  0.,  0.,  0.,\n",
       "         0.,  0.,  0.,  0.,  0.,  0.,  0.,  0.,  0.,  0.,  0.,  0.,\n",
       "         0.,  0.,  0.,  0.,  0.,  0.,  0.,  0.,  0.,  0.,  1.,  0.,\n",
       "         0.,  0.,  0.,  0.,  0.,  0.,  0.,  0.,  0.,  0.,  0.,  0.,\n",
       "         0.,  0.,  0.,  0.,  0.])"
      ]
     },
     "execution_count": 202,
     "metadata": {},
     "output_type": "execute_result"
    }
   ],
   "source": [
    "y_score, h_prev = rnn(X_next, h_prev)"
   ]
  },
  {
   "cell_type": "code",
   "execution_count": 116,
   "metadata": {
    "collapsed": false
   },
   "outputs": [
    {
     "data": {
      "text/plain": [
       "torch.Size([1, 53])"
      ]
     },
     "execution_count": 116,
     "metadata": {},
     "output_type": "execute_result"
    }
   ],
   "source": [
    "y_score.view(1,-1).shape"
   ]
  },
  {
   "cell_type": "code",
   "execution_count": 119,
   "metadata": {
    "collapsed": false
   },
   "outputs": [
    {
     "data": {
      "text/plain": [
       "tensor([ 49])"
      ]
     },
     "execution_count": 119,
     "metadata": {},
     "output_type": "execute_result"
    }
   ],
   "source": [
    "y_batch[ch_id].view(1)"
   ]
  },
  {
   "cell_type": "code",
   "execution_count": 123,
   "metadata": {
    "collapsed": false
   },
   "outputs": [
    {
     "ename": "IndexError",
     "evalue": "index 6 is out of bounds for dimension 0 with size 6",
     "output_type": "error",
     "traceback": [
      "\u001b[1;31m---------------------------------------------------------------------------\u001b[0m",
      "\u001b[1;31mIndexError\u001b[0m                                Traceback (most recent call last)",
      "\u001b[1;32m<ipython-input-123-a2df99c59cba>\u001b[0m in \u001b[0;36m<module>\u001b[1;34m()\u001b[0m\n\u001b[1;32m----> 1\u001b[1;33m \u001b[0mloss_fn\u001b[0m\u001b[1;33m(\u001b[0m\u001b[0my_score\u001b[0m\u001b[1;33m.\u001b[0m\u001b[0mview\u001b[0m\u001b[1;33m(\u001b[0m\u001b[1;36m1\u001b[0m\u001b[1;33m,\u001b[0m\u001b[1;33m-\u001b[0m\u001b[1;36m1\u001b[0m\u001b[1;33m)\u001b[0m\u001b[1;33m,\u001b[0m \u001b[0my_batch\u001b[0m\u001b[1;33m[\u001b[0m\u001b[0mch_id\u001b[0m\u001b[1;33m]\u001b[0m\u001b[1;33m.\u001b[0m\u001b[0mview\u001b[0m\u001b[1;33m(\u001b[0m\u001b[1;36m1\u001b[0m\u001b[1;33m)\u001b[0m\u001b[1;33m)\u001b[0m\u001b[1;33m\u001b[0m\u001b[0m\n\u001b[0m",
      "\u001b[1;31mIndexError\u001b[0m: index 6 is out of bounds for dimension 0 with size 6"
     ]
    }
   ],
   "source": [
    "loss_fn(y_score.view(1,-1), y_batch[ch_id].view(1))"
   ]
  },
  {
   "cell_type": "code",
   "execution_count": 125,
   "metadata": {
    "collapsed": false
   },
   "outputs": [
    {
     "data": {
      "text/plain": [
       "tensor([[-0.0357,  0.0332,  0.0107,  0.0057, -0.0174, -0.1969, -0.0340,\n",
       "          0.0583, -0.1455,  0.1751, -0.0706,  0.1280, -0.0751, -0.0068,\n",
       "          0.0681,  0.0376, -0.1166,  0.0185,  0.0158,  0.0174, -0.0886,\n",
       "         -0.1260, -0.1418, -0.0454, -0.0296, -0.0099,  0.0042,  0.1124,\n",
       "         -0.0540,  0.0317, -0.0390, -0.0260, -0.0610,  0.0854, -0.0277,\n",
       "         -0.0665, -0.2261, -0.0420,  0.0861,  0.0427, -0.0653,  0.0099,\n",
       "         -0.1085, -0.1096, -0.0630, -0.0732,  0.0298,  0.1485,  0.1238,\n",
       "         -0.0566, -0.0781, -0.0790,  0.0377]])"
      ]
     },
     "execution_count": 125,
     "metadata": {},
     "output_type": "execute_result"
    }
   ],
   "source": [
    "y_score.view(1,-1)"
   ]
  },
  {
   "cell_type": "code",
   "execution_count": 131,
   "metadata": {
    "collapsed": false
   },
   "outputs": [
    {
     "data": {
      "text/plain": [
       "tensor([  9,   6,   9,   1,  34,  44])"
      ]
     },
     "execution_count": 131,
     "metadata": {},
     "output_type": "execute_result"
    }
   ],
   "source": [
    "y_batch"
   ]
  },
  {
   "cell_type": "code",
   "execution_count": null,
   "metadata": {
    "collapsed": true
   },
   "outputs": [],
   "source": []
  },
  {
   "cell_type": "code",
   "execution_count": null,
   "metadata": {
    "collapsed": true
   },
   "outputs": [],
   "source": []
  },
  {
   "cell_type": "code",
   "execution_count": null,
   "metadata": {
    "collapsed": true
   },
   "outputs": [],
   "source": []
  },
  {
   "cell_type": "code",
   "execution_count": 17,
   "metadata": {
    "collapsed": false
   },
   "outputs": [
    {
     "data": {
      "text/plain": [
       "(100, 53)"
      ]
     },
     "execution_count": 17,
     "metadata": {},
     "output_type": "execute_result"
    }
   ],
   "source": [
    "Wxh.shape"
   ]
  },
  {
   "cell_type": "code",
   "execution_count": 18,
   "metadata": {
    "collapsed": false
   },
   "outputs": [
    {
     "data": {
      "text/plain": [
       "(100, 100)"
      ]
     },
     "execution_count": 18,
     "metadata": {},
     "output_type": "execute_result"
    }
   ],
   "source": [
    "Whh.shape"
   ]
  },
  {
   "cell_type": "code",
   "execution_count": 19,
   "metadata": {
    "collapsed": false
   },
   "outputs": [
    {
     "data": {
      "text/plain": [
       "(53, 100)"
      ]
     },
     "execution_count": 19,
     "metadata": {},
     "output_type": "execute_result"
    }
   ],
   "source": [
    "Why.shape"
   ]
  },
  {
   "cell_type": "code",
   "execution_count": 20,
   "metadata": {
    "collapsed": false
   },
   "outputs": [
    {
     "data": {
      "text/plain": [
       "(100, 1)"
      ]
     },
     "execution_count": 20,
     "metadata": {},
     "output_type": "execute_result"
    }
   ],
   "source": [
    "bh.shape"
   ]
  },
  {
   "cell_type": "code",
   "execution_count": 10,
   "metadata": {
    "collapsed": true
   },
   "outputs": [],
   "source": [
    "# model parameters\n",
    "Wxh = np.random.randn(hidden_size, vocab_size)*0.01 # input to hidden\n",
    "Whh = np.random.randn(hidden_size, hidden_size)*0.01 # hidden to hidden\n",
    "Why = np.random.randn(vocab_size, hidden_size)*0.01 # hidden to output\n",
    "bh = np.zeros((hidden_size, 1)) # hidden bias\n",
    "by = np.zeros((vocab_size, 1)) # output bias"
   ]
  },
  {
   "cell_type": "code",
   "execution_count": 11,
   "metadata": {
    "collapsed": true
   },
   "outputs": [],
   "source": [
    "def lossFun(inputs, targets, hprev):\n",
    "  \"\"\"\n",
    "  inputs,targets are both list of integers.\n",
    "  hprev is Hx1 array of initial hidden state\n",
    "  returns the loss, gradients on model parameters, and last hidden state\n",
    "  \"\"\"\n",
    "  xs, hs, ys, ps = {}, {}, {}, {}\n",
    "  hs[-1] = np.copy(hprev)\n",
    "  loss = 0\n",
    "  # forward pass\n",
    "  for t in range(len(inputs)):\n",
    "    xs[t] = np.zeros((vocab_size,1)) # encode in 1-of-k representation\n",
    "    xs[t][inputs[t]] = 1\n",
    "    hs[t] = np.tanh(np.dot(Wxh, xs[t]) + np.dot(Whh, hs[t-1]) + bh) # hidden state\n",
    "    ys[t] = np.dot(Why, hs[t]) + by # unnormalized log probabilities for next chars\n",
    "    ps[t] = np.exp(ys[t]) / np.sum(np.exp(ys[t])) # probabilities for next chars\n",
    "    loss += -np.log(ps[t][targets[t],0]) # softmax (cross-entropy loss)\n",
    "  # backward pass: compute gradients going backwards\n",
    "  dWxh, dWhh, dWhy = np.zeros_like(Wxh), np.zeros_like(Whh), np.zeros_like(Why)\n",
    "  dbh, dby = np.zeros_like(bh), np.zeros_like(by)\n",
    "  dhnext = np.zeros_like(hs[0])\n",
    "  for t in reversed(range(len(inputs))):\n",
    "    dy = np.copy(ps[t])\n",
    "    dy[targets[t]] -= 1 # backprop into y. see http://cs231n.github.io/neural-networks-case-study/#grad if confused here\n",
    "    dWhy += np.dot(dy, hs[t].T)\n",
    "    dby += dy\n",
    "    dh = np.dot(Why.T, dy) + dhnext # backprop into h\n",
    "    dhraw = (1 - hs[t] * hs[t]) * dh # backprop through tanh nonlinearity\n",
    "    dbh += dhraw\n",
    "    dWxh += np.dot(dhraw, xs[t].T)\n",
    "    dWhh += np.dot(dhraw, hs[t-1].T)\n",
    "    dhnext = np.dot(Whh.T, dhraw)\n",
    "  for dparam in [dWxh, dWhh, dWhy, dbh, dby]:\n",
    "    np.clip(dparam, -5, 5, out=dparam) # clip to mitigate exploding gradients\n",
    "  return loss, dWxh, dWhh, dWhy, dbh, dby, hs[len(inputs)-1]"
   ]
  },
  {
   "cell_type": "code",
   "execution_count": 12,
   "metadata": {
    "collapsed": true
   },
   "outputs": [],
   "source": [
    "def sample(h, seed_ix, n):\n",
    "  \"\"\" \n",
    "  sample a sequence of integers from the model \n",
    "  h is memory state, seed_ix is seed letter for first time step\n",
    "  \"\"\"\n",
    "  x = np.zeros((vocab_size, 1))\n",
    "  x[seed_ix] = 1\n",
    "  ixes = []\n",
    "  for t in range(n):\n",
    "    h = np.tanh(np.dot(Wxh, x) + np.dot(Whh, h) + bh)\n",
    "    y = np.dot(Why, h) + by\n",
    "    p = np.exp(y) / np.sum(np.exp(y))\n",
    "    ix = np.random.choice(range(vocab_size), p=p.ravel())\n",
    "    x = np.zeros((vocab_size, 1))\n",
    "    x[ix] = 1\n",
    "    ixes.append(ix)\n",
    "  return ixes"
   ]
  },
  {
   "cell_type": "code",
   "execution_count": 21,
   "metadata": {
    "collapsed": true
   },
   "outputs": [],
   "source": [
    "n, p = 0, 0\n",
    "mWxh, mWhh, mWhy = np.zeros_like(Wxh), np.zeros_like(Whh), np.zeros_like(Why)\n",
    "mbh, mby = np.zeros_like(bh), np.zeros_like(by) # memory variables for Adagrad\n",
    "smooth_loss = -np.log(1.0/vocab_size)*seq_length # loss at iteration 0"
   ]
  },
  {
   "cell_type": "code",
   "execution_count": 28,
   "metadata": {
    "collapsed": true
   },
   "outputs": [],
   "source": [
    "inputs = [char_to_ix[ch] for ch in data[p:p+seq_length]]\n",
    "targets = [char_to_ix[ch] for ch in data[p+1:p+seq_length+1]]"
   ]
  },
  {
   "cell_type": "code",
   "execution_count": 30,
   "metadata": {
    "collapsed": false
   },
   "outputs": [
    {
     "data": {
      "text/plain": [
       "(100, 1)"
      ]
     },
     "execution_count": 30,
     "metadata": {},
     "output_type": "execute_result"
    }
   ],
   "source": [
    "hprev.shape"
   ]
  },
  {
   "cell_type": "code",
   "execution_count": 31,
   "metadata": {
    "collapsed": true
   },
   "outputs": [],
   "source": [
    "  xs, hs, ys, ps = {}, {}, {}, {}\n",
    "  hs[-1] = np.copy(hprev)\n",
    "  loss = 0"
   ]
  },
  {
   "cell_type": "code",
   "execution_count": 32,
   "metadata": {
    "collapsed": true
   },
   "outputs": [],
   "source": [
    "t = 0"
   ]
  },
  {
   "cell_type": "code",
   "execution_count": 34,
   "metadata": {
    "collapsed": true
   },
   "outputs": [],
   "source": [
    "xs[t] = np.zeros((vocab_size,1))"
   ]
  },
  {
   "cell_type": "code",
   "execution_count": 37,
   "metadata": {
    "collapsed": true
   },
   "outputs": [],
   "source": [
    "xs[t][inputs[t]] = 1"
   ]
  },
  {
   "cell_type": "code",
   "execution_count": 41,
   "metadata": {
    "collapsed": false
   },
   "outputs": [
    {
     "data": {
      "text/plain": [
       "(100, 1)"
      ]
     },
     "execution_count": 41,
     "metadata": {},
     "output_type": "execute_result"
    }
   ],
   "source": [
    "np.dot(Wxh, xs[t]).shape"
   ]
  },
  {
   "cell_type": "code",
   "execution_count": 49,
   "metadata": {
    "collapsed": true
   },
   "outputs": [],
   "source": [
    "hs[t] = np.tanh(np.dot(Wxh, xs[t]) + np.dot(Whh, hs[t-1]) + bh)"
   ]
  },
  {
   "cell_type": "code",
   "execution_count": 52,
   "metadata": {
    "collapsed": true
   },
   "outputs": [],
   "source": [
    "import matplotlib.pyplot as plt\n",
    "% matplotlib inline"
   ]
  },
  {
   "cell_type": "code",
   "execution_count": 59,
   "metadata": {
    "collapsed": true
   },
   "outputs": [],
   "source": [
    "ys[t] = np.dot(Why, hs[t]) + by"
   ]
  },
  {
   "cell_type": "code",
   "execution_count": 61,
   "metadata": {
    "collapsed": false
   },
   "outputs": [
    {
     "data": {
      "text/plain": [
       "(53, 1)"
      ]
     },
     "execution_count": 61,
     "metadata": {},
     "output_type": "execute_result"
    }
   ],
   "source": [
    "ys[t].shape"
   ]
  },
  {
   "cell_type": "code",
   "execution_count": 62,
   "metadata": {
    "collapsed": true
   },
   "outputs": [],
   "source": [
    "ps[t] = np.exp(ys[t]) / np.sum(np.exp(ys[t]))"
   ]
  },
  {
   "cell_type": "code",
   "execution_count": 73,
   "metadata": {
    "collapsed": false
   },
   "outputs": [
    {
     "data": {
      "text/plain": [
       "400.3183783825123"
      ]
     },
     "execution_count": 73,
     "metadata": {},
     "output_type": "execute_result"
    }
   ],
   "source": [
    "-np.log(1.0/3000)*50"
   ]
  },
  {
   "cell_type": "code",
   "execution_count": 74,
   "metadata": {
    "collapsed": true
   },
   "outputs": [],
   "source": [
    "hprev = hs[t-1]"
   ]
  },
  {
   "cell_type": "code",
   "execution_count": 79,
   "metadata": {
    "collapsed": false
   },
   "outputs": [
    {
     "data": {
      "text/plain": [
       "'ikama enaliia Janden Celen Badkia Darine Jumah Jagkida Asmyanat Caima Ediouy Inriserya Janieghebe Jame Giyne Jozabkatgh Alance Jomvi Jorielya Eyah Aillana Kateliuh Babye Makjan Calisse Tynnibele Jaigz'"
      ]
     },
     "execution_count": 79,
     "metadata": {},
     "output_type": "execute_result"
    }
   ],
   "source": [
    "''.join(ix_to_char[ix] for ix in sample(hprev, 1, 200))"
   ]
  },
  {
   "cell_type": "code",
   "execution_count": 81,
   "metadata": {
    "collapsed": true
   },
   "outputs": [],
   "source": [
    "seed_ix = 1"
   ]
  },
  {
   "cell_type": "code",
   "execution_count": 82,
   "metadata": {
    "collapsed": true
   },
   "outputs": [],
   "source": [
    "  x = np.zeros((vocab_size, 1))\n",
    "  x[seed_ix] = 1\n",
    "  ixes = []"
   ]
  },
  {
   "cell_type": "code",
   "execution_count": 84,
   "metadata": {
    "collapsed": false
   },
   "outputs": [
    {
     "data": {
      "text/plain": [
       "(53, 1)"
      ]
     },
     "execution_count": 84,
     "metadata": {},
     "output_type": "execute_result"
    }
   ],
   "source": [
    "x.shape"
   ]
  },
  {
   "cell_type": "code",
   "execution_count": 86,
   "metadata": {
    "collapsed": true
   },
   "outputs": [],
   "source": [
    "h = hprev"
   ]
  },
  {
   "cell_type": "code",
   "execution_count": 115,
   "metadata": {
    "collapsed": true
   },
   "outputs": [],
   "source": [
    "    h = np.tanh(np.dot(Wxh, x) + np.dot(Whh, h) + bh)\n",
    "    y = np.dot(Why, h) + by\n",
    "    p = np.exp(y) / np.sum(np.exp(y))\n",
    "    ix = np.random.choice(range(vocab_size), p=p.ravel())\n",
    "    x = np.zeros((vocab_size, 1))\n",
    "    x[ix] = 1\n",
    "    ixes.append(ix)"
   ]
  },
  {
   "cell_type": "code",
   "execution_count": 116,
   "metadata": {
    "collapsed": false
   },
   "outputs": [
    {
     "data": {
      "text/plain": [
       "7"
      ]
     },
     "execution_count": 116,
     "metadata": {},
     "output_type": "execute_result"
    }
   ],
   "source": [
    "ix"
   ]
  },
  {
   "cell_type": "code",
   "execution_count": 120,
   "metadata": {
    "collapsed": false
   },
   "outputs": [
    {
     "data": {
      "text/plain": [
       "(53, 1)"
      ]
     },
     "execution_count": 120,
     "metadata": {},
     "output_type": "execute_result"
    }
   ],
   "source": [
    "x.shape"
   ]
  },
  {
   "cell_type": "code",
   "execution_count": 121,
   "metadata": {
    "collapsed": false
   },
   "outputs": [
    {
     "data": {
      "text/plain": [
       "(100, 53)"
      ]
     },
     "execution_count": 121,
     "metadata": {},
     "output_type": "execute_result"
    }
   ],
   "source": [
    "Wxh.shape"
   ]
  },
  {
   "cell_type": "code",
   "execution_count": 122,
   "metadata": {
    "collapsed": false
   },
   "outputs": [
    {
     "data": {
      "text/plain": [
       "(100, 1)"
      ]
     },
     "execution_count": 122,
     "metadata": {},
     "output_type": "execute_result"
    }
   ],
   "source": [
    "np.dot(Wxh, x).shape"
   ]
  },
  {
   "cell_type": "code",
   "execution_count": 126,
   "metadata": {
    "collapsed": false
   },
   "outputs": [
    {
     "data": {
      "text/plain": [
       "(100, 53)"
      ]
     },
     "execution_count": 126,
     "metadata": {},
     "output_type": "execute_result"
    }
   ],
   "source": [
    "Wxh.shape"
   ]
  },
  {
   "cell_type": "code",
   "execution_count": null,
   "metadata": {
    "collapsed": true
   },
   "outputs": [],
   "source": []
  },
  {
   "cell_type": "code",
   "execution_count": null,
   "metadata": {
    "collapsed": true
   },
   "outputs": [],
   "source": []
  },
  {
   "cell_type": "code",
   "execution_count": 48,
   "metadata": {
    "collapsed": false
   },
   "outputs": [
    {
     "data": {
      "text/plain": [
       "99.25729783880305"
      ]
     },
     "execution_count": 48,
     "metadata": {},
     "output_type": "execute_result"
    }
   ],
   "source": [
    "np.log(vocab_size)*25"
   ]
  },
  {
   "cell_type": "code",
   "execution_count": 45,
   "metadata": {
    "collapsed": false
   },
   "outputs": [
    {
     "data": {
      "text/plain": [
       "25"
      ]
     },
     "execution_count": 45,
     "metadata": {},
     "output_type": "execute_result"
    }
   ],
   "source": [
    "seq_length"
   ]
  },
  {
   "cell_type": "code",
   "execution_count": 49,
   "metadata": {
    "collapsed": true
   },
   "outputs": [],
   "source": [
    "hprev = np.zeros((hidden_size,1))"
   ]
  },
  {
   "cell_type": "code",
   "execution_count": 51,
   "metadata": {
    "collapsed": false
   },
   "outputs": [
    {
     "data": {
      "text/plain": [
       "(100, 1)"
      ]
     },
     "execution_count": 51,
     "metadata": {},
     "output_type": "execute_result"
    }
   ],
   "source": [
    "hprev.shape"
   ]
  },
  {
   "cell_type": "code",
   "execution_count": 52,
   "metadata": {
    "collapsed": true
   },
   "outputs": [],
   "source": [
    "  inputs = [char_to_ix[ch] for ch in data[p:p+seq_length]]\n",
    "  targets = [char_to_ix[ch] for ch in data[p+1:p+seq_length+1]]"
   ]
  },
  {
   "cell_type": "code",
   "execution_count": 54,
   "metadata": {
    "collapsed": false
   },
   "outputs": [
    {
     "data": {
      "text/plain": [
       "'Emma Olivia Sophia Isabel'"
      ]
     },
     "execution_count": 54,
     "metadata": {},
     "output_type": "execute_result"
    }
   ],
   "source": [
    "data[p:p+seq_length]"
   ]
  },
  {
   "cell_type": "code",
   "execution_count": 55,
   "metadata": {
    "collapsed": false
   },
   "outputs": [
    {
     "data": {
      "text/plain": [
       "'mma Olivia Sophia Isabell'"
      ]
     },
     "execution_count": 55,
     "metadata": {},
     "output_type": "execute_result"
    }
   ],
   "source": [
    "data[p+1:p+seq_length+1]"
   ]
  },
  {
   "cell_type": "code",
   "execution_count": 56,
   "metadata": {
    "collapsed": false
   },
   "outputs": [
    {
     "data": {
      "text/plain": [
       "44"
      ]
     },
     "execution_count": 56,
     "metadata": {},
     "output_type": "execute_result"
    }
   ],
   "source": [
    "inputs[0]"
   ]
  },
  {
   "cell_type": "code",
   "execution_count": 64,
   "metadata": {
    "collapsed": false
   },
   "outputs": [
    {
     "name": "stdout",
     "output_type": "stream",
     "text": [
      "----\n",
      " PfKTwPfmTLjbeVZCLEYRbGltieocPNNtsnTWVZNjehJnZLQRvvrMFQNpxCxHQncWpvjBYZYqasQfIdjPqtrPTEYDcCOxngJamYZCVpjyxVEIQRCbvbqpYtPM ZNVXcNiIDRixwFDVnkWUscUzu juwCkYuBqHeUVcyiWELKcoIr nr TKNCDpxLGyyKENSvJnmvweRQQ \n",
      "----\n"
     ]
    }
   ],
   "source": [
    "    sample_ix = sample(hprev, inputs[0], 200)\n",
    "    txt = ''.join(ix_to_char[ix] for ix in sample_ix)\n",
    "    print('----\\n %s \\n----' % (txt, ))"
   ]
  },
  {
   "cell_type": "code",
   "execution_count": 66,
   "metadata": {
    "collapsed": true
   },
   "outputs": [],
   "source": [
    "loss, dWxh, dWhh, dWhy, dbh, dby, hprev = lossFun(inputs, targets, hprev)"
   ]
  },
  {
   "cell_type": "code",
   "execution_count": 100,
   "metadata": {
    "collapsed": true
   },
   "outputs": [],
   "source": [
    "  xs, hs, ys, ps = {}, {}, {}, {}\n",
    "  hs[-1] = np.copy(hprev)\n",
    "  loss = 0"
   ]
  },
  {
   "cell_type": "code",
   "execution_count": 101,
   "metadata": {
    "collapsed": true
   },
   "outputs": [],
   "source": [
    "t=0"
   ]
  },
  {
   "cell_type": "code",
   "execution_count": 102,
   "metadata": {
    "collapsed": true
   },
   "outputs": [],
   "source": [
    "    xs[t] = np.zeros((vocab_size,1)) # encode in 1-of-k representation\n",
    "    xs[t][inputs[t]] = 1\n",
    "    hs[t] = np.tanh(np.dot(Wxh, xs[t]) + np.dot(Whh, hs[t-1]) + bh) # hidden state\n",
    "    ys[t] = np.dot(Why, hs[t]) + by # unnormalized log probabilities for next chars\n",
    "    ps[t] = np.exp(ys[t]) / np.sum(np.exp(ys[t])) # probabilities for next chars\n",
    "    loss += -np.log(ps[t][targets[t],0]) # softmax (cross-entropy loss)"
   ]
  },
  {
   "cell_type": "code",
   "execution_count": 141,
   "metadata": {
    "collapsed": false
   },
   "outputs": [
    {
     "data": {
      "text/plain": [
       "(100, 1)"
      ]
     },
     "execution_count": 141,
     "metadata": {},
     "output_type": "execute_result"
    }
   ],
   "source": [
    "hs[-1].shape"
   ]
  },
  {
   "cell_type": "code",
   "execution_count": 138,
   "metadata": {
    "collapsed": false
   },
   "outputs": [
    {
     "data": {
      "text/plain": [
       "0.0398582039920804"
      ]
     },
     "execution_count": 138,
     "metadata": {},
     "output_type": "execute_result"
    }
   ],
   "source": [
    "ps[t][targets[t]][0]"
   ]
  },
  {
   "cell_type": "code",
   "execution_count": 132,
   "metadata": {
    "collapsed": true
   },
   "outputs": [
    {
     "data": {
      "text/plain": [
       "array([[1.22462687e-02],\n",
       "       [3.70884873e-04],\n",
       "       [1.47718282e-01],\n",
       "       [4.91778089e-04],\n",
       "       [1.43579039e-02],\n",
       "       [1.94613594e-03],\n",
       "       [3.98582040e-02],\n",
       "       [1.83239784e-03],\n",
       "       [1.40377295e-03],\n",
       "       [2.25524356e-03],\n",
       "       [1.86338027e-02],\n",
       "       [1.82163330e-03],\n",
       "       [1.36034842e-03],\n",
       "       [5.34832575e-03],\n",
       "       [5.31882994e-03],\n",
       "       [2.56723943e-02],\n",
       "       [2.08954666e-01],\n",
       "       [1.67814105e-04],\n",
       "       [5.43953948e-02],\n",
       "       [1.23416029e-02],\n",
       "       [2.71522941e-02],\n",
       "       [7.07506732e-04],\n",
       "       [3.90479874e-03],\n",
       "       [3.07619937e-03],\n",
       "       [6.03594339e-04],\n",
       "       [2.60599790e-02],\n",
       "       [3.70108202e-05],\n",
       "       [2.20467155e-03],\n",
       "       [8.62683131e-03],\n",
       "       [6.98119822e-04],\n",
       "       [5.34681858e-03],\n",
       "       [2.66708994e-03],\n",
       "       [1.11460252e-02],\n",
       "       [1.62131224e-03],\n",
       "       [4.59798728e-03],\n",
       "       [2.41688939e-03],\n",
       "       [7.15391514e-04],\n",
       "       [1.00846412e-03],\n",
       "       [7.64864017e-04],\n",
       "       [1.19025338e-02],\n",
       "       [4.88808782e-02],\n",
       "       [6.65579358e-02],\n",
       "       [1.07478080e-03],\n",
       "       [6.73335329e-04],\n",
       "       [2.65998096e-03],\n",
       "       [3.20836611e-02],\n",
       "       [2.08930948e-02],\n",
       "       [3.64345458e-04],\n",
       "       [1.19719124e-01],\n",
       "       [6.08244844e-04],\n",
       "       [5.51525083e-04],\n",
       "       [4.71561737e-03],\n",
       "       [2.94634093e-02]])"
      ]
     },
     "execution_count": 132,
     "metadata": {},
     "output_type": "execute_result"
    }
   ],
   "source": [
    "ps[t]"
   ]
  },
  {
   "cell_type": "code",
   "execution_count": 126,
   "metadata": {
    "collapsed": false
   },
   "outputs": [
    {
     "data": {
      "text/plain": [
       "16"
      ]
     },
     "execution_count": 126,
     "metadata": {},
     "output_type": "execute_result"
    }
   ],
   "source": [
    "ps[t].argmax()"
   ]
  },
  {
   "cell_type": "code",
   "execution_count": 117,
   "metadata": {
    "collapsed": false
   },
   "outputs": [
    {
     "data": {
      "text/plain": [
       "array([-0.11848706, -0.05649749,  0.02691294,  0.19014995,  0.07061441,\n",
       "       -1.16252144,  0.12697324, -0.08889963, -0.06267175, -0.40105323,\n",
       "       -0.18747102, -0.18140617,  0.07432117,  0.34334437,  0.06726984,\n",
       "        0.20165935,  0.32747234,  0.04495337,  0.1142929 , -0.05521551,\n",
       "        0.00885307,  0.33516984,  0.13067932, -0.10904185,  0.19814699,\n",
       "        0.0913149 , -0.06236525, -0.01253117,  0.41185781, -0.3912567 ,\n",
       "       -0.1494085 ,  0.36435163, -0.44824475, -0.09278199,  0.34402929,\n",
       "       -0.15928979, -0.26921809,  0.05811367, -0.13787257,  0.20121986,\n",
       "        0.01388096,  0.07998907,  0.05387593,  0.0689815 ,  0.26390591,\n",
       "        0.0065182 , -0.09641561,  0.20798219,  0.07988806,  0.20825779,\n",
       "       -0.26811509, -0.03696904, -0.16780612, -0.38446364,  0.28463213,\n",
       "        0.14157797, -0.19357392, -0.16630077,  0.11378831,  0.25725707,\n",
       "        0.17818427,  0.008875  , -0.06520907,  0.12799508,  0.22632408,\n",
       "       -0.17792747,  0.19119546, -0.04671774, -0.45145593,  0.05777601,\n",
       "       -0.09830163, -0.31653179,  0.15220932,  0.20794963, -0.03008459,\n",
       "       -0.26965372,  0.1204601 ,  0.34252047,  0.09401755,  0.52394405,\n",
       "       -1.28136092, -2.30766055,  0.0621971 ,  0.65735221, -0.06726325,\n",
       "       -0.10967955,  0.37269327, -0.12546259,  0.03567711, -0.12430217,\n",
       "       -0.11907313, -0.0464631 ,  0.29016598,  0.23329175,  0.22403798,\n",
       "        0.04957504, -0.03167637, -0.15892867, -0.21109618, -0.03625879])"
      ]
     },
     "execution_count": 117,
     "metadata": {},
     "output_type": "execute_result"
    }
   ],
   "source": [
    "Wxh[:,10]"
   ]
  },
  {
   "cell_type": "code",
   "execution_count": null,
   "metadata": {
    "collapsed": true
   },
   "outputs": [],
   "source": []
  },
  {
   "cell_type": "code",
   "execution_count": null,
   "metadata": {
    "collapsed": true
   },
   "outputs": [],
   "source": [
    "n, p = 0, 0\n",
    "mWxh, mWhh, mWhy = np.zeros_like(Wxh), np.zeros_like(Whh), np.zeros_like(Why)\n",
    "mbh, mby = np.zeros_like(bh), np.zeros_like(by) # memory variables for Adagrad\n",
    "smooth_loss = -np.log(1.0/vocab_size)*seq_length # loss at iteration 0\n",
    "while True:\n",
    "  # prepare inputs (we're sweeping from left to right in steps seq_length long)\n",
    "  if p+seq_length+1 >= len(data) or n == 0: \n",
    "    hprev = np.zeros((hidden_size,1)) # reset RNN memory\n",
    "    p = 0 # go from start of data\n",
    "  inputs = [char_to_ix[ch] for ch in data[p:p+seq_length]]\n",
    "  targets = [char_to_ix[ch] for ch in data[p+1:p+seq_length+1]]\n",
    "\n",
    "  # sample from the model now and then\n",
    "  if n % 100 == 0:\n",
    "    sample_ix = sample(hprev, inputs[0], 200)\n",
    "    txt = ''.join(ix_to_char[ix] for ix in sample_ix)\n",
    "    print('----\\n %s \\n----' % (txt, ))\n",
    "\n",
    "  # forward seq_length characters through the net and fetch gradient\n",
    "  loss, dWxh, dWhh, dWhy, dbh, dby, hprev = lossFun(inputs, targets, hprev)\n",
    "  smooth_loss = smooth_loss * 0.999 + loss * 0.001\n",
    "  if n % 100 == 0:\n",
    "        print('iter %d, loss: %f' % (n, smooth_loss)) # print progress\n",
    "  \n",
    "  # perform parameter update with Adagrad\n",
    "  for param, dparam, mem in zip([Wxh, Whh, Why, bh, by], \n",
    "                                [dWxh, dWhh, dWhy, dbh, dby], \n",
    "                                [mWxh, mWhh, mWhy, mbh, mby]):\n",
    "    mem += dparam * dparam\n",
    "    param += -learning_rate * dparam / np.sqrt(mem + 1e-8) # adagrad update\n",
    "\n",
    "  p += seq_length # move data pointer\n",
    "  n += 1 # iteration counter "
   ]
  },
  {
   "cell_type": "code",
   "execution_count": null,
   "metadata": {
    "collapsed": true
   },
   "outputs": [],
   "source": []
  },
  {
   "cell_type": "code",
   "execution_count": null,
   "metadata": {
    "collapsed": true
   },
   "outputs": [],
   "source": [
    "df = pd"
   ]
  }
 ],
 "metadata": {
  "anaconda-cloud": {},
  "kernelspec": {
   "display_name": "Python 3",
   "language": "python",
   "name": "python3"
  },
  "language_info": {
   "codemirror_mode": {
    "name": "ipython",
    "version": 3
   },
   "file_extension": ".py",
   "mimetype": "text/x-python",
   "name": "python",
   "nbconvert_exporter": "python",
   "pygments_lexer": "ipython3",
   "version": "3.6.2"
  }
 },
 "nbformat": 4,
 "nbformat_minor": 2
}
