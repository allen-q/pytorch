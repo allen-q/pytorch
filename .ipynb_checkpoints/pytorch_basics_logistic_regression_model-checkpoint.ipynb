{
 "cells": [
  {
   "cell_type": "code",
   "execution_count": 152,
   "metadata": {},
   "outputs": [],
   "source": [
    "import torch"
   ]
  },
  {
   "cell_type": "code",
   "execution_count": 153,
   "metadata": {},
   "outputs": [],
   "source": [
    "import numpy as np\n",
    "import matplotlib.pyplot as plt\n",
    "%matplotlib inline"
   ]
  },
  {
   "cell_type": "markdown",
   "metadata": {},
   "source": [
    "## Create some toy data"
   ]
  },
  {
   "cell_type": "code",
   "execution_count": 163,
   "metadata": {},
   "outputs": [],
   "source": [
    "from sklearn import linear_model, datasets\n",
    "\n",
    "# import some data to play with\n",
    "iris = datasets.load_iris()\n",
    "x_train = iris.data[:, :2].astype(np.float32)  # we only take the first two features.\n",
    "y_train = iris.target.astype(np.int64)"
   ]
  },
  {
   "cell_type": "code",
   "execution_count": 164,
   "metadata": {},
   "outputs": [
    {
     "data": {
      "text/plain": [
       "array([0, 0, 0, 0, 0, 0, 0, 0, 0, 0, 0, 0, 0, 0, 0, 0, 0, 0, 0, 0, 0, 0,\n",
       "       0, 0, 0, 0, 0, 0, 0, 0, 0, 0, 0, 0, 0, 0, 0, 0, 0, 0, 0, 0, 0, 0,\n",
       "       0, 0, 0, 0, 0, 0, 1, 1, 1, 1, 1, 1, 1, 1, 1, 1, 1, 1, 1, 1, 1, 1,\n",
       "       1, 1, 1, 1, 1, 1, 1, 1, 1, 1, 1, 1, 1, 1, 1, 1, 1, 1, 1, 1, 1, 1,\n",
       "       1, 1, 1, 1, 1, 1, 1, 1, 1, 1, 1, 1, 2, 2, 2, 2, 2, 2, 2, 2, 2, 2,\n",
       "       2, 2, 2, 2, 2, 2, 2, 2, 2, 2, 2, 2, 2, 2, 2, 2, 2, 2, 2, 2, 2, 2,\n",
       "       2, 2, 2, 2, 2, 2, 2, 2, 2, 2, 2, 2, 2, 2, 2, 2, 2, 2], dtype=int64)"
      ]
     },
     "execution_count": 164,
     "metadata": {},
     "output_type": "execute_result"
    }
   ],
   "source": [
    "y_train"
   ]
  },
  {
   "cell_type": "code",
   "execution_count": 108,
   "metadata": {},
   "outputs": [],
   "source": [
    "model = torch.nn.Linear(2,3)"
   ]
  },
  {
   "cell_type": "code",
   "execution_count": 109,
   "metadata": {},
   "outputs": [],
   "source": [
    "loss_fn = torch.nn.CrossEntropyLoss()"
   ]
  },
  {
   "cell_type": "code",
   "execution_count": 110,
   "metadata": {},
   "outputs": [],
   "source": [
    "optimizer = torch.optim.SGD(model.parameters(), lr=0.0001)"
   ]
  },
  {
   "cell_type": "code",
   "execution_count": 123,
   "metadata": {},
   "outputs": [],
   "source": [
    "y_pred_prob = model(torch.from_numpy(x_train))"
   ]
  },
  {
   "cell_type": "code",
   "execution_count": 112,
   "metadata": {},
   "outputs": [],
   "source": [
    "optimizer.zero_grad()"
   ]
  },
  {
   "cell_type": "code",
   "execution_count": 113,
   "metadata": {
    "scrolled": true
   },
   "outputs": [],
   "source": [
    "loss = loss_fn(y_pred, torch.from_numpy(y_train))"
   ]
  },
  {
   "cell_type": "code",
   "execution_count": 114,
   "metadata": {},
   "outputs": [
    {
     "data": {
      "text/plain": [
       "torch.Tensor"
      ]
     },
     "execution_count": 114,
     "metadata": {},
     "output_type": "execute_result"
    }
   ],
   "source": [
    "type(torch.from_numpy(y_train))"
   ]
  },
  {
   "cell_type": "code",
   "execution_count": 115,
   "metadata": {},
   "outputs": [
    {
     "data": {
      "text/plain": [
       "tensor(2.2657)"
      ]
     },
     "execution_count": 115,
     "metadata": {},
     "output_type": "execute_result"
    }
   ],
   "source": [
    "loss"
   ]
  },
  {
   "cell_type": "code",
   "execution_count": 116,
   "metadata": {},
   "outputs": [
    {
     "data": {
      "text/plain": [
       "[Parameter containing:\n",
       " tensor([[ 0.1544, -0.4448],\n",
       "         [-0.1733, -0.4472],\n",
       "         [ 0.6109, -0.6033]]), Parameter containing:\n",
       " tensor([-0.1872,  0.5446,  0.4740])]"
      ]
     },
     "execution_count": 116,
     "metadata": {},
     "output_type": "execute_result"
    }
   ],
   "source": [
    "list(model.parameters())"
   ]
  },
  {
   "cell_type": "code",
   "execution_count": 117,
   "metadata": {},
   "outputs": [],
   "source": [
    "loss.backward()"
   ]
  },
  {
   "cell_type": "code",
   "execution_count": 118,
   "metadata": {},
   "outputs": [],
   "source": [
    "optimizer.step()"
   ]
  },
  {
   "cell_type": "code",
   "execution_count": 119,
   "metadata": {
    "scrolled": true
   },
   "outputs": [
    {
     "data": {
      "text/plain": [
       "[Parameter containing:\n",
       " tensor([[ 0.1545, -0.4447],\n",
       "         [-0.1731, -0.4471],\n",
       "         [ 0.6105, -0.6035]]), Parameter containing:\n",
       " tensor([-0.1872,  0.5446,  0.4740])]"
      ]
     },
     "execution_count": 119,
     "metadata": {},
     "output_type": "execute_result"
    }
   ],
   "source": [
    "list(model.parameters())"
   ]
  },
  {
   "cell_type": "code",
   "execution_count": 127,
   "metadata": {},
   "outputs": [],
   "source": [
    "_, y_pred = torch.max(y_pred_prob.data, 1)"
   ]
  },
  {
   "cell_type": "code",
   "execution_count": 132,
   "metadata": {},
   "outputs": [
    {
     "data": {
      "text/plain": [
       "150"
      ]
     },
     "execution_count": 132,
     "metadata": {},
     "output_type": "execute_result"
    }
   ],
   "source": [
    "len(y_pred)"
   ]
  },
  {
   "cell_type": "code",
   "execution_count": 133,
   "metadata": {},
   "outputs": [],
   "source": [
    "correct = (y_pred.data.numpy() == y_train).sum()"
   ]
  },
  {
   "cell_type": "code",
   "execution_count": 134,
   "metadata": {},
   "outputs": [
    {
     "data": {
      "text/plain": [
       "50"
      ]
     },
     "execution_count": 134,
     "metadata": {},
     "output_type": "execute_result"
    }
   ],
   "source": [
    "correct\n"
   ]
  },
  {
   "cell_type": "code",
   "execution_count": 175,
   "metadata": {},
   "outputs": [],
   "source": [
    "model = torch.nn.Linear(2,3)\n",
    "loss_fn = torch.nn.CrossEntropyLoss()\n",
    "optimizer = torch.optim.SGD(model.parameters(), lr=0.0001)"
   ]
  },
  {
   "cell_type": "code",
   "execution_count": 176,
   "metadata": {},
   "outputs": [
    {
     "name": "stdout",
     "output_type": "stream",
     "text": [
      "loss:3.30024790763855\n",
      "loss:3.069474935531616\n",
      "loss:2.8544230461120605\n",
      "loss:2.6586525440216064\n",
      "loss:2.484785318374634\n",
      "loss:2.3336946964263916\n",
      "loss:2.2042295932769775\n",
      "loss:2.093595504760742\n",
      "loss:1.9982008934020996\n",
      "loss:1.9144713878631592\n",
      "loss:1.839375615119934\n",
      "loss:1.770595908164978\n",
      "loss:1.7064998149871826\n",
      "loss:1.646016240119934\n",
      "loss:1.5884978771209717\n",
      "loss:1.5335994958877563\n",
      "loss:1.481189489364624\n",
      "loss:1.4312745332717896\n",
      "loss:1.3839542865753174\n",
      "loss:1.3393785953521729\n",
      "loss:1.2977182865142822\n",
      "loss:1.259137749671936\n",
      "loss:1.2237688302993774\n",
      "loss:1.1917003393173218\n",
      "loss:1.162958025932312\n",
      "loss:1.1375000476837158\n",
      "loss:1.115219235420227\n",
      "loss:1.0959433317184448\n",
      "loss:1.0794521570205688\n",
      "loss:1.0654875040054321\n",
      "loss:1.0537723302841187\n",
      "loss:1.044021487236023\n",
      "loss:1.0359591245651245\n",
      "loss:1.0293248891830444\n",
      "loss:1.0238819122314453\n",
      "loss:1.0194212198257446\n",
      "loss:1.0157612562179565\n",
      "loss:1.0127476453781128\n",
      "loss:1.0102519989013672\n",
      "loss:1.0081675052642822\n",
      "loss:1.0064082145690918\n",
      "loss:1.0049045085906982\n",
      "loss:1.0036007165908813\n",
      "loss:1.0024521350860596\n",
      "loss:1.0014256238937378\n",
      "loss:1.000491738319397\n",
      "loss:0.9996313452720642\n",
      "loss:0.9988269805908203\n",
      "loss:0.9980655908584595\n",
      "loss:0.9973379373550415\n",
      "loss:0.9966367483139038\n",
      "loss:0.995955228805542\n",
      "loss:0.9952898025512695\n",
      "loss:0.9946363568305969\n",
      "loss:0.9939923882484436\n",
      "loss:0.9933561086654663\n",
      "loss:0.9927264451980591\n",
      "loss:0.9921016693115234\n",
      "loss:0.9914807081222534\n",
      "loss:0.990863561630249\n",
      "loss:0.9902494549751282\n",
      "loss:0.9896371364593506\n",
      "loss:0.9890273213386536\n",
      "loss:0.9884200096130371\n",
      "loss:0.9878140091896057\n",
      "loss:0.987209677696228\n",
      "loss:0.9866070747375488\n",
      "loss:0.9860058426856995\n",
      "loss:0.9854061007499695\n",
      "loss:0.9848080277442932\n",
      "loss:0.9842115044593811\n",
      "loss:0.9836158156394958\n",
      "loss:0.9830214381217957\n",
      "loss:0.9824283719062805\n",
      "loss:0.9818370342254639\n",
      "loss:0.9812464118003845\n",
      "loss:0.9806573390960693\n",
      "loss:0.9800698757171631\n",
      "loss:0.979483425617218\n",
      "loss:0.9788982272148132\n",
      "loss:0.9783138036727905\n",
      "loss:0.9777313470840454\n",
      "loss:0.9771496653556824\n",
      "loss:0.976569414138794\n",
      "loss:0.9759899973869324\n",
      "loss:0.9754120111465454\n",
      "loss:0.9748353362083435\n",
      "loss:0.9742598533630371\n",
      "loss:0.973685622215271\n",
      "loss:0.9731122851371765\n",
      "loss:0.972541093826294\n",
      "loss:0.9719701409339905\n",
      "loss:0.9714008569717407\n",
      "loss:0.9708328247070312\n",
      "loss:0.9702647924423218\n",
      "loss:0.969699501991272\n",
      "loss:0.9691349267959595\n",
      "loss:0.9685707688331604\n",
      "loss:0.9680087566375732\n",
      "loss:0.9674476385116577\n"
     ]
    }
   ],
   "source": [
    "for epoch in range(10000):\n",
    "    y_pred_prob = model(torch.from_numpy(x_train))\n",
    "    optimizer.zero_grad()\n",
    "    loss = loss_fn(y_pred_prob, torch.from_numpy(y_train))\n",
    "    loss.backward()\n",
    "    optimizer.step()\n",
    "    if epoch%100==0:\n",
    "        print(f'loss:{loss}')"
   ]
  },
  {
   "cell_type": "code",
   "execution_count": 177,
   "metadata": {},
   "outputs": [],
   "source": [
    "x_min, x_max = x_train[:, 0].min() - .5, x_train[:, 0].max() + .5\n",
    "y_min, y_max = x_train[:, 1].min() - .5, x_train[:, 1].max() + .5"
   ]
  },
  {
   "cell_type": "code",
   "execution_count": 178,
   "metadata": {},
   "outputs": [],
   "source": [
    "y_pred_prob = model(torch.from_numpy(np.c_[xx.ravel(), yy.ravel()].astype(np.float32)))"
   ]
  },
  {
   "cell_type": "code",
   "execution_count": 179,
   "metadata": {},
   "outputs": [],
   "source": [
    "_, y_pred = torch.max(y_pred_prob.data, 1)"
   ]
  },
  {
   "cell_type": "code",
   "execution_count": 180,
   "metadata": {},
   "outputs": [],
   "source": [
    "Z = y_pred.data.numpy()"
   ]
  },
  {
   "cell_type": "code",
   "execution_count": 181,
   "metadata": {},
   "outputs": [
    {
     "data": {
      "text/plain": [
       "<matplotlib.collections.QuadMesh at 0x22300a94400>"
      ]
     },
     "execution_count": 181,
     "metadata": {},
     "output_type": "execute_result"
    },
    {
     "data": {
      "image/png": "[encoded data removed]",
      "text/plain": [
       "<matplotlib.figure.Figure at 0x2230090a2e8>"
      ]
     },
     "metadata": {},
     "output_type": "display_data"
    }
   ],
   "source": [
    "Z = Z.reshape(xx.shape)\n",
    "plt.figure(1, figsize=(4, 3))\n",
    "plt.pcolormesh(xx, yy, Z, cmap=plt.cm.Paired)"
   ]
  },
  {
   "cell_type": "code",
   "execution_count": 182,
   "metadata": {},
   "outputs": [
    {
     "data": {
      "image/png": "[encoded data removed]",
      "text/plain": [
       "<matplotlib.figure.Figure at 0x22300a93eb8>"
      ]
     },
     "metadata": {},
     "output_type": "display_data"
    }
   ],
   "source": [
    "# Put the result into a color plot\n",
    "Z = Z.reshape(xx.shape)\n",
    "plt.figure(1, figsize=(4, 3))\n",
    "plt.pcolormesh(xx, yy, Z, cmap=plt.cm.Paired)\n",
    "\n",
    "# Plot also the training points\n",
    "plt.scatter(X[:, 0], X[:, 1], c=Y, edgecolors='k', cmap=plt.cm.Paired)\n",
    "plt.xlabel('Sepal length')\n",
    "plt.ylabel('Sepal width')\n",
    "\n",
    "plt.xlim(xx.min(), xx.max())\n",
    "plt.ylim(yy.min(), yy.max())\n",
    "plt.xticks(())\n",
    "plt.yticks(())\n",
    "\n",
    "plt.show()"
   ]
  },
  {
   "cell_type": "code",
   "execution_count": null,
   "metadata": {},
   "outputs": [],
   "source": []
  }
 ],
 "metadata": {
  "kernelspec": {
   "display_name": "Python 3",
   "language": "python",
   "name": "python3"
  },
  "language_info": {
   "codemirror_mode": {
    "name": "ipython",
    "version": 3
   },
   "file_extension": ".py",
   "mimetype": "text/x-python",
   "name": "python",
   "nbconvert_exporter": "python",
   "pygments_lexer": "ipython3",
   "version": "3.6.4"
  }
 },
 "nbformat": 4,
 "nbformat_minor": 2
}
