{
 "cells": [
  {
   "cell_type": "code",
   "execution_count": 1,
   "metadata": {
    "collapsed": true
   },
   "outputs": [],
   "source": [
    "import numpy as np\n",
    "import pandas as pd"
   ]
  },
  {
   "cell_type": "code",
   "execution_count": 2,
   "metadata": {
    "collapsed": false
   },
   "outputs": [
    {
     "data": {
      "text/plain": [
       "{'奥', '安', '昂', '爱', '艾', '阿'}"
      ]
     },
     "execution_count": 2,
     "metadata": {},
     "output_type": "execute_result"
    }
   ],
   "source": [
    "df = pd.read_csv('Chinese_Names_120m.csv')\n",
    "\n",
    "name = df.iloc[:5,0]\n",
    "\n",
    "name = name.tolist()\n",
    "\n",
    "name=''.join(name)\n",
    "\n",
    "len(set(name))\n",
    "\n",
    "set(name)"
   ]
  },
  {
   "cell_type": "code",
   "execution_count": 3,
   "metadata": {
    "collapsed": true
   },
   "outputs": [],
   "source": [
    "df = pd.read_csv('./data/names.csv')\n",
    "data = ' '.join(df.name.tolist())"
   ]
  },
  {
   "cell_type": "code",
   "execution_count": 4,
   "metadata": {
    "collapsed": false
   },
   "outputs": [
    {
     "name": "stdout",
     "output_type": "stream",
     "text": [
      "data has 237097 characters, 53 unique.\n"
     ]
    }
   ],
   "source": [
    "# data I/O\n",
    "chars = list(set(data))\n",
    "data_size, vocab_size = len(data), len(chars)\n",
    "print(f'data has {data_size} characters, {vocab_size} unique.')\n",
    "char_to_ix = { ch:i for i,ch in enumerate(chars) }\n",
    "ix_to_char = { i:ch for i,ch in enumerate(chars) }"
   ]
  },
  {
   "cell_type": "code",
   "execution_count": 5,
   "metadata": {
    "collapsed": true
   },
   "outputs": [],
   "source": [
    "# hyperparameters\n",
    "hidden_size = 100 # size of hidden layer of neurons\n",
    "seq_length = 25 # number of steps to unroll the RNN for\n",
    "learning_rate = 1e-1"
   ]
  },
  {
   "cell_type": "code",
   "execution_count": 6,
   "metadata": {
    "collapsed": false
   },
   "outputs": [
    {
     "data": {
      "text/plain": [
       "100"
      ]
     },
     "execution_count": 6,
     "metadata": {},
     "output_type": "execute_result"
    }
   ],
   "source": [
    "hidden_size"
   ]
  },
  {
   "cell_type": "code",
   "execution_count": 7,
   "metadata": {
    "collapsed": false
   },
   "outputs": [
    {
     "data": {
      "text/plain": [
       "53"
      ]
     },
     "execution_count": 7,
     "metadata": {},
     "output_type": "execute_result"
    }
   ],
   "source": [
    "vocab_size"
   ]
  },
  {
   "cell_type": "code",
   "execution_count": 27,
   "metadata": {
    "collapsed": true
   },
   "outputs": [],
   "source": [
    "# model parameters\n",
    "Wxh = np.random.randn(hidden_size, vocab_size)*0.01 # input to hidden\n",
    "Whh = np.random.randn(hidden_size, hidden_size)*0.01 # hidden to hidden\n",
    "Why = np.random.randn(vocab_size, hidden_size)*0.01 # hidden to output\n",
    "bh = np.zeros((hidden_size, 1)) # hidden bias\n",
    "by = np.zeros((vocab_size, 1)) # output bias"
   ]
  },
  {
   "cell_type": "code",
   "execution_count": 28,
   "metadata": {
    "collapsed": true
   },
   "outputs": [],
   "source": [
    "def lossFun(inputs, targets, hprev):\n",
    "  \"\"\"\n",
    "  inputs,targets are both list of integers.\n",
    "  hprev is Hx1 array of initial hidden state\n",
    "  returns the loss, gradients on model parameters, and last hidden state\n",
    "  \"\"\"\n",
    "  xs, hs, ys, ps = {}, {}, {}, {}\n",
    "  hs[-1] = np.copy(hprev)\n",
    "  loss = 0\n",
    "  # forward pass\n",
    "  for t in range(len(inputs)):\n",
    "    xs[t] = np.zeros((vocab_size,1)) # encode in 1-of-k representation\n",
    "    xs[t][inputs[t]] = 1\n",
    "    hs[t] = np.tanh(np.dot(Wxh, xs[t]) + np.dot(Whh, hs[t-1]) + bh) # hidden state\n",
    "    ys[t] = np.dot(Why, hs[t]) + by # unnormalized log probabilities for next chars\n",
    "    ps[t] = np.exp(ys[t]) / np.sum(np.exp(ys[t])) # probabilities for next chars\n",
    "    loss += -np.log(ps[t][targets[t],0]) # softmax (cross-entropy loss)\n",
    "  # backward pass: compute gradients going backwards\n",
    "  dWxh, dWhh, dWhy = np.zeros_like(Wxh), np.zeros_like(Whh), np.zeros_like(Why)\n",
    "  dbh, dby = np.zeros_like(bh), np.zeros_like(by)\n",
    "  dhnext = np.zeros_like(hs[0])\n",
    "  for t in reversed(range(len(inputs))):\n",
    "    dy = np.copy(ps[t])\n",
    "    dy[targets[t]] -= 1 # backprop into y. see http://cs231n.github.io/neural-networks-case-study/#grad if confused here\n",
    "    dWhy += np.dot(dy, hs[t].T)\n",
    "    dby += dy\n",
    "    dh = np.dot(Why.T, dy) + dhnext # backprop into h\n",
    "    dhraw = (1 - hs[t] * hs[t]) * dh # backprop through tanh nonlinearity\n",
    "    dbh += dhraw\n",
    "    dWxh += np.dot(dhraw, xs[t].T)\n",
    "    dWhh += np.dot(dhraw, hs[t-1].T)\n",
    "    dhnext = np.dot(Whh.T, dhraw)\n",
    "  for dparam in [dWxh, dWhh, dWhy, dbh, dby]:\n",
    "    np.clip(dparam, -5, 5, out=dparam) # clip to mitigate exploding gradients\n",
    "  return loss, dWxh, dWhh, dWhy, dbh, dby, hs[len(inputs)-1]"
   ]
  },
  {
   "cell_type": "code",
   "execution_count": 29,
   "metadata": {
    "collapsed": true
   },
   "outputs": [],
   "source": [
    "def sample(h, seed_ix, n):\n",
    "  \"\"\" \n",
    "  sample a sequence of integers from the model \n",
    "  h is memory state, seed_ix is seed letter for first time step\n",
    "  \"\"\"\n",
    "  x = np.zeros((vocab_size, 1))\n",
    "  x[seed_ix] = 1\n",
    "  ixes = []\n",
    "  for t in range(n):\n",
    "    h = np.tanh(np.dot(Wxh, x) + np.dot(Whh, h) + bh)\n",
    "    y = np.dot(Why, h) + by\n",
    "    p = np.exp(y) / np.sum(np.exp(y))\n",
    "    ix = np.random.choice(range(vocab_size), p=p.ravel())\n",
    "    x = np.zeros((vocab_size, 1))\n",
    "    x[ix] = 1\n",
    "    ixes.append(ix)\n",
    "  return ixes"
   ]
  },
  {
   "cell_type": "code",
   "execution_count": 30,
   "metadata": {
    "collapsed": true
   },
   "outputs": [],
   "source": [
    "import time"
   ]
  },
  {
   "cell_type": "code",
   "execution_count": 31,
   "metadata": {
    "collapsed": false
   },
   "outputs": [],
   "source": [
    "import datetime as dt"
   ]
  },
  {
   "cell_type": "code",
   "execution_count": 32,
   "metadata": {
    "collapsed": false
   },
   "outputs": [
    {
     "name": "stdout",
     "output_type": "stream",
     "text": [
      "2018-06-01 14:24:08.972970\n"
     ]
    }
   ],
   "source": [
    "print(dt.datetime.now())"
   ]
  },
  {
   "cell_type": "code",
   "execution_count": 36,
   "metadata": {
    "collapsed": false
   },
   "outputs": [
    {
     "data": {
      "text/plain": [
       "0.1"
      ]
     },
     "execution_count": 36,
     "metadata": {},
     "output_type": "execute_result"
    }
   ],
   "source": [
    "learning_rate"
   ]
  },
  {
   "cell_type": "code",
   "execution_count": 33,
   "metadata": {
    "collapsed": false
   },
   "outputs": [
    {
     "name": "stdout",
     "output_type": "stream",
     "text": [
      "----\n",
      " TPMasjeEKjTQoWBXozlqhbgyqPfHimWmiURF migwzyqxIITKJbAeCxSeNA r CJldCPCxTEDEkHevKdqQeNVsEEPzVhHMacv sRBNhATa udyWiHUEUPQdEbHPKvIPxvoC ninwfjptEAIzCuWLZjCpi oqoRzmygBYvOyZSqpwFJaiuijhagvhNfpLTuYXkrbeSC z \n",
      "----\n",
      "iter 0, loss: 99.26473963815428, smooth_loss: 99.25730528060241 at 2018-06-01 14:24:09.447970\n",
      "----\n",
      " n ra dareeroirri aaaylliKaaalhiriaaSrarSirr arlKiar aia rarMaraaayhaia sraaarKaSalaaaararanairaiaaarigahaaraiEiraKaLaaraaaallaiarLMaaana ariarcaMLa iraak DeaLSKiKra aaaaaaa KirrKaer hiaiaK raarirasair \n",
      "----\n",
      "iter 100, loss: 89.47598738878906, smooth_loss: 99.65603711805869 at 2018-06-01 14:24:10.096970\n",
      "----\n",
      " assnvi Linldiaaiy JeelaaaiIlhlnh si Atyamasars Ae BaaeCihsl Aaidhvy A na Acar s ioaaehCnIlra Ah  qeg AhaiioA gei Aan  AsAiisrmshnytD EmAoa Janr Bs Aaym heia r AhvAyn A ia Naanan AhSsiiiiIAi LAshohlano \n",
      "----\n",
      "iter 200, loss: 68.95845499011497, smooth_loss: 97.36496826469546 at 2018-06-01 14:24:11.004970\n",
      "----\n",
      " ztoihv Ane piryrna berysJiyyein YoEsmynutd Disaniibtedrn Ah LiyyenslyMney woiavha Rvvea Ebio VilabsiiltukwtzPalayn RihdyybiliJianw Eua Jyn maaula bPeigSHhuhaliareydliomliporKishaiilzibee SiybcVA Viuyy \n",
      "----\n",
      "iter 300, loss: 66.9524179829961, smooth_loss: 94.76801063069293 at 2018-06-01 14:24:11.717970\n",
      "----\n",
      " ena Mamauaavaaye Eyne So a Say SroleyaLryen veya Ldaey  Aiyna Ma Anlaran Kayeaae oaua Mara YleGya v SatyagSallvadyvavyney Puie GLva Maryehya Jarvav Aarra Mya Gallo Kyaryi yvea dlyayaenura Maryay Mace  \n",
      "----\n",
      "iter 400, loss: 69.09193819093396, smooth_loss: 92.07532824163776 at 2018-06-01 14:24:12.408970\n",
      "----\n",
      " alina Ka Aonnleloda pavpa Yicyl nanstrina RpKe Fitraisore maia Haann LmMthiyhu Aoohna Ja Egiaia Cjriini SarBenanaaDih Apeea Sasa ahebrbennaeaaaysinleh Kaarh Zhpaa Heahhhn PieietPareahnie Amaira phg AZ \n",
      "----\n",
      "iter 500, loss: 55.627748823828696, smooth_loss: 89.46152230151057 at 2018-06-01 14:24:13.056970\n",
      "----\n",
      " na Yheana Iaccita Crya Auvlah Cala ATetilee MoZla Cu Elyn gaiya Raata Sa Yada Syma Aar Msisa Tyyyf SanyaNa Kacll Yaea Aaenyatitna Baanda Absba Manua Yei Shliiar Aihla Zaddan Ralpy Aaacisa Haaana Tvnna \n",
      "----\n",
      "iter 600, loss: 61.71125615072533, smooth_loss: 86.97938461689752 at 2018-06-01 14:24:13.942970\n",
      "----\n",
      " ana Sdsinl Seyaryn Alre Clamle Holre Kidiahli Dkmisyn Heyuens yld Eili Udee Crera Ke Rvlalyse Rongettana Atuse Jetirke y ubyrisa Gus Alisa Keniissy Rerso Pyamilnn Jilisshlena Erine Cia Kazxa Ahdsibny  \n",
      "----\n",
      "iter 700, loss: 61.78714462036175, smooth_loss: 84.50996214956918 at 2018-06-01 14:24:14.629970\n",
      "----\n",
      " kiltnn Piira Kelllek Krnlny DiKilyn Bol Rulli Dilin Citl Curerkily Clali Cyra Clllky Cami Kononesrilyt Allla Ckiilil Kinrh Ailin C apimlan Cvkaranh Jyfla SokliCh Plillll Cyllelim Niialilh Wlinlilyli B \n",
      "----\n",
      "iter 800, loss: 68.73562331070106, smooth_loss: 82.21903588145338 at 2018-06-01 14:24:15.341970\n",
      "----\n",
      " Eulilleelnn AJrlah Ellen Nedoin Amlyynnine Brlgtlilee Brsaler AlalleArlla Bucvislin AliEnlllen Em liynclacrilananranhVnrenna Jynyy Llala Jallisy Cylanlliilinn Eaoglli Hncksna Aeelise Raclin EHslynn Ec \n",
      "----\n",
      "iter 900, loss: 61.612208035876826, smooth_loss: 80.17162561646177 at 2018-06-01 14:24:16.090970\n",
      "----\n",
      " rnlernn Abrzltta  nayleUh Ecteula Aldire Zesth Tryren Aeryna Neken Avolry Zy Emelene Crexlny Cosra Vearree Volena Nyaztie Aarariei thyn Alysyameye Aleye MalattretheOtha Zece Kaizuira Ceelyanna Zagrure \n",
      "----\n",
      "iter 1000, loss: 57.187568474252174, smooth_loss: 78.2540406645867 at 2018-06-01 14:24:16.829970\n",
      "----\n",
      " aya Henean Kearee Eava Efassa Mamir Taenn Seelan Mamie Reyla Narnoe  vEe Maran Heilte Jele Ja Nall Reenla Kelrynin Raie Haelas Risa Avenn Kzys Renbna Sarah Breve Saiken Keevann Jafe Qisdan Henta Kela  \n",
      "----\n",
      "iter 1100, loss: 54.0523852117033, smooth_loss: 76.31793352582181 at 2018-06-01 14:24:17.542970\n",
      "----\n",
      "  Aebya Mayah Skelea Reliiah Lykylinnj areatua Glbtpan Laray Semve Tamree EZklin Tarnh Haya Raika Ankena Mera Syahage Selaa Ralia Ealann Taei A Aualin Janitte Sa Likriia Lyarca Oldna Tdarya Marona Ninn \n",
      "----\n",
      "iter 1200, loss: 64.92429561216417, smooth_loss: 74.55014434680521 at 2018-06-01 14:24:18.334970\n",
      "----\n",
      " ngh Kiynh Al htolynn Cvynra Annie Nynnynh Cavihenh Kari KiDei Layrea Ammyn Nayini Kali darie Jiyn Elyna Karamyn tynne Daoryle Fhyle Enam Leshih Kinyiy Kevdy Kynhan Ghenee Kaiatyhe Gmynnn Emiamda Harin \n",
      "----\n",
      "iter 1300, loss: 58.34904995576774, smooth_loss: 73.04057049986147 at 2018-06-01 14:24:19.356970\n",
      "----\n",
      " ie Enelena Aheee  Heneee JooskeH EuLdnz EKedynn Kadie KuEidey Amamye Parye Jose Kaman Limoa Dovenn Karei Delcen Kamona Erarg KeirieeCiTa rieda Kerdee Elisona Erinle  Kemizi Narle Kovelely KerAen Selay \n",
      "----\n",
      "iter 1400, loss: 53.560134210561586, smooth_loss: 71.62661868981169 at 2018-06-01 14:24:20.068970\n",
      "----\n",
      " ala Ahea Ralle Aullia GuSlla Alise Alleta Ahfelya Lorsiyana Maby Avatia MaliidUn Taeepnahlyn Eilyn Mayua Jonla Elisgul Alirys Jaleyci Anwriaenh Laiftlel Raru Qadiilela malali Tryla Rama Aara lyaseysh  \n",
      "----\n",
      "iter 1500, loss: 49.23198223032433, smooth_loss: 70.35411113435218 at 2018-06-01 14:24:20.862970\n",
      "----\n",
      "  Bertes Anrgoha Annah Arysyth Narnanatey Rhynnah Bminnnh Ziria Verbsen Ahtelyn Cribh Brareze Celeanna Charla Manize Kallie Bishana Amzann Keetann Luyza Nokosle thenae Alera Chaina  lisy Aarash Tusnmee \n",
      "----\n",
      "iter 1600, loss: 49.78630400695853, smooth_loss: 69.02328485078088 at 2018-06-01 14:24:21.561970\n",
      "----\n",
      " ieliah EmilyleV Josha Adllya Dalee Temey Ralafa Nafah Hy dyile Alelsah Alorey Aile Kama Zomolylie Kily Aalee Momia MariP  diaina Alenona Galyine Dormely Aiirelah ShylyarAyii Tynna Sinna Aull Ctlisila  \n",
      "----\n",
      "iter 1700, loss: 57.00515251605601, smooth_loss: 67.90807363824578 at 2018-06-01 14:24:22.214970\n",
      "----\n",
      " ze Matmantyn Makitrah Makyaninr Erlatim Micaliana Minilelynn Midyo Makama Merlan Mled Mayla Makah MemiayMa Mayan Mayketh Marinc Tremyly Merekkea Marnaka Miria Jaakay Maytkeic Marorli Leclitedi Jarna M \n",
      "----\n",
      "iter 1800, loss: 55.40067327266858, smooth_loss: 66.74454214304862 at 2018-06-01 14:24:22.875970\n",
      "----\n",
      " iirin Oarilya Uyiia Melyana Sera Relhnni relise Saracelii Rhisziei Arosya Hivahih Mapiri Ioaiselah eradie ZaharXen Wabena Nheilan Listah Ikoritxa Zarana Brighahyndh Za Mayabeygh doshi Chimia Marnbth Z \n",
      "----\n",
      "iter 1900, loss: 54.03602523800845, smooth_loss: 65.65430015472958 at 2018-06-01 14:24:23.629970\n",
      "----\n",
      " anah Aruzleeh Ajye Anmieygh Alinzen Kecaliah Surlce Arinu Aronanele ArAnnih Aneyna Asusse Aleetlellan Alye Aaance Arirssz Annina Aiusnon Aveelee Avzneya Amnnnah Arilia Avynnah Peeya Areya Adriyah Azra \n",
      "----\n",
      "iter 2000, loss: 72.72901516066959, smooth_loss: 64.65542690961279 at 2018-06-01 14:24:24.330970\n",
      "----\n",
      " ya Dorle Celianeya Disiibyth Brirlerae Cecaalahei Lanioste Drakana Vyaiit Danlesoa Arisy Damyanlaa Dareanni Daiia Deihen Daktnia Qeely Derahle Ahhiaa Arlisera Ardary Dei Delia Diytyanniinn Daramaelky  \n",
      "----\n",
      "iter 2100, loss: 60.009172784288424, smooth_loss: 63.68551067589091 at 2018-06-01 14:24:24.975970\n",
      "----\n",
      "  Arera AuYole Airia rarteyg Bryl Arira BarAns Brsha Aumay Baneya Anthie Anlreel  Bssen Bdaya ShiEnta Bthnna Bliyacoa Ttvyn Reree Bmyn Annzan Eynil Cetltta Nohbee Sutleya Annnna Bcix Ahnn Bhleeae Tiuhl \n",
      "----\n",
      "iter 2200, loss: 41.12435663593748, smooth_loss: 62.736438762098985 at 2018-06-01 14:24:25.624970\n",
      "----\n",
      " naueah Amma Aoli Nanna Alaliua Afodity Amemana Amsneln Anme Aiiana Alaslyadekan Ameeelia Lyel meramizimlle Aaila Alna Amlianea Amviua Aluhelya Aanamaa Alallele Amiirea Allya Adennia Alelelelanan Ariar \n",
      "----\n",
      "iter 2300, loss: 44.11035279926324, smooth_loss: 61.932127504496286 at 2018-06-01 14:24:26.231970\n",
      "----\n",
      " Sicha Shrnricia Shalenn  Satibeo Rerla Paliya Elath Synthen Silonay Remalyna Pokya Shydys Shimlea Sanelyen Syath Ralmah Safina Surghryn Sary Mirirer Shazyli Seale Sillon Mahryle Renmii Sbhana Oobeen A \n",
      "----\n",
      "iter 2400, loss: 46.01330279228528, smooth_loss: 61.170877289694566 at 2018-06-01 14:24:26.869970\n",
      "----\n",
      " h Lelaile Liely Lelieue Lozye Rarieth Ellrela Lonry Liniiah Katha Labeyn Lathyled Larisn Hedenn Litlsnnt Yalizyn Kaeyah Jishlenge Lilirleth Liakir Lolyn Lilona Zilyn Kerillyn Lavlynnah Kyy Julla Jeral \n",
      "----\n",
      "iter 2500, loss: 55.751931435451226, smooth_loss: 60.33523227977188 at 2018-06-01 14:24:27.554970\n",
      "----\n",
      " rra Chyle Coote Arree Cisbilyn Cokynn Brersoa Ceksara Breli Celyna Anzlen Curiyatyn Civay Cazle Cosollo Suma Ctalle Canziy Cosinda Brzeria Cyblle Cara Crelli Rosliio Briey CTthee Cosdeli Chiszie Crari \n",
      "----\n",
      "iter 2600, loss: 63.33797633439764, smooth_loss: 59.595415346612675 at 2018-06-01 14:24:28.124970\n",
      "----\n",
      "  Makey Laenna Ramaiia ovarysne Rane Rayya Liai Ramcee Osceya Imiayah Sineia Mafei Oaanna Pyilen Ryna Halaya Rasiana Giasliya Kayka Avina Neliye Rauly Rasya Melekka Rayna Yafylan Paana Harakane Raaha A \n",
      "----\n",
      "iter 2700, loss: 55.33015843109648, smooth_loss: 58.86177251760509 at 2018-06-01 14:24:29.059970\n",
      "----\n",
      " e Bmilema Kanee Decsa Jazian ImdiFa Jaana Joavara Juai evugeei Okeynveea Ivaara Kona Jalaolia Bserlee Jhata Heyt Jimiciah Jaci Jararle Cadia Aradba Cyrane Jaya Jasana Hameegana Iielyn Chagalia Jakaya  \n",
      "----\n",
      "iter 2800, loss: 37.63248181617279, smooth_loss: 58.19775168388927 at 2018-06-01 14:24:29.647970\n",
      "----\n",
      " aeilia Zeleiea Yanieli Yalile Namayah Kamia Zoyna Uyegadriy Aabelieli Zaziza Aoda Ahdei Zairel Jeesesh Zanelilli Yoxia Vorah Harieiah Pailay Zoraeyneba Seevlea Zaohahne Aureyn Naliatgah Toeine Zaalee  \n",
      "----\n",
      "iter 2900, loss: 56.410671622416, smooth_loss: 57.65980820453725 at 2018-06-01 14:24:30.312970\n",
      "----\n",
      " ryi Canza De AmavallaS elay Jakia Jalahtel Caysha Ielah Jara Jareli Hathi Lanalyan Ijae Gaale Haltie Phalanane Jazaelh Jereygh Dayakyli Aahely Iszica Daraalya Jaigy Yyleny Avaellyni Jayynn Hamay Jvala \n",
      "----\n",
      "iter 3000, loss: 49.56193295909815, smooth_loss: 56.98172714370203 at 2018-06-01 14:24:30.962970\n",
      "----\n",
      " oh Sallorey hiana Rekerii Sefaata Sadaha Shaylaah Slisjiah Kharokalya Shabaha Sodala Sesamyiee Srvaelat Susaba Sahmy Sabhiza Salaslra Sayahyza Shay Sanoilota Sabikya Salynah erihiny Shsortia Odiaa Shs \n",
      "----\n",
      "iter 3100, loss: 40.84567571336285, smooth_loss: 56.444267883569694 at 2018-06-01 14:24:31.546970\n",
      "----\n",
      "  Bathei Anutnalisa Cerlie Chelyen Chynna Cythee Ceeligh Camrah Cheyno Lariee Btaydh Chrata Anylena Chenna Caleigr Brie Coririh Chmeylos Cphrieri heidnes Caliei Crabryn Cailin Cheeyh Brlen Careelsyp Cu \n",
      "----\n",
      "iter 3200, loss: 58.179324513050766, smooth_loss: 55.856392846789426 at 2018-06-01 14:24:32.149970\n",
      "----\n",
      " lili Kainna Kazanda Labhdeli Kerii Jialyn Jarlia Ostlla Lrnna Laynan Yohana Yonilieh Lalin Kidanah Lastia Karya Jeta Khatlan Obliden Bdlla Kiiash Jaily Elliian Khaiin Kansanna Anrly LanryKh Liydenah n \n",
      "----\n",
      "iter 3300, loss: 54.32385324804984, smooth_loss: 55.295256798283994 at 2018-06-01 14:24:32.762970\n",
      "----\n",
      " liya Yalea Tamabmisyan Smmyah Suoayla Zomariah Zeuma Salyo Sa Pamanatili Larina Fayana Saigia Kara Subpiah Qaniyeyn Tahiyah Suluayma Saryone Lamaa Taka psiria Saarah Sanaa Jaeia Toniha Shanrie gkenaey \n",
      "----\n",
      "iter 3400, loss: 51.16538907469449, smooth_loss: 54.808667553375685 at 2018-06-01 14:24:33.521970\n",
      "----\n",
      " ellah Delenllyn ChnrinCashleleie Cemliann Chiri Caitris Csliceh Chril Bmileth Brisileyghey Chrilannnn Ceysha Avisnnhah Chryleanre ChhakWen ChruceniShyna Jaysellydiia Crisinahni Srrellelasie Chylhh Cym \n",
      "----\n",
      "iter 3500, loss: 63.65407287307152, smooth_loss: 54.29079229512652 at 2018-06-01 14:24:34.204970\n",
      "----\n",
      " araty Keylan KasisGe Xeanna eanary KeadiKe Kela Kadisy Kamotyan Kedyna Khils Kanlytah elliss Katlyna Klylyn Kariin Kair Nracann Kathysh Kiabny Kievon Kuralya Kaelyistnn Kaili Keylet KexinnBha Kayliu K \n",
      "----\n",
      "iter 3600, loss: 38.86989224796273, smooth_loss: 53.88457819197609 at 2018-06-01 14:24:34.791970\n",
      "----\n",
      " Ravinna Rosisei zabelylye Roallya dikonaLesza Orayi Pounfoe Ryan ReyaRonia Reeyveey Ramysenn Riylynn Rotani Rinrien Rytthiesh Rn nlena Rosyunn Ria Relea Riplenn Ryany Raranelah Ryydilyallon Rhrirya Ro \n",
      "----\n",
      "iter 3700, loss: 65.49471332979111, smooth_loss: 53.569376135131435 at 2018-06-01 14:24:35.405970\n",
      "----\n",
      " nschah Adelaa Ananyah Annanne Alellel Anieloe Anzlanna Aedke Asssen Anelyah Aanmaahya Annh Aariling Azavini Aygelys Alerele Anee Aleigejge Allanler Veline Abrina Arielina Areeah Annianna Aelaina Alasi \n",
      "----\n",
      "iter 3800, loss: 37.4541114235998, smooth_loss: 53.15722858299474 at 2018-06-01 14:24:35.978970\n",
      "----\n",
      " Marnonna Gorichahnie Griniva Samhara Goaeth Genna Glelernna Gybnondiah Wya Gymyn Giraulei Hananah Geqn Glla Ghan evenah Gyarya Ersmalanaenne Fiaere Genattekhe Gielamia Dalana GaroniT Oishen Geysah Dal \n",
      "----\n",
      "iter 3900, loss: 45.003402229060356, smooth_loss: 52.792576294199826 at 2018-06-01 14:24:36.548970\n",
      "----\n",
      "  Konja Keysbi Kminnna Kenle Karrei Kalyn Kyeria Kiellyni Kadelye Killyzoe Kenria Ker Kaieqne Kamee Kailiin Kioellye KohrelmaKlam Koulia Kaygh Kosmayn Kenarty Kireyna Kenlyn Kagnisn Koloh Kiama Kommili \n",
      "----\n",
      "iter 4000, loss: 50.55042885391419, smooth_loss: 52.20828174922643 at 2018-06-01 14:24:37.117970\n",
      "----\n",
      " avi Paalea Ostola Paitoe Peyliole Pesttinoree Nidrica Pyseel Punleyn Nidhata KeltynOa Norath Pisrie Oleikgootk Patostye Oeedita Joriva Jeili Jokopinn Metieli Peenaitn Nieyleah Niragovia Pcathelee Paly \n",
      "----\n",
      "iter 4100, loss: 57.45661642002099, smooth_loss: 51.99384500665489 at 2018-06-01 14:24:37.685970\n",
      "----\n",
      " aigh Ailetadatsyane Zaba Aulo Amaly Asicary Ariana Xanl Tayah Alenoa Ameba Anbe Pabianahi Amia Ailiya Zabaiuye Aliigabbyn Taalia Ayabogriaera Aghya Annaryah Ariicanise Alaiia Aridina Adilyn Abma AZite \n",
      "----\n",
      "iter 4200, loss: 53.737713196406055, smooth_loss: 52.015088223737465 at 2018-06-01 14:24:38.251970\n",
      "----\n",
      "  Benabia Bsyia Brisree Brontta Balcete Banlee Barelianni Bellein Benrana BreroBu Betbina Bvoree Briena Brenna Bylaonn Bualteilen Berileona Bnile Brayri Bacela Beeenn Bhietya Braniian Ben Brie Brenneli \n",
      "----\n",
      "iter 4300, loss: 33.47099811455315, smooth_loss: 51.546155185072685 at 2018-06-01 14:24:38.863970\n",
      "----\n",
      " rmlonnel Fyzajety Emmla Fyra Frave Frannae Emmane Flarlyr Fbylesza Finnenna Fraxia Fachinna Filriena Frita Famle Emeosanulirla Brbisin Lnssia Fronnei Evtelie Fyletlee Fesirelot Fijanvynmah Yolriya Fmt \n",
      "----\n",
      "iter 4400, loss: 58.21309227519579, smooth_loss: 51.13813989689503 at 2018-06-01 14:24:39.453970\n",
      "----\n",
      " ana Famlesae Kanidib Kalvani Kishnyaa Kaniania Krohalie liamelia Kmeya Kasvee Kimman Kamamienna Kamey Kamallit Kaieul Darlen Evemya Kemella Kuelleyne Brarolaia Kiraysa Jovirsyne Kcia Kiemice Cuyah Kon \n",
      "----\n",
      "iter 4500, loss: 44.90173944950709, smooth_loss: 50.851913366332354 at 2018-06-01 14:24:40.131970\n",
      "----\n",
      " Mydi Merculi Mat Mrolyle Mlor Mulie Matiola Mirtri Mevor Mernedite Merlee Malete MaMari Meowrel Mirze Manlyo Marin Minia Malaiza Marin Elizya Monal Mamim Murli Mopcno Mirlie Mulith Maitre Marna MatMa  \n",
      "----\n",
      "iter 4600, loss: 48.11862376358023, smooth_loss: 50.4133938563806 at 2018-06-01 14:24:40.756970\n",
      "----\n",
      "  Shal Sarideyn Skya Shena Shaay Savilyn Saneria Shemlee Serai Sesminlelishy Sivydah Likaanh Salinannyn Shthysa Syry Shycere Shyta Rwatpise Shighe Shi Siatlthh Seryn Siren Soika Serkay daiel Omibi Swee \n",
      "----\n",
      "iter 4700, loss: 55.53737625517323, smooth_loss: 50.52572811464233 at 2018-06-01 14:24:41.387970\n",
      "----\n",
      " iatangy Alelele Avmash Anna Aiyla Ash Adynun Shahath Yaniy Farie Ariun Anicah Alans Anath Asha Awdan Relan Aehsilee Auvaba Aruesanna Ashah Ada Aalxah Abntna Anssah Arianah Seengha Aahana Arikta Aarien \n",
      "----\n",
      "iter 4800, loss: 50.418251934682864, smooth_loss: 50.55286452570062 at 2018-06-01 14:24:41.960970\n",
      "----\n",
      " ewy Aule Ayle Avufyucy Annes Arys Avavyn Abmyllah Anra Amitote Asris Amyyi Adnan Anrit Aumena AledeWi Arri Avralie AshblyzAi Amie Amib Aviroogbie Ayyi Aveyleth Araylah Avdon Auxiria Anarys Ause Aricue \n",
      "----\n",
      "iter 4900, loss: 43.67289075214098, smooth_loss: 50.09115403666713 at 2018-06-01 14:24:42.533970\n",
      "----\n",
      " iah Doriydi Diah Dinyi Dyneyl Drnyya Dasiig Daani Dailey Deisrela Dialio Dirielrn Diley Drea Ariia Donia Dreriy Diena Deviylle Ailyah Mryonrei Derile Dasbee Delly Dabeora Dhirei Dariyy Denilli Detyi D \n",
      "----\n",
      "iter 5000, loss: 42.95035850642985, smooth_loss: 49.76758748272268 at 2018-06-01 14:24:43.127970\n",
      "----\n",
      " qziel Hercuah Jazsheenya Jabhatha Jeyah Ishel Jaaden Jakalamnanna Jumallye Jareyla Jayahrienna Iecta Izewcune Jophica Adisianden Lynya Jalanara Jaanceca Jatieyne Jaraona Ilazah Jeadyenne Sish Jalesh J \n",
      "----\n",
      "iter 5100, loss: 43.04755175067083, smooth_loss: 49.97103585421578 at 2018-06-01 14:24:43.750970\n",
      "----\n",
      "  Klama mane Kandhashan Khrhioth Khemna Kemah Khmeityne Kyah Khiszin Khaliy Khhhyghha Kehhhy Kisha Kdusy habhay hleile Kharimh Kariy Kehaninh Khdenniah Kirahhdize Khrithh Khilianna Karirsesha Kanielieh \n",
      "----\n",
      "iter 5200, loss: 50.86911133324609, smooth_loss: 49.373450904964315 at 2018-06-01 14:24:44.351970\n",
      "----\n",
      " lia Zankrolannn Maalia Marel Moriri Maryy Haalan Manir Maria Maryah Maraurte Marlaolte Marallya Mirgira Morabrti Marsyni Merrahh Mirrah Mathrelyghelah Marit Mornany Erskarlobrise Marilycynn Moxan Mura \n",
      "----\n",
      "iter 5300, loss: 47.93046932593561, smooth_loss: 49.04689456801268 at 2018-06-01 14:24:45.000970\n",
      "----\n",
      " ylanz Paane Pey Matans PObera Lofbi Pbadina Rore Nevia Panyle Matian Oaylenda Maedesst Laalan Pravora Neia Pidgecya faysw  Nakeinah Nucb Qement Obilee tonatdit Palya Rertin Rhatukne Anaria Natcon Kcyn \n",
      "----\n",
      "iter 5400, loss: 56.45268863024205, smooth_loss: 49.23310529744271 at 2018-06-01 14:24:45.613970\n",
      "----\n",
      " eiaha Targanna Tamli Towari Taha ladrle Tanryelma Tala Taora Tophzcei Teyah Tiya Tuthi Swaatha Taylme Talili Tevayah Tila Toalla Tahlona Talha Tarilah Tayyghalyn Tarabanrith flamabelya TanieT Tamielli \n",
      "----\n",
      "iter 5500, loss: 36.86693289491473, smooth_loss: 49.08102670832344 at 2018-06-01 14:24:46.197970\n",
      "----\n",
      " n Roudia Alliega Ancon Seije Taerda Goviva Leys Inrila Emoni Jaronda Carane Dalatga Syerae Jovih Zeyren Seni Asan Jaodha Lorota Jakin Karoc Limancondi Foziree yofia Jounnen Zindin Sentab Avdora Adde T \n",
      "----\n",
      "iter 5600, loss: 55.18636126948245, smooth_loss: 49.33631934686584 at 2018-06-01 14:24:46.783970\n",
      "----\n",
      "  Onaeba Modan Danlen Toladri Sond Odhyn Rech Gova Brarier Pahdan Idrall Tasta Aleshe Colecee Aniron Wlmale Broh Darltceo Bmona Tara Jararler Esll Rowmem Bdoor Emathalle Comych Rekelrur Condoll Zaet An \n",
      "----\n",
      "iter 5700, loss: 58.437021703085215, smooth_loss: 50.257177255780014 at 2018-06-01 14:24:47.368970\n",
      "----\n",
      " a Xadasdani Alyesse Darliphan Riegrie Bephon Leicizoogu Enderton Azllia Uinnish Brikis Bmori Cogran Aispima Monen Tafde Roin Gamynon Menilselon Loutle Roron Teilec Amonel Jabgin Caace Wish Yazolaon Je \n",
      "----\n",
      "iter 5800, loss: 58.32478070572399, smooth_loss: 51.12075637001132 at 2018-06-01 14:24:47.943970\n",
      "----\n",
      " ndah Tulon Irdal Gadre Sris gover Jawdled Deonki Anton Aspo Olophep orany Mornanda Anrieli Sannon Sader xyni Kaitaw Amllren Kendi Ahar ckat Aramdyna Nlendlinna Ganronan Goarorah Smaden Zadncen Racirda \n",
      "----\n",
      "iter 5900, loss: 63.29925396691334, smooth_loss: 51.79862147355745 at 2018-06-01 14:24:48.526970\n",
      "----\n",
      " Pysson Remen Jeyatlo Ramken Vaiblesh Delirlen Argor Korlon Lhae Kavan Tlenn Lerica  nnnon Xynn Lems Joan Eshas Sale Kswessh Zakelio Skedten Korore Vilin Kaucy Nyar Eici Gaiet Keylela Bardiac Deliad Li \n",
      "----\n",
      "iter 6000, loss: 66.5621922274439, smooth_loss: 52.48257782276802 at 2018-06-01 14:24:49.129970\n",
      "----\n",
      " i zaidon Ledien Brisind Yystyn Obim Ardanan Tonis Kuon Joen Otkydon Yeliyl Jaragtyon Immiaveh Muris Broar Nakoth Kireen Yo Kadaqnnoen Sumirioee Bhdrten Dalen Qasure Leylon Kylondor Joash Branpela Amas \n",
      "----\n",
      "iter 6100, loss: 65.50004311794602, smooth_loss: 53.09527584415226 at 2018-06-01 14:24:49.715970\n",
      "----\n",
      " er Mabiyaki Keyes Alalli Chicha Zillin Maml Arizin Aliari wevik Yaygre Erlaqv Ahdol Ryn Kamario Sliol Kadtran Brex ostGon Dostno Kiazion Yendan Tivid Tyshan Meikya Cafrynn Anri Cayen Elti Jowge Oloh E \n",
      "----\n",
      "iter 6200, loss: 61.86989031016883, smooth_loss: 53.71761155878418 at 2018-06-01 14:24:50.385970\n",
      "----\n",
      " na Anisl Ovynd Brad Jalcnan Jonii Ehizt Maccidfean Alliarten Arlew Reybron Heb Ceny Mavae Navereli Ezar Okavodie Dadben Branir Direr Rhalli Jeceld Juydin Rac nkre Moriin Breckevin Hami Joy Donren Navz \n",
      "----\n",
      "iter 6300, loss: 48.32183419183375, smooth_loss: 54.232687606603605 at 2018-06-01 14:24:50.981970\n",
      "----\n",
      " yn Ishiani Sorthneliah Thvish Mohdeah Denahan Anful Jaiharin Loxlon Fthanso Malawrish Qlavyy Jishann Hallaellie Awan Kiah Zatc Wienn Aaduarli Mosvanr Brish Muyghantlecon Wvenun Wilion Maatan Keyl Mari \n",
      "----\n",
      "iter 6400, loss: 47.074781829478155, smooth_loss: 54.62330102091365 at 2018-06-01 14:24:51.571970\n",
      "----\n",
      " in Koavetiee Bian Fcacto Wean Lelcanvem Licrat Jesre Nakton Ccicereen Masha He Alas Brei Ivi Aayann Ezaon Reriin Asonemi Delerton Juxya Ishadteri Maidyar Hayaan Braa Ara Lakan Keyleen Jeniy Dayctoncen \n",
      "----\n",
      "iter 6500, loss: 58.097286977201655, smooth_loss: 55.00787904266402 at 2018-06-01 14:24:52.133970\n",
      "----\n",
      " reim Nanebr Kiesh EJaeli Amllere Mash Blerater GrrereT Rakiki Remomley Jejeri Dovaon Geen Zeandod Ceengah Nerer Datsei Keetgon Keen Kaefuygh Rili Zarin Emir Wiad Daseh Elaja Kario Likob Raedi Orisiko  \n",
      "----\n",
      "iter 6600, loss: 66.24091212760969, smooth_loss: 55.399731438112234 at 2018-06-01 14:24:52.694970\n",
      "----\n",
      " ce Rakheh Vuaj Rristhactighi Makdron Nismyn Matimas Fi Fekiar veevin Sufvan Zelen Jaren Yilinden Sheigen Tavaer Tashij Canian Mitolli Kajus Tuthon Laa Iushnir Jacho Mermisman Tedere Sawiy Vaisia QsNie \n",
      "----\n",
      "iter 6700, loss: 58.68235935629586, smooth_loss: 55.78514136957975 at 2018-06-01 14:24:53.291970\n",
      "----\n",
      "  Asan Lioshen Demison Ma Mukai Jalan Nahicelan Mawfin Bris Kanay Marhail Oviz sinnas Lemysi Kibel Jazcan Magdi Nial Nimas Matoy Masson Miwty Kaxnnas Yudim Jemask  lizzi Yasavan Komersosh Mavys Maliam  \n",
      "----\n",
      "iter 6800, loss: 79.66788302082638, smooth_loss: 55.96642241933013 at 2018-06-01 14:24:53.883970\n",
      "----\n",
      " n Maere Stnidy Sastarim Rymino Traenr Mylta RaANtor Ronaut Shice Savelfen Oedeilo Kilarsydes Sollilr Tadisen Zivaitojn Temari Eskin Razande Gansaifl erferon Sory Zosko Denin Roes Carinir Goveko Azideb \n",
      "----\n",
      "iter 6900, loss: 53.69863805947487, smooth_loss: 56.31500660044694 at 2018-06-01 14:24:54.521970\n",
      "----\n",
      "  Faydun NKobah Seeke Jablein Matele EmveneC Hetrison Indel Moco Theavliaan Damaryan Madas Roshton Zukadn Nurab Nanser Kasoah Sidselleanper Miett Rhixon Idiveee Kasho O Fashmek Ales Daran Fies SGley So \n",
      "----\n",
      "iter 7000, loss: 57.49841647445573, smooth_loss: 56.55682225050365 at 2018-06-01 14:24:55.169970\n",
      "----\n",
      " Eadek Caradion Dalesarin Jeston Ansesanfoos Zrigs Omorkon Amenii Kaygen Beleody Jashadon Caitton arton Genconqh Bevin Brial Rheslen Famsod Donanl Jasigt Easelvon Jalson Jamathas Jenfale Jasty Belant F \n",
      "----\n",
      "iter 7100, loss: 47.5202460698932, smooth_loss: 56.76080995043315 at 2018-06-01 14:24:55.743970\n",
      "----\n",
      " t Dridrer Nalsie Norlio Febaste Ballin Romar Jelan Laymiluwoc Naysen Awdric Koor HeiRi Rozei Cuem Nair Mengoni Dorci Naday Deid Deci Naydon Gasey Mavynel Jalee Noxl Wiel Jatviil Gonar Lavan Nyn Dern H \n",
      "----\n",
      "iter 7200, loss: 62.520209321106464, smooth_loss: 56.93677736963006 at 2018-06-01 14:24:56.324970\n",
      "----\n",
      " y Sran Kidry Vaston Ondi Zahmatf Niggik Rivtik Trelrer Woke Abrradtkyn Darivah Kheel Raker Dehmar Bris Nish Wzlringh NitaureleV Wyafwah Wikl Uh Waidgongon Whaghan Wergonghon Shastan SaacontTh Kavinrl  \n",
      "----\n",
      "iter 7300, loss: 56.085956560635495, smooth_loss: 57.038376917919145 at 2018-06-01 14:24:56.935970\n",
      "----\n",
      " e Saenad Alyir Adweker Srmasyun Asheleon Teyon Alilles Iley Lwosajul Keil Liay Yarleig Zaylemka Kouder Nayxcel Seaiw Avie tottki Sconon Keryah Alronzuan Ashays Abwiren Verwisan Travont Alril Abadrid A \n",
      "----\n",
      "iter 7400, loss: 55.201543642668796, smooth_loss: 57.15121845705819 at 2018-06-01 14:24:57.581970\n",
      "----\n",
      " r Fhan Telaan Orrah Poero Inde Ravon Truc Haro  Gesto Sadel Jered Lanten Tobor Shenie Nuksr Tariy Ton Rejcacsan Jannenin Taile Twevoh Zacik Mhan Kamare Forcan Conam Tanen Dalase Ohdeice Tastero Nacon  \n",
      "----\n",
      "iter 7500, loss: 55.529382310164884, smooth_loss: 57.0652582788663 at 2018-06-01 14:24:58.183970\n",
      "----\n",
      " Losten Dachron Kazdirder Lauvond Kavios May Kaygo Kaybanolio Ban Kian Semiadrot Maxaikey Teish Kychir Lenfon Maemir Keolios Pazson Moh Shachante bakrvef Kooran Mallin Bwad Kharthil Muxlle Brey Jurfey  \n",
      "----\n",
      "iter 7600, loss: 46.90507906315123, smooth_loss: 56.95909733919261 at 2018-06-01 14:24:58.783970\n",
      "----\n",
      " Bexsen Estridrer Rantyn Eazeilex Easen Ccyzin Charimi Fryron Esrry Emsun Caxiis Eakaot Brad Rhikton Emhaen Fana Asson Dinrin Rumyn Famp dorixo Koavott Miasonbe Elilrn Esumrei Mrvion Doocen Monllee Avs \n",
      "----\n",
      "iter 7700, loss: 71.25464075749868, smooth_loss: 57.06593091474725 at 2018-06-01 14:24:59.347970\n",
      "----\n",
      " ke Thariet Tanne Trarya Wachand Naiden Vittean Loovah Wegon Evihe Gavot Nadramah Naylio VakooW Mahe Weydosut Tastist naydyn Warion Cedrio Wavial Wandey Brayh Hedast Hovigk Cachii Tonol Tuchihton Thuic \n",
      "----\n",
      "iter 7800, loss: 70.6302458710323, smooth_loss: 57.11890276524641 at 2018-06-01 14:24:59.947970\n",
      "----\n",
      " on Konvo Jarahaoh Judhen Jerrmiedi Fiatan Jaymon Jeevasul Rheyler Jorea Jamtarlon Kashaarto Jaraea Cryartso Namaii Johien Jongaunahron Jaller Jamcahr Jail Eliatyah Jabi Jayna Jomiei Jieh Maziy Jakeyan \n",
      "----\n",
      "iter 7900, loss: 48.60094288779151, smooth_loss: 56.91807076419669 at 2018-06-01 14:25:00.587970\n",
      "----\n",
      " ummes Jon Yober Aila AygRillani Zykau Siliid Radru Ryqery Alani Aesor Aldeie Anidon Ahiie TeChel Haker Alaes Viquri Tipha Oleieck Aleiled Ashik Ajuka Ib Aydon Yipken Yeral Rielei Tonmoudoti Tidranson  \n",
      "----\n",
      "iter 8000, loss: 52.89142780623195, smooth_loss: 56.96367545017956 at 2018-06-01 14:25:01.195970\n",
      "----\n",
      "  Jerias Joenerioa Sialen Hephrio Jirtiae Jeniec Jabmer Likin Kezmaaverin Janyeri Javelt JulLivil Jamdyn Jekce Jemyah Jamshqzey Javon Jacye Jelmen Jechal Jarryne Iisannun Jhrfan Ipronant Jayabve Jonerz \n",
      "----\n",
      "iter 8100, loss: 51.22025495207934, smooth_loss: 56.58926158401728 at 2018-06-01 14:25:01.786970\n",
      "----\n",
      "  Thavino Shike Tavxon Tarvon Taton Talsean ain Kanisswis Tafkele Nitin Stsenjob Tenkar Saevan Talalyr Steko Terir Tukai Sanzgum Amimeed Seceikaw Tallin Sumon Kacviy Sovavi Stann Taovik SuTo Thai Eziat \n",
      "----\n",
      "iter 8200, loss: 44.07865025064975, smooth_loss: 56.41487967559481 at 2018-06-01 14:25:02.365970\n",
      "----\n",
      " amestyej Desios Deerior Deeze Deezton Dlarano Zieleen Deker Dersen Dehiflen Dhecy Dujdc Deeltann Deemeen Casbu Denoer Daten Destil Daryton Adreldern Naenann Davee Dexre Cpvangel Dallian Dewon Cailan D \n",
      "----\n",
      "iter 8300, loss: 53.13936690732112, smooth_loss: 56.185419387081105 at 2018-06-01 14:25:02.931970\n",
      "----\n",
      " son Kuhziy Jehshn Kotter Kborula Kcalem Katilon Karanar Krtonton Khies Kelthallen Kradito Kehil Kaphayah Keysenton Koprllon Khyn Khallin Kophin Karen Krilin Kessorlon Kamel Kian Keigtyn Vemaclie Kaay  \n",
      "----\n",
      "iter 8400, loss: 67.53169290782965, smooth_loss: 55.82866754107156 at 2018-06-01 14:25:03.548970\n",
      "----\n",
      " l Takan Trarj Treton Trrrlmulomo Trrlon Trkroln Trierum Tmyren Tacerie Tenar TriTrun Tronal TrowTsn Trulephavies Troesen Tdemel Trie Tonson TarTeedon Svaj Tokur Tlelli Trexr Trerenn Treleel Triuv Tlie \n",
      "----\n",
      "iter 8500, loss: 43.069750646263564, smooth_loss: 55.7634577216031 at 2018-06-01 14:25:04.181970\n",
      "----\n",
      " dyden Channasuly Chmal Cozasem Tavlicingeh Cranden Chide Chod Chyandoe Chaz Caaryn Chusin Nhauk Chellis Condiyn Cyannon Chyenh Cas Odes Coadeon Chahbym Caualy Chanhain Chanze Chashiss Chattan Ruxsh Cr \n",
      "----\n",
      "iter 8600, loss: 63.62262455342546, smooth_loss: 55.63239813835402 at 2018-06-01 14:25:04.810970\n",
      "----\n",
      " mari Jacjae Icone Jeaa Javian Javinee Jaybem Jabomix Jastan Jasois Jancan Jacayus Jamana Jaqoen Javrei Jaidan Jarasion Obisro Jalis Javon Jacas Jabaican Jaken Jaissan Jea Jawles Jariceb Jamsandern Jas \n",
      "----\n",
      "iter 8700, loss: 40.01289862521111, smooth_loss: 55.35288909307184 at 2018-06-01 14:25:05.393970\n",
      "----\n",
      "  Malenx Mrxmolm Malsectandat Menico Mellics Merviy Paxellen Mryar Mmik Makedi Mingogan Mestockenm Melxen Melcelttem Gemied Mictoen Melao Mavlerea Meccanhcs Mychon Mendban Mon Meseutten Mhistits Kaetel \n",
      "----\n",
      "iter 8800, loss: 59.479988698054214, smooth_loss: 54.9141132779565 at 2018-06-01 14:25:05.980970\n",
      "----\n",
      " Cyad Rusel Vimues Ticion Jovephar Vvaly Vyen NivedideVi Verm Tmicon Sroidn Vanith Toverynan Derein Vyphandon Tkielli Viewh Tamiculo Vyed Tyalisl Vidnes TshasheF HokodiT Teron Kyljstulon Pistioh Vimaz  \n",
      "----\n",
      "iter 8900, loss: 62.57297806984093, smooth_loss: 55.00281712841986 at 2018-06-01 14:25:06.574970\n",
      "----\n",
      " r Chaarion Irxon Brasel Csell Zarben Balladl Alyn Balliu Adnilm Mayst Bastan Beleyn Bdibi Aldir Ujzdal ArsyC Astkixey Bridl Azakelin Cyel Carcann Costan Bran Brozen Uarril Monen Caynah Bres Byon Ailor \n",
      "----\n",
      "iter 9000, loss: 54.089369454126214, smooth_loss: 54.80217405007192 at 2018-06-01 14:25:07.156970\n",
      "----\n",
      " srio harir Grenyes Grall Drrwieg Gras Grinor Imari Gslrio Eyden Griunj Gtamked Grugask Kdmavey Grirvey Grilo Girge Greson Grish Zivithan Gradid Grdagutelo Gontthy Dreliar Lartaonshan Girtdie Gayshastt \n",
      "----\n",
      "iter 9100, loss: 62.744846662849014, smooth_loss: 54.52028378487324 at 2018-06-01 14:25:07.753970\n",
      "----\n",
      " en Krris Kandar Karer Karion Kauna Karh Kadyar Julsin Koure Jashah Kagui Kalon Kavon Kinnan Konjon Jamri JarlioG Kanamaim Kamjar Jamaran Kanasia Karan KamGn Karan Kzaspon Kaa Jerdayad Kahaam Komaum Ka \n",
      "----\n",
      "iter 9200, loss: 38.08456366124554, smooth_loss: 53.96808723790041 at 2018-06-01 14:25:08.388970\n",
      "----\n",
      "  Mafddy Merthirin Mukoro Mothannen Mariso Miush Javaor Miktzi Malioncoh Myctias Miuch Mashanm Mythiak Mayc Myrul Midon Mthaic Mokbilrie Magzon Mikuulth Mariukel Mahda Miero Moveighcitk Muruhleonn Mant \n",
      "----\n",
      "iter 9300, loss: 56.62587706779305, smooth_loss: 53.71495984140064 at 2018-06-01 14:25:09.005970\n",
      "----\n",
      "  Tratn Simivevi Shmil Syllinn SattiSth Sarbinl Shmevon Scon Shman Srakthasin ShruSn Symalin Shrattely vyndey Shis SuSukish Sdhe Shme Sonyar Saishae Navic Sadyr Shevikeli Shili Sare Sijahyn Sammheltd S \n",
      "----\n",
      "iter 9400, loss: 63.581040130503425, smooth_loss: 53.74539488617935 at 2018-06-01 14:25:09.609970\n",
      "----\n",
      " Vyay Zebela Saavana Porindor Zoyde Veygean Hamellrie Celrakuy Ge Par Man Oreyl Sayetan Hirenireell Zaiieo Yarayay Nejealin Ziamio Zambon Hadailelo Hayereon Mashern Zeyiafo Giqvia Paydy Lahield Tcory T \n",
      "----\n",
      "iter 9500, loss: 63.831704801794224, smooth_loss: 53.68021288096709 at 2018-06-01 14:25:10.262970\n",
      "----\n",
      " n Meriyn Moylan Remlin Yactian Meberro Dalia HaAkl Ares Briban Hastermale Yaranas Pellaar Mal Sulily Raeriim Kelly Tryalin Tial Edkal Emili Darien Calpelyn Shanla Amari Allinah Allabe Alien Mian Aziab \n",
      "----\n",
      "iter 9600, loss: 49.63003944273983, smooth_loss: 53.82549391443974 at 2018-06-01 14:25:10.899970\n",
      "----\n",
      " Alleler Alel Kirie Lish ZarleN Meili Larah ZarianoMekya Kelinna Lara RiaroG Eakalla Jalloa Avaela Berisan Caiso Veron Shamari Ertenn Iparre Rander Aillher Aamyahyo Cothi Alyay Mayla Nllaelah Erron Eme \n",
      "----\n",
      "iter 9700, loss: 53.523941736237965, smooth_loss: 53.72577420874237 at 2018-06-01 14:25:11.518970\n",
      "----\n",
      " e Aschan Kayny Kayly Yainee Kylia Avane Keruen Keraiza Kyan Evadet Kanatir Cussina Lusigh Kaokli Raylin Andel Raceyghle Navissenae Ezaellyi Kaelwah Mal Dslael Kailriye Katie Asyai Brar Katran Klaria K \n",
      "----\n",
      "iter 9800, loss: 56.20177414347867, smooth_loss: 53.62386492634594 at 2018-06-01 14:25:12.184970\n",
      "----\n",
      " ia Monne Jisinah Jtoma Kelinann Anya Sori Tiepo Emenri Zaparlann Daeaty Seilele Shease Saylen Salla Alan Kevyna Hasine Jazlin Sarion Savila Albreah Alshalie Jeraria Sarr Kamayan Tavira Darlel Devint C \n",
      "----\n",
      "iter 9900, loss: 58.29098313903668, smooth_loss: 53.58035917529487 at 2018-06-01 14:25:12.784970\n",
      "----\n",
      " a Elaryna Keyle Jamalia Keasin Kiure Dasannah Plori Glitra Eamasial Eiselly Nyde Echamanne Tde Sjerane Maryo Lima Catisa Lishio Kerian Jahlil Corli Loshy Jokgy Jeddel Crin Blathah Jareyna Cacare Fara  \n",
      "----\n",
      "iter 10000, loss: 51.53534719237441, smooth_loss: 53.60841919920962 at 2018-06-01 14:25:13.384970\n",
      "----\n",
      " e Shafah Ayftaklih Hoongi Rari Klinday Gairany Riralia Asha Tath Asona Kany Derio Azare Maelinn Sriia Karilyni Arisycia Dalie shara Jorya JabEny Jamirin Evayne Lsaa Alyesa Jopelly Maemyna Isda Sarlyn  \n",
      "----\n",
      "iter 10100, loss: 54.01300520596186, smooth_loss: 53.67618822213713 at 2018-06-01 14:25:13.982970\n",
      "----\n",
      " ma Alava Auselapha Kalay Bkivey Vcasrydelyn Amashineiah Habeleehnnn Tanamisian Deygon Sellie Jaraneia Naannah Adbl Avaya Zinelan Caanna Kilabanga Altikaltih Arinn Kashanga Abha Eulin Mymismelah Ramlan \n",
      "----\n",
      "iter 10200, loss: 65.48224408929306, smooth_loss: 53.68681790817147 at 2018-06-01 14:25:14.647970\n",
      "----\n",
      " Ivina Lolys Anlerian Karler Lashil Kabrina Carlyla Teanel Cyder Emyen Lajla Samelish Srerynn Kayle Candeltan Yaisin Zanapel Silarele Mazlee Axineen Ewcendonn Lattanz Jhalana Rektane Cailangef Lirall L \n",
      "----\n",
      "iter 10300, loss: 57.819380935985365, smooth_loss: 53.657986768216404 at 2018-06-01 14:25:15.261970\n",
      "----\n",
      " a Decam Zenah Callye Saina Very alla Jedana Brik Chlinda Aeloa Elysee Azose Konran AlangiahCese Colyne Nollen Jan Korya Cazyne Caayala Nedra Iefplin Taylellis Qaerya Azolityn Zial Ceca Eialea Azlia Cy \n",
      "----\n",
      "iter 10400, loss: 51.257005356941384, smooth_loss: 53.69176428655378 at 2018-06-01 14:25:15.898970\n",
      "----\n",
      " Nia Onet Chanisba Canir Hoeyn Lian Kailyannnn Bresenn Nleeranay Kye Trye Beche Aliskan Chytrie Cakets Shye Laddye Canna Nyra Benne Jika Hadicynn Rugam Zadarda Arne Zyna eriy Emssa Vislyj Zeysh Riza Av \n",
      "----\n",
      "iter 10500, loss: 54.03440233540857, smooth_loss: 53.69908382209706 at 2018-06-01 14:25:16.521970\n",
      "----\n",
      "  Kaenag Brysu Endaila Enewsa Emaryn Karackonah Dikina Elyly Darlen Olaris Jarici Kriah Deya Ceise Imana Jawde Lealia Stine Reeilee Keiya Kosya Raxiin Amide Rizliy Geelee Bolcely Nillinnsha Jeillie All \n",
      "----\n",
      "iter 10600, loss: 50.21031044523333, smooth_loss: 53.559609500640285 at 2018-06-01 14:25:17.113970\n",
      "----\n",
      " Alolyn Yagblelin Eymatw Anca Zaylee Andistarna Daricenn Bkelia Kivanna gamatsandenn Leirela DeiseyRurei Errin Emai Faczan Jachahanah Rehza Dallaemzin Koraman Shantsa Men Tereys Dalri Pury Kmacilme Yve \n",
      "----\n",
      "iter 10700, loss: 55.23246868777713, smooth_loss: 53.555591890650206 at 2018-06-01 14:25:17.771970\n",
      "----\n",
      " gri anytie Emaelio Elahey Eva Zelier Japarinza Minukyn Armey Aleiet Miomvin Zxeiin Loshlyn Vajane Ralie Railia Aimelye Slem Aladia Jalyla Shevy Srari Gisanna Aussdi Cosaem Adhbrie Yamley Daritlyngh vy \n",
      "----\n",
      "iter 10800, loss: 50.69373979924498, smooth_loss: 53.599343570289136 at 2018-06-01 14:25:18.361970\n",
      "----\n",
      " ielol Andaiah Mange Zeeniada Lanna Chaige Nammo Shnily Namaya Anaep Inni Semiyah Naree Maren Nopbe Emiawoni Konaber Brenny Azaya Hanery Zana Teyn Caile Cadasla Larinn Keylina Sshamsyna Zahista Lakennn \n",
      "----\n",
      "iter 10900, loss: 57.56671994715734, smooth_loss: 53.651543297542155 at 2018-06-01 14:25:18.958970\n",
      "----\n",
      "  Kvyosa Horiko Yora Elailliann Ssyahyse Lishe Yuginnka Alya Milsonlli Hamyli Pareis Zanani Allre Barzyn Janiwa Ronei Jya Apeli Zana Errislana Elrel Ewmasye Aianee Ellenna Baybria Anote Vimaynita Sosat \n",
      "----\n",
      "iter 11000, loss: 40.61055921353195, smooth_loss: 53.68601361988028 at 2018-06-01 14:25:19.629970\n",
      "----\n",
      " islri Letit Anale E Dahemh Tamstre Ielala Kietie uonisel Naynna Miena Alisha Glake Heraney Gayshsy Kaya Kenhanne Gpamlee Kiengelon Madieny Hajellte Emirizen Liaylice Breelle Aamen Kinah Kenel erzahcen \n",
      "----\n",
      "iter 11100, loss: 56.46577026638329, smooth_loss: 53.64554325135072 at 2018-06-01 14:25:20.304970\n",
      "----\n",
      " lecta Socara Tlaevey Toosllynaal Cazieyn Yannia Yalayn Evdena Abatte Ancinana Analelle Almana Gariana Quee Eraldia Cayna Reisrah Deyle Senisesbia Denlyane Evendana Anyanine Emiaigh Emavee Eveyna Zineb \n",
      "----\n",
      "iter 11200, loss: 64.11090428787382, smooth_loss: 53.654799002715315 at 2018-06-01 14:25:20.909970\n",
      "----\n",
      " senis Sina Sonnny Mexan Metraccia Soryn Hayarena Shpije Samayah Janila Oahax Samarigh Sthieno Sorshankenn Sraileene Mastyn Nuylankes Nanayna Peonasa Zayna Naida Soni Ryree Samanna Makly Cais Siay Kaah \n",
      "----\n",
      "iter 11300, loss: 48.71472127578758, smooth_loss: 53.55581624568766 at 2018-06-01 14:25:21.552970\n"
     ]
    },
    {
     "ename": "KeyboardInterrupt",
     "evalue": "",
     "output_type": "error",
     "traceback": [
      "\u001b[1;31m---------------------------------------------------------------------------\u001b[0m",
      "\u001b[1;31mKeyboardInterrupt\u001b[0m                         Traceback (most recent call last)",
      "\u001b[1;32m<ipython-input-33-f0be1b344003>\u001b[0m in \u001b[0;36m<module>\u001b[1;34m()\u001b[0m\n\u001b[0;32m     18\u001b[0m \u001b[1;33m\u001b[0m\u001b[0m\n\u001b[0;32m     19\u001b[0m   \u001b[1;31m# forward seq_length characters through the net and fetch gradient\u001b[0m\u001b[1;33m\u001b[0m\u001b[1;33m\u001b[0m\u001b[0m\n\u001b[1;32m---> 20\u001b[1;33m   \u001b[0mloss\u001b[0m\u001b[1;33m,\u001b[0m \u001b[0mdWxh\u001b[0m\u001b[1;33m,\u001b[0m \u001b[0mdWhh\u001b[0m\u001b[1;33m,\u001b[0m \u001b[0mdWhy\u001b[0m\u001b[1;33m,\u001b[0m \u001b[0mdbh\u001b[0m\u001b[1;33m,\u001b[0m \u001b[0mdby\u001b[0m\u001b[1;33m,\u001b[0m \u001b[0mhprev\u001b[0m \u001b[1;33m=\u001b[0m \u001b[0mlossFun\u001b[0m\u001b[1;33m(\u001b[0m\u001b[0minputs\u001b[0m\u001b[1;33m,\u001b[0m \u001b[0mtargets\u001b[0m\u001b[1;33m,\u001b[0m \u001b[0mhprev\u001b[0m\u001b[1;33m)\u001b[0m\u001b[1;33m\u001b[0m\u001b[0m\n\u001b[0m\u001b[0;32m     21\u001b[0m   \u001b[0msmooth_loss\u001b[0m \u001b[1;33m=\u001b[0m \u001b[0msmooth_loss\u001b[0m \u001b[1;33m*\u001b[0m \u001b[1;36m0.999\u001b[0m \u001b[1;33m+\u001b[0m \u001b[0mloss\u001b[0m \u001b[1;33m*\u001b[0m \u001b[1;36m0.001\u001b[0m\u001b[1;33m\u001b[0m\u001b[0m\n\u001b[0;32m     22\u001b[0m   \u001b[1;32mif\u001b[0m \u001b[0mn\u001b[0m \u001b[1;33m%\u001b[0m \u001b[1;36m100\u001b[0m \u001b[1;33m==\u001b[0m \u001b[1;36m0\u001b[0m\u001b[1;33m:\u001b[0m\u001b[1;33m\u001b[0m\u001b[0m\n",
      "\u001b[1;32m<ipython-input-28-a14bbdde02fe>\u001b[0m in \u001b[0;36mlossFun\u001b[1;34m(inputs, targets, hprev)\u001b[0m\n\u001b[0;32m     29\u001b[0m     \u001b[0mdbh\u001b[0m \u001b[1;33m+=\u001b[0m \u001b[0mdhraw\u001b[0m\u001b[1;33m\u001b[0m\u001b[0m\n\u001b[0;32m     30\u001b[0m     \u001b[0mdWxh\u001b[0m \u001b[1;33m+=\u001b[0m \u001b[0mnp\u001b[0m\u001b[1;33m.\u001b[0m\u001b[0mdot\u001b[0m\u001b[1;33m(\u001b[0m\u001b[0mdhraw\u001b[0m\u001b[1;33m,\u001b[0m \u001b[0mxs\u001b[0m\u001b[1;33m[\u001b[0m\u001b[0mt\u001b[0m\u001b[1;33m]\u001b[0m\u001b[1;33m.\u001b[0m\u001b[0mT\u001b[0m\u001b[1;33m)\u001b[0m\u001b[1;33m\u001b[0m\u001b[0m\n\u001b[1;32m---> 31\u001b[1;33m     \u001b[0mdWhh\u001b[0m \u001b[1;33m+=\u001b[0m \u001b[0mnp\u001b[0m\u001b[1;33m.\u001b[0m\u001b[0mdot\u001b[0m\u001b[1;33m(\u001b[0m\u001b[0mdhraw\u001b[0m\u001b[1;33m,\u001b[0m \u001b[0mhs\u001b[0m\u001b[1;33m[\u001b[0m\u001b[0mt\u001b[0m\u001b[1;33m-\u001b[0m\u001b[1;36m1\u001b[0m\u001b[1;33m]\u001b[0m\u001b[1;33m.\u001b[0m\u001b[0mT\u001b[0m\u001b[1;33m)\u001b[0m\u001b[1;33m\u001b[0m\u001b[0m\n\u001b[0m\u001b[0;32m     32\u001b[0m     \u001b[0mdhnext\u001b[0m \u001b[1;33m=\u001b[0m \u001b[0mnp\u001b[0m\u001b[1;33m.\u001b[0m\u001b[0mdot\u001b[0m\u001b[1;33m(\u001b[0m\u001b[0mWhh\u001b[0m\u001b[1;33m.\u001b[0m\u001b[0mT\u001b[0m\u001b[1;33m,\u001b[0m \u001b[0mdhraw\u001b[0m\u001b[1;33m)\u001b[0m\u001b[1;33m\u001b[0m\u001b[0m\n\u001b[0;32m     33\u001b[0m   \u001b[1;32mfor\u001b[0m \u001b[0mdparam\u001b[0m \u001b[1;32min\u001b[0m \u001b[1;33m[\u001b[0m\u001b[0mdWxh\u001b[0m\u001b[1;33m,\u001b[0m \u001b[0mdWhh\u001b[0m\u001b[1;33m,\u001b[0m \u001b[0mdWhy\u001b[0m\u001b[1;33m,\u001b[0m \u001b[0mdbh\u001b[0m\u001b[1;33m,\u001b[0m \u001b[0mdby\u001b[0m\u001b[1;33m]\u001b[0m\u001b[1;33m:\u001b[0m\u001b[1;33m\u001b[0m\u001b[0m\n",
      "\u001b[1;31mKeyboardInterrupt\u001b[0m: "
     ]
    }
   ],
   "source": [
    "n, p = 0, 0\n",
    "mWxh, mWhh, mWhy = np.zeros_like(Wxh), np.zeros_like(Whh), np.zeros_like(Why)\n",
    "mbh, mby = np.zeros_like(bh), np.zeros_like(by) # memory variables for Adagrad\n",
    "smooth_loss = -np.log(1.0/vocab_size)*seq_length # loss at iteration 0\n",
    "while True:\n",
    "  # prepare inputs (we're sweeping from left to right in steps seq_length long)\n",
    "  if p+seq_length+1 >= len(data) or n == 0: \n",
    "    hprev = np.zeros((hidden_size,1)) # reset RNN memory\n",
    "    p = 0 # go from start of data\n",
    "  inputs = [char_to_ix[ch] for ch in data[p:p+seq_length]]\n",
    "  targets = [char_to_ix[ch] for ch in data[p+1:p+seq_length+1]]\n",
    "\n",
    "  # sample from the model now and then\n",
    "  if n % 100 == 0:\n",
    "    sample_ix = sample(hprev, inputs[0], 200)\n",
    "    txt = ''.join(ix_to_char[ix] for ix in sample_ix)\n",
    "    print('----\\n %s \\n----' % (txt, ))\n",
    "\n",
    "  # forward seq_length characters through the net and fetch gradient\n",
    "  loss, dWxh, dWhh, dWhy, dbh, dby, hprev = lossFun(inputs, targets, hprev)\n",
    "  smooth_loss = smooth_loss * 0.999 + loss * 0.001\n",
    "  if n % 100 == 0:\n",
    "        #print('iter %d, loss: %f' % (n, smooth_loss)) # print progress\n",
    "        print(f'iter {n}, loss: {loss}, smooth_loss: {smooth_loss} at {dt.datetime.now()}') # print progress\n",
    "  \n",
    "  # perform parameter update with Adagrad\n",
    "  for param, dparam, mem in zip([Wxh, Whh, Why, bh, by], \n",
    "                                [dWxh, dWhh, dWhy, dbh, dby], \n",
    "                                [mWxh, mWhh, mWhy, mbh, mby]):\n",
    "    mem += dparam * dparam\n",
    "    param += -learning_rate * dparam / np.sqrt(mem + 1e-8) # adagrad update\n",
    "\n",
    "  p += seq_length # move data pointer\n",
    "  n += 1 # iteration counter "
   ]
  },
  {
   "cell_type": "code",
   "execution_count": 34,
   "metadata": {
    "collapsed": true
   },
   "outputs": [],
   "source": [
    "import matplotlib.pyplot as plt\n",
    "% matplotlib inline"
   ]
  },
  {
   "cell_type": "code",
   "execution_count": 35,
   "metadata": {
    "collapsed": false
   },
   "outputs": [
    {
     "data": {
      "text/plain": [
       "(array([53.,  1.,  2.,  2.,  1.,  2.,  0.,  1.,  0., 38.]),\n",
       " array([-9.99999994e-01, -7.99999995e-01, -5.99999996e-01, -3.99999997e-01,\n",
       "        -1.99999998e-01,  4.27076374e-10,  1.99999999e-01,  3.99999998e-01,\n",
       "         5.99999997e-01,  7.99999996e-01,  9.99999994e-01]),\n",
       " <a list of 10 Patch objects>)"
      ]
     },
     "execution_count": 35,
     "metadata": {},
     "output_type": "execute_result"
    },
    {
     "data": {
      "image/png": "[encoded data removed]",
      "text/plain": [
       "<matplotlib.figure.Figure at 0x1ea97e48>"
      ]
     },
     "metadata": {},
     "output_type": "display_data"
    }
   ],
   "source": [
    "plt.hist(hprev)"
   ]
  },
  {
   "cell_type": "code",
   "execution_count": 14,
   "metadata": {
    "collapsed": false
   },
   "outputs": [
    {
     "data": {
      "text/plain": [
       "99.25729783880305"
      ]
     },
     "execution_count": 14,
     "metadata": {},
     "output_type": "execute_result"
    }
   ],
   "source": [
    "np.log(53)*25"
   ]
  },
  {
   "cell_type": "code",
   "execution_count": 15,
   "metadata": {
    "collapsed": false
   },
   "outputs": [
    {
     "data": {
      "text/plain": [
       "1.72"
      ]
     },
     "execution_count": 15,
     "metadata": {},
     "output_type": "execute_result"
    }
   ],
   "source": [
    "43/25"
   ]
  },
  {
   "cell_type": "code",
   "execution_count": null,
   "metadata": {
    "collapsed": true
   },
   "outputs": [],
   "source": [
    "df = pd"
   ]
  }
 ],
 "metadata": {
  "kernelspec": {
   "display_name": "Python [py36]",
   "language": "python",
   "name": "Python [py36]"
  },
  "language_info": {
   "codemirror_mode": {
    "name": "ipython",
    "version": 3
   },
   "file_extension": ".py",
   "mimetype": "text/x-python",
   "name": "python",
   "nbconvert_exporter": "python",
   "pygments_lexer": "ipython3",
   "version": "3.6.2"
  }
 },
 "nbformat": 4,
 "nbformat_minor": 2
}
