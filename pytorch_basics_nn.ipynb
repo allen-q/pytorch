{
 "cells": [
  {
   "cell_type": "code",
   "execution_count": 3,
   "metadata": {
    "collapsed": true
   },
   "outputs": [],
   "source": [
    "import matplotlib.pyplot as plt\n",
    "import numpy as np\n",
    "% matplotlib inline"
   ]
  },
  {
   "cell_type": "code",
   "execution_count": 8,
   "metadata": {},
   "outputs": [],
   "source": [
    "N = 100 # number of points per class\n",
    "D = 2 # dimensionality\n",
    "K = 3 # number of classes\n",
    "X = np.zeros((N*K,D)) # data matrix (each row = single example)\n",
    "y = np.zeros(N*K, dtype='uint8') # class labels"
   ]
  },
  {
   "cell_type": "code",
   "execution_count": 47,
   "metadata": {
    "scrolled": true
   },
   "outputs": [
    {
     "data": {
      "text/plain": [
       "array([ 0.        ,  0.01010101,  0.02020202,  0.03030303,  0.04040404,\n",
       "        0.05050505,  0.06060606,  0.07070707,  0.08080808,  0.09090909,\n",
       "        0.1010101 ,  0.11111111,  0.12121212,  0.13131313,  0.14141414,\n",
       "        0.15151515,  0.16161616,  0.17171717,  0.18181818,  0.19191919,\n",
       "        0.2020202 ,  0.21212121,  0.22222222,  0.23232323,  0.24242424,\n",
       "        0.25252525,  0.26262626,  0.27272727,  0.28282828,  0.29292929,\n",
       "        0.3030303 ,  0.31313131,  0.32323232,  0.33333333,  0.34343434,\n",
       "        0.35353535,  0.36363636,  0.37373737,  0.38383838,  0.39393939,\n",
       "        0.4040404 ,  0.41414141,  0.42424242,  0.43434343,  0.44444444,\n",
       "        0.45454545,  0.46464646,  0.47474747,  0.48484848,  0.49494949,\n",
       "        0.50505051,  0.51515152,  0.52525253,  0.53535354,  0.54545455,\n",
       "        0.55555556,  0.56565657,  0.57575758,  0.58585859,  0.5959596 ,\n",
       "        0.60606061,  0.61616162,  0.62626263,  0.63636364,  0.64646465,\n",
       "        0.65656566,  0.66666667,  0.67676768,  0.68686869,  0.6969697 ,\n",
       "        0.70707071,  0.71717172,  0.72727273,  0.73737374,  0.74747475,\n",
       "        0.75757576,  0.76767677,  0.77777778,  0.78787879,  0.7979798 ,\n",
       "        0.80808081,  0.81818182,  0.82828283,  0.83838384,  0.84848485,\n",
       "        0.85858586,  0.86868687,  0.87878788,  0.88888889,  0.8989899 ,\n",
       "        0.90909091,  0.91919192,  0.92929293,  0.93939394,  0.94949495,\n",
       "        0.95959596,  0.96969697,  0.97979798,  0.98989899,  1.        ])"
      ]
     },
     "execution_count": 47,
     "metadata": {},
     "output_type": "execute_result"
    }
   ],
   "source": [
    "np.r_[0:1:100j]"
   ]
  },
  {
   "cell_type": "code",
   "execution_count": null,
   "metadata": {
    "collapsed": true
   },
   "outputs": [],
   "source": [
    "r*()"
   ]
  },
  {
   "cell_type": "code",
   "execution_count": 10,
   "metadata": {
    "scrolled": true
   },
   "outputs": [
    {
     "data": {
      "text/plain": [
       "array([0, 0, 0, 0, 0, 0, 0, 0, 0, 0, 0, 0, 0, 0, 0, 0, 0, 0, 0, 0, 0, 0, 0,\n",
       "       0, 0, 0, 0, 0, 0, 0, 0, 0, 0, 0, 0, 0, 0, 0, 0, 0, 0, 0, 0, 0, 0, 0,\n",
       "       0, 0, 0, 0, 0, 0, 0, 0, 0, 0, 0, 0, 0, 0, 0, 0, 0, 0, 0, 0, 0, 0, 0,\n",
       "       0, 0, 0, 0, 0, 0, 0, 0, 0, 0, 0, 0, 0, 0, 0, 0, 0, 0, 0, 0, 0, 0, 0,\n",
       "       0, 0, 0, 0, 0, 0, 0, 0, 0, 0, 0, 0, 0, 0, 0, 0, 0, 0, 0, 0, 0, 0, 0,\n",
       "       0, 0, 0, 0, 0, 0, 0, 0, 0, 0, 0, 0, 0, 0, 0, 0, 0, 0, 0, 0, 0, 0, 0,\n",
       "       0, 0, 0, 0, 0, 0, 0, 0, 0, 0, 0, 0, 0, 0, 0, 0, 0, 0, 0, 0, 0, 0, 0,\n",
       "       0, 0, 0, 0, 0, 0, 0, 0, 0, 0, 0, 0, 0, 0, 0, 0, 0, 0, 0, 0, 0, 0, 0,\n",
       "       0, 0, 0, 0, 0, 0, 0, 0, 0, 0, 0, 0, 0, 0, 0, 0, 0, 0, 0, 0, 0, 0, 0,\n",
       "       0, 0, 0, 0, 0, 0, 0, 0, 0, 0, 0, 0, 0, 0, 0, 0, 0, 0, 0, 0, 0, 0, 0,\n",
       "       0, 0, 0, 0, 0, 0, 0, 0, 0, 0, 0, 0, 0, 0, 0, 0, 0, 0, 0, 0, 0, 0, 0,\n",
       "       0, 0, 0, 0, 0, 0, 0, 0, 0, 0, 0, 0, 0, 0, 0, 0, 0, 0, 0, 0, 0, 0, 0,\n",
       "       0, 0, 0, 0, 0, 0, 0, 0, 0, 0, 0, 0, 0, 0, 0, 0, 0, 0, 0, 0, 0, 0, 0,\n",
       "       0], dtype=uint8)"
      ]
     },
     "execution_count": 10,
     "metadata": {},
     "output_type": "execute_result"
    }
   ],
   "source": [
    "y"
   ]
  },
  {
   "cell_type": "code",
   "execution_count": 11,
   "metadata": {
    "collapsed": true
   },
   "outputs": [],
   "source": [
    "j = 0"
   ]
  },
  {
   "cell_type": "code",
   "execution_count": 12,
   "metadata": {
    "collapsed": true
   },
   "outputs": [],
   "source": [
    "ix = range(N*j,N*(j+1))"
   ]
  },
  {
   "cell_type": "code",
   "execution_count": 13,
   "metadata": {},
   "outputs": [
    {
     "data": {
      "text/plain": [
       "range(0, 100)"
      ]
     },
     "execution_count": 13,
     "metadata": {},
     "output_type": "execute_result"
    }
   ],
   "source": [
    "ix"
   ]
  },
  {
   "cell_type": "code",
   "execution_count": 14,
   "metadata": {
    "collapsed": true
   },
   "outputs": [],
   "source": [
    "r = np.linspace(0.0,1,N)"
   ]
  },
  {
   "cell_type": "code",
   "execution_count": 15,
   "metadata": {},
   "outputs": [
    {
     "data": {
      "text/plain": [
       "array([ 0.        ,  0.01010101,  0.02020202,  0.03030303,  0.04040404,\n",
       "        0.05050505,  0.06060606,  0.07070707,  0.08080808,  0.09090909,\n",
       "        0.1010101 ,  0.11111111,  0.12121212,  0.13131313,  0.14141414,\n",
       "        0.15151515,  0.16161616,  0.17171717,  0.18181818,  0.19191919,\n",
       "        0.2020202 ,  0.21212121,  0.22222222,  0.23232323,  0.24242424,\n",
       "        0.25252525,  0.26262626,  0.27272727,  0.28282828,  0.29292929,\n",
       "        0.3030303 ,  0.31313131,  0.32323232,  0.33333333,  0.34343434,\n",
       "        0.35353535,  0.36363636,  0.37373737,  0.38383838,  0.39393939,\n",
       "        0.4040404 ,  0.41414141,  0.42424242,  0.43434343,  0.44444444,\n",
       "        0.45454545,  0.46464646,  0.47474747,  0.48484848,  0.49494949,\n",
       "        0.50505051,  0.51515152,  0.52525253,  0.53535354,  0.54545455,\n",
       "        0.55555556,  0.56565657,  0.57575758,  0.58585859,  0.5959596 ,\n",
       "        0.60606061,  0.61616162,  0.62626263,  0.63636364,  0.64646465,\n",
       "        0.65656566,  0.66666667,  0.67676768,  0.68686869,  0.6969697 ,\n",
       "        0.70707071,  0.71717172,  0.72727273,  0.73737374,  0.74747475,\n",
       "        0.75757576,  0.76767677,  0.77777778,  0.78787879,  0.7979798 ,\n",
       "        0.80808081,  0.81818182,  0.82828283,  0.83838384,  0.84848485,\n",
       "        0.85858586,  0.86868687,  0.87878788,  0.88888889,  0.8989899 ,\n",
       "        0.90909091,  0.91919192,  0.92929293,  0.93939394,  0.94949495,\n",
       "        0.95959596,  0.96969697,  0.97979798,  0.98989899,  1.        ])"
      ]
     },
     "execution_count": 15,
     "metadata": {},
     "output_type": "execute_result"
    }
   ],
   "source": [
    "r"
   ]
  },
  {
   "cell_type": "code",
   "execution_count": 16,
   "metadata": {
    "collapsed": true
   },
   "outputs": [],
   "source": [
    "t = np.linspace(j*4,(j+1)*4,N) + np.random.randn(N)*0.2"
   ]
  },
  {
   "cell_type": "code",
   "execution_count": 17,
   "metadata": {},
   "outputs": [
    {
     "data": {
      "text/plain": [
       "array([ 0.12936366,  0.0855727 , -0.13267153,  0.21988279, -0.0433657 ,\n",
       "        0.41243908,  0.08874409,  0.43870431,  0.34763882,  0.48427098,\n",
       "        0.46131238,  0.60190326,  0.71596312,  0.45952218,  0.66279311,\n",
       "        0.54129521,  0.69916714,  0.40425493,  1.04781001,  0.53154866,\n",
       "        0.92443997,  0.74967149,  1.27151427,  1.08363008,  0.75151394,\n",
       "        0.93727727,  0.9139181 ,  1.23499183,  1.2318855 ,  1.29166293,\n",
       "        1.20811378,  1.35578607,  1.18919225,  1.38350149,  1.46103136,\n",
       "        1.34388449,  1.5769108 ,  1.74142641,  1.45663465,  1.3187587 ,\n",
       "        1.60473498,  2.09795701,  1.64143836,  1.62807943,  1.66310586,\n",
       "        1.67686248,  1.52149317,  1.72330209,  1.97762216,  1.80244795,\n",
       "        2.12555436,  1.99678971,  2.03091419,  2.10048768,  1.79919186,\n",
       "        2.3302128 ,  2.57706987,  2.25603977,  2.73033597,  2.41627125,\n",
       "        2.58078036,  2.06647088,  2.6210213 ,  2.88794125,  2.65395601,\n",
       "        2.918854  ,  2.40357929,  2.79538615,  2.59015421,  2.85433955,\n",
       "        2.7425801 ,  3.2390022 ,  2.76449076,  2.83493298,  3.19438285,\n",
       "        3.17570356,  2.72561914,  3.26149222,  3.49918948,  3.36732006,\n",
       "        3.49256336,  3.22990593,  3.35507425,  3.4133232 ,  3.4367434 ,\n",
       "        3.61290814,  3.61533004,  3.49209585,  3.45075446,  4.11079034,\n",
       "        3.5130587 ,  3.73598301,  3.6685501 ,  3.64748674,  3.79181698,\n",
       "        4.0482114 ,  3.98207508,  4.06638423,  4.03562473,  4.37181995])"
      ]
     },
     "execution_count": 17,
     "metadata": {},
     "output_type": "execute_result"
    }
   ],
   "source": [
    "t"
   ]
  },
  {
   "cell_type": "code",
   "execution_count": 18,
   "metadata": {
    "collapsed": true
   },
   "outputs": [],
   "source": [
    "X[ix] = np.c_[r*np.sin(t), r*np.cos(t)]"
   ]
  },
  {
   "cell_type": "code",
   "execution_count": 19,
   "metadata": {},
   "outputs": [
    {
     "data": {
      "text/plain": [
       "array([[  0.00000000e+00,   0.00000000e+00],\n",
       "       [  8.63316141e-04,   1.00640494e-02],\n",
       "       [ -2.67237702e-03,   2.00244855e-02],\n",
       "       [  6.60955258e-03,   2.95734249e-02],\n",
       "       [ -1.75160034e-03,   4.03660548e-02],\n",
       "       [  2.02447006e-02,   4.62699927e-02],\n",
       "       [  5.37137283e-03,   6.03675653e-02],\n",
       "       [  3.00340185e-02,   6.40113082e-02],\n",
       "       [  2.75296021e-02,   7.59741202e-02],\n",
       "       [  4.23239356e-02,   8.04558717e-02],\n",
       "       [  4.49619882e-02,   9.04514241e-02],\n",
       "       [  6.29124756e-02,   9.15843842e-02],\n",
       "       [  7.95568916e-02,   9.14498733e-02],\n",
       "       [  5.82399871e-02,   1.17691301e-01],\n",
       "       [  8.70150894e-02,   1.11473466e-01],\n",
       "       [  7.80676470e-02,   1.29854856e-01],\n",
       "       [  1.04013004e-01,   1.23697529e-01],\n",
       "       [  6.75421767e-02,   1.57876032e-01],\n",
       "       [  1.57514813e-01,   9.08126361e-02],\n",
       "       [  9.72778760e-02,   1.65438783e-01],\n",
       "       [  1.61269413e-01,   1.21673080e-01],\n",
       "       [  1.44539046e-01,   1.55254220e-01],\n",
       "       [  2.12344091e-01,   6.55187240e-02],\n",
       "       [  2.05295433e-01,   1.08756009e-01],\n",
       "       [  1.65514112e-01,   1.77128744e-01],\n",
       "       [  2.03522545e-01,   1.49491060e-01],\n",
       "       [  2.07974364e-01,   1.60372122e-01],\n",
       "       [  2.57494230e-01,   8.98715009e-02],\n",
       "       [  2.66740255e-01,   9.40291116e-02],\n",
       "       [  2.81591338e-01,   8.07086661e-02],\n",
       "       [  2.83317717e-01,   1.07510166e-01],\n",
       "       [  3.05921216e-01,   6.68088974e-02],\n",
       "       [  2.99981723e-01,   1.20374834e-01],\n",
       "       [  3.27503845e-01,   6.20672415e-02],\n",
       "       [  3.41367512e-01,   3.76214056e-02],\n",
       "       [  3.44472752e-01,   7.95347059e-02],\n",
       "       [  3.63629566e-01,  -2.22343155e-03],\n",
       "       [  3.68309949e-01,  -6.34618459e-02],\n",
       "       [  3.81339838e-01,   4.37245147e-02],\n",
       "       [  3.81493388e-01,   9.82397111e-02],\n",
       "       [  4.03807733e-01,  -1.37099555e-02],\n",
       "       [  3.57917145e-01,  -2.08346894e-01],\n",
       "       [  4.23184317e-01,  -2.99444270e-02],\n",
       "       [  4.33631012e-01,  -2.48669367e-02],\n",
       "       [  4.42552222e-01,  -4.09682187e-02],\n",
       "       [  4.51991026e-01,  -4.81215402e-02],\n",
       "       [  4.64081847e-01,   2.28992585e-02],\n",
       "       [  4.69237327e-01,  -7.21213975e-02],\n",
       "       [  4.45275857e-01,  -1.91852716e-01],\n",
       "       [  4.81728668e-01,  -1.13633149e-01],\n",
       "       [  4.29307028e-01,  -2.66029112e-01],\n",
       "       [  4.69111750e-01,  -2.12873788e-01],\n",
       "       [  4.70626349e-01,  -2.33240338e-01],\n",
       "       [  4.61990325e-01,  -2.70496483e-01],\n",
       "       [  5.31289595e-01,  -1.23499099e-01],\n",
       "       [  4.02909940e-01,  -3.82499092e-01],\n",
       "       [  3.02633446e-01,  -4.77891564e-01],\n",
       "       [  4.45788941e-01,  -3.64374815e-01],\n",
       "       [  2.34203734e-01,  -5.37009212e-01],\n",
       "       [  3.95345280e-01,  -4.45948371e-01],\n",
       "       [  3.22348025e-01,  -5.13226274e-01],\n",
       "       [  5.42005380e-01,  -2.93061947e-01],\n",
       "       [  3.11487930e-01,  -5.43304838e-01],\n",
       "       [  1.59689216e-01,  -6.16001649e-01],\n",
       "       [  3.02894100e-01,  -5.71114440e-01],\n",
       "       [  1.45036304e-01,  -6.40345947e-01],\n",
       "       [  4.48546342e-01,  -4.93204444e-01],\n",
       "       [  2.29648825e-01,  -6.36612838e-01],\n",
       "       [  3.59859431e-01,  -5.85055367e-01],\n",
       "       [  1.97464722e-01,  -6.68411881e-01],\n",
       "       [  2.74703086e-01,  -6.51526822e-01],\n",
       "       [ -6.97489428e-02,  -7.13771922e-01],\n",
       "       [  2.67801851e-01,  -6.76171420e-01],\n",
       "       [  2.22595316e-01,  -7.02973224e-01],\n",
       "       [ -3.94410174e-02,  -7.46433456e-01],\n",
       "       [ -2.58365862e-02,  -7.57135060e-01],\n",
       "       [  3.10203302e-01,  -7.02211885e-01],\n",
       "       [ -9.30319435e-02,  -7.72193842e-01],\n",
       "       [ -2.75776560e-01,  -7.38038125e-01],\n",
       "       [ -1.78600146e-01,  -7.77736296e-01],\n",
       "       [ -2.77825861e-01,  -7.58819730e-01],\n",
       "       [ -7.21624320e-02,  -8.14993295e-01],\n",
       "       [ -1.75483096e-01,  -8.09480158e-01],\n",
       "       [ -2.25021289e-01,  -8.07621743e-01],\n",
       "       [ -2.46810740e-01,  -8.11794923e-01],\n",
       "       [ -3.89848413e-01,  -7.64975746e-01],\n",
       "       [ -3.96308195e-01,  -7.73017911e-01],\n",
       "       [ -3.01749790e-01,  -8.25357620e-01],\n",
       "       [ -2.70453590e-01,  -8.46745719e-01],\n",
       "       [ -7.41155953e-01,  -5.08793369e-01],\n",
       "       [ -3.29983528e-01,  -8.47087453e-01],\n",
       "       [ -5.14750948e-01,  -7.61541362e-01],\n",
       "       [ -4.67346868e-01,  -8.03226153e-01],\n",
       "       [ -4.55220656e-01,  -8.21726918e-01],\n",
       "       [ -5.74790982e-01,  -7.55748627e-01],\n",
       "       [ -7.55608891e-01,  -5.91506220e-01],\n",
       "       [ -7.22390335e-01,  -6.46888257e-01],\n",
       "       [ -7.82364093e-01,  -5.89839391e-01],\n",
       "       [ -7.71728482e-01,  -6.19947708e-01],\n",
       "       [ -9.42564747e-01,  -3.34023498e-01],\n",
       "       [  0.00000000e+00,   0.00000000e+00],\n",
       "       [  0.00000000e+00,   0.00000000e+00],\n",
       "       [  0.00000000e+00,   0.00000000e+00],\n",
       "       [  0.00000000e+00,   0.00000000e+00],\n",
       "       [  0.00000000e+00,   0.00000000e+00],\n",
       "       [  0.00000000e+00,   0.00000000e+00],\n",
       "       [  0.00000000e+00,   0.00000000e+00],\n",
       "       [  0.00000000e+00,   0.00000000e+00],\n",
       "       [  0.00000000e+00,   0.00000000e+00],\n",
       "       [  0.00000000e+00,   0.00000000e+00],\n",
       "       [  0.00000000e+00,   0.00000000e+00],\n",
       "       [  0.00000000e+00,   0.00000000e+00],\n",
       "       [  0.00000000e+00,   0.00000000e+00],\n",
       "       [  0.00000000e+00,   0.00000000e+00],\n",
       "       [  0.00000000e+00,   0.00000000e+00],\n",
       "       [  0.00000000e+00,   0.00000000e+00],\n",
       "       [  0.00000000e+00,   0.00000000e+00],\n",
       "       [  0.00000000e+00,   0.00000000e+00],\n",
       "       [  0.00000000e+00,   0.00000000e+00],\n",
       "       [  0.00000000e+00,   0.00000000e+00],\n",
       "       [  0.00000000e+00,   0.00000000e+00],\n",
       "       [  0.00000000e+00,   0.00000000e+00],\n",
       "       [  0.00000000e+00,   0.00000000e+00],\n",
       "       [  0.00000000e+00,   0.00000000e+00],\n",
       "       [  0.00000000e+00,   0.00000000e+00],\n",
       "       [  0.00000000e+00,   0.00000000e+00],\n",
       "       [  0.00000000e+00,   0.00000000e+00],\n",
       "       [  0.00000000e+00,   0.00000000e+00],\n",
       "       [  0.00000000e+00,   0.00000000e+00],\n",
       "       [  0.00000000e+00,   0.00000000e+00],\n",
       "       [  0.00000000e+00,   0.00000000e+00],\n",
       "       [  0.00000000e+00,   0.00000000e+00],\n",
       "       [  0.00000000e+00,   0.00000000e+00],\n",
       "       [  0.00000000e+00,   0.00000000e+00],\n",
       "       [  0.00000000e+00,   0.00000000e+00],\n",
       "       [  0.00000000e+00,   0.00000000e+00],\n",
       "       [  0.00000000e+00,   0.00000000e+00],\n",
       "       [  0.00000000e+00,   0.00000000e+00],\n",
       "       [  0.00000000e+00,   0.00000000e+00],\n",
       "       [  0.00000000e+00,   0.00000000e+00],\n",
       "       [  0.00000000e+00,   0.00000000e+00],\n",
       "       [  0.00000000e+00,   0.00000000e+00],\n",
       "       [  0.00000000e+00,   0.00000000e+00],\n",
       "       [  0.00000000e+00,   0.00000000e+00],\n",
       "       [  0.00000000e+00,   0.00000000e+00],\n",
       "       [  0.00000000e+00,   0.00000000e+00],\n",
       "       [  0.00000000e+00,   0.00000000e+00],\n",
       "       [  0.00000000e+00,   0.00000000e+00],\n",
       "       [  0.00000000e+00,   0.00000000e+00],\n",
       "       [  0.00000000e+00,   0.00000000e+00],\n",
       "       [  0.00000000e+00,   0.00000000e+00],\n",
       "       [  0.00000000e+00,   0.00000000e+00],\n",
       "       [  0.00000000e+00,   0.00000000e+00],\n",
       "       [  0.00000000e+00,   0.00000000e+00],\n",
       "       [  0.00000000e+00,   0.00000000e+00],\n",
       "       [  0.00000000e+00,   0.00000000e+00],\n",
       "       [  0.00000000e+00,   0.00000000e+00],\n",
       "       [  0.00000000e+00,   0.00000000e+00],\n",
       "       [  0.00000000e+00,   0.00000000e+00],\n",
       "       [  0.00000000e+00,   0.00000000e+00],\n",
       "       [  0.00000000e+00,   0.00000000e+00],\n",
       "       [  0.00000000e+00,   0.00000000e+00],\n",
       "       [  0.00000000e+00,   0.00000000e+00],\n",
       "       [  0.00000000e+00,   0.00000000e+00],\n",
       "       [  0.00000000e+00,   0.00000000e+00],\n",
       "       [  0.00000000e+00,   0.00000000e+00],\n",
       "       [  0.00000000e+00,   0.00000000e+00],\n",
       "       [  0.00000000e+00,   0.00000000e+00],\n",
       "       [  0.00000000e+00,   0.00000000e+00],\n",
       "       [  0.00000000e+00,   0.00000000e+00],\n",
       "       [  0.00000000e+00,   0.00000000e+00],\n",
       "       [  0.00000000e+00,   0.00000000e+00],\n",
       "       [  0.00000000e+00,   0.00000000e+00],\n",
       "       [  0.00000000e+00,   0.00000000e+00],\n",
       "       [  0.00000000e+00,   0.00000000e+00],\n",
       "       [  0.00000000e+00,   0.00000000e+00],\n",
       "       [  0.00000000e+00,   0.00000000e+00],\n",
       "       [  0.00000000e+00,   0.00000000e+00],\n",
       "       [  0.00000000e+00,   0.00000000e+00],\n",
       "       [  0.00000000e+00,   0.00000000e+00],\n",
       "       [  0.00000000e+00,   0.00000000e+00],\n",
       "       [  0.00000000e+00,   0.00000000e+00],\n",
       "       [  0.00000000e+00,   0.00000000e+00],\n",
       "       [  0.00000000e+00,   0.00000000e+00],\n",
       "       [  0.00000000e+00,   0.00000000e+00],\n",
       "       [  0.00000000e+00,   0.00000000e+00],\n",
       "       [  0.00000000e+00,   0.00000000e+00],\n",
       "       [  0.00000000e+00,   0.00000000e+00],\n",
       "       [  0.00000000e+00,   0.00000000e+00],\n",
       "       [  0.00000000e+00,   0.00000000e+00],\n",
       "       [  0.00000000e+00,   0.00000000e+00],\n",
       "       [  0.00000000e+00,   0.00000000e+00],\n",
       "       [  0.00000000e+00,   0.00000000e+00],\n",
       "       [  0.00000000e+00,   0.00000000e+00],\n",
       "       [  0.00000000e+00,   0.00000000e+00],\n",
       "       [  0.00000000e+00,   0.00000000e+00],\n",
       "       [  0.00000000e+00,   0.00000000e+00],\n",
       "       [  0.00000000e+00,   0.00000000e+00],\n",
       "       [  0.00000000e+00,   0.00000000e+00],\n",
       "       [  0.00000000e+00,   0.00000000e+00],\n",
       "       [  0.00000000e+00,   0.00000000e+00],\n",
       "       [  0.00000000e+00,   0.00000000e+00],\n",
       "       [  0.00000000e+00,   0.00000000e+00],\n",
       "       [  0.00000000e+00,   0.00000000e+00],\n",
       "       [  0.00000000e+00,   0.00000000e+00],\n",
       "       [  0.00000000e+00,   0.00000000e+00],\n",
       "       [  0.00000000e+00,   0.00000000e+00],\n",
       "       [  0.00000000e+00,   0.00000000e+00],\n",
       "       [  0.00000000e+00,   0.00000000e+00],\n",
       "       [  0.00000000e+00,   0.00000000e+00],\n",
       "       [  0.00000000e+00,   0.00000000e+00],\n",
       "       [  0.00000000e+00,   0.00000000e+00],\n",
       "       [  0.00000000e+00,   0.00000000e+00],\n",
       "       [  0.00000000e+00,   0.00000000e+00],\n",
       "       [  0.00000000e+00,   0.00000000e+00],\n",
       "       [  0.00000000e+00,   0.00000000e+00],\n",
       "       [  0.00000000e+00,   0.00000000e+00],\n",
       "       [  0.00000000e+00,   0.00000000e+00],\n",
       "       [  0.00000000e+00,   0.00000000e+00],\n",
       "       [  0.00000000e+00,   0.00000000e+00],\n",
       "       [  0.00000000e+00,   0.00000000e+00],\n",
       "       [  0.00000000e+00,   0.00000000e+00],\n",
       "       [  0.00000000e+00,   0.00000000e+00],\n",
       "       [  0.00000000e+00,   0.00000000e+00],\n",
       "       [  0.00000000e+00,   0.00000000e+00],\n",
       "       [  0.00000000e+00,   0.00000000e+00],\n",
       "       [  0.00000000e+00,   0.00000000e+00],\n",
       "       [  0.00000000e+00,   0.00000000e+00],\n",
       "       [  0.00000000e+00,   0.00000000e+00],\n",
       "       [  0.00000000e+00,   0.00000000e+00],\n",
       "       [  0.00000000e+00,   0.00000000e+00],\n",
       "       [  0.00000000e+00,   0.00000000e+00],\n",
       "       [  0.00000000e+00,   0.00000000e+00],\n",
       "       [  0.00000000e+00,   0.00000000e+00],\n",
       "       [  0.00000000e+00,   0.00000000e+00],\n",
       "       [  0.00000000e+00,   0.00000000e+00],\n",
       "       [  0.00000000e+00,   0.00000000e+00],\n",
       "       [  0.00000000e+00,   0.00000000e+00],\n",
       "       [  0.00000000e+00,   0.00000000e+00],\n",
       "       [  0.00000000e+00,   0.00000000e+00],\n",
       "       [  0.00000000e+00,   0.00000000e+00],\n",
       "       [  0.00000000e+00,   0.00000000e+00],\n",
       "       [  0.00000000e+00,   0.00000000e+00],\n",
       "       [  0.00000000e+00,   0.00000000e+00],\n",
       "       [  0.00000000e+00,   0.00000000e+00],\n",
       "       [  0.00000000e+00,   0.00000000e+00],\n",
       "       [  0.00000000e+00,   0.00000000e+00],\n",
       "       [  0.00000000e+00,   0.00000000e+00],\n",
       "       [  0.00000000e+00,   0.00000000e+00],\n",
       "       [  0.00000000e+00,   0.00000000e+00],\n",
       "       [  0.00000000e+00,   0.00000000e+00],\n",
       "       [  0.00000000e+00,   0.00000000e+00],\n",
       "       [  0.00000000e+00,   0.00000000e+00],\n",
       "       [  0.00000000e+00,   0.00000000e+00],\n",
       "       [  0.00000000e+00,   0.00000000e+00],\n",
       "       [  0.00000000e+00,   0.00000000e+00],\n",
       "       [  0.00000000e+00,   0.00000000e+00],\n",
       "       [  0.00000000e+00,   0.00000000e+00],\n",
       "       [  0.00000000e+00,   0.00000000e+00],\n",
       "       [  0.00000000e+00,   0.00000000e+00],\n",
       "       [  0.00000000e+00,   0.00000000e+00],\n",
       "       [  0.00000000e+00,   0.00000000e+00],\n",
       "       [  0.00000000e+00,   0.00000000e+00],\n",
       "       [  0.00000000e+00,   0.00000000e+00],\n",
       "       [  0.00000000e+00,   0.00000000e+00],\n",
       "       [  0.00000000e+00,   0.00000000e+00],\n",
       "       [  0.00000000e+00,   0.00000000e+00],\n",
       "       [  0.00000000e+00,   0.00000000e+00],\n",
       "       [  0.00000000e+00,   0.00000000e+00],\n",
       "       [  0.00000000e+00,   0.00000000e+00],\n",
       "       [  0.00000000e+00,   0.00000000e+00],\n",
       "       [  0.00000000e+00,   0.00000000e+00],\n",
       "       [  0.00000000e+00,   0.00000000e+00],\n",
       "       [  0.00000000e+00,   0.00000000e+00],\n",
       "       [  0.00000000e+00,   0.00000000e+00],\n",
       "       [  0.00000000e+00,   0.00000000e+00],\n",
       "       [  0.00000000e+00,   0.00000000e+00],\n",
       "       [  0.00000000e+00,   0.00000000e+00],\n",
       "       [  0.00000000e+00,   0.00000000e+00],\n",
       "       [  0.00000000e+00,   0.00000000e+00],\n",
       "       [  0.00000000e+00,   0.00000000e+00],\n",
       "       [  0.00000000e+00,   0.00000000e+00],\n",
       "       [  0.00000000e+00,   0.00000000e+00],\n",
       "       [  0.00000000e+00,   0.00000000e+00],\n",
       "       [  0.00000000e+00,   0.00000000e+00],\n",
       "       [  0.00000000e+00,   0.00000000e+00],\n",
       "       [  0.00000000e+00,   0.00000000e+00],\n",
       "       [  0.00000000e+00,   0.00000000e+00],\n",
       "       [  0.00000000e+00,   0.00000000e+00],\n",
       "       [  0.00000000e+00,   0.00000000e+00],\n",
       "       [  0.00000000e+00,   0.00000000e+00],\n",
       "       [  0.00000000e+00,   0.00000000e+00],\n",
       "       [  0.00000000e+00,   0.00000000e+00],\n",
       "       [  0.00000000e+00,   0.00000000e+00],\n",
       "       [  0.00000000e+00,   0.00000000e+00],\n",
       "       [  0.00000000e+00,   0.00000000e+00],\n",
       "       [  0.00000000e+00,   0.00000000e+00],\n",
       "       [  0.00000000e+00,   0.00000000e+00],\n",
       "       [  0.00000000e+00,   0.00000000e+00],\n",
       "       [  0.00000000e+00,   0.00000000e+00]])"
      ]
     },
     "execution_count": 19,
     "metadata": {},
     "output_type": "execute_result"
    }
   ],
   "source": [
    "X"
   ]
  },
  {
   "cell_type": "code",
   "execution_count": 50,
   "metadata": {},
   "outputs": [
    {
     "data": {
      "text/plain": [
       "array([ 0.        ,  0.04040404,  0.08080808,  0.12121212,  0.16161616,\n",
       "        0.2020202 ,  0.24242424,  0.28282828,  0.32323232,  0.36363636,\n",
       "        0.4040404 ,  0.44444444,  0.48484848,  0.52525253,  0.56565657,\n",
       "        0.60606061,  0.64646465,  0.68686869,  0.72727273,  0.76767677,\n",
       "        0.80808081,  0.84848485,  0.88888889,  0.92929293,  0.96969697,\n",
       "        1.01010101,  1.05050505,  1.09090909,  1.13131313,  1.17171717,\n",
       "        1.21212121,  1.25252525,  1.29292929,  1.33333333,  1.37373737,\n",
       "        1.41414141,  1.45454545,  1.49494949,  1.53535354,  1.57575758,\n",
       "        1.61616162,  1.65656566,  1.6969697 ,  1.73737374,  1.77777778,\n",
       "        1.81818182,  1.85858586,  1.8989899 ,  1.93939394,  1.97979798,\n",
       "        2.02020202,  2.06060606,  2.1010101 ,  2.14141414,  2.18181818,\n",
       "        2.22222222,  2.26262626,  2.3030303 ,  2.34343434,  2.38383838,\n",
       "        2.42424242,  2.46464646,  2.50505051,  2.54545455,  2.58585859,\n",
       "        2.62626263,  2.66666667,  2.70707071,  2.74747475,  2.78787879,\n",
       "        2.82828283,  2.86868687,  2.90909091,  2.94949495,  2.98989899,\n",
       "        3.03030303,  3.07070707,  3.11111111,  3.15151515,  3.19191919,\n",
       "        3.23232323,  3.27272727,  3.31313131,  3.35353535,  3.39393939,\n",
       "        3.43434343,  3.47474747,  3.51515152,  3.55555556,  3.5959596 ,\n",
       "        3.63636364,  3.67676768,  3.71717172,  3.75757576,  3.7979798 ,\n",
       "        3.83838384,  3.87878788,  3.91919192,  3.95959596,  4.        ])"
      ]
     },
     "execution_count": 50,
     "metadata": {},
     "output_type": "execute_result"
    }
   ],
   "source": [
    "np.linspace(j*4,(j+1)*4,N) "
   ]
  },
  {
   "cell_type": "code",
   "execution_count": 55,
   "metadata": {
    "scrolled": false
   },
   "outputs": [
    {
     "data": {
      "image/png": "[encoded data removed]",
      "text/plain": [
       "<matplotlib.figure.Figure at 0x176fc668>"
      ]
     },
     "metadata": {},
     "output_type": "display_data"
    }
   ],
   "source": [
    "N = 100 # number of points per class\n",
    "D = 2 # dimensionality\n",
    "K = 3 # number of classes\n",
    "X = np.zeros((N*K,D)) # data matrix (each row = single example)\n",
    "y = np.zeros(N*K, dtype='uint8') # class labels\n",
    "for j in range(K):\n",
    "  ix = range(N*j,N*(j+1))\n",
    "  r = np.linspace(0.0,1,N) # radius\n",
    "  t = np.linspace(j*4,(j+1)*4,N) + np.random.randn(N)*0.2 # theta\n",
    "  X[ix] = np.c_[r*np.sin(t), r*np.cos(t)]\n",
    "  y[ix] = j\n",
    "# lets visualize the data:\n",
    "plt.scatter(X[:, 0], X[:, 1], c=y, s=40, cmap=plt.cm.Paired)\n",
    "plt.show()"
   ]
  },
  {
   "cell_type": "code",
   "execution_count": 38,
   "metadata": {},
   "outputs": [],
   "source": [
    "t = np.linspace(0,3,100)"
   ]
  },
  {
   "cell_type": "code",
   "execution_count": 41,
   "metadata": {},
   "outputs": [
    {
     "data": {
      "text/plain": [
       "array([ 0.        ,  0.03030303,  0.06060606,  0.09090909,  0.12121212,\n",
       "        0.15151515,  0.18181818,  0.21212121,  0.24242424,  0.27272727,\n",
       "        0.3030303 ,  0.33333333,  0.36363636,  0.39393939,  0.42424242,\n",
       "        0.45454545,  0.48484848,  0.51515152,  0.54545455,  0.57575758,\n",
       "        0.60606061,  0.63636364,  0.66666667,  0.6969697 ,  0.72727273,\n",
       "        0.75757576,  0.78787879,  0.81818182,  0.84848485,  0.87878788,\n",
       "        0.90909091,  0.93939394,  0.96969697,  1.        ,  1.03030303,\n",
       "        1.06060606,  1.09090909,  1.12121212,  1.15151515,  1.18181818,\n",
       "        1.21212121,  1.24242424,  1.27272727,  1.3030303 ,  1.33333333,\n",
       "        1.36363636,  1.39393939,  1.42424242,  1.45454545,  1.48484848,\n",
       "        1.51515152,  1.54545455,  1.57575758,  1.60606061,  1.63636364,\n",
       "        1.66666667,  1.6969697 ,  1.72727273,  1.75757576,  1.78787879,\n",
       "        1.81818182,  1.84848485,  1.87878788,  1.90909091,  1.93939394,\n",
       "        1.96969697,  2.        ,  2.03030303,  2.06060606,  2.09090909,\n",
       "        2.12121212,  2.15151515,  2.18181818,  2.21212121,  2.24242424,\n",
       "        2.27272727,  2.3030303 ,  2.33333333,  2.36363636,  2.39393939,\n",
       "        2.42424242,  2.45454545,  2.48484848,  2.51515152,  2.54545455,\n",
       "        2.57575758,  2.60606061,  2.63636364,  2.66666667,  2.6969697 ,\n",
       "        2.72727273,  2.75757576,  2.78787879,  2.81818182,  2.84848485,\n",
       "        2.87878788,  2.90909091,  2.93939394,  2.96969697,  3.        ])"
      ]
     },
     "execution_count": 41,
     "metadata": {},
     "output_type": "execute_result"
    }
   ],
   "source": [
    "t"
   ]
  },
  {
   "cell_type": "code",
   "execution_count": 42,
   "metadata": {
    "collapsed": true
   },
   "outputs": [],
   "source": [
    "X[ix] = np.c_[r*np.sin(r), r*np.cos(r)]"
   ]
  },
  {
   "cell_type": "code",
   "execution_count": 43,
   "metadata": {},
   "outputs": [
    {
     "data": {
      "image/png": "[encoded data removed]",
      "text/plain": [
       "<matplotlib.figure.Figure at 0x17132a58>"
      ]
     },
     "metadata": {},
     "output_type": "display_data"
    }
   ],
   "source": [
    "plt.scatter(X[:, 0], X[:, 1], c=y, s=40, cmap=plt.cm.Paired)\n",
    "plt.show()"
   ]
  },
  {
   "cell_type": "code",
   "execution_count": 1,
   "metadata": {},
   "outputs": [
    {
     "name": "stdout",
     "output_type": "stream",
     "text": [
      "Downloading http://yann.lecun.com/exdb/mnist/train-images-idx3-ubyte.gz\n",
      "Downloading http://yann.lecun.com/exdb/mnist/train-labels-idx1-ubyte.gz\n",
      "Downloading http://yann.lecun.com/exdb/mnist/t10k-images-idx3-ubyte.gz\n",
      "Downloading http://yann.lecun.com/exdb/mnist/t10k-labels-idx1-ubyte.gz\n",
      "Processing...\n",
      "Done!\n",
      "Epoch [1/5], Step [100/600], Loss: 0.3981\n",
      "Epoch [1/5], Step [200/600], Loss: 0.1397\n",
      "Epoch [1/5], Step [300/600], Loss: 0.2414\n",
      "Epoch [1/5], Step [400/600], Loss: 0.2395\n",
      "Epoch [1/5], Step [500/600], Loss: 0.2128\n",
      "Epoch [1/5], Step [600/600], Loss: 0.2270\n",
      "Epoch [2/5], Step [100/600], Loss: 0.0583\n",
      "Epoch [2/5], Step [200/600], Loss: 0.1425\n",
      "Epoch [2/5], Step [300/600], Loss: 0.0877\n",
      "Epoch [2/5], Step [400/600], Loss: 0.1424\n",
      "Epoch [2/5], Step [500/600], Loss: 0.1090\n",
      "Epoch [2/5], Step [600/600], Loss: 0.0857\n",
      "Epoch [3/5], Step [100/600], Loss: 0.2105\n",
      "Epoch [3/5], Step [200/600], Loss: 0.0753\n",
      "Epoch [3/5], Step [300/600], Loss: 0.0629\n",
      "Epoch [3/5], Step [400/600], Loss: 0.0338\n",
      "Epoch [3/5], Step [500/600], Loss: 0.1002\n",
      "Epoch [3/5], Step [600/600], Loss: 0.1112\n",
      "Epoch [4/5], Step [100/600], Loss: 0.0473\n",
      "Epoch [4/5], Step [200/600], Loss: 0.0594\n",
      "Epoch [4/5], Step [300/600], Loss: 0.0366\n",
      "Epoch [4/5], Step [400/600], Loss: 0.0483\n",
      "Epoch [4/5], Step [500/600], Loss: 0.0377\n",
      "Epoch [4/5], Step [600/600], Loss: 0.0383\n",
      "Epoch [5/5], Step [100/600], Loss: 0.0263\n",
      "Epoch [5/5], Step [200/600], Loss: 0.0544\n",
      "Epoch [5/5], Step [300/600], Loss: 0.1061\n",
      "Epoch [5/5], Step [400/600], Loss: 0.0579\n",
      "Epoch [5/5], Step [500/600], Loss: 0.0490\n",
      "Epoch [5/5], Step [600/600], Loss: 0.0600\n",
      "Accuracy of the network on the 10000 test images: 97.84 %\n"
     ]
    }
   ],
   "source": [
    "import torch\n",
    "import torch.nn as nn\n",
    "import torchvision\n",
    "import torchvision.transforms as transforms\n",
    "\n",
    "\n",
    "# Device configuration\n",
    "device = torch.device('cuda' if torch.cuda.is_available() else 'cpu')\n",
    "\n",
    "# Hyper-parameters \n",
    "input_size = 784\n",
    "hidden_size = 500\n",
    "num_classes = 10\n",
    "num_epochs = 5\n",
    "batch_size = 100\n",
    "learning_rate = 0.001\n",
    "\n",
    "# MNIST dataset \n",
    "train_dataset = torchvision.datasets.MNIST(root='../../data', \n",
    "                                           train=True, \n",
    "                                           transform=transforms.ToTensor(),  \n",
    "                                           download=True)\n",
    "\n",
    "test_dataset = torchvision.datasets.MNIST(root='../../data', \n",
    "                                          train=False, \n",
    "                                          transform=transforms.ToTensor())\n",
    "\n",
    "# Data loader\n",
    "train_loader = torch.utils.data.DataLoader(dataset=train_dataset, \n",
    "                                           batch_size=batch_size, \n",
    "                                           shuffle=True)\n",
    "\n",
    "test_loader = torch.utils.data.DataLoader(dataset=test_dataset, \n",
    "                                          batch_size=batch_size, \n",
    "                                          shuffle=False)\n",
    "\n",
    "# Fully connected neural network with one hidden layer\n",
    "class NeuralNet(nn.Module):\n",
    "    def __init__(self, input_size, hidden_size, num_classes):\n",
    "        super(NeuralNet, self).__init__()\n",
    "        self.fc1 = nn.Linear(input_size, hidden_size) \n",
    "        self.relu = nn.ReLU()\n",
    "        self.fc2 = nn.Linear(hidden_size, num_classes)  \n",
    "    \n",
    "    def forward(self, x):\n",
    "        out = self.fc1(x)\n",
    "        out = self.relu(out)\n",
    "        out = self.fc2(out)\n",
    "        return out\n",
    "\n",
    "model = NeuralNet(input_size, hidden_size, num_classes).to(device)\n",
    "\n",
    "# Loss and optimizer\n",
    "criterion = nn.CrossEntropyLoss()\n",
    "optimizer = torch.optim.Adam(model.parameters(), lr=learning_rate)  \n",
    "\n",
    "# Train the model\n",
    "total_step = len(train_loader)\n",
    "for epoch in range(num_epochs):\n",
    "    for i, (images, labels) in enumerate(train_loader):  \n",
    "        # Move tensors to the configured device\n",
    "        images = images.reshape(-1, 28*28).to(device)\n",
    "        labels = labels.to(device)\n",
    "        \n",
    "        # Forward pass\n",
    "        outputs = model(images)\n",
    "        loss = criterion(outputs, labels)\n",
    "        \n",
    "        # Backward and optimize\n",
    "        optimizer.zero_grad()\n",
    "        loss.backward()\n",
    "        optimizer.step()\n",
    "        \n",
    "        if (i+1) % 100 == 0:\n",
    "            print ('Epoch [{}/{}], Step [{}/{}], Loss: {:.4f}' \n",
    "                   .format(epoch+1, num_epochs, i+1, total_step, loss.item()))\n",
    "\n",
    "# Test the model\n",
    "# In test phase, we don't need to compute gradients (for memory efficiency)\n",
    "with torch.no_grad():\n",
    "    correct = 0\n",
    "    total = 0\n",
    "    for images, labels in test_loader:\n",
    "        images = images.reshape(-1, 28*28).to(device)\n",
    "        labels = labels.to(device)\n",
    "        outputs = model(images)\n",
    "        _, predicted = torch.max(outputs.data, 1)\n",
    "        total += labels.size(0)\n",
    "        correct += (predicted == labels).sum().item()\n",
    "\n",
    "    print('Accuracy of the network on the 10000 test images: {} %'.format(100 * correct / total))"
   ]
  },
  {
   "cell_type": "code",
   "execution_count": null,
   "metadata": {
    "collapsed": true
   },
   "outputs": [],
   "source": []
  }
 ],
 "metadata": {
  "kernelspec": {
   "display_name": "Python 3",
   "language": "python",
   "name": "python3"
  },
  "language_info": {
   "codemirror_mode": {
    "name": "ipython",
    "version": 3
   },
   "file_extension": ".py",
   "mimetype": "text/x-python",
   "name": "python",
   "nbconvert_exporter": "python",
   "pygments_lexer": "ipython3",
   "version": "3.6.2"
  }
 },
 "nbformat": 4,
 "nbformat_minor": 2
}
