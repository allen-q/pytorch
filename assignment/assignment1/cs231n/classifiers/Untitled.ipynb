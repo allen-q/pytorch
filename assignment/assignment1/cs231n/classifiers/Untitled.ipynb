{
 "cells": [
  {
   "cell_type": "code",
   "execution_count": null,
   "metadata": {},
   "outputs": [],
   "source": [
    "def svm_loss_pytorch_vectorized(W, X, y, reg):\n",
    "    import torch\n",
    "    Xt = torch.tensor(X,requires_grad=True)\n",
    "    Wt = torch.tensor(W,requires_grad=True)\n",
    "    yt = torch.tensor(y,requires_grad=True).long()\n",
    "\n",
    "    scores = torch.mm(Xt, Wt)\n",
    "    margin = scores-scores[torch.arange(len(scores)).long(), yt].view(-1,1)+1\n",
    "    margin_clip = torch.clamp(margin, 0, torch.max(margin).item())\n",
    "    margin_sum = margin_clip.sum(1)-1\n",
    "    loss = margin_sum.mean()\n",
    "    loss += reg * torch.sum(Wt * Wt)\n",
    "\n",
    "    scores.retain_grad()\n",
    "    margin.retain_grad()\n",
    "    margin_clip.retain_grad()\n",
    "    margin_sum.retain_grad()\n",
    "\n",
    "    loss.backward()\n",
    "    \n",
    "    return loss.detach().numpy(), Wt.grad.detach().numpy()"
   ]
  }
 ],
 "metadata": {
  "kernelspec": {
   "display_name": "Python 3",
   "language": "python",
   "name": "python3"
  },
  "language_info": {
   "codemirror_mode": {
    "name": "ipython",
    "version": 3
   },
   "file_extension": ".py",
   "mimetype": "text/x-python",
   "name": "python",
   "nbconvert_exporter": "python",
   "pygments_lexer": "ipython3",
   "version": "3.6.4"
  }
 },
 "nbformat": 4,
 "nbformat_minor": 2
}
